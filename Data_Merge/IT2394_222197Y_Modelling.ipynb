{
 "cells": [
  {
   "cell_type": "code",
   "execution_count": 1,
   "metadata": {},
   "outputs": [
    {
     "name": "stdout",
     "output_type": "stream",
     "text": [
      "WARNING:tensorflow:From C:\\Users\\User\\AppData\\Local\\Packages\\PythonSoftwareFoundation.Python.3.11_qbz5n2kfra8p0\\LocalCache\\local-packages\\Python311\\site-packages\\keras\\src\\losses.py:2976: The name tf.losses.sparse_softmax_cross_entropy is deprecated. Please use tf.compat.v1.losses.sparse_softmax_cross_entropy instead.\n",
      "\n"
     ]
    }
   ],
   "source": [
    "import pandas as pd\n",
    "from sklearn.feature_extraction.text import TfidfVectorizer\n",
    "from sklearn.naive_bayes import MultinomialNB\n",
    "from sklearn.model_selection import train_test_split\n",
    "from sklearn.metrics import classification_report\n",
    "from imblearn.over_sampling import RandomOverSampler\n",
    "from imblearn.under_sampling import RandomUnderSampler\n",
    "import matplotlib.pyplot as plt\n",
    "from sklearn.linear_model import LogisticRegression\n",
    "from sklearn.model_selection import train_test_split\n",
    "from sklearn.metrics import classification_report\n",
    "\n",
    "\n",
    "from vaderSentiment.vaderSentiment import SentimentIntensityAnalyzer\n",
    "\n",
    "\n",
    "import tensorflow as tf\n",
    "import numpy as np\n",
    "import tensorflow as tf\n",
    "from keras.preprocessing.text import Tokenizer\n",
    "from keras_preprocessing.sequence import pad_sequences\n",
    "from keras.models import Sequential\n",
    "from keras import layers\n",
    "from sklearn.metrics import classification_report\n",
    "\n",
    "import tensorflow as tf\n",
    "from keras.models import Sequential\n",
    "from keras.layers import Dense\n",
    "from keras.utils import to_categorical\n",
    "from sklearn.preprocessing import LabelEncoder\n",
    "\n",
    "from sklearn.metrics import precision_score, recall_score, f1_score, confusion_matrix\n"
   ]
  },
  {
   "cell_type": "code",
   "execution_count": 2,
   "metadata": {},
   "outputs": [],
   "source": [
    "import pandas as pd\n",
    "import numpy as np\n",
    "import matplotlib\n",
    "import re\n",
    "from dateutil import parser\n",
    "\n",
    "from nltk.corpus import stopwords\n",
    "from nltk import ngrams\n",
    "from nltk.tokenize import word_tokenize\n",
    "from nltk.stem import PorterStemmer\n",
    "from nltk.stem import WordNetLemmatizer\n",
    "\n",
    "import pandas as pd\n",
    "from collections import Counter\n",
    "import re\n",
    "from nltk.tokenize import word_tokenize\n",
    "from nltk.corpus import stopwords\n",
    "from nltk.stem import WordNetLemmatizer\n",
    "from wordcloud import STOPWORDS\n",
    "import seaborn as sns\n",
    "import matplotlib.pyplot as plt"
   ]
  },
  {
   "cell_type": "code",
   "execution_count": 3,
   "metadata": {},
   "outputs": [
    {
     "data": {
      "text/html": [
       "<div>\n",
       "<style scoped>\n",
       "    .dataframe tbody tr th:only-of-type {\n",
       "        vertical-align: middle;\n",
       "    }\n",
       "\n",
       "    .dataframe tbody tr th {\n",
       "        vertical-align: top;\n",
       "    }\n",
       "\n",
       "    .dataframe thead th {\n",
       "        text-align: right;\n",
       "    }\n",
       "</style>\n",
       "<table border=\"1\" class=\"dataframe\">\n",
       "  <thead>\n",
       "    <tr style=\"text-align: right;\">\n",
       "      <th></th>\n",
       "      <th>stars</th>\n",
       "      <th>cleaned_text</th>\n",
       "      <th>sentiment</th>\n",
       "    </tr>\n",
       "  </thead>\n",
       "  <tbody>\n",
       "    <tr>\n",
       "      <th>0</th>\n",
       "      <td>1</td>\n",
       "      <td>['lately', 'common', 'wait', 'hour', 'food', '...</td>\n",
       "      <td>negative</td>\n",
       "    </tr>\n",
       "    <tr>\n",
       "      <th>1</th>\n",
       "      <td>5</td>\n",
       "      <td>['love', 'great', 'offer', 'good', 'selection'...</td>\n",
       "      <td>positive</td>\n",
       "    </tr>\n",
       "    <tr>\n",
       "      <th>2</th>\n",
       "      <td>1</td>\n",
       "      <td>['disappointed', 'app', 'used', 'long', 'time'...</td>\n",
       "      <td>negative</td>\n",
       "    </tr>\n",
       "    <tr>\n",
       "      <th>3</th>\n",
       "      <td>2</td>\n",
       "      <td>['fairly', 'easy', 'use', 'trying', 'find', 'h...</td>\n",
       "      <td>negative</td>\n",
       "    </tr>\n",
       "    <tr>\n",
       "      <th>4</th>\n",
       "      <td>4</td>\n",
       "      <td>['like', 'fact', 'u', 'ca', 'get', 'refund', '...</td>\n",
       "      <td>positive</td>\n",
       "    </tr>\n",
       "    <tr>\n",
       "      <th>...</th>\n",
       "      <td>...</td>\n",
       "      <td>...</td>\n",
       "      <td>...</td>\n",
       "    </tr>\n",
       "    <tr>\n",
       "      <th>8892</th>\n",
       "      <td>5</td>\n",
       "      <td>['food', 'good', 'delivery', 'took', 'forever'...</td>\n",
       "      <td>positive</td>\n",
       "    </tr>\n",
       "    <tr>\n",
       "      <th>8893</th>\n",
       "      <td>1</td>\n",
       "      <td>['whenever', 'never', 'sent', 'correct', 'item...</td>\n",
       "      <td>negative</td>\n",
       "    </tr>\n",
       "    <tr>\n",
       "      <th>8894</th>\n",
       "      <td>1</td>\n",
       "      <td>['delivery', 'driver', 'turn', 'incorrect', 'l...</td>\n",
       "      <td>negative</td>\n",
       "    </tr>\n",
       "    <tr>\n",
       "      <th>8895</th>\n",
       "      <td>5</td>\n",
       "      <td>['great', 'deal', 'buddy', 'pizza', 'buy', 'on...</td>\n",
       "      <td>positive</td>\n",
       "    </tr>\n",
       "    <tr>\n",
       "      <th>8896</th>\n",
       "      <td>5</td>\n",
       "      <td>['prompt', 'service', 'excellent', 'communicat...</td>\n",
       "      <td>positive</td>\n",
       "    </tr>\n",
       "  </tbody>\n",
       "</table>\n",
       "<p>8897 rows × 3 columns</p>\n",
       "</div>"
      ],
      "text/plain": [
       "      stars                                       cleaned_text sentiment\n",
       "0         1  ['lately', 'common', 'wait', 'hour', 'food', '...  negative\n",
       "1         5  ['love', 'great', 'offer', 'good', 'selection'...  positive\n",
       "2         1  ['disappointed', 'app', 'used', 'long', 'time'...  negative\n",
       "3         2  ['fairly', 'easy', 'use', 'trying', 'find', 'h...  negative\n",
       "4         4  ['like', 'fact', 'u', 'ca', 'get', 'refund', '...  positive\n",
       "...     ...                                                ...       ...\n",
       "8892      5  ['food', 'good', 'delivery', 'took', 'forever'...  positive\n",
       "8893      1  ['whenever', 'never', 'sent', 'correct', 'item...  negative\n",
       "8894      1  ['delivery', 'driver', 'turn', 'incorrect', 'l...  negative\n",
       "8895      5  ['great', 'deal', 'buddy', 'pizza', 'buy', 'on...  positive\n",
       "8896      5  ['prompt', 'service', 'excellent', 'communicat...  positive\n",
       "\n",
       "[8897 rows x 3 columns]"
      ]
     },
     "execution_count": 3,
     "metadata": {},
     "output_type": "execute_result"
    }
   ],
   "source": [
    "df = pd.read_csv('cleaned_data.csv')\n",
    "df"
   ]
  },
  {
   "cell_type": "markdown",
   "metadata": {},
   "source": [
    "## Data Cleaning"
   ]
  },
  {
   "cell_type": "code",
   "execution_count": 4,
   "metadata": {},
   "outputs": [
    {
     "data": {
      "image/png": "[encoded data removed]",
      "text/plain": [
       "<Figure size 1000x700 with 1 Axes>"
      ]
     },
     "metadata": {},
     "output_type": "display_data"
    }
   ],
   "source": [
    "# Count the number of each sentiment\n",
    "sentiment_counts = df['sentiment'].value_counts()\n",
    "\n",
    "# Plot bar chart\n",
    "sentiment_counts.plot(kind='bar', figsize=(10,7))\n",
    "\n",
    "plt.title('Count of Sentiments')\n",
    "plt.xlabel('Sentiment')\n",
    "plt.ylabel('Count')\n",
    "plt.xticks(rotation=45)\n",
    "plt.show()"
   ]
  },
  {
   "cell_type": "code",
   "execution_count": 5,
   "metadata": {},
   "outputs": [],
   "source": [
    "import ast\n",
    "#  convert string representations of lists in 'cleaned_text' back to actual lists\n",
    "df['cleaned_text_list'] = df['cleaned_text'].apply(ast.literal_eval)\n",
    "\n",
    "# convert lists in 'cleaned_text_list' to strings\n",
    "df['cleaned_text_str'] = df['cleaned_text_list'].apply(' '.join)"
   ]
  },
  {
   "cell_type": "code",
   "execution_count": 6,
   "metadata": {},
   "outputs": [],
   "source": [
    "# initialize TF-IDF vectorizer\n",
    "vectorizer = TfidfVectorizer()"
   ]
  },
  {
   "cell_type": "code",
   "execution_count": 7,
   "metadata": {},
   "outputs": [],
   "source": [
    "# convert 'cleaned_text_str' into TF-IDF vectors\n",
    "X = vectorizer.fit_transform(df['cleaned_text_str'])\n",
    "\n",
    "# use 'sentiment' as target\n",
    "y = df['sentiment']"
   ]
  },
  {
   "cell_type": "code",
   "execution_count": 8,
   "metadata": {},
   "outputs": [],
   "source": [
    "# Define oversampling strategy\n",
    "over = RandomOverSampler(sampling_strategy='auto')\n",
    "\n",
    "# Fit and apply the transform\n",
    "X_over, y_over = over.fit_resample(X, y)\n",
    "\n",
    "# Define undersampling strategy\n",
    "under = RandomUnderSampler(sampling_strategy='auto')\n",
    "\n",
    "# Fit and apply the transform\n",
    "X_under, y_under = under.fit_resample(X, y)"
   ]
  },
  {
   "cell_type": "markdown",
   "metadata": {},
   "source": [
    "# Modelling"
   ]
  },
  {
   "cell_type": "code",
   "execution_count": 9,
   "metadata": {},
   "outputs": [],
   "source": [
    "# split the oversampled data into training and test sets\n",
    "X_train_over, X_test_over, y_train_over, y_test_over = train_test_split(X_over, y_over, test_size=0.2, random_state=42)"
   ]
  },
  {
   "cell_type": "code",
   "execution_count": 10,
   "metadata": {},
   "outputs": [],
   "source": [
    "# split the undersampled data into training and test sets\n",
    "X_train_under, X_test_under, y_train_under, y_test_under = train_test_split(X_under, y_under, test_size=0.2, random_state=42)"
   ]
  },
  {
   "cell_type": "markdown",
   "metadata": {},
   "source": [
    "## Logistic Regression"
   ]
  },
  {
   "cell_type": "code",
   "execution_count": 11,
   "metadata": {},
   "outputs": [
    {
     "name": "stdout",
     "output_type": "stream",
     "text": [
      "Logistic Regression Metrics for Oversampled Data:\n",
      "              precision    recall  f1-score   support\n",
      "\n",
      "    negative       0.96      0.90      0.93      1209\n",
      "     neutral       0.92      1.00      0.96      1238\n",
      "    positive       0.96      0.93      0.94      1194\n",
      "\n",
      "    accuracy                           0.94      3641\n",
      "   macro avg       0.94      0.94      0.94      3641\n",
      "weighted avg       0.94      0.94      0.94      3641\n",
      "\n",
      "\n",
      "Accuracy:  0.9425981873111783\n",
      "\n",
      "Precision:  0.9437477189596212\n",
      "\n",
      "Recall:  0.9425981873111783\n",
      "\n",
      "F1 Score:  0.9422947830807293\n"
     ]
    },
    {
     "name": "stderr",
     "output_type": "stream",
     "text": [
      "C:\\Users\\User\\AppData\\Local\\Packages\\PythonSoftwareFoundation.Python.3.11_qbz5n2kfra8p0\\LocalCache\\local-packages\\Python311\\site-packages\\sklearn\\linear_model\\_logistic.py:460: ConvergenceWarning: lbfgs failed to converge (status=1):\n",
      "STOP: TOTAL NO. of ITERATIONS REACHED LIMIT.\n",
      "\n",
      "Increase the number of iterations (max_iter) or scale the data as shown in:\n",
      "    https://scikit-learn.org/stable/modules/preprocessing.html\n",
      "Please also refer to the documentation for alternative solver options:\n",
      "    https://scikit-learn.org/stable/modules/linear_model.html#logistic-regression\n",
      "  n_iter_i = _check_optimize_result(\n"
     ]
    }
   ],
   "source": [
    "# initialize and train the Logistic Regression model on the oversampled data\n",
    "lr_model_over = LogisticRegression()\n",
    "lr_model_over.fit(X_train_over, y_train_over)\n",
    "\n",
    "# make predictions on the test set\n",
    "y_pred_over = lr_model_over.predict(X_test_over)\n",
    "\n",
    "# print classification report for the oversampled data\n",
    "print(\"Logistic Regression Metrics for Oversampled Data:\")\n",
    "print(classification_report(y_test_over, y_pred_over))\n",
    "\n",
    "from sklearn.metrics import accuracy_score, precision_score, recall_score, f1_score\n",
    "\n",
    "# print accuracy\n",
    "print(\"\\nAccuracy: \", accuracy_score(y_test_over, y_pred_over))\n",
    "\n",
    "# print precision\n",
    "print(\"\\nPrecision: \", precision_score(y_test_over, y_pred_over, average='weighted'))\n",
    "\n",
    "# print recall\n",
    "print(\"\\nRecall: \", recall_score(y_test_over, y_pred_over, average='weighted'))\n",
    "\n",
    "# print F1 score\n",
    "print(\"\\nF1 Score: \", f1_score(y_test_over, y_pred_over, average='weighted'))"
   ]
  },
  {
   "cell_type": "code",
   "execution_count": 12,
   "metadata": {},
   "outputs": [
    {
     "name": "stdout",
     "output_type": "stream",
     "text": [
      "\n",
      "Logistic Regression Metrics for Undersampled Data:\n",
      "              precision    recall  f1-score   support\n",
      "\n",
      "    negative       0.77      0.77      0.77        84\n",
      "     neutral       0.58      0.61      0.59        77\n",
      "    positive       0.78      0.74      0.76        73\n",
      "\n",
      "    accuracy                           0.71       234\n",
      "   macro avg       0.71      0.71      0.71       234\n",
      "weighted avg       0.71      0.71      0.71       234\n",
      "\n"
     ]
    }
   ],
   "source": [
    "# initialize and train the Logistic Regression model on the undersampled data\n",
    "lr_model_under = LogisticRegression()\n",
    "lr_model_under.fit(X_train_under, y_train_under)\n",
    "\n",
    "# make predictions on the test set\n",
    "y_pred_under = lr_model_under.predict(X_test_under)\n",
    "\n",
    "# print classification report for the undersampled data\n",
    "print(\"\\nLogistic Regression Metrics for Undersampled Data:\")\n",
    "print(classification_report(y_test_under, y_pred_under))"
   ]
  },
  {
   "cell_type": "code",
   "execution_count": 13,
   "metadata": {},
   "outputs": [
    {
     "name": "stdout",
     "output_type": "stream",
     "text": [
      "\n",
      "Accuracy:  0.7094017094017094\n",
      "\n",
      "Precision:  0.7128608851636227\n",
      "\n",
      "Recall:  0.7094017094017094\n",
      "\n",
      "F1 Score:  0.7108173219779568\n"
     ]
    }
   ],
   "source": [
    "# make predictions on the test set for undersampled data\n",
    "y_pred_under = lr_model_under.predict(X_test_under)\n",
    "\n",
    "# print accuracy\n",
    "print(\"\\nAccuracy: \", accuracy_score(y_test_under, y_pred_under))\n",
    "\n",
    "# print precision\n",
    "print(\"\\nPrecision: \", precision_score(y_test_under, y_pred_under, average='weighted'))\n",
    "\n",
    "# print recall\n",
    "print(\"\\nRecall: \", recall_score(y_test_under, y_pred_under, average='weighted'))\n",
    "\n",
    "# print F1 score\n",
    "print(\"\\nF1 Score: \", f1_score(y_test_under, y_pred_under, average='weighted'))"
   ]
  },
  {
   "cell_type": "markdown",
   "metadata": {},
   "source": [
    "Here are some reasons why the above has happend\n",
    "\n",
    "Loss of Information: When you undersample, you're essentially discarding potentially useful information. The randomly removed instances from the majority class could contain important information that the model needs to correctly classify new instances.\n",
    "\n",
    "Overfitting: If the minority class is very small compared to the majority class, undersampling can lead to overfitting. The model trained on the undersampled dataset might not generalize well to new, unseen data.\n",
    "\n",
    "Representation: The undersampled dataset may not adequately represent the majority class, especially if the class is not homogeneous. This can lead to a model that performs poorly on the majority class."
   ]
  },
  {
   "cell_type": "code",
   "execution_count": 14,
   "metadata": {},
   "outputs": [
    {
     "data": {
      "text/html": [
       "<style>#sk-container-id-1 {color: black;}#sk-container-id-1 pre{padding: 0;}#sk-container-id-1 div.sk-toggleable {background-color: white;}#sk-container-id-1 label.sk-toggleable__label {cursor: pointer;display: block;width: 100%;margin-bottom: 0;padding: 0.3em;box-sizing: border-box;text-align: center;}#sk-container-id-1 label.sk-toggleable__label-arrow:before {content: \"▸\";float: left;margin-right: 0.25em;color: #696969;}#sk-container-id-1 label.sk-toggleable__label-arrow:hover:before {color: black;}#sk-container-id-1 div.sk-estimator:hover label.sk-toggleable__label-arrow:before {color: black;}#sk-container-id-1 div.sk-toggleable__content {max-height: 0;max-width: 0;overflow: hidden;text-align: left;background-color: #f0f8ff;}#sk-container-id-1 div.sk-toggleable__content pre {margin: 0.2em;color: black;border-radius: 0.25em;background-color: #f0f8ff;}#sk-container-id-1 input.sk-toggleable__control:checked~div.sk-toggleable__content {max-height: 200px;max-width: 100%;overflow: auto;}#sk-container-id-1 input.sk-toggleable__control:checked~label.sk-toggleable__label-arrow:before {content: \"▾\";}#sk-container-id-1 div.sk-estimator input.sk-toggleable__control:checked~label.sk-toggleable__label {background-color: #d4ebff;}#sk-container-id-1 div.sk-label input.sk-toggleable__control:checked~label.sk-toggleable__label {background-color: #d4ebff;}#sk-container-id-1 input.sk-hidden--visually {border: 0;clip: rect(1px 1px 1px 1px);clip: rect(1px, 1px, 1px, 1px);height: 1px;margin: -1px;overflow: hidden;padding: 0;position: absolute;width: 1px;}#sk-container-id-1 div.sk-estimator {font-family: monospace;background-color: #f0f8ff;border: 1px dotted black;border-radius: 0.25em;box-sizing: border-box;margin-bottom: 0.5em;}#sk-container-id-1 div.sk-estimator:hover {background-color: #d4ebff;}#sk-container-id-1 div.sk-parallel-item::after {content: \"\";width: 100%;border-bottom: 1px solid gray;flex-grow: 1;}#sk-container-id-1 div.sk-label:hover label.sk-toggleable__label {background-color: #d4ebff;}#sk-container-id-1 div.sk-serial::before {content: \"\";position: absolute;border-left: 1px solid gray;box-sizing: border-box;top: 0;bottom: 0;left: 50%;z-index: 0;}#sk-container-id-1 div.sk-serial {display: flex;flex-direction: column;align-items: center;background-color: white;padding-right: 0.2em;padding-left: 0.2em;position: relative;}#sk-container-id-1 div.sk-item {position: relative;z-index: 1;}#sk-container-id-1 div.sk-parallel {display: flex;align-items: stretch;justify-content: center;background-color: white;position: relative;}#sk-container-id-1 div.sk-item::before, #sk-container-id-1 div.sk-parallel-item::before {content: \"\";position: absolute;border-left: 1px solid gray;box-sizing: border-box;top: 0;bottom: 0;left: 50%;z-index: -1;}#sk-container-id-1 div.sk-parallel-item {display: flex;flex-direction: column;z-index: 1;position: relative;background-color: white;}#sk-container-id-1 div.sk-parallel-item:first-child::after {align-self: flex-end;width: 50%;}#sk-container-id-1 div.sk-parallel-item:last-child::after {align-self: flex-start;width: 50%;}#sk-container-id-1 div.sk-parallel-item:only-child::after {width: 0;}#sk-container-id-1 div.sk-dashed-wrapped {border: 1px dashed gray;margin: 0 0.4em 0.5em 0.4em;box-sizing: border-box;padding-bottom: 0.4em;background-color: white;}#sk-container-id-1 div.sk-label label {font-family: monospace;font-weight: bold;display: inline-block;line-height: 1.2em;}#sk-container-id-1 div.sk-label-container {text-align: center;}#sk-container-id-1 div.sk-container {/* jupyter's `normalize.less` sets `[hidden] { display: none; }` but bootstrap.min.css set `[hidden] { display: none !important; }` so we also need the `!important` here to be able to override the default hidden behavior on the sphinx rendered scikit-learn.org. See: https://github.com/scikit-learn/scikit-learn/issues/21755 */display: inline-block !important;position: relative;}#sk-container-id-1 div.sk-text-repr-fallback {display: none;}</style><div id=\"sk-container-id-1\" class=\"sk-top-container\"><div class=\"sk-text-repr-fallback\"><pre>GaussianNB()</pre><b>In a Jupyter environment, please rerun this cell to show the HTML representation or trust the notebook. <br />On GitHub, the HTML representation is unable to render, please try loading this page with nbviewer.org.</b></div><div class=\"sk-container\" hidden><div class=\"sk-item\"><div class=\"sk-estimator sk-toggleable\"><input class=\"sk-toggleable__control sk-hidden--visually\" id=\"sk-estimator-id-1\" type=\"checkbox\" checked><label for=\"sk-estimator-id-1\" class=\"sk-toggleable__label sk-toggleable__label-arrow\">GaussianNB</label><div class=\"sk-toggleable__content\"><pre>GaussianNB()</pre></div></div></div></div></div>"
      ],
      "text/plain": [
       "GaussianNB()"
      ]
     },
     "execution_count": 14,
     "metadata": {},
     "output_type": "execute_result"
    }
   ],
   "source": [
    "from sklearn.naive_bayes import GaussianNB\n",
    "\n",
    "# initialize and train the Gaussian Naive Bayes model on the oversampled data\n",
    "nb_model_over = GaussianNB()\n",
    "nb_model_over.fit(X_train_over.toarray(), y_train_over)"
   ]
  },
  {
   "cell_type": "code",
   "execution_count": 15,
   "metadata": {},
   "outputs": [
    {
     "name": "stdout",
     "output_type": "stream",
     "text": [
      "\n",
      "Accuracy:  0.7824773413897281\n",
      "\n",
      "Precision:  0.8133842672554329\n",
      "\n",
      "Recall:  0.7824773413897281\n",
      "\n",
      "F1 Score:  0.7780557521896062\n"
     ]
    }
   ],
   "source": [
    "# make predictions on the test set\n",
    "y_pred_over = nb_model_over.predict(X_test_over.toarray())\n",
    "\n",
    "# print accuracy\n",
    "print(\"\\nAccuracy: \", accuracy_score(y_test_over, y_pred_over))\n",
    "\n",
    "# print precision\n",
    "print(\"\\nPrecision: \", precision_score(y_test_over, y_pred_over, average='weighted'))\n",
    "\n",
    "# print recall\n",
    "print(\"\\nRecall: \", recall_score(y_test_over, y_pred_over, average='weighted'))\n",
    "\n",
    "# print F1 score\n",
    "print(\"\\nF1 Score: \", f1_score(y_test_over, y_pred_over, average='weighted'))"
   ]
  },
  {
   "cell_type": "code",
   "execution_count": 16,
   "metadata": {},
   "outputs": [
    {
     "data": {
      "text/html": [
       "<style>#sk-container-id-2 {color: black;}#sk-container-id-2 pre{padding: 0;}#sk-container-id-2 div.sk-toggleable {background-color: white;}#sk-container-id-2 label.sk-toggleable__label {cursor: pointer;display: block;width: 100%;margin-bottom: 0;padding: 0.3em;box-sizing: border-box;text-align: center;}#sk-container-id-2 label.sk-toggleable__label-arrow:before {content: \"▸\";float: left;margin-right: 0.25em;color: #696969;}#sk-container-id-2 label.sk-toggleable__label-arrow:hover:before {color: black;}#sk-container-id-2 div.sk-estimator:hover label.sk-toggleable__label-arrow:before {color: black;}#sk-container-id-2 div.sk-toggleable__content {max-height: 0;max-width: 0;overflow: hidden;text-align: left;background-color: #f0f8ff;}#sk-container-id-2 div.sk-toggleable__content pre {margin: 0.2em;color: black;border-radius: 0.25em;background-color: #f0f8ff;}#sk-container-id-2 input.sk-toggleable__control:checked~div.sk-toggleable__content {max-height: 200px;max-width: 100%;overflow: auto;}#sk-container-id-2 input.sk-toggleable__control:checked~label.sk-toggleable__label-arrow:before {content: \"▾\";}#sk-container-id-2 div.sk-estimator input.sk-toggleable__control:checked~label.sk-toggleable__label {background-color: #d4ebff;}#sk-container-id-2 div.sk-label input.sk-toggleable__control:checked~label.sk-toggleable__label {background-color: #d4ebff;}#sk-container-id-2 input.sk-hidden--visually {border: 0;clip: rect(1px 1px 1px 1px);clip: rect(1px, 1px, 1px, 1px);height: 1px;margin: -1px;overflow: hidden;padding: 0;position: absolute;width: 1px;}#sk-container-id-2 div.sk-estimator {font-family: monospace;background-color: #f0f8ff;border: 1px dotted black;border-radius: 0.25em;box-sizing: border-box;margin-bottom: 0.5em;}#sk-container-id-2 div.sk-estimator:hover {background-color: #d4ebff;}#sk-container-id-2 div.sk-parallel-item::after {content: \"\";width: 100%;border-bottom: 1px solid gray;flex-grow: 1;}#sk-container-id-2 div.sk-label:hover label.sk-toggleable__label {background-color: #d4ebff;}#sk-container-id-2 div.sk-serial::before {content: \"\";position: absolute;border-left: 1px solid gray;box-sizing: border-box;top: 0;bottom: 0;left: 50%;z-index: 0;}#sk-container-id-2 div.sk-serial {display: flex;flex-direction: column;align-items: center;background-color: white;padding-right: 0.2em;padding-left: 0.2em;position: relative;}#sk-container-id-2 div.sk-item {position: relative;z-index: 1;}#sk-container-id-2 div.sk-parallel {display: flex;align-items: stretch;justify-content: center;background-color: white;position: relative;}#sk-container-id-2 div.sk-item::before, #sk-container-id-2 div.sk-parallel-item::before {content: \"\";position: absolute;border-left: 1px solid gray;box-sizing: border-box;top: 0;bottom: 0;left: 50%;z-index: -1;}#sk-container-id-2 div.sk-parallel-item {display: flex;flex-direction: column;z-index: 1;position: relative;background-color: white;}#sk-container-id-2 div.sk-parallel-item:first-child::after {align-self: flex-end;width: 50%;}#sk-container-id-2 div.sk-parallel-item:last-child::after {align-self: flex-start;width: 50%;}#sk-container-id-2 div.sk-parallel-item:only-child::after {width: 0;}#sk-container-id-2 div.sk-dashed-wrapped {border: 1px dashed gray;margin: 0 0.4em 0.5em 0.4em;box-sizing: border-box;padding-bottom: 0.4em;background-color: white;}#sk-container-id-2 div.sk-label label {font-family: monospace;font-weight: bold;display: inline-block;line-height: 1.2em;}#sk-container-id-2 div.sk-label-container {text-align: center;}#sk-container-id-2 div.sk-container {/* jupyter's `normalize.less` sets `[hidden] { display: none; }` but bootstrap.min.css set `[hidden] { display: none !important; }` so we also need the `!important` here to be able to override the default hidden behavior on the sphinx rendered scikit-learn.org. See: https://github.com/scikit-learn/scikit-learn/issues/21755 */display: inline-block !important;position: relative;}#sk-container-id-2 div.sk-text-repr-fallback {display: none;}</style><div id=\"sk-container-id-2\" class=\"sk-top-container\"><div class=\"sk-text-repr-fallback\"><pre>MultinomialNB()</pre><b>In a Jupyter environment, please rerun this cell to show the HTML representation or trust the notebook. <br />On GitHub, the HTML representation is unable to render, please try loading this page with nbviewer.org.</b></div><div class=\"sk-container\" hidden><div class=\"sk-item\"><div class=\"sk-estimator sk-toggleable\"><input class=\"sk-toggleable__control sk-hidden--visually\" id=\"sk-estimator-id-2\" type=\"checkbox\" checked><label for=\"sk-estimator-id-2\" class=\"sk-toggleable__label sk-toggleable__label-arrow\">MultinomialNB</label><div class=\"sk-toggleable__content\"><pre>MultinomialNB()</pre></div></div></div></div></div>"
      ],
      "text/plain": [
       "MultinomialNB()"
      ]
     },
     "execution_count": 16,
     "metadata": {},
     "output_type": "execute_result"
    }
   ],
   "source": [
    "from sklearn.naive_bayes import MultinomialNB\n",
    "\n",
    "# initialize and train the Multinomial Naive Bayes model on the oversampled data\n",
    "mnb_model_over = MultinomialNB()\n",
    "mnb_model_over.fit(X_train_over, y_train_over)"
   ]
  },
  {
   "cell_type": "code",
   "execution_count": 17,
   "metadata": {},
   "outputs": [
    {
     "name": "stdout",
     "output_type": "stream",
     "text": [
      "\n",
      "Accuracy:  0.8931612194452073\n",
      "\n",
      "Precision:  0.8985080916693502\n",
      "\n",
      "Recall:  0.8931612194452073\n",
      "\n",
      "F1 Score:  0.8935573161020508\n"
     ]
    }
   ],
   "source": [
    "# make predictions on the test set\n",
    "y_pred_over = mnb_model_over.predict(X_test_over)\n",
    "\n",
    "# print accuracy\n",
    "print(\"\\nAccuracy: \", accuracy_score(y_test_over, y_pred_over))\n",
    "\n",
    "# print precision\n",
    "print(\"\\nPrecision: \", precision_score(y_test_over, y_pred_over, average='weighted'))\n",
    "\n",
    "# print recall\n",
    "print(\"\\nRecall: \", recall_score(y_test_over, y_pred_over, average='weighted'))\n",
    "\n",
    "# print F1 score\n",
    "print(\"\\nF1 Score: \", f1_score(y_test_over, y_pred_over, average='weighted'))"
   ]
  },
  {
   "cell_type": "code",
   "execution_count": 18,
   "metadata": {},
   "outputs": [
    {
     "data": {
      "text/html": [
       "<style>#sk-container-id-3 {color: black;}#sk-container-id-3 pre{padding: 0;}#sk-container-id-3 div.sk-toggleable {background-color: white;}#sk-container-id-3 label.sk-toggleable__label {cursor: pointer;display: block;width: 100%;margin-bottom: 0;padding: 0.3em;box-sizing: border-box;text-align: center;}#sk-container-id-3 label.sk-toggleable__label-arrow:before {content: \"▸\";float: left;margin-right: 0.25em;color: #696969;}#sk-container-id-3 label.sk-toggleable__label-arrow:hover:before {color: black;}#sk-container-id-3 div.sk-estimator:hover label.sk-toggleable__label-arrow:before {color: black;}#sk-container-id-3 div.sk-toggleable__content {max-height: 0;max-width: 0;overflow: hidden;text-align: left;background-color: #f0f8ff;}#sk-container-id-3 div.sk-toggleable__content pre {margin: 0.2em;color: black;border-radius: 0.25em;background-color: #f0f8ff;}#sk-container-id-3 input.sk-toggleable__control:checked~div.sk-toggleable__content {max-height: 200px;max-width: 100%;overflow: auto;}#sk-container-id-3 input.sk-toggleable__control:checked~label.sk-toggleable__label-arrow:before {content: \"▾\";}#sk-container-id-3 div.sk-estimator input.sk-toggleable__control:checked~label.sk-toggleable__label {background-color: #d4ebff;}#sk-container-id-3 div.sk-label input.sk-toggleable__control:checked~label.sk-toggleable__label {background-color: #d4ebff;}#sk-container-id-3 input.sk-hidden--visually {border: 0;clip: rect(1px 1px 1px 1px);clip: rect(1px, 1px, 1px, 1px);height: 1px;margin: -1px;overflow: hidden;padding: 0;position: absolute;width: 1px;}#sk-container-id-3 div.sk-estimator {font-family: monospace;background-color: #f0f8ff;border: 1px dotted black;border-radius: 0.25em;box-sizing: border-box;margin-bottom: 0.5em;}#sk-container-id-3 div.sk-estimator:hover {background-color: #d4ebff;}#sk-container-id-3 div.sk-parallel-item::after {content: \"\";width: 100%;border-bottom: 1px solid gray;flex-grow: 1;}#sk-container-id-3 div.sk-label:hover label.sk-toggleable__label {background-color: #d4ebff;}#sk-container-id-3 div.sk-serial::before {content: \"\";position: absolute;border-left: 1px solid gray;box-sizing: border-box;top: 0;bottom: 0;left: 50%;z-index: 0;}#sk-container-id-3 div.sk-serial {display: flex;flex-direction: column;align-items: center;background-color: white;padding-right: 0.2em;padding-left: 0.2em;position: relative;}#sk-container-id-3 div.sk-item {position: relative;z-index: 1;}#sk-container-id-3 div.sk-parallel {display: flex;align-items: stretch;justify-content: center;background-color: white;position: relative;}#sk-container-id-3 div.sk-item::before, #sk-container-id-3 div.sk-parallel-item::before {content: \"\";position: absolute;border-left: 1px solid gray;box-sizing: border-box;top: 0;bottom: 0;left: 50%;z-index: -1;}#sk-container-id-3 div.sk-parallel-item {display: flex;flex-direction: column;z-index: 1;position: relative;background-color: white;}#sk-container-id-3 div.sk-parallel-item:first-child::after {align-self: flex-end;width: 50%;}#sk-container-id-3 div.sk-parallel-item:last-child::after {align-self: flex-start;width: 50%;}#sk-container-id-3 div.sk-parallel-item:only-child::after {width: 0;}#sk-container-id-3 div.sk-dashed-wrapped {border: 1px dashed gray;margin: 0 0.4em 0.5em 0.4em;box-sizing: border-box;padding-bottom: 0.4em;background-color: white;}#sk-container-id-3 div.sk-label label {font-family: monospace;font-weight: bold;display: inline-block;line-height: 1.2em;}#sk-container-id-3 div.sk-label-container {text-align: center;}#sk-container-id-3 div.sk-container {/* jupyter's `normalize.less` sets `[hidden] { display: none; }` but bootstrap.min.css set `[hidden] { display: none !important; }` so we also need the `!important` here to be able to override the default hidden behavior on the sphinx rendered scikit-learn.org. See: https://github.com/scikit-learn/scikit-learn/issues/21755 */display: inline-block !important;position: relative;}#sk-container-id-3 div.sk-text-repr-fallback {display: none;}</style><div id=\"sk-container-id-3\" class=\"sk-top-container\"><div class=\"sk-text-repr-fallback\"><pre>BernoulliNB()</pre><b>In a Jupyter environment, please rerun this cell to show the HTML representation or trust the notebook. <br />On GitHub, the HTML representation is unable to render, please try loading this page with nbviewer.org.</b></div><div class=\"sk-container\" hidden><div class=\"sk-item\"><div class=\"sk-estimator sk-toggleable\"><input class=\"sk-toggleable__control sk-hidden--visually\" id=\"sk-estimator-id-3\" type=\"checkbox\" checked><label for=\"sk-estimator-id-3\" class=\"sk-toggleable__label sk-toggleable__label-arrow\">BernoulliNB</label><div class=\"sk-toggleable__content\"><pre>BernoulliNB()</pre></div></div></div></div></div>"
      ],
      "text/plain": [
       "BernoulliNB()"
      ]
     },
     "execution_count": 18,
     "metadata": {},
     "output_type": "execute_result"
    }
   ],
   "source": [
    "from sklearn.naive_bayes import BernoulliNB\n",
    "\n",
    "# initialize and train the Bernoulli Naive Bayes model on the oversampled data\n",
    "bnb_model_over = BernoulliNB()\n",
    "bnb_model_over.fit(X_train_over, y_train_over)"
   ]
  },
  {
   "cell_type": "code",
   "execution_count": 19,
   "metadata": {},
   "outputs": [
    {
     "name": "stdout",
     "output_type": "stream",
     "text": [
      "\n",
      "Accuracy:  0.8393298544355946\n",
      "\n",
      "Precision:  0.8478354545872561\n",
      "\n",
      "Recall:  0.8393298544355946\n",
      "\n",
      "F1 Score:  0.839186472062078\n"
     ]
    }
   ],
   "source": [
    "# make predictions on the test set\n",
    "y_pred_over = bnb_model_over.predict(X_test_over)\n",
    "\n",
    "# print accuracy\n",
    "print(\"\\nAccuracy: \", accuracy_score(y_test_over, y_pred_over))\n",
    "\n",
    "# print precision\n",
    "print(\"\\nPrecision: \", precision_score(y_test_over, y_pred_over, average='weighted'))\n",
    "\n",
    "# print recall\n",
    "print(\"\\nRecall: \", recall_score(y_test_over, y_pred_over, average='weighted'))\n",
    "\n",
    "# print F1 score\n",
    "print(\"\\nF1 Score: \", f1_score(y_test_over, y_pred_over, average='weighted'))"
   ]
  },
  {
   "cell_type": "code",
   "execution_count": 20,
   "metadata": {},
   "outputs": [
    {
     "data": {
      "text/html": [
       "<style>#sk-container-id-4 {color: black;}#sk-container-id-4 pre{padding: 0;}#sk-container-id-4 div.sk-toggleable {background-color: white;}#sk-container-id-4 label.sk-toggleable__label {cursor: pointer;display: block;width: 100%;margin-bottom: 0;padding: 0.3em;box-sizing: border-box;text-align: center;}#sk-container-id-4 label.sk-toggleable__label-arrow:before {content: \"▸\";float: left;margin-right: 0.25em;color: #696969;}#sk-container-id-4 label.sk-toggleable__label-arrow:hover:before {color: black;}#sk-container-id-4 div.sk-estimator:hover label.sk-toggleable__label-arrow:before {color: black;}#sk-container-id-4 div.sk-toggleable__content {max-height: 0;max-width: 0;overflow: hidden;text-align: left;background-color: #f0f8ff;}#sk-container-id-4 div.sk-toggleable__content pre {margin: 0.2em;color: black;border-radius: 0.25em;background-color: #f0f8ff;}#sk-container-id-4 input.sk-toggleable__control:checked~div.sk-toggleable__content {max-height: 200px;max-width: 100%;overflow: auto;}#sk-container-id-4 input.sk-toggleable__control:checked~label.sk-toggleable__label-arrow:before {content: \"▾\";}#sk-container-id-4 div.sk-estimator input.sk-toggleable__control:checked~label.sk-toggleable__label {background-color: #d4ebff;}#sk-container-id-4 div.sk-label input.sk-toggleable__control:checked~label.sk-toggleable__label {background-color: #d4ebff;}#sk-container-id-4 input.sk-hidden--visually {border: 0;clip: rect(1px 1px 1px 1px);clip: rect(1px, 1px, 1px, 1px);height: 1px;margin: -1px;overflow: hidden;padding: 0;position: absolute;width: 1px;}#sk-container-id-4 div.sk-estimator {font-family: monospace;background-color: #f0f8ff;border: 1px dotted black;border-radius: 0.25em;box-sizing: border-box;margin-bottom: 0.5em;}#sk-container-id-4 div.sk-estimator:hover {background-color: #d4ebff;}#sk-container-id-4 div.sk-parallel-item::after {content: \"\";width: 100%;border-bottom: 1px solid gray;flex-grow: 1;}#sk-container-id-4 div.sk-label:hover label.sk-toggleable__label {background-color: #d4ebff;}#sk-container-id-4 div.sk-serial::before {content: \"\";position: absolute;border-left: 1px solid gray;box-sizing: border-box;top: 0;bottom: 0;left: 50%;z-index: 0;}#sk-container-id-4 div.sk-serial {display: flex;flex-direction: column;align-items: center;background-color: white;padding-right: 0.2em;padding-left: 0.2em;position: relative;}#sk-container-id-4 div.sk-item {position: relative;z-index: 1;}#sk-container-id-4 div.sk-parallel {display: flex;align-items: stretch;justify-content: center;background-color: white;position: relative;}#sk-container-id-4 div.sk-item::before, #sk-container-id-4 div.sk-parallel-item::before {content: \"\";position: absolute;border-left: 1px solid gray;box-sizing: border-box;top: 0;bottom: 0;left: 50%;z-index: -1;}#sk-container-id-4 div.sk-parallel-item {display: flex;flex-direction: column;z-index: 1;position: relative;background-color: white;}#sk-container-id-4 div.sk-parallel-item:first-child::after {align-self: flex-end;width: 50%;}#sk-container-id-4 div.sk-parallel-item:last-child::after {align-self: flex-start;width: 50%;}#sk-container-id-4 div.sk-parallel-item:only-child::after {width: 0;}#sk-container-id-4 div.sk-dashed-wrapped {border: 1px dashed gray;margin: 0 0.4em 0.5em 0.4em;box-sizing: border-box;padding-bottom: 0.4em;background-color: white;}#sk-container-id-4 div.sk-label label {font-family: monospace;font-weight: bold;display: inline-block;line-height: 1.2em;}#sk-container-id-4 div.sk-label-container {text-align: center;}#sk-container-id-4 div.sk-container {/* jupyter's `normalize.less` sets `[hidden] { display: none; }` but bootstrap.min.css set `[hidden] { display: none !important; }` so we also need the `!important` here to be able to override the default hidden behavior on the sphinx rendered scikit-learn.org. See: https://github.com/scikit-learn/scikit-learn/issues/21755 */display: inline-block !important;position: relative;}#sk-container-id-4 div.sk-text-repr-fallback {display: none;}</style><div id=\"sk-container-id-4\" class=\"sk-top-container\"><div class=\"sk-text-repr-fallback\"><pre>SVC(probability=True)</pre><b>In a Jupyter environment, please rerun this cell to show the HTML representation or trust the notebook. <br />On GitHub, the HTML representation is unable to render, please try loading this page with nbviewer.org.</b></div><div class=\"sk-container\" hidden><div class=\"sk-item\"><div class=\"sk-estimator sk-toggleable\"><input class=\"sk-toggleable__control sk-hidden--visually\" id=\"sk-estimator-id-4\" type=\"checkbox\" checked><label for=\"sk-estimator-id-4\" class=\"sk-toggleable__label sk-toggleable__label-arrow\">SVC</label><div class=\"sk-toggleable__content\"><pre>SVC(probability=True)</pre></div></div></div></div></div>"
      ],
      "text/plain": [
       "SVC(probability=True)"
      ]
     },
     "execution_count": 20,
     "metadata": {},
     "output_type": "execute_result"
    }
   ],
   "source": [
    "from sklearn.svm import SVC\n",
    "\n",
    "# initialize and train the SVM model on the oversampled data\n",
    "svm_model_over = SVC(probability=True)\n",
    "svm_model_over.fit(X_train_over, y_train_over)"
   ]
  },
  {
   "cell_type": "code",
   "execution_count": 21,
   "metadata": {},
   "outputs": [
    {
     "name": "stdout",
     "output_type": "stream",
     "text": [
      "\n",
      "Accuracy:  0.9865421587475968\n",
      "\n",
      "Precision:  0.9865605486421272\n",
      "\n",
      "Recall:  0.9865421587475968\n",
      "\n",
      "F1 Score:  0.9865422846008154\n"
     ]
    }
   ],
   "source": [
    "# make predictions on the test set\n",
    "y_pred_over = svm_model_over.predict(X_test_over)\n",
    "\n",
    "# print accuracy\n",
    "print(\"\\nAccuracy: \", accuracy_score(y_test_over, y_pred_over))\n",
    "\n",
    "# print precision\n",
    "print(\"\\nPrecision: \", precision_score(y_test_over, y_pred_over, average='weighted'))\n",
    "\n",
    "# print recall\n",
    "print(\"\\nRecall: \", recall_score(y_test_over, y_pred_over, average='weighted'))\n",
    "\n",
    "# print F1 score\n",
    "print(\"\\nF1 Score: \", f1_score(y_test_over, y_pred_over, average='weighted'))"
   ]
  },
  {
   "cell_type": "code",
   "execution_count": 22,
   "metadata": {},
   "outputs": [
    {
     "data": {
      "image/png": "[encoded data removed]",
      "text/plain": [
       "<Figure size 640x480 with 1 Axes>"
      ]
     },
     "metadata": {},
     "output_type": "display_data"
    }
   ],
   "source": [
    "import numpy as np\n",
    "from sklearn.metrics import roc_curve, auc\n",
    "import matplotlib.pyplot as plt\n",
    "from sklearn.preprocessing import label_binarize\n",
    "\n",
    "# Binarize the output\n",
    "y_test_over_bin = label_binarize(y_test_over, classes=np.unique(y_train_over))\n",
    "\n",
    "# calculate the probabilities on the test set\n",
    "y_prob_over = svm_model_over.predict_proba(X_test_over)\n",
    "\n",
    "# calculate the number of unique classes\n",
    "n_classes = len(np.unique(y_train_over))\n",
    "\n",
    "# calculate the ROC curve and AUC for each class\n",
    "fpr = dict()\n",
    "tpr = dict()\n",
    "roc_auc = dict()\n",
    "for i in range(n_classes):\n",
    "    fpr[i], tpr[i], _ = roc_curve(y_test_over_bin[:, i], y_prob_over[:, i])\n",
    "    roc_auc[i] = auc(fpr[i], tpr[i])\n",
    "\n",
    "# plot the ROC curve\n",
    "plt.figure()\n",
    "for i in range(n_classes):\n",
    "    plt.plot(fpr[i], tpr[i], label='ROC curve of class {0} (area = {1:0.2f})'.format(i, roc_auc[i]))\n",
    "plt.plot([0, 1], [0, 1], 'k--')\n",
    "plt.xlim([0.0, 1.0])\n",
    "plt.ylim([0.0, 1.05])\n",
    "plt.xlabel('False Positive Rate')\n",
    "plt.ylabel('True Positive Rate')\n",
    "plt.title('Receiver Operating Characteristic')\n",
    "plt.legend(loc=\"lower right\")\n",
    "plt.show()"
   ]
  },
  {
   "cell_type": "code",
   "execution_count": 23,
   "metadata": {},
   "outputs": [
    {
     "data": {
      "image/png": "[encoded data removed]",
      "text/plain": [
       "<Figure size 800x600 with 1 Axes>"
      ]
     },
     "metadata": {},
     "output_type": "display_data"
    }
   ],
   "source": [
    "from sklearn.preprocessing import label_binarize\n",
    "from sklearn.metrics import roc_auc_score\n",
    "\n",
    "# Binarize the output\n",
    "y_val_bin = label_binarize(y_test_over, classes=np.unique(y_train_over))\n",
    "\n",
    "# calculate the probabilities on the validation set\n",
    "SVM_y_prob_tuned = svm_model_over.predict_proba(X_test_over)\n",
    "\n",
    "# Compute ROC curve and ROC area for each class\n",
    "fpr = dict()\n",
    "tpr = dict()\n",
    "roc_auc = dict()\n",
    "for i in range(n_classes):\n",
    "    fpr[i], tpr[i], _ = roc_curve(y_val_bin[:, i], SVM_y_prob_tuned[:, i])\n",
    "    roc_auc[i] = auc(fpr[i], tpr[i])\n",
    "\n",
    "# Compute micro-average ROC curve and ROC area\n",
    "fpr[\"micro\"], tpr[\"micro\"], _ = roc_curve(y_val_bin.ravel(), SVM_y_prob_tuned.ravel())\n",
    "roc_auc[\"micro\"] = auc(fpr[\"micro\"], tpr[\"micro\"])\n",
    "\n",
    "# Plot the ROC curve\n",
    "plt.figure(figsize=(8, 6))\n",
    "plt.plot(fpr[\"micro\"], tpr[\"micro\"], color='darkorange', lw=2, label=f'Micro-average AUC = {roc_auc[\"micro\"]:.2f}')\n",
    "plt.plot([0, 1], [0, 1], color='navy', lw=2, linestyle='--')\n",
    "plt.xlabel('False Positive Rate')\n",
    "plt.ylabel('True Positive Rate')\n",
    "plt.title('ROC Curve for SVM Classifier')\n",
    "plt.legend(loc='lower right')\n",
    "plt.show()"
   ]
  },
  {
   "cell_type": "markdown",
   "metadata": {},
   "source": [
    "## Decision Tree"
   ]
  },
  {
   "cell_type": "code",
   "execution_count": 24,
   "metadata": {},
   "outputs": [
    {
     "data": {
      "text/html": [
       "<style>#sk-container-id-5 {color: black;}#sk-container-id-5 pre{padding: 0;}#sk-container-id-5 div.sk-toggleable {background-color: white;}#sk-container-id-5 label.sk-toggleable__label {cursor: pointer;display: block;width: 100%;margin-bottom: 0;padding: 0.3em;box-sizing: border-box;text-align: center;}#sk-container-id-5 label.sk-toggleable__label-arrow:before {content: \"▸\";float: left;margin-right: 0.25em;color: #696969;}#sk-container-id-5 label.sk-toggleable__label-arrow:hover:before {color: black;}#sk-container-id-5 div.sk-estimator:hover label.sk-toggleable__label-arrow:before {color: black;}#sk-container-id-5 div.sk-toggleable__content {max-height: 0;max-width: 0;overflow: hidden;text-align: left;background-color: #f0f8ff;}#sk-container-id-5 div.sk-toggleable__content pre {margin: 0.2em;color: black;border-radius: 0.25em;background-color: #f0f8ff;}#sk-container-id-5 input.sk-toggleable__control:checked~div.sk-toggleable__content {max-height: 200px;max-width: 100%;overflow: auto;}#sk-container-id-5 input.sk-toggleable__control:checked~label.sk-toggleable__label-arrow:before {content: \"▾\";}#sk-container-id-5 div.sk-estimator input.sk-toggleable__control:checked~label.sk-toggleable__label {background-color: #d4ebff;}#sk-container-id-5 div.sk-label input.sk-toggleable__control:checked~label.sk-toggleable__label {background-color: #d4ebff;}#sk-container-id-5 input.sk-hidden--visually {border: 0;clip: rect(1px 1px 1px 1px);clip: rect(1px, 1px, 1px, 1px);height: 1px;margin: -1px;overflow: hidden;padding: 0;position: absolute;width: 1px;}#sk-container-id-5 div.sk-estimator {font-family: monospace;background-color: #f0f8ff;border: 1px dotted black;border-radius: 0.25em;box-sizing: border-box;margin-bottom: 0.5em;}#sk-container-id-5 div.sk-estimator:hover {background-color: #d4ebff;}#sk-container-id-5 div.sk-parallel-item::after {content: \"\";width: 100%;border-bottom: 1px solid gray;flex-grow: 1;}#sk-container-id-5 div.sk-label:hover label.sk-toggleable__label {background-color: #d4ebff;}#sk-container-id-5 div.sk-serial::before {content: \"\";position: absolute;border-left: 1px solid gray;box-sizing: border-box;top: 0;bottom: 0;left: 50%;z-index: 0;}#sk-container-id-5 div.sk-serial {display: flex;flex-direction: column;align-items: center;background-color: white;padding-right: 0.2em;padding-left: 0.2em;position: relative;}#sk-container-id-5 div.sk-item {position: relative;z-index: 1;}#sk-container-id-5 div.sk-parallel {display: flex;align-items: stretch;justify-content: center;background-color: white;position: relative;}#sk-container-id-5 div.sk-item::before, #sk-container-id-5 div.sk-parallel-item::before {content: \"\";position: absolute;border-left: 1px solid gray;box-sizing: border-box;top: 0;bottom: 0;left: 50%;z-index: -1;}#sk-container-id-5 div.sk-parallel-item {display: flex;flex-direction: column;z-index: 1;position: relative;background-color: white;}#sk-container-id-5 div.sk-parallel-item:first-child::after {align-self: flex-end;width: 50%;}#sk-container-id-5 div.sk-parallel-item:last-child::after {align-self: flex-start;width: 50%;}#sk-container-id-5 div.sk-parallel-item:only-child::after {width: 0;}#sk-container-id-5 div.sk-dashed-wrapped {border: 1px dashed gray;margin: 0 0.4em 0.5em 0.4em;box-sizing: border-box;padding-bottom: 0.4em;background-color: white;}#sk-container-id-5 div.sk-label label {font-family: monospace;font-weight: bold;display: inline-block;line-height: 1.2em;}#sk-container-id-5 div.sk-label-container {text-align: center;}#sk-container-id-5 div.sk-container {/* jupyter's `normalize.less` sets `[hidden] { display: none; }` but bootstrap.min.css set `[hidden] { display: none !important; }` so we also need the `!important` here to be able to override the default hidden behavior on the sphinx rendered scikit-learn.org. See: https://github.com/scikit-learn/scikit-learn/issues/21755 */display: inline-block !important;position: relative;}#sk-container-id-5 div.sk-text-repr-fallback {display: none;}</style><div id=\"sk-container-id-5\" class=\"sk-top-container\"><div class=\"sk-text-repr-fallback\"><pre>DecisionTreeClassifier()</pre><b>In a Jupyter environment, please rerun this cell to show the HTML representation or trust the notebook. <br />On GitHub, the HTML representation is unable to render, please try loading this page with nbviewer.org.</b></div><div class=\"sk-container\" hidden><div class=\"sk-item\"><div class=\"sk-estimator sk-toggleable\"><input class=\"sk-toggleable__control sk-hidden--visually\" id=\"sk-estimator-id-5\" type=\"checkbox\" checked><label for=\"sk-estimator-id-5\" class=\"sk-toggleable__label sk-toggleable__label-arrow\">DecisionTreeClassifier</label><div class=\"sk-toggleable__content\"><pre>DecisionTreeClassifier()</pre></div></div></div></div></div>"
      ],
      "text/plain": [
       "DecisionTreeClassifier()"
      ]
     },
     "execution_count": 24,
     "metadata": {},
     "output_type": "execute_result"
    }
   ],
   "source": [
    "from sklearn.tree import DecisionTreeClassifier\n",
    "\n",
    "# initialize and train the Decision Tree model on the oversampled data\n",
    "dt_model_over = DecisionTreeClassifier()\n",
    "dt_model_over.fit(X_train_over, y_train_over)"
   ]
  },
  {
   "cell_type": "code",
   "execution_count": 25,
   "metadata": {},
   "outputs": [
    {
     "name": "stdout",
     "output_type": "stream",
     "text": [
      "\n",
      "Accuracy:  0.9404009887393573\n",
      "\n",
      "Precision:  0.9423888436406226\n",
      "\n",
      "Recall:  0.9404009887393573\n",
      "\n",
      "F1 Score:  0.9393930425424342\n"
     ]
    }
   ],
   "source": [
    "# make predictions on the test set\n",
    "y_pred_over = dt_model_over.predict(X_test_over)\n",
    "\n",
    "# print accuracy\n",
    "print(\"\\nAccuracy: \", accuracy_score(y_test_over, y_pred_over))\n",
    "\n",
    "# print precision\n",
    "print(\"\\nPrecision: \", precision_score(y_test_over, y_pred_over, average='weighted'))\n",
    "\n",
    "# print recall\n",
    "print(\"\\nRecall: \", recall_score(y_test_over, y_pred_over, average='weighted'))\n",
    "\n",
    "# print F1 score\n",
    "print(\"\\nF1 Score: \", f1_score(y_test_over, y_pred_over, average='weighted'))"
   ]
  },
  {
   "cell_type": "markdown",
   "metadata": {},
   "source": [
    "## Random Forest Model"
   ]
  },
  {
   "cell_type": "code",
   "execution_count": 26,
   "metadata": {},
   "outputs": [
    {
     "data": {
      "text/html": [
       "<style>#sk-container-id-6 {color: black;}#sk-container-id-6 pre{padding: 0;}#sk-container-id-6 div.sk-toggleable {background-color: white;}#sk-container-id-6 label.sk-toggleable__label {cursor: pointer;display: block;width: 100%;margin-bottom: 0;padding: 0.3em;box-sizing: border-box;text-align: center;}#sk-container-id-6 label.sk-toggleable__label-arrow:before {content: \"▸\";float: left;margin-right: 0.25em;color: #696969;}#sk-container-id-6 label.sk-toggleable__label-arrow:hover:before {color: black;}#sk-container-id-6 div.sk-estimator:hover label.sk-toggleable__label-arrow:before {color: black;}#sk-container-id-6 div.sk-toggleable__content {max-height: 0;max-width: 0;overflow: hidden;text-align: left;background-color: #f0f8ff;}#sk-container-id-6 div.sk-toggleable__content pre {margin: 0.2em;color: black;border-radius: 0.25em;background-color: #f0f8ff;}#sk-container-id-6 input.sk-toggleable__control:checked~div.sk-toggleable__content {max-height: 200px;max-width: 100%;overflow: auto;}#sk-container-id-6 input.sk-toggleable__control:checked~label.sk-toggleable__label-arrow:before {content: \"▾\";}#sk-container-id-6 div.sk-estimator input.sk-toggleable__control:checked~label.sk-toggleable__label {background-color: #d4ebff;}#sk-container-id-6 div.sk-label input.sk-toggleable__control:checked~label.sk-toggleable__label {background-color: #d4ebff;}#sk-container-id-6 input.sk-hidden--visually {border: 0;clip: rect(1px 1px 1px 1px);clip: rect(1px, 1px, 1px, 1px);height: 1px;margin: -1px;overflow: hidden;padding: 0;position: absolute;width: 1px;}#sk-container-id-6 div.sk-estimator {font-family: monospace;background-color: #f0f8ff;border: 1px dotted black;border-radius: 0.25em;box-sizing: border-box;margin-bottom: 0.5em;}#sk-container-id-6 div.sk-estimator:hover {background-color: #d4ebff;}#sk-container-id-6 div.sk-parallel-item::after {content: \"\";width: 100%;border-bottom: 1px solid gray;flex-grow: 1;}#sk-container-id-6 div.sk-label:hover label.sk-toggleable__label {background-color: #d4ebff;}#sk-container-id-6 div.sk-serial::before {content: \"\";position: absolute;border-left: 1px solid gray;box-sizing: border-box;top: 0;bottom: 0;left: 50%;z-index: 0;}#sk-container-id-6 div.sk-serial {display: flex;flex-direction: column;align-items: center;background-color: white;padding-right: 0.2em;padding-left: 0.2em;position: relative;}#sk-container-id-6 div.sk-item {position: relative;z-index: 1;}#sk-container-id-6 div.sk-parallel {display: flex;align-items: stretch;justify-content: center;background-color: white;position: relative;}#sk-container-id-6 div.sk-item::before, #sk-container-id-6 div.sk-parallel-item::before {content: \"\";position: absolute;border-left: 1px solid gray;box-sizing: border-box;top: 0;bottom: 0;left: 50%;z-index: -1;}#sk-container-id-6 div.sk-parallel-item {display: flex;flex-direction: column;z-index: 1;position: relative;background-color: white;}#sk-container-id-6 div.sk-parallel-item:first-child::after {align-self: flex-end;width: 50%;}#sk-container-id-6 div.sk-parallel-item:last-child::after {align-self: flex-start;width: 50%;}#sk-container-id-6 div.sk-parallel-item:only-child::after {width: 0;}#sk-container-id-6 div.sk-dashed-wrapped {border: 1px dashed gray;margin: 0 0.4em 0.5em 0.4em;box-sizing: border-box;padding-bottom: 0.4em;background-color: white;}#sk-container-id-6 div.sk-label label {font-family: monospace;font-weight: bold;display: inline-block;line-height: 1.2em;}#sk-container-id-6 div.sk-label-container {text-align: center;}#sk-container-id-6 div.sk-container {/* jupyter's `normalize.less` sets `[hidden] { display: none; }` but bootstrap.min.css set `[hidden] { display: none !important; }` so we also need the `!important` here to be able to override the default hidden behavior on the sphinx rendered scikit-learn.org. See: https://github.com/scikit-learn/scikit-learn/issues/21755 */display: inline-block !important;position: relative;}#sk-container-id-6 div.sk-text-repr-fallback {display: none;}</style><div id=\"sk-container-id-6\" class=\"sk-top-container\"><div class=\"sk-text-repr-fallback\"><pre>RandomForestClassifier()</pre><b>In a Jupyter environment, please rerun this cell to show the HTML representation or trust the notebook. <br />On GitHub, the HTML representation is unable to render, please try loading this page with nbviewer.org.</b></div><div class=\"sk-container\" hidden><div class=\"sk-item\"><div class=\"sk-estimator sk-toggleable\"><input class=\"sk-toggleable__control sk-hidden--visually\" id=\"sk-estimator-id-6\" type=\"checkbox\" checked><label for=\"sk-estimator-id-6\" class=\"sk-toggleable__label sk-toggleable__label-arrow\">RandomForestClassifier</label><div class=\"sk-toggleable__content\"><pre>RandomForestClassifier()</pre></div></div></div></div></div>"
      ],
      "text/plain": [
       "RandomForestClassifier()"
      ]
     },
     "execution_count": 26,
     "metadata": {},
     "output_type": "execute_result"
    }
   ],
   "source": [
    "from sklearn.ensemble import RandomForestClassifier\n",
    "\n",
    "# initialize and train the Random Forest model on the oversampled data\n",
    "rf_model_over = RandomForestClassifier()\n",
    "rf_model_over.fit(X_train_over, y_train_over)"
   ]
  },
  {
   "cell_type": "code",
   "execution_count": 27,
   "metadata": {},
   "outputs": [
    {
     "name": "stdout",
     "output_type": "stream",
     "text": [
      "\n",
      "Accuracy:  0.982147761603955\n",
      "\n",
      "Precision:  0.9822852486447404\n",
      "\n",
      "Recall:  0.982147761603955\n",
      "\n",
      "F1 Score:  0.9821469886872997\n"
     ]
    }
   ],
   "source": [
    "# make predictions on the test set\n",
    "y_pred_over = rf_model_over.predict(X_test_over)\n",
    "\n",
    "# print accuracy\n",
    "print(\"\\nAccuracy: \", accuracy_score(y_test_over, y_pred_over))\n",
    "\n",
    "# print precision\n",
    "print(\"\\nPrecision: \", precision_score(y_test_over, y_pred_over, average='weighted'))\n",
    "\n",
    "# print recall\n",
    "print(\"\\nRecall: \", recall_score(y_test_over, y_pred_over, average='weighted'))\n",
    "\n",
    "# print F1 score\n",
    "print(\"\\nF1 Score: \", f1_score(y_test_over, y_pred_over, average='weighted'))"
   ]
  },
  {
   "cell_type": "code",
   "execution_count": 34,
   "metadata": {},
   "outputs": [],
   "source": [
    "# Initialize the sentiment intensity analyzer\n",
    "analyzer = SentimentIntensityAnalyzer()"
   ]
  },
  {
   "cell_type": "code",
   "execution_count": 35,
   "metadata": {},
   "outputs": [],
   "source": [
    "# Define a function to get the sentiment scores\n",
    "def get_sentiment_scores(text):\n",
    "    return analyzer.polarity_scores(text)"
   ]
  },
  {
   "cell_type": "code",
   "execution_count": 36,
   "metadata": {},
   "outputs": [],
   "source": [
    "# Apply the function to the 'review text' column\n",
    "df['sentiment_scores'] = df['cleaned_text_str'].apply(get_sentiment_scores)"
   ]
  },
  {
   "cell_type": "code",
   "execution_count": 37,
   "metadata": {},
   "outputs": [
    {
     "data": {
      "text/html": [
       "<div>\n",
       "<style scoped>\n",
       "    .dataframe tbody tr th:only-of-type {\n",
       "        vertical-align: middle;\n",
       "    }\n",
       "\n",
       "    .dataframe tbody tr th {\n",
       "        vertical-align: top;\n",
       "    }\n",
       "\n",
       "    .dataframe thead th {\n",
       "        text-align: right;\n",
       "    }\n",
       "</style>\n",
       "<table border=\"1\" class=\"dataframe\">\n",
       "  <thead>\n",
       "    <tr style=\"text-align: right;\">\n",
       "      <th></th>\n",
       "      <th>stars</th>\n",
       "      <th>cleaned_text</th>\n",
       "      <th>sentiment</th>\n",
       "      <th>cleaned_text_list</th>\n",
       "      <th>cleaned_text_str</th>\n",
       "      <th>neg</th>\n",
       "      <th>neu</th>\n",
       "      <th>pos</th>\n",
       "      <th>compound</th>\n",
       "      <th>neg</th>\n",
       "      <th>neu</th>\n",
       "      <th>pos</th>\n",
       "      <th>compound</th>\n",
       "    </tr>\n",
       "  </thead>\n",
       "  <tbody>\n",
       "    <tr>\n",
       "      <th>0</th>\n",
       "      <td>1</td>\n",
       "      <td>['lately', 'common', 'wait', 'hour', 'food', '...</td>\n",
       "      <td>negative</td>\n",
       "      <td>[lately, common, wait, hour, food, passed, dri...</td>\n",
       "      <td>lately common wait hour food passed driver one...</td>\n",
       "      <td>0.231</td>\n",
       "      <td>0.660</td>\n",
       "      <td>0.108</td>\n",
       "      <td>-0.6369</td>\n",
       "      <td>0.231</td>\n",
       "      <td>0.660</td>\n",
       "      <td>0.108</td>\n",
       "      <td>-0.6369</td>\n",
       "    </tr>\n",
       "    <tr>\n",
       "      <th>1</th>\n",
       "      <td>5</td>\n",
       "      <td>['love', 'great', 'offer', 'good', 'selection'...</td>\n",
       "      <td>positive</td>\n",
       "      <td>[love, great, offer, good, selection, food, sh...</td>\n",
       "      <td>love great offer good selection food shopping ...</td>\n",
       "      <td>0.095</td>\n",
       "      <td>0.536</td>\n",
       "      <td>0.370</td>\n",
       "      <td>0.9468</td>\n",
       "      <td>0.095</td>\n",
       "      <td>0.536</td>\n",
       "      <td>0.370</td>\n",
       "      <td>0.9468</td>\n",
       "    </tr>\n",
       "    <tr>\n",
       "      <th>2</th>\n",
       "      <td>1</td>\n",
       "      <td>['disappointed', 'app', 'used', 'long', 'time'...</td>\n",
       "      <td>negative</td>\n",
       "      <td>[disappointed, app, used, long, time, service,...</td>\n",
       "      <td>disappointed app used long time service fee ke...</td>\n",
       "      <td>0.159</td>\n",
       "      <td>0.841</td>\n",
       "      <td>0.000</td>\n",
       "      <td>-0.6705</td>\n",
       "      <td>0.159</td>\n",
       "      <td>0.841</td>\n",
       "      <td>0.000</td>\n",
       "      <td>-0.6705</td>\n",
       "    </tr>\n",
       "    <tr>\n",
       "      <th>3</th>\n",
       "      <td>2</td>\n",
       "      <td>['fairly', 'easy', 'use', 'trying', 'find', 'h...</td>\n",
       "      <td>negative</td>\n",
       "      <td>[fairly, easy, use, trying, find, happening, c...</td>\n",
       "      <td>fairly easy use trying find happening contacti...</td>\n",
       "      <td>0.116</td>\n",
       "      <td>0.685</td>\n",
       "      <td>0.199</td>\n",
       "      <td>0.5574</td>\n",
       "      <td>0.116</td>\n",
       "      <td>0.685</td>\n",
       "      <td>0.199</td>\n",
       "      <td>0.5574</td>\n",
       "    </tr>\n",
       "    <tr>\n",
       "      <th>4</th>\n",
       "      <td>4</td>\n",
       "      <td>['like', 'fact', 'u', 'ca', 'get', 'refund', '...</td>\n",
       "      <td>positive</td>\n",
       "      <td>[like, fact, u, ca, get, refund, unless, u, ta...</td>\n",
       "      <td>like fact u ca get refund unless u take pictur...</td>\n",
       "      <td>0.093</td>\n",
       "      <td>0.791</td>\n",
       "      <td>0.116</td>\n",
       "      <td>0.3182</td>\n",
       "      <td>0.093</td>\n",
       "      <td>0.791</td>\n",
       "      <td>0.116</td>\n",
       "      <td>0.3182</td>\n",
       "    </tr>\n",
       "    <tr>\n",
       "      <th>5</th>\n",
       "      <td>4</td>\n",
       "      <td>['usually', 'work', 'well', 'use', 'often', 'i...</td>\n",
       "      <td>positive</td>\n",
       "      <td>[usually, work, well, use, often, issue, handl...</td>\n",
       "      <td>usually work well use often issue handled with...</td>\n",
       "      <td>0.050</td>\n",
       "      <td>0.717</td>\n",
       "      <td>0.233</td>\n",
       "      <td>0.8402</td>\n",
       "      <td>0.050</td>\n",
       "      <td>0.717</td>\n",
       "      <td>0.233</td>\n",
       "      <td>0.8402</td>\n",
       "    </tr>\n",
       "    <tr>\n",
       "      <th>6</th>\n",
       "      <td>2</td>\n",
       "      <td>['ignoring', 'astronomical', 'tax', 'fee', 'fo...</td>\n",
       "      <td>negative</td>\n",
       "      <td>[ignoring, astronomical, tax, fee, forced, upd...</td>\n",
       "      <td>ignoring astronomical tax fee forced update ap...</td>\n",
       "      <td>0.205</td>\n",
       "      <td>0.732</td>\n",
       "      <td>0.063</td>\n",
       "      <td>-0.7923</td>\n",
       "      <td>0.205</td>\n",
       "      <td>0.732</td>\n",
       "      <td>0.063</td>\n",
       "      <td>-0.7923</td>\n",
       "    </tr>\n",
       "    <tr>\n",
       "      <th>7</th>\n",
       "      <td>1</td>\n",
       "      <td>['ive', 'absolutely', 'horrible', 'experience'...</td>\n",
       "      <td>negative</td>\n",
       "      <td>[ive, absolutely, horrible, experience, app, d...</td>\n",
       "      <td>ive absolutely horrible experience app driver ...</td>\n",
       "      <td>0.182</td>\n",
       "      <td>0.702</td>\n",
       "      <td>0.116</td>\n",
       "      <td>-0.6478</td>\n",
       "      <td>0.182</td>\n",
       "      <td>0.702</td>\n",
       "      <td>0.116</td>\n",
       "      <td>-0.6478</td>\n",
       "    </tr>\n",
       "    <tr>\n",
       "      <th>8</th>\n",
       "      <td>1</td>\n",
       "      <td>['give', 'zero', 'could', 'food', 'usually', '...</td>\n",
       "      <td>negative</td>\n",
       "      <td>[give, zero, could, food, usually, fine, resta...</td>\n",
       "      <td>give zero could food usually fine restaurant s...</td>\n",
       "      <td>0.259</td>\n",
       "      <td>0.608</td>\n",
       "      <td>0.133</td>\n",
       "      <td>-0.7650</td>\n",
       "      <td>0.259</td>\n",
       "      <td>0.608</td>\n",
       "      <td>0.133</td>\n",
       "      <td>-0.7650</td>\n",
       "    </tr>\n",
       "    <tr>\n",
       "      <th>9</th>\n",
       "      <td>1</td>\n",
       "      <td>['everything', 'run', 'smooth', 'part', 'cance...</td>\n",
       "      <td>negative</td>\n",
       "      <td>[everything, run, smooth, part, cancelled, som...</td>\n",
       "      <td>everything run smooth part cancelled something...</td>\n",
       "      <td>0.130</td>\n",
       "      <td>0.662</td>\n",
       "      <td>0.209</td>\n",
       "      <td>0.6249</td>\n",
       "      <td>0.130</td>\n",
       "      <td>0.662</td>\n",
       "      <td>0.209</td>\n",
       "      <td>0.6249</td>\n",
       "    </tr>\n",
       "  </tbody>\n",
       "</table>\n",
       "</div>"
      ],
      "text/plain": [
       "   stars                                       cleaned_text sentiment  \\\n",
       "0      1  ['lately', 'common', 'wait', 'hour', 'food', '...  negative   \n",
       "1      5  ['love', 'great', 'offer', 'good', 'selection'...  positive   \n",
       "2      1  ['disappointed', 'app', 'used', 'long', 'time'...  negative   \n",
       "3      2  ['fairly', 'easy', 'use', 'trying', 'find', 'h...  negative   \n",
       "4      4  ['like', 'fact', 'u', 'ca', 'get', 'refund', '...  positive   \n",
       "5      4  ['usually', 'work', 'well', 'use', 'often', 'i...  positive   \n",
       "6      2  ['ignoring', 'astronomical', 'tax', 'fee', 'fo...  negative   \n",
       "7      1  ['ive', 'absolutely', 'horrible', 'experience'...  negative   \n",
       "8      1  ['give', 'zero', 'could', 'food', 'usually', '...  negative   \n",
       "9      1  ['everything', 'run', 'smooth', 'part', 'cance...  negative   \n",
       "\n",
       "                                   cleaned_text_list  \\\n",
       "0  [lately, common, wait, hour, food, passed, dri...   \n",
       "1  [love, great, offer, good, selection, food, sh...   \n",
       "2  [disappointed, app, used, long, time, service,...   \n",
       "3  [fairly, easy, use, trying, find, happening, c...   \n",
       "4  [like, fact, u, ca, get, refund, unless, u, ta...   \n",
       "5  [usually, work, well, use, often, issue, handl...   \n",
       "6  [ignoring, astronomical, tax, fee, forced, upd...   \n",
       "7  [ive, absolutely, horrible, experience, app, d...   \n",
       "8  [give, zero, could, food, usually, fine, resta...   \n",
       "9  [everything, run, smooth, part, cancelled, som...   \n",
       "\n",
       "                                    cleaned_text_str    neg    neu    pos  \\\n",
       "0  lately common wait hour food passed driver one...  0.231  0.660  0.108   \n",
       "1  love great offer good selection food shopping ...  0.095  0.536  0.370   \n",
       "2  disappointed app used long time service fee ke...  0.159  0.841  0.000   \n",
       "3  fairly easy use trying find happening contacti...  0.116  0.685  0.199   \n",
       "4  like fact u ca get refund unless u take pictur...  0.093  0.791  0.116   \n",
       "5  usually work well use often issue handled with...  0.050  0.717  0.233   \n",
       "6  ignoring astronomical tax fee forced update ap...  0.205  0.732  0.063   \n",
       "7  ive absolutely horrible experience app driver ...  0.182  0.702  0.116   \n",
       "8  give zero could food usually fine restaurant s...  0.259  0.608  0.133   \n",
       "9  everything run smooth part cancelled something...  0.130  0.662  0.209   \n",
       "\n",
       "   compound    neg    neu    pos  compound  \n",
       "0   -0.6369  0.231  0.660  0.108   -0.6369  \n",
       "1    0.9468  0.095  0.536  0.370    0.9468  \n",
       "2   -0.6705  0.159  0.841  0.000   -0.6705  \n",
       "3    0.5574  0.116  0.685  0.199    0.5574  \n",
       "4    0.3182  0.093  0.791  0.116    0.3182  \n",
       "5    0.8402  0.050  0.717  0.233    0.8402  \n",
       "6   -0.7923  0.205  0.732  0.063   -0.7923  \n",
       "7   -0.6478  0.182  0.702  0.116   -0.6478  \n",
       "8   -0.7650  0.259  0.608  0.133   -0.7650  \n",
       "9    0.6249  0.130  0.662  0.209    0.6249  "
      ]
     },
     "execution_count": 37,
     "metadata": {},
     "output_type": "execute_result"
    }
   ],
   "source": [
    "# Split the sentiment scores into separate columns\n",
    "df = pd.concat([df.drop(['sentiment_scores'], axis=1), df['sentiment_scores'].apply(pd.Series)], axis=1)\n",
    "df.head(10)"
   ]
  },
  {
   "cell_type": "markdown",
   "metadata": {},
   "source": [
    "## Trying to use keras and tensorflow here"
   ]
  },
  {
   "cell_type": "code",
   "execution_count": 28,
   "metadata": {},
   "outputs": [],
   "source": [
    "# Tokenizing and adding padding\n",
    "max_words = 5000\n",
    "max_len = 200"
   ]
  },
  {
   "cell_type": "code",
   "execution_count": 30,
   "metadata": {},
   "outputs": [],
   "source": [
    "# Initialize the LabelEncoder\n",
    "le = LabelEncoder()\n",
    "\n",
    "# Fit and transform the labels\n",
    "y_train_over = le.fit_transform(y_train_over)\n",
    "y_test_over = le.transform(y_test_over)\n",
    "\n",
    "# Convert integer labels to binary form\n",
    "y_train_over = to_categorical(y_train_over)\n",
    "y_test_over = to_categorical(y_test_over)"
   ]
  },
  {
   "cell_type": "code",
   "execution_count": 33,
   "metadata": {},
   "outputs": [
    {
     "name": "stdout",
     "output_type": "stream",
     "text": [
      "Epoch 1/10\n",
      "455/455 [==============================] - 2s 2ms/step - loss: 0.5095 - accuracy: 0.8359 - f1_score: 0.6860 - val_loss: 0.1806 - val_accuracy: 0.9445 - val_f1_score: 0.9459\n",
      "Epoch 2/10\n",
      "455/455 [==============================] - 1s 2ms/step - loss: 0.0966 - accuracy: 0.9743 - f1_score: 0.9745 - val_loss: 0.0990 - val_accuracy: 0.9695 - val_f1_score: 0.9692\n",
      "Epoch 3/10\n",
      "455/455 [==============================] - 1s 2ms/step - loss: 0.0370 - accuracy: 0.9911 - f1_score: 0.9912 - val_loss: 0.0844 - val_accuracy: 0.9725 - val_f1_score: 0.9726\n",
      "Epoch 4/10\n",
      "455/455 [==============================] - 1s 2ms/step - loss: 0.0164 - accuracy: 0.9975 - f1_score: 0.9975 - val_loss: 0.0801 - val_accuracy: 0.9731 - val_f1_score: 0.9734\n",
      "Epoch 5/10\n",
      "455/455 [==============================] - 1s 2ms/step - loss: 0.0078 - accuracy: 0.9991 - f1_score: 0.9991 - val_loss: 0.0890 - val_accuracy: 0.9717 - val_f1_score: 0.9715\n",
      "Epoch 6/10\n",
      "455/455 [==============================] - 1s 2ms/step - loss: 0.0040 - accuracy: 0.9997 - f1_score: 0.9997 - val_loss: 0.0950 - val_accuracy: 0.9712 - val_f1_score: 0.9708\n",
      "Epoch 7/10\n",
      "455/455 [==============================] - 1s 2ms/step - loss: 0.0023 - accuracy: 0.9998 - f1_score: 0.9998 - val_loss: 0.0972 - val_accuracy: 0.9736 - val_f1_score: 0.9736\n",
      "Epoch 8/10\n",
      "455/455 [==============================] - 1s 2ms/step - loss: 0.0017 - accuracy: 0.9999 - f1_score: 0.9999 - val_loss: 0.1186 - val_accuracy: 0.9679 - val_f1_score: 0.9679\n",
      "Epoch 9/10\n",
      "455/455 [==============================] - 1s 2ms/step - loss: 0.0013 - accuracy: 0.9999 - f1_score: 0.9999 - val_loss: 0.1115 - val_accuracy: 0.9709 - val_f1_score: 0.9708\n",
      "Epoch 10/10\n",
      "455/455 [==============================] - 1s 2ms/step - loss: 6.8706e-04 - accuracy: 0.9999 - f1_score: 0.9999 - val_loss: 0.1171 - val_accuracy: 0.9698 - val_f1_score: 0.9701\n"
     ]
    }
   ],
   "source": [
    "# Define a custom F1 score metric\n",
    "def f1_score(y_true, y_pred):\n",
    "    true_positives = tf.keras.backend.sum(tf.keras.backend.round(tf.keras.backend.clip(y_true * y_pred, 0, 1)))\n",
    "    possible_positives = tf.keras.backend.sum(tf.keras.backend.round(tf.keras.backend.clip(y_true, 0, 1)))\n",
    "    predicted_positives = tf.keras.backend.sum(tf.keras.backend.round(tf.keras.backend.clip(y_pred, 0, 1)))\n",
    "    precision = true_positives / (predicted_positives + tf.keras.backend.epsilon())\n",
    "    recall = true_positives / (possible_positives + tf.keras.backend.epsilon())\n",
    "    f1_val = 2*(precision*recall)/(precision+recall+tf.keras.backend.epsilon())\n",
    "    return f1_val\n",
    "\n",
    "# Define the model\n",
    "model = Sequential()\n",
    "model.add(Dense(32, input_dim=X_train_over.shape[1], activation='relu'))  # Input layer\n",
    "model.add(Dense(16, activation='relu'))  # Hidden layer\n",
    "model.add(Dense(3, activation='softmax'))  # Output layer\n",
    "\n",
    "# Compile the model\n",
    "model.compile(loss='categorical_crossentropy', \n",
    "              optimizer='adam', \n",
    "              metrics=['accuracy', f1_score])\n",
    "\n",
    "# Fit the model to the oversampled data\n",
    "training_history = model.fit(X_train_over, y_train_over, epochs=10, batch_size=32, validation_data=(X_test_over, y_test_over))"
   ]
  },
  {
   "cell_type": "code",
   "execution_count": 34,
   "metadata": {},
   "outputs": [
    {
     "data": {
      "image/png": "[encoded data removed]",
      "text/plain": [
       "<Figure size 640x480 with 1 Axes>"
      ]
     },
     "metadata": {},
     "output_type": "display_data"
    }
   ],
   "source": [
    "# Plot the training and validation F1 score\n",
    "plt.plot(training_history.history['f1_score'], label='Training F1 Score')\n",
    "plt.plot(training_history.history['val_f1_score'], label='Validation F1 Score')\n",
    "plt.xlabel('Epochs')\n",
    "plt.ylabel('F1 Score')\n",
    "plt.legend()\n",
    "plt.show()"
   ]
  },
  {
   "cell_type": "markdown",
   "metadata": {},
   "source": [
    "# Evaluation"
   ]
  },
  {
   "cell_type": "code",
   "execution_count": 44,
   "metadata": {},
   "outputs": [
    {
     "data": {
      "text/html": [
       "<div>\n",
       "<style scoped>\n",
       "    .dataframe tbody tr th:only-of-type {\n",
       "        vertical-align: middle;\n",
       "    }\n",
       "\n",
       "    .dataframe tbody tr th {\n",
       "        vertical-align: top;\n",
       "    }\n",
       "\n",
       "    .dataframe thead th {\n",
       "        text-align: right;\n",
       "    }\n",
       "</style>\n",
       "<table border=\"1\" class=\"dataframe\">\n",
       "  <thead>\n",
       "    <tr style=\"text-align: right;\">\n",
       "      <th></th>\n",
       "      <th>stars</th>\n",
       "      <th>cleaned_text</th>\n",
       "      <th>sentiment</th>\n",
       "    </tr>\n",
       "  </thead>\n",
       "  <tbody>\n",
       "    <tr>\n",
       "      <th>0</th>\n",
       "      <td>1</td>\n",
       "      <td>['lately', 'common', 'wait', 'hour', 'food', '...</td>\n",
       "      <td>negative</td>\n",
       "    </tr>\n",
       "    <tr>\n",
       "      <th>1</th>\n",
       "      <td>5</td>\n",
       "      <td>['love', 'great', 'offer', 'good', 'selection'...</td>\n",
       "      <td>positive</td>\n",
       "    </tr>\n",
       "    <tr>\n",
       "      <th>2</th>\n",
       "      <td>1</td>\n",
       "      <td>['disappointed', 'app', 'used', 'long', 'time'...</td>\n",
       "      <td>negative</td>\n",
       "    </tr>\n",
       "    <tr>\n",
       "      <th>3</th>\n",
       "      <td>2</td>\n",
       "      <td>['fairly', 'easy', 'use', 'trying', 'find', 'h...</td>\n",
       "      <td>negative</td>\n",
       "    </tr>\n",
       "    <tr>\n",
       "      <th>4</th>\n",
       "      <td>4</td>\n",
       "      <td>['like', 'fact', 'u', 'ca', 'get', 'refund', '...</td>\n",
       "      <td>positive</td>\n",
       "    </tr>\n",
       "    <tr>\n",
       "      <th>...</th>\n",
       "      <td>...</td>\n",
       "      <td>...</td>\n",
       "      <td>...</td>\n",
       "    </tr>\n",
       "    <tr>\n",
       "      <th>8892</th>\n",
       "      <td>5</td>\n",
       "      <td>['food', 'good', 'delivery', 'took', 'forever'...</td>\n",
       "      <td>positive</td>\n",
       "    </tr>\n",
       "    <tr>\n",
       "      <th>8893</th>\n",
       "      <td>1</td>\n",
       "      <td>['whenever', 'never', 'sent', 'correct', 'item...</td>\n",
       "      <td>negative</td>\n",
       "    </tr>\n",
       "    <tr>\n",
       "      <th>8894</th>\n",
       "      <td>1</td>\n",
       "      <td>['delivery', 'driver', 'turn', 'incorrect', 'l...</td>\n",
       "      <td>negative</td>\n",
       "    </tr>\n",
       "    <tr>\n",
       "      <th>8895</th>\n",
       "      <td>5</td>\n",
       "      <td>['great', 'deal', 'buddy', 'pizza', 'buy', 'on...</td>\n",
       "      <td>positive</td>\n",
       "    </tr>\n",
       "    <tr>\n",
       "      <th>8896</th>\n",
       "      <td>5</td>\n",
       "      <td>['prompt', 'service', 'excellent', 'communicat...</td>\n",
       "      <td>positive</td>\n",
       "    </tr>\n",
       "  </tbody>\n",
       "</table>\n",
       "<p>8897 rows × 3 columns</p>\n",
       "</div>"
      ],
      "text/plain": [
       "      stars                                       cleaned_text sentiment\n",
       "0         1  ['lately', 'common', 'wait', 'hour', 'food', '...  negative\n",
       "1         5  ['love', 'great', 'offer', 'good', 'selection'...  positive\n",
       "2         1  ['disappointed', 'app', 'used', 'long', 'time'...  negative\n",
       "3         2  ['fairly', 'easy', 'use', 'trying', 'find', 'h...  negative\n",
       "4         4  ['like', 'fact', 'u', 'ca', 'get', 'refund', '...  positive\n",
       "...     ...                                                ...       ...\n",
       "8892      5  ['food', 'good', 'delivery', 'took', 'forever'...  positive\n",
       "8893      1  ['whenever', 'never', 'sent', 'correct', 'item...  negative\n",
       "8894      1  ['delivery', 'driver', 'turn', 'incorrect', 'l...  negative\n",
       "8895      5  ['great', 'deal', 'buddy', 'pizza', 'buy', 'on...  positive\n",
       "8896      5  ['prompt', 'service', 'excellent', 'communicat...  positive\n",
       "\n",
       "[8897 rows x 3 columns]"
      ]
     },
     "execution_count": 44,
     "metadata": {},
     "output_type": "execute_result"
    }
   ],
   "source": [
    "df_test = pd.read_csv('cleaned_data.csv')\n",
    "df_test"
   ]
  },
  {
   "cell_type": "code",
   "execution_count": 45,
   "metadata": {},
   "outputs": [],
   "source": [
    "import ast\n",
    "# convert string representations of lists in 'cleaned_text' back to actual lists\n",
    "df_test['cleaned_text_list'] = df['cleaned_text'].apply(ast.literal_eval)\n",
    "\n",
    "# convert lists in 'cleaned_text_list' to strings\n",
    "df_test['cleaned_text_str'] = df['cleaned_text_list'].apply(' '.join)"
   ]
  },
  {
   "cell_type": "code",
   "execution_count": 46,
   "metadata": {},
   "outputs": [],
   "source": [
    "# initialize TF-IDF vectorizer\n",
    "vectorizer = TfidfVectorizer()"
   ]
  },
  {
   "cell_type": "code",
   "execution_count": 49,
   "metadata": {},
   "outputs": [],
   "source": [
    "# convert 'cleaned_text_str' into TF-IDF vectors\n",
    "X_val = vectorizer.fit_transform(df_test['cleaned_text_str'])\n",
    "\n",
    "# use 'sentiment' as target\n",
    "y_val = df_test['sentiment']"
   ]
  },
  {
   "cell_type": "code",
   "execution_count": 55,
   "metadata": {},
   "outputs": [],
   "source": [
    "# Use the SVM model to make predictions\n",
    "df_test['predicted_sentiment'] = svm_model_over.predict(X_val)"
   ]
  },
  {
   "cell_type": "code",
   "execution_count": 56,
   "metadata": {},
   "outputs": [
    {
     "data": {
      "text/html": [
       "<div>\n",
       "<style scoped>\n",
       "    .dataframe tbody tr th:only-of-type {\n",
       "        vertical-align: middle;\n",
       "    }\n",
       "\n",
       "    .dataframe tbody tr th {\n",
       "        vertical-align: top;\n",
       "    }\n",
       "\n",
       "    .dataframe thead th {\n",
       "        text-align: right;\n",
       "    }\n",
       "</style>\n",
       "<table border=\"1\" class=\"dataframe\">\n",
       "  <thead>\n",
       "    <tr style=\"text-align: right;\">\n",
       "      <th></th>\n",
       "      <th>stars</th>\n",
       "      <th>cleaned_text</th>\n",
       "      <th>sentiment</th>\n",
       "      <th>cleaned_text_list</th>\n",
       "      <th>cleaned_text_str</th>\n",
       "      <th>predicted_sentiment</th>\n",
       "    </tr>\n",
       "  </thead>\n",
       "  <tbody>\n",
       "    <tr>\n",
       "      <th>0</th>\n",
       "      <td>1</td>\n",
       "      <td>['lately', 'common', 'wait', 'hour', 'food', '...</td>\n",
       "      <td>negative</td>\n",
       "      <td>[lately, common, wait, hour, food, passed, dri...</td>\n",
       "      <td>lately common wait hour food passed driver one...</td>\n",
       "      <td>negative</td>\n",
       "    </tr>\n",
       "    <tr>\n",
       "      <th>1</th>\n",
       "      <td>5</td>\n",
       "      <td>['love', 'great', 'offer', 'good', 'selection'...</td>\n",
       "      <td>positive</td>\n",
       "      <td>[love, great, offer, good, selection, food, sh...</td>\n",
       "      <td>love great offer good selection food shopping ...</td>\n",
       "      <td>positive</td>\n",
       "    </tr>\n",
       "    <tr>\n",
       "      <th>2</th>\n",
       "      <td>1</td>\n",
       "      <td>['disappointed', 'app', 'used', 'long', 'time'...</td>\n",
       "      <td>negative</td>\n",
       "      <td>[disappointed, app, used, long, time, service,...</td>\n",
       "      <td>disappointed app used long time service fee ke...</td>\n",
       "      <td>negative</td>\n",
       "    </tr>\n",
       "    <tr>\n",
       "      <th>3</th>\n",
       "      <td>2</td>\n",
       "      <td>['fairly', 'easy', 'use', 'trying', 'find', 'h...</td>\n",
       "      <td>negative</td>\n",
       "      <td>[fairly, easy, use, trying, find, happening, c...</td>\n",
       "      <td>fairly easy use trying find happening contacti...</td>\n",
       "      <td>negative</td>\n",
       "    </tr>\n",
       "    <tr>\n",
       "      <th>4</th>\n",
       "      <td>4</td>\n",
       "      <td>['like', 'fact', 'u', 'ca', 'get', 'refund', '...</td>\n",
       "      <td>positive</td>\n",
       "      <td>[like, fact, u, ca, get, refund, unless, u, ta...</td>\n",
       "      <td>like fact u ca get refund unless u take pictur...</td>\n",
       "      <td>positive</td>\n",
       "    </tr>\n",
       "  </tbody>\n",
       "</table>\n",
       "</div>"
      ],
      "text/plain": [
       "   stars                                       cleaned_text sentiment  \\\n",
       "0      1  ['lately', 'common', 'wait', 'hour', 'food', '...  negative   \n",
       "1      5  ['love', 'great', 'offer', 'good', 'selection'...  positive   \n",
       "2      1  ['disappointed', 'app', 'used', 'long', 'time'...  negative   \n",
       "3      2  ['fairly', 'easy', 'use', 'trying', 'find', 'h...  negative   \n",
       "4      4  ['like', 'fact', 'u', 'ca', 'get', 'refund', '...  positive   \n",
       "\n",
       "                                   cleaned_text_list  \\\n",
       "0  [lately, common, wait, hour, food, passed, dri...   \n",
       "1  [love, great, offer, good, selection, food, sh...   \n",
       "2  [disappointed, app, used, long, time, service,...   \n",
       "3  [fairly, easy, use, trying, find, happening, c...   \n",
       "4  [like, fact, u, ca, get, refund, unless, u, ta...   \n",
       "\n",
       "                                    cleaned_text_str predicted_sentiment  \n",
       "0  lately common wait hour food passed driver one...            negative  \n",
       "1  love great offer good selection food shopping ...            positive  \n",
       "2  disappointed app used long time service fee ke...            negative  \n",
       "3  fairly easy use trying find happening contacti...            negative  \n",
       "4  like fact u ca get refund unless u take pictur...            positive  "
      ]
     },
     "execution_count": 56,
     "metadata": {},
     "output_type": "execute_result"
    }
   ],
   "source": [
    "df_test.head() "
   ]
  },
  {
   "cell_type": "code",
   "execution_count": 57,
   "metadata": {},
   "outputs": [
    {
     "name": "stdout",
     "output_type": "stream",
     "text": [
      "Accuracy: 0.9928065640103405\n"
     ]
    }
   ],
   "source": [
    "# Evaluate the accuracy\n",
    "accuracy = accuracy_score(y_val, df_test['predicted_sentiment'])\n",
    "print('Accuracy:', accuracy)"
   ]
  },
  {
   "cell_type": "code",
   "execution_count": 63,
   "metadata": {},
   "outputs": [
    {
     "name": "stdout",
     "output_type": "stream",
     "text": [
      "F1 Score: 0.9928101869836956\n"
     ]
    }
   ],
   "source": [
    "f1 = f1_score(y_val, df_test['predicted_sentiment'], average='weighted')\n",
    "print('F1 Score:', f1)"
   ]
  },
  {
   "cell_type": "code",
   "execution_count": 64,
   "metadata": {},
   "outputs": [
    {
     "name": "stdout",
     "output_type": "stream",
     "text": [
      "Recall: 0.9928065640103405\n"
     ]
    }
   ],
   "source": [
    "recall = recall_score(y_val, df_test['predicted_sentiment'], average='weighted')\n",
    "print('Recall:', recall)"
   ]
  },
  {
   "cell_type": "code",
   "execution_count": 65,
   "metadata": {},
   "outputs": [
    {
     "name": "stdout",
     "output_type": "stream",
     "text": [
      "Precision: 0.9928167112419055\n"
     ]
    }
   ],
   "source": [
    "precision = precision_score(y_val, df_test['predicted_sentiment'], average='weighted')\n",
    "print('Precision:', precision)"
   ]
  },
  {
   "cell_type": "code",
   "execution_count": 66,
   "metadata": {},
   "outputs": [
    {
     "data": {
      "image/png": "[encoded data removed]",
      "text/plain": [
       "<Figure size 1000x700 with 2 Axes>"
      ]
     },
     "metadata": {},
     "output_type": "display_data"
    }
   ],
   "source": [
    "confusion = confusion_matrix(y_val, df_test['predicted_sentiment'])\n",
    "\n",
    "plt.figure(figsize=(10,7))\n",
    "sns.heatmap(confusion, annot=True, fmt='d', cmap='Blues')\n",
    "plt.xlabel('Predicted')\n",
    "plt.ylabel('True')\n",
    "plt.title('Confusion Matrix')\n",
    "plt.show()"
   ]
  }
 ],
 "metadata": {
  "kernelspec": {
   "display_name": "Python 3",
   "language": "python",
   "name": "python3"
  },
  "language_info": {
   "codemirror_mode": {
    "name": "ipython",
    "version": 3
   },
   "file_extension": ".py",
   "mimetype": "text/x-python",
   "name": "python",
   "nbconvert_exporter": "python",
   "pygments_lexer": "ipython3",
   "version": "3.11.8"
  }
 },
 "nbformat": 4,
 "nbformat_minor": 2
}
