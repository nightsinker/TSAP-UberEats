{
 "cells": [
  {
   "cell_type": "markdown",
   "metadata": {},
   "source": [
    "## Name : Jay Krish Vijendra\n",
    "## Admin Number : 222197Y\n",
    "<br>\n",
    "\n",
    "# UberEats Analysis"
   ]
  },
  {
   "cell_type": "markdown",
   "metadata": {},
   "source": [
    "# Introduction\n",
    "The project aims to develop a text classification model for Uber Eats reviews, enhancing customer satisfaction by categorizing sentiments as positive, negative, or neutral. With a surge in low ratings threatening its reputation, Uber Eats seeks strategic improvements to address issues with app functionality, food quality, and service standards. By systematically analyzing Reviews, the proposed model offers vital insights into customer sentiments, enabling targeted enhancements to maintain competitiveness amidst fierce industry rivalry with Deliveroo and Grab.\n",
    "\n",
    "\n",
    "\n",
    "# Dataset\n",
    "The project leverages multiple datasets, including Google Playstore, Consumer Affairs, Trust Pilot, Product Review, and Sitejabber. These diverse sources provide a comprehensive range of customer feedback on Uber Eats, offering insights into various aspects of user experience and satisfaction. By aggregating data from these platforms, the text classification model gains a robust understanding of customer sentiments, facilitating targeted improvements to enhance service quality.\n"
   ]
  },
  {
   "cell_type": "markdown",
   "metadata": {},
   "source": [
    "<a id='table_of_contents'></a>\n",
    "\n",
    "1. [Import libraries](#imports)\n",
    "2. [Import data](#import_data)\n",
    "3. [Data exploration](#data_exploration)\n",
    "4. [Data cleaning and preparation](#data_cleaning)\n",
    "5. [Model training](#model_training)<br>\n",
    "6. [Tuning](#tuning)<br>\n",
    "7. [Validation](#validation)<br>"
   ]
  },
  {
   "cell_type": "markdown",
   "metadata": {},
   "source": [
    "# 1. Import libraries <a id='imports'></a>\n",
    "[Back to top](#table_of_contents)"
   ]
  },
  {
   "cell_type": "code",
   "execution_count": 1,
   "metadata": {},
   "outputs": [
    {
     "name": "stdout",
     "output_type": "stream",
     "text": [
      "WARNING:tensorflow:From C:\\Users\\User\\AppData\\Local\\Packages\\PythonSoftwareFoundation.Python.3.11_qbz5n2kfra8p0\\LocalCache\\local-packages\\Python311\\site-packages\\keras\\src\\losses.py:2976: The name tf.losses.sparse_softmax_cross_entropy is deprecated. Please use tf.compat.v1.losses.sparse_softmax_cross_entropy instead.\n",
      "\n"
     ]
    }
   ],
   "source": [
    "import pandas as pd\n",
    "import numpy as np\n",
    "import matplotlib.pyplot as plt\n",
    "import re\n",
    "import ast\n",
    "from dateutil import parser\n",
    "from collections import Counter\n",
    "\n",
    "from sklearn.feature_extraction.text import TfidfVectorizer\n",
    "from sklearn.naive_bayes import MultinomialNB, BernoulliNB, GaussianNB\n",
    "from sklearn.model_selection import train_test_split\n",
    "from sklearn.metrics import classification_report, precision_score, recall_score, f1_score, confusion_matrix, roc_auc_score, roc_curve, auc, accuracy_score\n",
    "from sklearn.linear_model import LogisticRegression\n",
    "from sklearn.preprocessing import OrdinalEncoder, label_binarize\n",
    "from sklearn.ensemble import RandomForestClassifier\n",
    "from sklearn.tree import DecisionTreeClassifier\n",
    "from sklearn.svm import SVC\n",
    "\n",
    "\n",
    "from imblearn.over_sampling import RandomOverSampler\n",
    "from imblearn.under_sampling import RandomUnderSampler\n",
    "\n",
    "from vaderSentiment.vaderSentiment import SentimentIntensityAnalyzer\n",
    "\n",
    "import tensorflow as tf\n",
    "from keras.preprocessing.text import Tokenizer\n",
    "from keras_preprocessing.sequence import pad_sequences\n",
    "from keras.models import Sequential\n",
    "from keras import layers\n",
    "from keras.layers import Dense\n",
    "from keras.utils import to_categorical\n",
    "from keras.utils import to_categorical\n",
    "\n",
    "\n",
    "import seaborn as sns\n",
    "\n",
    "import warnings\n",
    "warnings.filterwarnings('ignore')"
   ]
  },
  {
   "cell_type": "markdown",
   "metadata": {},
   "source": [
    "# 2. Import data <a id='import_data'></a>\n",
    "[Back to top](#table_of_contents)"
   ]
  },
  {
   "cell_type": "code",
   "execution_count": 2,
   "metadata": {},
   "outputs": [
    {
     "data": {
      "text/html": [
       "<div>\n",
       "<style scoped>\n",
       "    .dataframe tbody tr th:only-of-type {\n",
       "        vertical-align: middle;\n",
       "    }\n",
       "\n",
       "    .dataframe tbody tr th {\n",
       "        vertical-align: top;\n",
       "    }\n",
       "\n",
       "    .dataframe thead th {\n",
       "        text-align: right;\n",
       "    }\n",
       "</style>\n",
       "<table border=\"1\" class=\"dataframe\">\n",
       "  <thead>\n",
       "    <tr style=\"text-align: right;\">\n",
       "      <th></th>\n",
       "      <th>stars</th>\n",
       "      <th>cleaned_text</th>\n",
       "      <th>sentiment</th>\n",
       "    </tr>\n",
       "  </thead>\n",
       "  <tbody>\n",
       "    <tr>\n",
       "      <th>0</th>\n",
       "      <td>1</td>\n",
       "      <td>['lately', 'common', 'wait', 'hour', 'food', '...</td>\n",
       "      <td>negative</td>\n",
       "    </tr>\n",
       "    <tr>\n",
       "      <th>1</th>\n",
       "      <td>5</td>\n",
       "      <td>['love', 'great', 'offer', 'good', 'selection'...</td>\n",
       "      <td>positive</td>\n",
       "    </tr>\n",
       "    <tr>\n",
       "      <th>2</th>\n",
       "      <td>1</td>\n",
       "      <td>['disappointed', 'app', 'used', 'long', 'time'...</td>\n",
       "      <td>negative</td>\n",
       "    </tr>\n",
       "    <tr>\n",
       "      <th>3</th>\n",
       "      <td>2</td>\n",
       "      <td>['fairly', 'easy', 'use', 'trying', 'find', 'h...</td>\n",
       "      <td>negative</td>\n",
       "    </tr>\n",
       "    <tr>\n",
       "      <th>4</th>\n",
       "      <td>4</td>\n",
       "      <td>['like', 'fact', 'u', 'ca', 'get', 'refund', '...</td>\n",
       "      <td>positive</td>\n",
       "    </tr>\n",
       "    <tr>\n",
       "      <th>...</th>\n",
       "      <td>...</td>\n",
       "      <td>...</td>\n",
       "      <td>...</td>\n",
       "    </tr>\n",
       "    <tr>\n",
       "      <th>8892</th>\n",
       "      <td>5</td>\n",
       "      <td>['food', 'good', 'delivery', 'took', 'forever'...</td>\n",
       "      <td>positive</td>\n",
       "    </tr>\n",
       "    <tr>\n",
       "      <th>8893</th>\n",
       "      <td>1</td>\n",
       "      <td>['whenever', 'never', 'sent', 'correct', 'item...</td>\n",
       "      <td>negative</td>\n",
       "    </tr>\n",
       "    <tr>\n",
       "      <th>8894</th>\n",
       "      <td>1</td>\n",
       "      <td>['delivery', 'driver', 'turn', 'incorrect', 'l...</td>\n",
       "      <td>negative</td>\n",
       "    </tr>\n",
       "    <tr>\n",
       "      <th>8895</th>\n",
       "      <td>5</td>\n",
       "      <td>['great', 'deal', 'buddy', 'pizza', 'buy', 'on...</td>\n",
       "      <td>positive</td>\n",
       "    </tr>\n",
       "    <tr>\n",
       "      <th>8896</th>\n",
       "      <td>5</td>\n",
       "      <td>['prompt', 'service', 'excellent', 'communicat...</td>\n",
       "      <td>positive</td>\n",
       "    </tr>\n",
       "  </tbody>\n",
       "</table>\n",
       "<p>8897 rows × 3 columns</p>\n",
       "</div>"
      ],
      "text/plain": [
       "      stars                                       cleaned_text sentiment\n",
       "0         1  ['lately', 'common', 'wait', 'hour', 'food', '...  negative\n",
       "1         5  ['love', 'great', 'offer', 'good', 'selection'...  positive\n",
       "2         1  ['disappointed', 'app', 'used', 'long', 'time'...  negative\n",
       "3         2  ['fairly', 'easy', 'use', 'trying', 'find', 'h...  negative\n",
       "4         4  ['like', 'fact', 'u', 'ca', 'get', 'refund', '...  positive\n",
       "...     ...                                                ...       ...\n",
       "8892      5  ['food', 'good', 'delivery', 'took', 'forever'...  positive\n",
       "8893      1  ['whenever', 'never', 'sent', 'correct', 'item...  negative\n",
       "8894      1  ['delivery', 'driver', 'turn', 'incorrect', 'l...  negative\n",
       "8895      5  ['great', 'deal', 'buddy', 'pizza', 'buy', 'on...  positive\n",
       "8896      5  ['prompt', 'service', 'excellent', 'communicat...  positive\n",
       "\n",
       "[8897 rows x 3 columns]"
      ]
     },
     "execution_count": 2,
     "metadata": {},
     "output_type": "execute_result"
    }
   ],
   "source": [
    "df = pd.read_csv('cleaned_data.csv')\n",
    "df"
   ]
  },
  {
   "cell_type": "markdown",
   "metadata": {},
   "source": [
    "# 3. Data exploration <a id='data_exploration'></a>\n",
    "[Back to top](#table_of_contents)"
   ]
  },
  {
   "cell_type": "code",
   "execution_count": 3,
   "metadata": {},
   "outputs": [
    {
     "data": {
      "image/png": "[encoded data removed]",
      "text/plain": [
       "<Figure size 1000x700 with 1 Axes>"
      ]
     },
     "metadata": {},
     "output_type": "display_data"
    }
   ],
   "source": [
    "# Count the number of each sentiment\n",
    "sentiment_counts = df['sentiment'].value_counts()\n",
    "\n",
    "# Plot bar chart\n",
    "sentiment_counts.plot(kind='bar', figsize=(10,7))\n",
    "\n",
    "plt.title('Count of Sentiments')\n",
    "plt.xlabel('Sentiment')\n",
    "plt.ylabel('Count')\n",
    "plt.xticks(rotation=45)\n",
    "plt.show()"
   ]
  },
  {
   "cell_type": "markdown",
   "metadata": {},
   "source": [
    "# 4. Data cleaning and preparation <a id='data_cleaning'></a>\n",
    "[Back to top](#table_of_contents)"
   ]
  },
  {
   "cell_type": "code",
   "execution_count": 4,
   "metadata": {},
   "outputs": [
    {
     "data": {
      "text/html": [
       "<div>\n",
       "<style scoped>\n",
       "    .dataframe tbody tr th:only-of-type {\n",
       "        vertical-align: middle;\n",
       "    }\n",
       "\n",
       "    .dataframe tbody tr th {\n",
       "        vertical-align: top;\n",
       "    }\n",
       "\n",
       "    .dataframe thead th {\n",
       "        text-align: right;\n",
       "    }\n",
       "</style>\n",
       "<table border=\"1\" class=\"dataframe\">\n",
       "  <thead>\n",
       "    <tr style=\"text-align: right;\">\n",
       "      <th></th>\n",
       "      <th>stars</th>\n",
       "      <th>cleaned_text</th>\n",
       "      <th>sentiment</th>\n",
       "      <th>cleaned_text_list</th>\n",
       "      <th>cleaned_text_str</th>\n",
       "    </tr>\n",
       "  </thead>\n",
       "  <tbody>\n",
       "    <tr>\n",
       "      <th>0</th>\n",
       "      <td>1</td>\n",
       "      <td>['lately', 'common', 'wait', 'hour', 'food', '...</td>\n",
       "      <td>negative</td>\n",
       "      <td>[lately, common, wait, hour, food, passed, dri...</td>\n",
       "      <td>lately common wait hour food passed driver one...</td>\n",
       "    </tr>\n",
       "    <tr>\n",
       "      <th>1</th>\n",
       "      <td>5</td>\n",
       "      <td>['love', 'great', 'offer', 'good', 'selection'...</td>\n",
       "      <td>positive</td>\n",
       "      <td>[love, great, offer, good, selection, food, sh...</td>\n",
       "      <td>love great offer good selection food shopping ...</td>\n",
       "    </tr>\n",
       "    <tr>\n",
       "      <th>2</th>\n",
       "      <td>1</td>\n",
       "      <td>['disappointed', 'app', 'used', 'long', 'time'...</td>\n",
       "      <td>negative</td>\n",
       "      <td>[disappointed, app, used, long, time, service,...</td>\n",
       "      <td>disappointed app used long time service fee ke...</td>\n",
       "    </tr>\n",
       "    <tr>\n",
       "      <th>3</th>\n",
       "      <td>2</td>\n",
       "      <td>['fairly', 'easy', 'use', 'trying', 'find', 'h...</td>\n",
       "      <td>negative</td>\n",
       "      <td>[fairly, easy, use, trying, find, happening, c...</td>\n",
       "      <td>fairly easy use trying find happening contacti...</td>\n",
       "    </tr>\n",
       "    <tr>\n",
       "      <th>4</th>\n",
       "      <td>4</td>\n",
       "      <td>['like', 'fact', 'u', 'ca', 'get', 'refund', '...</td>\n",
       "      <td>positive</td>\n",
       "      <td>[like, fact, u, ca, get, refund, unless, u, ta...</td>\n",
       "      <td>like fact u ca get refund unless u take pictur...</td>\n",
       "    </tr>\n",
       "  </tbody>\n",
       "</table>\n",
       "</div>"
      ],
      "text/plain": [
       "   stars                                       cleaned_text sentiment  \\\n",
       "0      1  ['lately', 'common', 'wait', 'hour', 'food', '...  negative   \n",
       "1      5  ['love', 'great', 'offer', 'good', 'selection'...  positive   \n",
       "2      1  ['disappointed', 'app', 'used', 'long', 'time'...  negative   \n",
       "3      2  ['fairly', 'easy', 'use', 'trying', 'find', 'h...  negative   \n",
       "4      4  ['like', 'fact', 'u', 'ca', 'get', 'refund', '...  positive   \n",
       "\n",
       "                                   cleaned_text_list  \\\n",
       "0  [lately, common, wait, hour, food, passed, dri...   \n",
       "1  [love, great, offer, good, selection, food, sh...   \n",
       "2  [disappointed, app, used, long, time, service,...   \n",
       "3  [fairly, easy, use, trying, find, happening, c...   \n",
       "4  [like, fact, u, ca, get, refund, unless, u, ta...   \n",
       "\n",
       "                                    cleaned_text_str  \n",
       "0  lately common wait hour food passed driver one...  \n",
       "1  love great offer good selection food shopping ...  \n",
       "2  disappointed app used long time service fee ke...  \n",
       "3  fairly easy use trying find happening contacti...  \n",
       "4  like fact u ca get refund unless u take pictur...  "
      ]
     },
     "execution_count": 4,
     "metadata": {},
     "output_type": "execute_result"
    }
   ],
   "source": [
    "#  convert string representations of lists in 'cleaned_text' back to actual lists\n",
    "df['cleaned_text_list'] = df['cleaned_text'].apply(ast.literal_eval)\n",
    "\n",
    "# convert lists in 'cleaned_text_list' to strings\n",
    "df['cleaned_text_str'] = df['cleaned_text_list'].apply(' '.join)\n",
    "\n",
    "df.head()"
   ]
  },
  {
   "cell_type": "code",
   "execution_count": 5,
   "metadata": {},
   "outputs": [],
   "source": [
    "# initialize TF-IDF vectorizer\n",
    "vectorizer = TfidfVectorizer()"
   ]
  },
  {
   "cell_type": "code",
   "execution_count": 6,
   "metadata": {},
   "outputs": [],
   "source": [
    "# convert 'cleaned_text_str' into TF-IDF vectors\n",
    "X = vectorizer.fit_transform(df['cleaned_text_str'])\n",
    "\n",
    "# use 'sentiment' as target\n",
    "y = df['sentiment']"
   ]
  },
  {
   "cell_type": "code",
   "execution_count": 7,
   "metadata": {},
   "outputs": [],
   "source": [
    "# Define oversampling strategy\n",
    "over = RandomOverSampler(sampling_strategy='auto')\n",
    "\n",
    "# Fit and apply the transform\n",
    "X_over, y_over = over.fit_resample(X, y)\n",
    "\n",
    "# Define undersampling strategy\n",
    "under = RandomUnderSampler(sampling_strategy='auto')\n",
    "\n",
    "# Fit and apply the transform\n",
    "X_under, y_under = under.fit_resample(X, y)"
   ]
  },
  {
   "cell_type": "markdown",
   "metadata": {},
   "source": [
    "# 5. Model training <a id='model_training'></a>\n",
    "[Back to top](#table_of_contents)"
   ]
  },
  {
   "cell_type": "code",
   "execution_count": 8,
   "metadata": {},
   "outputs": [],
   "source": [
    "# split the oversampled data into training and test sets\n",
    "X_train_over, X_test_over, y_train_over, y_test_over = train_test_split(X_over, y_over, test_size=0.2, random_state=42)"
   ]
  },
  {
   "cell_type": "code",
   "execution_count": 9,
   "metadata": {},
   "outputs": [],
   "source": [
    "# split the undersampled data into training and test sets\n",
    "X_train_under, X_test_under, y_train_under, y_test_under = train_test_split(X_under, y_under, test_size=0.2, random_state=42)"
   ]
  },
  {
   "cell_type": "markdown",
   "metadata": {},
   "source": [
    "## Logistic Regression"
   ]
  },
  {
   "cell_type": "code",
   "execution_count": 10,
   "metadata": {},
   "outputs": [
    {
     "name": "stdout",
     "output_type": "stream",
     "text": [
      "Logistic Regression Metrics for Oversampled Data:\n",
      "              precision    recall  f1-score   support\n",
      "\n",
      "    negative       0.95      0.90      0.93      1209\n",
      "     neutral       0.92      1.00      0.96      1238\n",
      "    positive       0.96      0.92      0.94      1194\n",
      "\n",
      "    accuracy                           0.94      3641\n",
      "   macro avg       0.94      0.94      0.94      3641\n",
      "weighted avg       0.94      0.94      0.94      3641\n",
      "\n",
      "\n",
      "Accuracy:  0.9404009887393573\n",
      "\n",
      "Precision:  0.9414289379272077\n",
      "\n",
      "Recall:  0.9404009887393573\n",
      "\n",
      "F1 Score:  0.9400532370702503\n"
     ]
    }
   ],
   "source": [
    "# initialize and train the Logistic Regression model on the oversampled data\n",
    "lr_model_over = LogisticRegression()\n",
    "lr_model_over.fit(X_train_over, y_train_over)\n",
    "\n",
    "# make predictions on the test set\n",
    "y_pred_over = lr_model_over.predict(X_test_over)\n",
    "\n",
    "# print classification report for the oversampled data\n",
    "print(\"Logistic Regression Metrics for Oversampled Data:\")\n",
    "print(classification_report(y_test_over, y_pred_over))\n",
    "\n",
    "# print accuracy\n",
    "print(\"\\nAccuracy: \", accuracy_score(y_test_over, y_pred_over))\n",
    "\n",
    "# print precision\n",
    "print(\"\\nPrecision: \", precision_score(y_test_over, y_pred_over, average='weighted'))\n",
    "\n",
    "# print recall\n",
    "print(\"\\nRecall: \", recall_score(y_test_over, y_pred_over, average='weighted'))\n",
    "\n",
    "# print F1 score\n",
    "print(\"\\nF1 Score: \", f1_score(y_test_over, y_pred_over, average='weighted'))"
   ]
  },
  {
   "cell_type": "code",
   "execution_count": 11,
   "metadata": {},
   "outputs": [
    {
     "data": {
      "image/png": "[encoded data removed]",
      "text/plain": [
       "<Figure size 1000x700 with 2 Axes>"
      ]
     },
     "metadata": {},
     "output_type": "display_data"
    }
   ],
   "source": [
    "# Calculate the confusion matrix\n",
    "cm = confusion_matrix(y_test_over, y_pred_over)\n",
    "\n",
    "# Plot the confusion matrix\n",
    "plt.figure(figsize=(10,7))\n",
    "sns.heatmap(cm, annot=True, fmt='d', cmap='Blues')\n",
    "plt.xlabel('Predicted')\n",
    "plt.ylabel('Truth')\n",
    "plt.show()"
   ]
  },
  {
   "cell_type": "code",
   "execution_count": 12,
   "metadata": {},
   "outputs": [
    {
     "name": "stdout",
     "output_type": "stream",
     "text": [
      "\n",
      "Logistic Regression Metrics for Undersampled Data:\n",
      "              precision    recall  f1-score   support\n",
      "\n",
      "    negative       0.74      0.79      0.76        84\n",
      "     neutral       0.56      0.56      0.56        77\n",
      "    positive       0.74      0.68      0.71        73\n",
      "\n",
      "    accuracy                           0.68       234\n",
      "   macro avg       0.68      0.68      0.68       234\n",
      "weighted avg       0.68      0.68      0.68       234\n",
      "\n"
     ]
    }
   ],
   "source": [
    "# initialize and train the Logistic Regression model on the undersampled data\n",
    "lr_model_under = LogisticRegression()\n",
    "lr_model_under.fit(X_train_under, y_train_under)\n",
    "\n",
    "# make predictions on the test set\n",
    "y_pred_under = lr_model_under.predict(X_test_under)\n",
    "\n",
    "# print classification report for the undersampled data\n",
    "print(\"\\nLogistic Regression Metrics for Undersampled Data:\")\n",
    "print(classification_report(y_test_under, y_pred_under))"
   ]
  },
  {
   "cell_type": "code",
   "execution_count": 13,
   "metadata": {},
   "outputs": [
    {
     "name": "stdout",
     "output_type": "stream",
     "text": [
      "\n",
      "Accuracy:  0.6794871794871795\n",
      "\n",
      "Precision:  0.6793530146140855\n",
      "\n",
      "Recall:  0.6794871794871795\n",
      "\n",
      "F1 Score:  0.6789125435663378\n"
     ]
    }
   ],
   "source": [
    "# make predictions on the test set for undersampled data\n",
    "y_pred_under = lr_model_under.predict(X_test_under)\n",
    "\n",
    "# print accuracy\n",
    "print(\"\\nAccuracy: \", accuracy_score(y_test_under, y_pred_under))\n",
    "\n",
    "# print precision\n",
    "print(\"\\nPrecision: \", precision_score(y_test_under, y_pred_under, average='weighted'))\n",
    "\n",
    "# print recall\n",
    "print(\"\\nRecall: \", recall_score(y_test_under, y_pred_under, average='weighted'))\n",
    "\n",
    "# print F1 score\n",
    "print(\"\\nF1 Score: \", f1_score(y_test_under, y_pred_under, average='weighted'))"
   ]
  },
  {
   "cell_type": "code",
   "execution_count": 14,
   "metadata": {},
   "outputs": [
    {
     "data": {
      "image/png": "[encoded data removed]",
      "text/plain": [
       "<Figure size 1000x700 with 2 Axes>"
      ]
     },
     "metadata": {},
     "output_type": "display_data"
    }
   ],
   "source": [
    "# Calculate the confusion matrix\n",
    "cm = confusion_matrix(y_test_over, y_pred_over)\n",
    "\n",
    "# Plot the confusion matrix\n",
    "plt.figure(figsize=(10,7))\n",
    "sns.heatmap(cm, annot=True, fmt='d', cmap='Blues')\n",
    "plt.xlabel('Predicted')\n",
    "plt.ylabel('Truth')\n",
    "plt.show()"
   ]
  },
  {
   "cell_type": "markdown",
   "metadata": {},
   "source": [
    "Here are some reasons why the above has happend\n",
    "\n",
    "Loss of Information: When you undersample, you're essentially discarding potentially useful information. The randomly removed instances from the majority class could contain important information that the model needs to correctly classify new instances.\n",
    "\n",
    "Overfitting: If the minority class is very small compared to the majority class, undersampling can lead to overfitting. The model trained on the undersampled dataset might not generalize well to new, unseen data.\n",
    "\n",
    "Representation: The undersampled dataset may not adequately represent the majority class, especially if the class is not homogeneous. This can lead to a model that performs poorly on the majority class."
   ]
  },
  {
   "cell_type": "markdown",
   "metadata": {},
   "source": [
    "# Naives Bayes Models\n",
    "### Gaussian Naive Bayes Model"
   ]
  },
  {
   "cell_type": "code",
   "execution_count": 15,
   "metadata": {},
   "outputs": [
    {
     "data": {
      "text/html": [
       "<style>#sk-container-id-1 {color: black;}#sk-container-id-1 pre{padding: 0;}#sk-container-id-1 div.sk-toggleable {background-color: white;}#sk-container-id-1 label.sk-toggleable__label {cursor: pointer;display: block;width: 100%;margin-bottom: 0;padding: 0.3em;box-sizing: border-box;text-align: center;}#sk-container-id-1 label.sk-toggleable__label-arrow:before {content: \"▸\";float: left;margin-right: 0.25em;color: #696969;}#sk-container-id-1 label.sk-toggleable__label-arrow:hover:before {color: black;}#sk-container-id-1 div.sk-estimator:hover label.sk-toggleable__label-arrow:before {color: black;}#sk-container-id-1 div.sk-toggleable__content {max-height: 0;max-width: 0;overflow: hidden;text-align: left;background-color: #f0f8ff;}#sk-container-id-1 div.sk-toggleable__content pre {margin: 0.2em;color: black;border-radius: 0.25em;background-color: #f0f8ff;}#sk-container-id-1 input.sk-toggleable__control:checked~div.sk-toggleable__content {max-height: 200px;max-width: 100%;overflow: auto;}#sk-container-id-1 input.sk-toggleable__control:checked~label.sk-toggleable__label-arrow:before {content: \"▾\";}#sk-container-id-1 div.sk-estimator input.sk-toggleable__control:checked~label.sk-toggleable__label {background-color: #d4ebff;}#sk-container-id-1 div.sk-label input.sk-toggleable__control:checked~label.sk-toggleable__label {background-color: #d4ebff;}#sk-container-id-1 input.sk-hidden--visually {border: 0;clip: rect(1px 1px 1px 1px);clip: rect(1px, 1px, 1px, 1px);height: 1px;margin: -1px;overflow: hidden;padding: 0;position: absolute;width: 1px;}#sk-container-id-1 div.sk-estimator {font-family: monospace;background-color: #f0f8ff;border: 1px dotted black;border-radius: 0.25em;box-sizing: border-box;margin-bottom: 0.5em;}#sk-container-id-1 div.sk-estimator:hover {background-color: #d4ebff;}#sk-container-id-1 div.sk-parallel-item::after {content: \"\";width: 100%;border-bottom: 1px solid gray;flex-grow: 1;}#sk-container-id-1 div.sk-label:hover label.sk-toggleable__label {background-color: #d4ebff;}#sk-container-id-1 div.sk-serial::before {content: \"\";position: absolute;border-left: 1px solid gray;box-sizing: border-box;top: 0;bottom: 0;left: 50%;z-index: 0;}#sk-container-id-1 div.sk-serial {display: flex;flex-direction: column;align-items: center;background-color: white;padding-right: 0.2em;padding-left: 0.2em;position: relative;}#sk-container-id-1 div.sk-item {position: relative;z-index: 1;}#sk-container-id-1 div.sk-parallel {display: flex;align-items: stretch;justify-content: center;background-color: white;position: relative;}#sk-container-id-1 div.sk-item::before, #sk-container-id-1 div.sk-parallel-item::before {content: \"\";position: absolute;border-left: 1px solid gray;box-sizing: border-box;top: 0;bottom: 0;left: 50%;z-index: -1;}#sk-container-id-1 div.sk-parallel-item {display: flex;flex-direction: column;z-index: 1;position: relative;background-color: white;}#sk-container-id-1 div.sk-parallel-item:first-child::after {align-self: flex-end;width: 50%;}#sk-container-id-1 div.sk-parallel-item:last-child::after {align-self: flex-start;width: 50%;}#sk-container-id-1 div.sk-parallel-item:only-child::after {width: 0;}#sk-container-id-1 div.sk-dashed-wrapped {border: 1px dashed gray;margin: 0 0.4em 0.5em 0.4em;box-sizing: border-box;padding-bottom: 0.4em;background-color: white;}#sk-container-id-1 div.sk-label label {font-family: monospace;font-weight: bold;display: inline-block;line-height: 1.2em;}#sk-container-id-1 div.sk-label-container {text-align: center;}#sk-container-id-1 div.sk-container {/* jupyter's `normalize.less` sets `[hidden] { display: none; }` but bootstrap.min.css set `[hidden] { display: none !important; }` so we also need the `!important` here to be able to override the default hidden behavior on the sphinx rendered scikit-learn.org. See: https://github.com/scikit-learn/scikit-learn/issues/21755 */display: inline-block !important;position: relative;}#sk-container-id-1 div.sk-text-repr-fallback {display: none;}</style><div id=\"sk-container-id-1\" class=\"sk-top-container\"><div class=\"sk-text-repr-fallback\"><pre>GaussianNB()</pre><b>In a Jupyter environment, please rerun this cell to show the HTML representation or trust the notebook. <br />On GitHub, the HTML representation is unable to render, please try loading this page with nbviewer.org.</b></div><div class=\"sk-container\" hidden><div class=\"sk-item\"><div class=\"sk-estimator sk-toggleable\"><input class=\"sk-toggleable__control sk-hidden--visually\" id=\"sk-estimator-id-1\" type=\"checkbox\" checked><label for=\"sk-estimator-id-1\" class=\"sk-toggleable__label sk-toggleable__label-arrow\">GaussianNB</label><div class=\"sk-toggleable__content\"><pre>GaussianNB()</pre></div></div></div></div></div>"
      ],
      "text/plain": [
       "GaussianNB()"
      ]
     },
     "execution_count": 15,
     "metadata": {},
     "output_type": "execute_result"
    }
   ],
   "source": [
    "# initialize and train the Gaussian Naive Bayes model on the oversampled data\n",
    "nb_model_over = GaussianNB()\n",
    "nb_model_over.fit(X_train_over.toarray(), y_train_over)"
   ]
  },
  {
   "cell_type": "code",
   "execution_count": 16,
   "metadata": {},
   "outputs": [
    {
     "name": "stdout",
     "output_type": "stream",
     "text": [
      "\n",
      "Accuracy:  0.7797308431749519\n",
      "\n",
      "Precision:  0.8077220757830103\n",
      "\n",
      "Recall:  0.7797308431749519\n",
      "\n",
      "F1 Score:  0.7742665609602972\n",
      "Gaussian Naive Bayes Model Metrics for Oversampled Data:\n",
      "              precision    recall  f1-score   support\n",
      "\n",
      "    negative       0.94      0.75      0.83      1209\n",
      "     neutral       0.68      1.00      0.81      1238\n",
      "    positive       0.81      0.58      0.68      1194\n",
      "\n",
      "    accuracy                           0.78      3641\n",
      "   macro avg       0.81      0.78      0.77      3641\n",
      "weighted avg       0.81      0.78      0.77      3641\n",
      "\n"
     ]
    }
   ],
   "source": [
    "# make predictions on the test set\n",
    "y_pred_over = nb_model_over.predict(X_test_over.toarray())\n",
    "\n",
    "# print accuracy\n",
    "print(\"\\nAccuracy: \", accuracy_score(y_test_over, y_pred_over))\n",
    "\n",
    "# print precision\n",
    "print(\"\\nPrecision: \", precision_score(y_test_over, y_pred_over, average='weighted'))\n",
    "\n",
    "# print recall\n",
    "print(\"\\nRecall: \", recall_score(y_test_over, y_pred_over, average='weighted'))\n",
    "\n",
    "# print F1 score\n",
    "print(\"\\nF1 Score: \", f1_score(y_test_over, y_pred_over, average='weighted'))\n",
    "\n",
    "# print classification report for the oversampled data\n",
    "print(\"Gaussian Naive Bayes Model Metrics for Oversampled Data:\")\n",
    "print(classification_report(y_test_over, y_pred_over))"
   ]
  },
  {
   "cell_type": "code",
   "execution_count": 17,
   "metadata": {},
   "outputs": [
    {
     "data": {
      "image/png": "[encoded data removed]",
      "text/plain": [
       "<Figure size 1000x700 with 2 Axes>"
      ]
     },
     "metadata": {},
     "output_type": "display_data"
    }
   ],
   "source": [
    "# Calculate the confusion matrix\n",
    "cm = confusion_matrix(y_test_over, y_pred_over)\n",
    "\n",
    "# Plot the confusion matrix\n",
    "plt.figure(figsize=(10,7))\n",
    "sns.heatmap(cm, annot=True, fmt='d', cmap='Blues')\n",
    "plt.xlabel('Predicted')\n",
    "plt.ylabel('Truth')\n",
    "plt.show()"
   ]
  },
  {
   "cell_type": "markdown",
   "metadata": {},
   "source": [
    "### Multinomial Naive Bayes Model"
   ]
  },
  {
   "cell_type": "code",
   "execution_count": 18,
   "metadata": {},
   "outputs": [
    {
     "data": {
      "text/html": [
       "<style>#sk-container-id-2 {color: black;}#sk-container-id-2 pre{padding: 0;}#sk-container-id-2 div.sk-toggleable {background-color: white;}#sk-container-id-2 label.sk-toggleable__label {cursor: pointer;display: block;width: 100%;margin-bottom: 0;padding: 0.3em;box-sizing: border-box;text-align: center;}#sk-container-id-2 label.sk-toggleable__label-arrow:before {content: \"▸\";float: left;margin-right: 0.25em;color: #696969;}#sk-container-id-2 label.sk-toggleable__label-arrow:hover:before {color: black;}#sk-container-id-2 div.sk-estimator:hover label.sk-toggleable__label-arrow:before {color: black;}#sk-container-id-2 div.sk-toggleable__content {max-height: 0;max-width: 0;overflow: hidden;text-align: left;background-color: #f0f8ff;}#sk-container-id-2 div.sk-toggleable__content pre {margin: 0.2em;color: black;border-radius: 0.25em;background-color: #f0f8ff;}#sk-container-id-2 input.sk-toggleable__control:checked~div.sk-toggleable__content {max-height: 200px;max-width: 100%;overflow: auto;}#sk-container-id-2 input.sk-toggleable__control:checked~label.sk-toggleable__label-arrow:before {content: \"▾\";}#sk-container-id-2 div.sk-estimator input.sk-toggleable__control:checked~label.sk-toggleable__label {background-color: #d4ebff;}#sk-container-id-2 div.sk-label input.sk-toggleable__control:checked~label.sk-toggleable__label {background-color: #d4ebff;}#sk-container-id-2 input.sk-hidden--visually {border: 0;clip: rect(1px 1px 1px 1px);clip: rect(1px, 1px, 1px, 1px);height: 1px;margin: -1px;overflow: hidden;padding: 0;position: absolute;width: 1px;}#sk-container-id-2 div.sk-estimator {font-family: monospace;background-color: #f0f8ff;border: 1px dotted black;border-radius: 0.25em;box-sizing: border-box;margin-bottom: 0.5em;}#sk-container-id-2 div.sk-estimator:hover {background-color: #d4ebff;}#sk-container-id-2 div.sk-parallel-item::after {content: \"\";width: 100%;border-bottom: 1px solid gray;flex-grow: 1;}#sk-container-id-2 div.sk-label:hover label.sk-toggleable__label {background-color: #d4ebff;}#sk-container-id-2 div.sk-serial::before {content: \"\";position: absolute;border-left: 1px solid gray;box-sizing: border-box;top: 0;bottom: 0;left: 50%;z-index: 0;}#sk-container-id-2 div.sk-serial {display: flex;flex-direction: column;align-items: center;background-color: white;padding-right: 0.2em;padding-left: 0.2em;position: relative;}#sk-container-id-2 div.sk-item {position: relative;z-index: 1;}#sk-container-id-2 div.sk-parallel {display: flex;align-items: stretch;justify-content: center;background-color: white;position: relative;}#sk-container-id-2 div.sk-item::before, #sk-container-id-2 div.sk-parallel-item::before {content: \"\";position: absolute;border-left: 1px solid gray;box-sizing: border-box;top: 0;bottom: 0;left: 50%;z-index: -1;}#sk-container-id-2 div.sk-parallel-item {display: flex;flex-direction: column;z-index: 1;position: relative;background-color: white;}#sk-container-id-2 div.sk-parallel-item:first-child::after {align-self: flex-end;width: 50%;}#sk-container-id-2 div.sk-parallel-item:last-child::after {align-self: flex-start;width: 50%;}#sk-container-id-2 div.sk-parallel-item:only-child::after {width: 0;}#sk-container-id-2 div.sk-dashed-wrapped {border: 1px dashed gray;margin: 0 0.4em 0.5em 0.4em;box-sizing: border-box;padding-bottom: 0.4em;background-color: white;}#sk-container-id-2 div.sk-label label {font-family: monospace;font-weight: bold;display: inline-block;line-height: 1.2em;}#sk-container-id-2 div.sk-label-container {text-align: center;}#sk-container-id-2 div.sk-container {/* jupyter's `normalize.less` sets `[hidden] { display: none; }` but bootstrap.min.css set `[hidden] { display: none !important; }` so we also need the `!important` here to be able to override the default hidden behavior on the sphinx rendered scikit-learn.org. See: https://github.com/scikit-learn/scikit-learn/issues/21755 */display: inline-block !important;position: relative;}#sk-container-id-2 div.sk-text-repr-fallback {display: none;}</style><div id=\"sk-container-id-2\" class=\"sk-top-container\"><div class=\"sk-text-repr-fallback\"><pre>MultinomialNB()</pre><b>In a Jupyter environment, please rerun this cell to show the HTML representation or trust the notebook. <br />On GitHub, the HTML representation is unable to render, please try loading this page with nbviewer.org.</b></div><div class=\"sk-container\" hidden><div class=\"sk-item\"><div class=\"sk-estimator sk-toggleable\"><input class=\"sk-toggleable__control sk-hidden--visually\" id=\"sk-estimator-id-2\" type=\"checkbox\" checked><label for=\"sk-estimator-id-2\" class=\"sk-toggleable__label sk-toggleable__label-arrow\">MultinomialNB</label><div class=\"sk-toggleable__content\"><pre>MultinomialNB()</pre></div></div></div></div></div>"
      ],
      "text/plain": [
       "MultinomialNB()"
      ]
     },
     "execution_count": 18,
     "metadata": {},
     "output_type": "execute_result"
    }
   ],
   "source": [
    "# initialize and train the Multinomial Naive Bayes model on the oversampled data\n",
    "mnb_model_over = MultinomialNB()\n",
    "mnb_model_over.fit(X_train_over, y_train_over)"
   ]
  },
  {
   "cell_type": "code",
   "execution_count": 19,
   "metadata": {},
   "outputs": [
    {
     "name": "stdout",
     "output_type": "stream",
     "text": [
      "\n",
      "Accuracy:  0.897006316945894\n",
      "\n",
      "Precision:  0.9014869370958282\n",
      "\n",
      "Recall:  0.897006316945894\n",
      "\n",
      "F1 Score:  0.8973595099987592\n",
      "Multinomial Naive Bayes Model Metrics for Oversampled Data:\n",
      "              precision    recall  f1-score   support\n",
      "\n",
      "    negative       0.89      0.89      0.89      1209\n",
      "     neutral       0.85      0.94      0.89      1238\n",
      "    positive       0.97      0.86      0.91      1194\n",
      "\n",
      "    accuracy                           0.90      3641\n",
      "   macro avg       0.90      0.90      0.90      3641\n",
      "weighted avg       0.90      0.90      0.90      3641\n",
      "\n"
     ]
    }
   ],
   "source": [
    "# make predictions on the test set\n",
    "y_pred_over = mnb_model_over.predict(X_test_over)\n",
    "\n",
    "# print accuracy\n",
    "print(\"\\nAccuracy: \", accuracy_score(y_test_over, y_pred_over))\n",
    "\n",
    "# print precision\n",
    "print(\"\\nPrecision: \", precision_score(y_test_over, y_pred_over, average='weighted'))\n",
    "\n",
    "# print recall\n",
    "print(\"\\nRecall: \", recall_score(y_test_over, y_pred_over, average='weighted'))\n",
    "\n",
    "# print F1 score\n",
    "print(\"\\nF1 Score: \", f1_score(y_test_over, y_pred_over, average='weighted'))\n",
    "\n",
    "print(\"Multinomial Naive Bayes Model Metrics for Oversampled Data:\")\n",
    "print(classification_report(y_test_over, y_pred_over))"
   ]
  },
  {
   "cell_type": "code",
   "execution_count": 20,
   "metadata": {},
   "outputs": [
    {
     "data": {
      "image/png": "[encoded data removed]",
      "text/plain": [
       "<Figure size 1000x700 with 2 Axes>"
      ]
     },
     "metadata": {},
     "output_type": "display_data"
    }
   ],
   "source": [
    "# Calculate the confusion matrix\n",
    "cm = confusion_matrix(y_test_over, y_pred_over)\n",
    "\n",
    "# Plot the confusion matrix\n",
    "plt.figure(figsize=(10,7))\n",
    "sns.heatmap(cm, annot=True, fmt='d', cmap='Blues')\n",
    "plt.xlabel('Predicted')\n",
    "plt.ylabel('Truth')\n",
    "plt.show()"
   ]
  },
  {
   "cell_type": "markdown",
   "metadata": {},
   "source": [
    "### Bernoulli Naive Bayes Model"
   ]
  },
  {
   "cell_type": "code",
   "execution_count": 21,
   "metadata": {},
   "outputs": [
    {
     "data": {
      "text/html": [
       "<style>#sk-container-id-3 {color: black;}#sk-container-id-3 pre{padding: 0;}#sk-container-id-3 div.sk-toggleable {background-color: white;}#sk-container-id-3 label.sk-toggleable__label {cursor: pointer;display: block;width: 100%;margin-bottom: 0;padding: 0.3em;box-sizing: border-box;text-align: center;}#sk-container-id-3 label.sk-toggleable__label-arrow:before {content: \"▸\";float: left;margin-right: 0.25em;color: #696969;}#sk-container-id-3 label.sk-toggleable__label-arrow:hover:before {color: black;}#sk-container-id-3 div.sk-estimator:hover label.sk-toggleable__label-arrow:before {color: black;}#sk-container-id-3 div.sk-toggleable__content {max-height: 0;max-width: 0;overflow: hidden;text-align: left;background-color: #f0f8ff;}#sk-container-id-3 div.sk-toggleable__content pre {margin: 0.2em;color: black;border-radius: 0.25em;background-color: #f0f8ff;}#sk-container-id-3 input.sk-toggleable__control:checked~div.sk-toggleable__content {max-height: 200px;max-width: 100%;overflow: auto;}#sk-container-id-3 input.sk-toggleable__control:checked~label.sk-toggleable__label-arrow:before {content: \"▾\";}#sk-container-id-3 div.sk-estimator input.sk-toggleable__control:checked~label.sk-toggleable__label {background-color: #d4ebff;}#sk-container-id-3 div.sk-label input.sk-toggleable__control:checked~label.sk-toggleable__label {background-color: #d4ebff;}#sk-container-id-3 input.sk-hidden--visually {border: 0;clip: rect(1px 1px 1px 1px);clip: rect(1px, 1px, 1px, 1px);height: 1px;margin: -1px;overflow: hidden;padding: 0;position: absolute;width: 1px;}#sk-container-id-3 div.sk-estimator {font-family: monospace;background-color: #f0f8ff;border: 1px dotted black;border-radius: 0.25em;box-sizing: border-box;margin-bottom: 0.5em;}#sk-container-id-3 div.sk-estimator:hover {background-color: #d4ebff;}#sk-container-id-3 div.sk-parallel-item::after {content: \"\";width: 100%;border-bottom: 1px solid gray;flex-grow: 1;}#sk-container-id-3 div.sk-label:hover label.sk-toggleable__label {background-color: #d4ebff;}#sk-container-id-3 div.sk-serial::before {content: \"\";position: absolute;border-left: 1px solid gray;box-sizing: border-box;top: 0;bottom: 0;left: 50%;z-index: 0;}#sk-container-id-3 div.sk-serial {display: flex;flex-direction: column;align-items: center;background-color: white;padding-right: 0.2em;padding-left: 0.2em;position: relative;}#sk-container-id-3 div.sk-item {position: relative;z-index: 1;}#sk-container-id-3 div.sk-parallel {display: flex;align-items: stretch;justify-content: center;background-color: white;position: relative;}#sk-container-id-3 div.sk-item::before, #sk-container-id-3 div.sk-parallel-item::before {content: \"\";position: absolute;border-left: 1px solid gray;box-sizing: border-box;top: 0;bottom: 0;left: 50%;z-index: -1;}#sk-container-id-3 div.sk-parallel-item {display: flex;flex-direction: column;z-index: 1;position: relative;background-color: white;}#sk-container-id-3 div.sk-parallel-item:first-child::after {align-self: flex-end;width: 50%;}#sk-container-id-3 div.sk-parallel-item:last-child::after {align-self: flex-start;width: 50%;}#sk-container-id-3 div.sk-parallel-item:only-child::after {width: 0;}#sk-container-id-3 div.sk-dashed-wrapped {border: 1px dashed gray;margin: 0 0.4em 0.5em 0.4em;box-sizing: border-box;padding-bottom: 0.4em;background-color: white;}#sk-container-id-3 div.sk-label label {font-family: monospace;font-weight: bold;display: inline-block;line-height: 1.2em;}#sk-container-id-3 div.sk-label-container {text-align: center;}#sk-container-id-3 div.sk-container {/* jupyter's `normalize.less` sets `[hidden] { display: none; }` but bootstrap.min.css set `[hidden] { display: none !important; }` so we also need the `!important` here to be able to override the default hidden behavior on the sphinx rendered scikit-learn.org. See: https://github.com/scikit-learn/scikit-learn/issues/21755 */display: inline-block !important;position: relative;}#sk-container-id-3 div.sk-text-repr-fallback {display: none;}</style><div id=\"sk-container-id-3\" class=\"sk-top-container\"><div class=\"sk-text-repr-fallback\"><pre>BernoulliNB()</pre><b>In a Jupyter environment, please rerun this cell to show the HTML representation or trust the notebook. <br />On GitHub, the HTML representation is unable to render, please try loading this page with nbviewer.org.</b></div><div class=\"sk-container\" hidden><div class=\"sk-item\"><div class=\"sk-estimator sk-toggleable\"><input class=\"sk-toggleable__control sk-hidden--visually\" id=\"sk-estimator-id-3\" type=\"checkbox\" checked><label for=\"sk-estimator-id-3\" class=\"sk-toggleable__label sk-toggleable__label-arrow\">BernoulliNB</label><div class=\"sk-toggleable__content\"><pre>BernoulliNB()</pre></div></div></div></div></div>"
      ],
      "text/plain": [
       "BernoulliNB()"
      ]
     },
     "execution_count": 21,
     "metadata": {},
     "output_type": "execute_result"
    }
   ],
   "source": [
    "# initialize and train the Bernoulli Naive Bayes model on the oversampled data\n",
    "bnb_model_over = BernoulliNB()\n",
    "bnb_model_over.fit(X_train_over, y_train_over)"
   ]
  },
  {
   "cell_type": "code",
   "execution_count": 22,
   "metadata": {},
   "outputs": [
    {
     "name": "stdout",
     "output_type": "stream",
     "text": [
      "\n",
      "Accuracy:  0.82834386157649\n",
      "\n",
      "Precision:  0.8371522570538704\n",
      "\n",
      "Recall:  0.82834386157649\n",
      "\n",
      "F1 Score:  0.8284573695916609\n",
      "Bernoulli Naive Bayes Model Metrics for Oversampled Data:\n",
      "              precision    recall  f1-score   support\n",
      "\n",
      "    negative       0.91      0.77      0.83      1209\n",
      "     neutral       0.84      0.81      0.83      1238\n",
      "    positive       0.76      0.91      0.83      1194\n",
      "\n",
      "    accuracy                           0.83      3641\n",
      "   macro avg       0.84      0.83      0.83      3641\n",
      "weighted avg       0.84      0.83      0.83      3641\n",
      "\n"
     ]
    }
   ],
   "source": [
    "# make predictions on the test set\n",
    "y_pred_over = bnb_model_over.predict(X_test_over)\n",
    "\n",
    "# print accuracy\n",
    "print(\"\\nAccuracy: \", accuracy_score(y_test_over, y_pred_over))\n",
    "\n",
    "# print precision\n",
    "print(\"\\nPrecision: \", precision_score(y_test_over, y_pred_over, average='weighted'))\n",
    "\n",
    "# print recall\n",
    "print(\"\\nRecall: \", recall_score(y_test_over, y_pred_over, average='weighted'))\n",
    "\n",
    "# print F1 score\n",
    "print(\"\\nF1 Score: \", f1_score(y_test_over, y_pred_over, average='weighted'))\n",
    "\n",
    "print(\"Bernoulli Naive Bayes Model Metrics for Oversampled Data:\")\n",
    "print(classification_report(y_test_over, y_pred_over))"
   ]
  },
  {
   "cell_type": "code",
   "execution_count": 23,
   "metadata": {},
   "outputs": [
    {
     "data": {
      "image/png": "[encoded data removed]",
      "text/plain": [
       "<Figure size 1000x700 with 2 Axes>"
      ]
     },
     "metadata": {},
     "output_type": "display_data"
    }
   ],
   "source": [
    "# Calculate the confusion matrix\n",
    "cm = confusion_matrix(y_test_over, y_pred_over)\n",
    "\n",
    "# Plot the confusion matrix\n",
    "plt.figure(figsize=(10,7))\n",
    "sns.heatmap(cm, annot=True, fmt='d', cmap='Blues')\n",
    "plt.xlabel('Predicted')\n",
    "plt.ylabel('Truth')\n",
    "plt.show()"
   ]
  },
  {
   "cell_type": "markdown",
   "metadata": {},
   "source": [
    "## SVM Model"
   ]
  },
  {
   "cell_type": "code",
   "execution_count": 24,
   "metadata": {},
   "outputs": [
    {
     "data": {
      "text/html": [
       "<style>#sk-container-id-4 {color: black;}#sk-container-id-4 pre{padding: 0;}#sk-container-id-4 div.sk-toggleable {background-color: white;}#sk-container-id-4 label.sk-toggleable__label {cursor: pointer;display: block;width: 100%;margin-bottom: 0;padding: 0.3em;box-sizing: border-box;text-align: center;}#sk-container-id-4 label.sk-toggleable__label-arrow:before {content: \"▸\";float: left;margin-right: 0.25em;color: #696969;}#sk-container-id-4 label.sk-toggleable__label-arrow:hover:before {color: black;}#sk-container-id-4 div.sk-estimator:hover label.sk-toggleable__label-arrow:before {color: black;}#sk-container-id-4 div.sk-toggleable__content {max-height: 0;max-width: 0;overflow: hidden;text-align: left;background-color: #f0f8ff;}#sk-container-id-4 div.sk-toggleable__content pre {margin: 0.2em;color: black;border-radius: 0.25em;background-color: #f0f8ff;}#sk-container-id-4 input.sk-toggleable__control:checked~div.sk-toggleable__content {max-height: 200px;max-width: 100%;overflow: auto;}#sk-container-id-4 input.sk-toggleable__control:checked~label.sk-toggleable__label-arrow:before {content: \"▾\";}#sk-container-id-4 div.sk-estimator input.sk-toggleable__control:checked~label.sk-toggleable__label {background-color: #d4ebff;}#sk-container-id-4 div.sk-label input.sk-toggleable__control:checked~label.sk-toggleable__label {background-color: #d4ebff;}#sk-container-id-4 input.sk-hidden--visually {border: 0;clip: rect(1px 1px 1px 1px);clip: rect(1px, 1px, 1px, 1px);height: 1px;margin: -1px;overflow: hidden;padding: 0;position: absolute;width: 1px;}#sk-container-id-4 div.sk-estimator {font-family: monospace;background-color: #f0f8ff;border: 1px dotted black;border-radius: 0.25em;box-sizing: border-box;margin-bottom: 0.5em;}#sk-container-id-4 div.sk-estimator:hover {background-color: #d4ebff;}#sk-container-id-4 div.sk-parallel-item::after {content: \"\";width: 100%;border-bottom: 1px solid gray;flex-grow: 1;}#sk-container-id-4 div.sk-label:hover label.sk-toggleable__label {background-color: #d4ebff;}#sk-container-id-4 div.sk-serial::before {content: \"\";position: absolute;border-left: 1px solid gray;box-sizing: border-box;top: 0;bottom: 0;left: 50%;z-index: 0;}#sk-container-id-4 div.sk-serial {display: flex;flex-direction: column;align-items: center;background-color: white;padding-right: 0.2em;padding-left: 0.2em;position: relative;}#sk-container-id-4 div.sk-item {position: relative;z-index: 1;}#sk-container-id-4 div.sk-parallel {display: flex;align-items: stretch;justify-content: center;background-color: white;position: relative;}#sk-container-id-4 div.sk-item::before, #sk-container-id-4 div.sk-parallel-item::before {content: \"\";position: absolute;border-left: 1px solid gray;box-sizing: border-box;top: 0;bottom: 0;left: 50%;z-index: -1;}#sk-container-id-4 div.sk-parallel-item {display: flex;flex-direction: column;z-index: 1;position: relative;background-color: white;}#sk-container-id-4 div.sk-parallel-item:first-child::after {align-self: flex-end;width: 50%;}#sk-container-id-4 div.sk-parallel-item:last-child::after {align-self: flex-start;width: 50%;}#sk-container-id-4 div.sk-parallel-item:only-child::after {width: 0;}#sk-container-id-4 div.sk-dashed-wrapped {border: 1px dashed gray;margin: 0 0.4em 0.5em 0.4em;box-sizing: border-box;padding-bottom: 0.4em;background-color: white;}#sk-container-id-4 div.sk-label label {font-family: monospace;font-weight: bold;display: inline-block;line-height: 1.2em;}#sk-container-id-4 div.sk-label-container {text-align: center;}#sk-container-id-4 div.sk-container {/* jupyter's `normalize.less` sets `[hidden] { display: none; }` but bootstrap.min.css set `[hidden] { display: none !important; }` so we also need the `!important` here to be able to override the default hidden behavior on the sphinx rendered scikit-learn.org. See: https://github.com/scikit-learn/scikit-learn/issues/21755 */display: inline-block !important;position: relative;}#sk-container-id-4 div.sk-text-repr-fallback {display: none;}</style><div id=\"sk-container-id-4\" class=\"sk-top-container\"><div class=\"sk-text-repr-fallback\"><pre>SVC(probability=True)</pre><b>In a Jupyter environment, please rerun this cell to show the HTML representation or trust the notebook. <br />On GitHub, the HTML representation is unable to render, please try loading this page with nbviewer.org.</b></div><div class=\"sk-container\" hidden><div class=\"sk-item\"><div class=\"sk-estimator sk-toggleable\"><input class=\"sk-toggleable__control sk-hidden--visually\" id=\"sk-estimator-id-4\" type=\"checkbox\" checked><label for=\"sk-estimator-id-4\" class=\"sk-toggleable__label sk-toggleable__label-arrow\">SVC</label><div class=\"sk-toggleable__content\"><pre>SVC(probability=True)</pre></div></div></div></div></div>"
      ],
      "text/plain": [
       "SVC(probability=True)"
      ]
     },
     "execution_count": 24,
     "metadata": {},
     "output_type": "execute_result"
    }
   ],
   "source": [
    "# initialize and train the SVM model on the oversampled data\n",
    "svm_model_over = SVC(probability=True)\n",
    "svm_model_over.fit(X_train_over, y_train_over)"
   ]
  },
  {
   "cell_type": "code",
   "execution_count": 25,
   "metadata": {},
   "outputs": [
    {
     "name": "stdout",
     "output_type": "stream",
     "text": [
      "\n",
      "Accuracy:  0.9785773139247459\n",
      "\n",
      "Precision:  0.9786302732544471\n",
      "\n",
      "Recall:  0.9785773139247459\n",
      "\n",
      "F1 Score:  0.9785754734903481\n",
      "SVM Model Metrics for Oversampled Data:\n",
      "              precision    recall  f1-score   support\n",
      "\n",
      "    negative       0.96      0.97      0.97      1209\n",
      "     neutral       1.00      1.00      1.00      1238\n",
      "    positive       0.97      0.96      0.97      1194\n",
      "\n",
      "    accuracy                           0.98      3641\n",
      "   macro avg       0.98      0.98      0.98      3641\n",
      "weighted avg       0.98      0.98      0.98      3641\n",
      "\n"
     ]
    }
   ],
   "source": [
    "# make predictions on the test set\n",
    "y_pred_over = svm_model_over.predict(X_test_over)\n",
    "\n",
    "# print accuracy\n",
    "print(\"\\nAccuracy: \", accuracy_score(y_test_over, y_pred_over))\n",
    "\n",
    "# print precision\n",
    "print(\"\\nPrecision: \", precision_score(y_test_over, y_pred_over, average='weighted'))\n",
    "\n",
    "# print recall\n",
    "print(\"\\nRecall: \", recall_score(y_test_over, y_pred_over, average='weighted'))\n",
    "\n",
    "# print F1 score\n",
    "print(\"\\nF1 Score: \", f1_score(y_test_over, y_pred_over, average='weighted'))\n",
    "\n",
    "print(\"SVM Model Metrics for Oversampled Data:\")\n",
    "print(classification_report(y_test_over, y_pred_over))"
   ]
  },
  {
   "cell_type": "code",
   "execution_count": 26,
   "metadata": {},
   "outputs": [
    {
     "data": {
      "image/png": "[encoded data removed]",
      "text/plain": [
       "<Figure size 1000x700 with 2 Axes>"
      ]
     },
     "metadata": {},
     "output_type": "display_data"
    }
   ],
   "source": [
    "# Calculate the confusion matrix\n",
    "cm = confusion_matrix(y_test_over, y_pred_over)\n",
    "\n",
    "# Plot the confusion matrix\n",
    "plt.figure(figsize=(10,7))\n",
    "sns.heatmap(cm, annot=True, fmt='d', cmap='Blues')\n",
    "plt.xlabel('Predicted')\n",
    "plt.ylabel('Truth')\n",
    "plt.show()"
   ]
  },
  {
   "cell_type": "markdown",
   "metadata": {},
   "source": [
    "## Decision Tree Model"
   ]
  },
  {
   "cell_type": "code",
   "execution_count": 27,
   "metadata": {},
   "outputs": [
    {
     "data": {
      "text/html": [
       "<style>#sk-container-id-5 {color: black;}#sk-container-id-5 pre{padding: 0;}#sk-container-id-5 div.sk-toggleable {background-color: white;}#sk-container-id-5 label.sk-toggleable__label {cursor: pointer;display: block;width: 100%;margin-bottom: 0;padding: 0.3em;box-sizing: border-box;text-align: center;}#sk-container-id-5 label.sk-toggleable__label-arrow:before {content: \"▸\";float: left;margin-right: 0.25em;color: #696969;}#sk-container-id-5 label.sk-toggleable__label-arrow:hover:before {color: black;}#sk-container-id-5 div.sk-estimator:hover label.sk-toggleable__label-arrow:before {color: black;}#sk-container-id-5 div.sk-toggleable__content {max-height: 0;max-width: 0;overflow: hidden;text-align: left;background-color: #f0f8ff;}#sk-container-id-5 div.sk-toggleable__content pre {margin: 0.2em;color: black;border-radius: 0.25em;background-color: #f0f8ff;}#sk-container-id-5 input.sk-toggleable__control:checked~div.sk-toggleable__content {max-height: 200px;max-width: 100%;overflow: auto;}#sk-container-id-5 input.sk-toggleable__control:checked~label.sk-toggleable__label-arrow:before {content: \"▾\";}#sk-container-id-5 div.sk-estimator input.sk-toggleable__control:checked~label.sk-toggleable__label {background-color: #d4ebff;}#sk-container-id-5 div.sk-label input.sk-toggleable__control:checked~label.sk-toggleable__label {background-color: #d4ebff;}#sk-container-id-5 input.sk-hidden--visually {border: 0;clip: rect(1px 1px 1px 1px);clip: rect(1px, 1px, 1px, 1px);height: 1px;margin: -1px;overflow: hidden;padding: 0;position: absolute;width: 1px;}#sk-container-id-5 div.sk-estimator {font-family: monospace;background-color: #f0f8ff;border: 1px dotted black;border-radius: 0.25em;box-sizing: border-box;margin-bottom: 0.5em;}#sk-container-id-5 div.sk-estimator:hover {background-color: #d4ebff;}#sk-container-id-5 div.sk-parallel-item::after {content: \"\";width: 100%;border-bottom: 1px solid gray;flex-grow: 1;}#sk-container-id-5 div.sk-label:hover label.sk-toggleable__label {background-color: #d4ebff;}#sk-container-id-5 div.sk-serial::before {content: \"\";position: absolute;border-left: 1px solid gray;box-sizing: border-box;top: 0;bottom: 0;left: 50%;z-index: 0;}#sk-container-id-5 div.sk-serial {display: flex;flex-direction: column;align-items: center;background-color: white;padding-right: 0.2em;padding-left: 0.2em;position: relative;}#sk-container-id-5 div.sk-item {position: relative;z-index: 1;}#sk-container-id-5 div.sk-parallel {display: flex;align-items: stretch;justify-content: center;background-color: white;position: relative;}#sk-container-id-5 div.sk-item::before, #sk-container-id-5 div.sk-parallel-item::before {content: \"\";position: absolute;border-left: 1px solid gray;box-sizing: border-box;top: 0;bottom: 0;left: 50%;z-index: -1;}#sk-container-id-5 div.sk-parallel-item {display: flex;flex-direction: column;z-index: 1;position: relative;background-color: white;}#sk-container-id-5 div.sk-parallel-item:first-child::after {align-self: flex-end;width: 50%;}#sk-container-id-5 div.sk-parallel-item:last-child::after {align-self: flex-start;width: 50%;}#sk-container-id-5 div.sk-parallel-item:only-child::after {width: 0;}#sk-container-id-5 div.sk-dashed-wrapped {border: 1px dashed gray;margin: 0 0.4em 0.5em 0.4em;box-sizing: border-box;padding-bottom: 0.4em;background-color: white;}#sk-container-id-5 div.sk-label label {font-family: monospace;font-weight: bold;display: inline-block;line-height: 1.2em;}#sk-container-id-5 div.sk-label-container {text-align: center;}#sk-container-id-5 div.sk-container {/* jupyter's `normalize.less` sets `[hidden] { display: none; }` but bootstrap.min.css set `[hidden] { display: none !important; }` so we also need the `!important` here to be able to override the default hidden behavior on the sphinx rendered scikit-learn.org. See: https://github.com/scikit-learn/scikit-learn/issues/21755 */display: inline-block !important;position: relative;}#sk-container-id-5 div.sk-text-repr-fallback {display: none;}</style><div id=\"sk-container-id-5\" class=\"sk-top-container\"><div class=\"sk-text-repr-fallback\"><pre>DecisionTreeClassifier()</pre><b>In a Jupyter environment, please rerun this cell to show the HTML representation or trust the notebook. <br />On GitHub, the HTML representation is unable to render, please try loading this page with nbviewer.org.</b></div><div class=\"sk-container\" hidden><div class=\"sk-item\"><div class=\"sk-estimator sk-toggleable\"><input class=\"sk-toggleable__control sk-hidden--visually\" id=\"sk-estimator-id-5\" type=\"checkbox\" checked><label for=\"sk-estimator-id-5\" class=\"sk-toggleable__label sk-toggleable__label-arrow\">DecisionTreeClassifier</label><div class=\"sk-toggleable__content\"><pre>DecisionTreeClassifier()</pre></div></div></div></div></div>"
      ],
      "text/plain": [
       "DecisionTreeClassifier()"
      ]
     },
     "execution_count": 27,
     "metadata": {},
     "output_type": "execute_result"
    }
   ],
   "source": [
    "# initialize and train the Decision Tree model on the oversampled data\n",
    "dt_model_over = DecisionTreeClassifier()\n",
    "dt_model_over.fit(X_train_over, y_train_over)"
   ]
  },
  {
   "cell_type": "code",
   "execution_count": 28,
   "metadata": {},
   "outputs": [
    {
     "name": "stdout",
     "output_type": "stream",
     "text": [
      "\n",
      "Accuracy:  0.9236473496292228\n",
      "\n",
      "Precision:  0.9249607065395726\n",
      "\n",
      "Recall:  0.9236473496292228\n",
      "\n",
      "F1 Score:  0.922305252579558\n",
      "Decision Tree Model Metrics for Oversampled Data:\n",
      "              precision    recall  f1-score   support\n",
      "\n",
      "    negative       0.95      0.83      0.88      1209\n",
      "     neutral       0.92      1.00      0.96      1238\n",
      "    positive       0.90      0.94      0.92      1194\n",
      "\n",
      "    accuracy                           0.92      3641\n",
      "   macro avg       0.92      0.92      0.92      3641\n",
      "weighted avg       0.92      0.92      0.92      3641\n",
      "\n"
     ]
    }
   ],
   "source": [
    "# make predictions on the test set\n",
    "y_pred_over = dt_model_over.predict(X_test_over)\n",
    "\n",
    "# print accuracy\n",
    "print(\"\\nAccuracy: \", accuracy_score(y_test_over, y_pred_over))\n",
    "\n",
    "# print precision\n",
    "print(\"\\nPrecision: \", precision_score(y_test_over, y_pred_over, average='weighted'))\n",
    "\n",
    "# print recall\n",
    "print(\"\\nRecall: \", recall_score(y_test_over, y_pred_over, average='weighted'))\n",
    "\n",
    "# print F1 score\n",
    "print(\"\\nF1 Score: \", f1_score(y_test_over, y_pred_over, average='weighted'))\n",
    "\n",
    "print(\"Decision Tree Model Metrics for Oversampled Data:\")\n",
    "print(classification_report(y_test_over, y_pred_over))"
   ]
  },
  {
   "cell_type": "code",
   "execution_count": 29,
   "metadata": {},
   "outputs": [
    {
     "data": {
      "image/png": "[encoded data removed]",
      "text/plain": [
       "<Figure size 1000x700 with 2 Axes>"
      ]
     },
     "metadata": {},
     "output_type": "display_data"
    }
   ],
   "source": [
    "# Calculate the confusion matrix\n",
    "cm = confusion_matrix(y_test_over, y_pred_over)\n",
    "\n",
    "# Plot the confusion matrix\n",
    "plt.figure(figsize=(10,7))\n",
    "sns.heatmap(cm, annot=True, fmt='d', cmap='Blues')\n",
    "plt.xlabel('Predicted')\n",
    "plt.ylabel('Truth')\n",
    "plt.show()"
   ]
  },
  {
   "cell_type": "markdown",
   "metadata": {},
   "source": [
    "## Random Forest Model"
   ]
  },
  {
   "cell_type": "code",
   "execution_count": 30,
   "metadata": {},
   "outputs": [
    {
     "data": {
      "text/html": [
       "<style>#sk-container-id-6 {color: black;}#sk-container-id-6 pre{padding: 0;}#sk-container-id-6 div.sk-toggleable {background-color: white;}#sk-container-id-6 label.sk-toggleable__label {cursor: pointer;display: block;width: 100%;margin-bottom: 0;padding: 0.3em;box-sizing: border-box;text-align: center;}#sk-container-id-6 label.sk-toggleable__label-arrow:before {content: \"▸\";float: left;margin-right: 0.25em;color: #696969;}#sk-container-id-6 label.sk-toggleable__label-arrow:hover:before {color: black;}#sk-container-id-6 div.sk-estimator:hover label.sk-toggleable__label-arrow:before {color: black;}#sk-container-id-6 div.sk-toggleable__content {max-height: 0;max-width: 0;overflow: hidden;text-align: left;background-color: #f0f8ff;}#sk-container-id-6 div.sk-toggleable__content pre {margin: 0.2em;color: black;border-radius: 0.25em;background-color: #f0f8ff;}#sk-container-id-6 input.sk-toggleable__control:checked~div.sk-toggleable__content {max-height: 200px;max-width: 100%;overflow: auto;}#sk-container-id-6 input.sk-toggleable__control:checked~label.sk-toggleable__label-arrow:before {content: \"▾\";}#sk-container-id-6 div.sk-estimator input.sk-toggleable__control:checked~label.sk-toggleable__label {background-color: #d4ebff;}#sk-container-id-6 div.sk-label input.sk-toggleable__control:checked~label.sk-toggleable__label {background-color: #d4ebff;}#sk-container-id-6 input.sk-hidden--visually {border: 0;clip: rect(1px 1px 1px 1px);clip: rect(1px, 1px, 1px, 1px);height: 1px;margin: -1px;overflow: hidden;padding: 0;position: absolute;width: 1px;}#sk-container-id-6 div.sk-estimator {font-family: monospace;background-color: #f0f8ff;border: 1px dotted black;border-radius: 0.25em;box-sizing: border-box;margin-bottom: 0.5em;}#sk-container-id-6 div.sk-estimator:hover {background-color: #d4ebff;}#sk-container-id-6 div.sk-parallel-item::after {content: \"\";width: 100%;border-bottom: 1px solid gray;flex-grow: 1;}#sk-container-id-6 div.sk-label:hover label.sk-toggleable__label {background-color: #d4ebff;}#sk-container-id-6 div.sk-serial::before {content: \"\";position: absolute;border-left: 1px solid gray;box-sizing: border-box;top: 0;bottom: 0;left: 50%;z-index: 0;}#sk-container-id-6 div.sk-serial {display: flex;flex-direction: column;align-items: center;background-color: white;padding-right: 0.2em;padding-left: 0.2em;position: relative;}#sk-container-id-6 div.sk-item {position: relative;z-index: 1;}#sk-container-id-6 div.sk-parallel {display: flex;align-items: stretch;justify-content: center;background-color: white;position: relative;}#sk-container-id-6 div.sk-item::before, #sk-container-id-6 div.sk-parallel-item::before {content: \"\";position: absolute;border-left: 1px solid gray;box-sizing: border-box;top: 0;bottom: 0;left: 50%;z-index: -1;}#sk-container-id-6 div.sk-parallel-item {display: flex;flex-direction: column;z-index: 1;position: relative;background-color: white;}#sk-container-id-6 div.sk-parallel-item:first-child::after {align-self: flex-end;width: 50%;}#sk-container-id-6 div.sk-parallel-item:last-child::after {align-self: flex-start;width: 50%;}#sk-container-id-6 div.sk-parallel-item:only-child::after {width: 0;}#sk-container-id-6 div.sk-dashed-wrapped {border: 1px dashed gray;margin: 0 0.4em 0.5em 0.4em;box-sizing: border-box;padding-bottom: 0.4em;background-color: white;}#sk-container-id-6 div.sk-label label {font-family: monospace;font-weight: bold;display: inline-block;line-height: 1.2em;}#sk-container-id-6 div.sk-label-container {text-align: center;}#sk-container-id-6 div.sk-container {/* jupyter's `normalize.less` sets `[hidden] { display: none; }` but bootstrap.min.css set `[hidden] { display: none !important; }` so we also need the `!important` here to be able to override the default hidden behavior on the sphinx rendered scikit-learn.org. See: https://github.com/scikit-learn/scikit-learn/issues/21755 */display: inline-block !important;position: relative;}#sk-container-id-6 div.sk-text-repr-fallback {display: none;}</style><div id=\"sk-container-id-6\" class=\"sk-top-container\"><div class=\"sk-text-repr-fallback\"><pre>RandomForestClassifier()</pre><b>In a Jupyter environment, please rerun this cell to show the HTML representation or trust the notebook. <br />On GitHub, the HTML representation is unable to render, please try loading this page with nbviewer.org.</b></div><div class=\"sk-container\" hidden><div class=\"sk-item\"><div class=\"sk-estimator sk-toggleable\"><input class=\"sk-toggleable__control sk-hidden--visually\" id=\"sk-estimator-id-6\" type=\"checkbox\" checked><label for=\"sk-estimator-id-6\" class=\"sk-toggleable__label sk-toggleable__label-arrow\">RandomForestClassifier</label><div class=\"sk-toggleable__content\"><pre>RandomForestClassifier()</pre></div></div></div></div></div>"
      ],
      "text/plain": [
       "RandomForestClassifier()"
      ]
     },
     "execution_count": 30,
     "metadata": {},
     "output_type": "execute_result"
    }
   ],
   "source": [
    "# initialize and train the Random Forest model on the oversampled data\n",
    "rf_model_over = RandomForestClassifier()\n",
    "rf_model_over.fit(X_train_over, y_train_over)"
   ]
  },
  {
   "cell_type": "code",
   "execution_count": 31,
   "metadata": {},
   "outputs": [
    {
     "name": "stdout",
     "output_type": "stream",
     "text": [
      "\n",
      "Accuracy:  0.9725350178522384\n",
      "\n",
      "Precision:  0.9725417068546246\n",
      "\n",
      "Recall:  0.9725350178522384\n",
      "\n",
      "F1 Score:  0.9725344185091609\n",
      "Random Forest Model Metrics for Oversampled Data:\n",
      "              precision    recall  f1-score   support\n",
      "\n",
      "    negative       0.96      0.96      0.96      1209\n",
      "     neutral       1.00      1.00      1.00      1238\n",
      "    positive       0.96      0.96      0.96      1194\n",
      "\n",
      "    accuracy                           0.97      3641\n",
      "   macro avg       0.97      0.97      0.97      3641\n",
      "weighted avg       0.97      0.97      0.97      3641\n",
      "\n"
     ]
    }
   ],
   "source": [
    "# make predictions on the test set\n",
    "y_pred_over = rf_model_over.predict(X_test_over)\n",
    "\n",
    "# print accuracy\n",
    "print(\"\\nAccuracy: \", accuracy_score(y_test_over, y_pred_over))\n",
    "\n",
    "# print precision\n",
    "print(\"\\nPrecision: \", precision_score(y_test_over, y_pred_over, average='weighted'))\n",
    "\n",
    "# print recall\n",
    "print(\"\\nRecall: \", recall_score(y_test_over, y_pred_over, average='weighted'))\n",
    "\n",
    "# print F1 score\n",
    "print(\"\\nF1 Score: \", f1_score(y_test_over, y_pred_over, average='weighted'))\n",
    "\n",
    "print(\"Random Forest Model Metrics for Oversampled Data:\")\n",
    "print(classification_report(y_test_over, y_pred_over))"
   ]
  },
  {
   "cell_type": "code",
   "execution_count": 32,
   "metadata": {},
   "outputs": [
    {
     "data": {
      "image/png": "[encoded data removed]",
      "text/plain": [
       "<Figure size 1000x700 with 2 Axes>"
      ]
     },
     "metadata": {},
     "output_type": "display_data"
    }
   ],
   "source": [
    "# Calculate the confusion matrix\n",
    "cm = confusion_matrix(y_test_over, y_pred_over)\n",
    "\n",
    "# Plot the confusion matrix\n",
    "plt.figure(figsize=(10,7))\n",
    "sns.heatmap(cm, annot=True, fmt='d', cmap='Blues')\n",
    "plt.xlabel('Predicted')\n",
    "plt.ylabel('Truth')\n",
    "plt.show()"
   ]
  },
  {
   "cell_type": "markdown",
   "metadata": {},
   "source": [
    "## Vader Sentiment Analysis"
   ]
  },
  {
   "cell_type": "code",
   "execution_count": 33,
   "metadata": {},
   "outputs": [],
   "source": [
    "# Initialize the sentiment intensity analyzer\n",
    "analyzer = SentimentIntensityAnalyzer()"
   ]
  },
  {
   "cell_type": "code",
   "execution_count": 34,
   "metadata": {},
   "outputs": [],
   "source": [
    "# Define a function to get the sentiment scores\n",
    "def get_sentiment_scores(text):\n",
    "    return analyzer.polarity_scores(text)"
   ]
  },
  {
   "cell_type": "code",
   "execution_count": 35,
   "metadata": {},
   "outputs": [],
   "source": [
    "# Apply the function to the 'review text' column\n",
    "df['sentiment_scores'] = df['cleaned_text_str'].apply(get_sentiment_scores)"
   ]
  },
  {
   "cell_type": "code",
   "execution_count": 36,
   "metadata": {},
   "outputs": [
    {
     "data": {
      "text/html": [
       "<div>\n",
       "<style scoped>\n",
       "    .dataframe tbody tr th:only-of-type {\n",
       "        vertical-align: middle;\n",
       "    }\n",
       "\n",
       "    .dataframe tbody tr th {\n",
       "        vertical-align: top;\n",
       "    }\n",
       "\n",
       "    .dataframe thead th {\n",
       "        text-align: right;\n",
       "    }\n",
       "</style>\n",
       "<table border=\"1\" class=\"dataframe\">\n",
       "  <thead>\n",
       "    <tr style=\"text-align: right;\">\n",
       "      <th></th>\n",
       "      <th>stars</th>\n",
       "      <th>cleaned_text</th>\n",
       "      <th>sentiment</th>\n",
       "      <th>cleaned_text_list</th>\n",
       "      <th>cleaned_text_str</th>\n",
       "      <th>neg</th>\n",
       "      <th>neu</th>\n",
       "      <th>pos</th>\n",
       "      <th>compound</th>\n",
       "    </tr>\n",
       "  </thead>\n",
       "  <tbody>\n",
       "    <tr>\n",
       "      <th>0</th>\n",
       "      <td>1</td>\n",
       "      <td>['lately', 'common', 'wait', 'hour', 'food', '...</td>\n",
       "      <td>negative</td>\n",
       "      <td>[lately, common, wait, hour, food, passed, dri...</td>\n",
       "      <td>lately common wait hour food passed driver one...</td>\n",
       "      <td>0.231</td>\n",
       "      <td>0.660</td>\n",
       "      <td>0.108</td>\n",
       "      <td>-0.6369</td>\n",
       "    </tr>\n",
       "    <tr>\n",
       "      <th>1</th>\n",
       "      <td>5</td>\n",
       "      <td>['love', 'great', 'offer', 'good', 'selection'...</td>\n",
       "      <td>positive</td>\n",
       "      <td>[love, great, offer, good, selection, food, sh...</td>\n",
       "      <td>love great offer good selection food shopping ...</td>\n",
       "      <td>0.095</td>\n",
       "      <td>0.536</td>\n",
       "      <td>0.370</td>\n",
       "      <td>0.9468</td>\n",
       "    </tr>\n",
       "    <tr>\n",
       "      <th>2</th>\n",
       "      <td>1</td>\n",
       "      <td>['disappointed', 'app', 'used', 'long', 'time'...</td>\n",
       "      <td>negative</td>\n",
       "      <td>[disappointed, app, used, long, time, service,...</td>\n",
       "      <td>disappointed app used long time service fee ke...</td>\n",
       "      <td>0.159</td>\n",
       "      <td>0.841</td>\n",
       "      <td>0.000</td>\n",
       "      <td>-0.6705</td>\n",
       "    </tr>\n",
       "    <tr>\n",
       "      <th>3</th>\n",
       "      <td>2</td>\n",
       "      <td>['fairly', 'easy', 'use', 'trying', 'find', 'h...</td>\n",
       "      <td>negative</td>\n",
       "      <td>[fairly, easy, use, trying, find, happening, c...</td>\n",
       "      <td>fairly easy use trying find happening contacti...</td>\n",
       "      <td>0.116</td>\n",
       "      <td>0.685</td>\n",
       "      <td>0.199</td>\n",
       "      <td>0.5574</td>\n",
       "    </tr>\n",
       "    <tr>\n",
       "      <th>4</th>\n",
       "      <td>4</td>\n",
       "      <td>['like', 'fact', 'u', 'ca', 'get', 'refund', '...</td>\n",
       "      <td>positive</td>\n",
       "      <td>[like, fact, u, ca, get, refund, unless, u, ta...</td>\n",
       "      <td>like fact u ca get refund unless u take pictur...</td>\n",
       "      <td>0.093</td>\n",
       "      <td>0.791</td>\n",
       "      <td>0.116</td>\n",
       "      <td>0.3182</td>\n",
       "    </tr>\n",
       "    <tr>\n",
       "      <th>5</th>\n",
       "      <td>4</td>\n",
       "      <td>['usually', 'work', 'well', 'use', 'often', 'i...</td>\n",
       "      <td>positive</td>\n",
       "      <td>[usually, work, well, use, often, issue, handl...</td>\n",
       "      <td>usually work well use often issue handled with...</td>\n",
       "      <td>0.050</td>\n",
       "      <td>0.717</td>\n",
       "      <td>0.233</td>\n",
       "      <td>0.8402</td>\n",
       "    </tr>\n",
       "    <tr>\n",
       "      <th>6</th>\n",
       "      <td>2</td>\n",
       "      <td>['ignoring', 'astronomical', 'tax', 'fee', 'fo...</td>\n",
       "      <td>negative</td>\n",
       "      <td>[ignoring, astronomical, tax, fee, forced, upd...</td>\n",
       "      <td>ignoring astronomical tax fee forced update ap...</td>\n",
       "      <td>0.205</td>\n",
       "      <td>0.732</td>\n",
       "      <td>0.063</td>\n",
       "      <td>-0.7923</td>\n",
       "    </tr>\n",
       "    <tr>\n",
       "      <th>7</th>\n",
       "      <td>1</td>\n",
       "      <td>['ive', 'absolutely', 'horrible', 'experience'...</td>\n",
       "      <td>negative</td>\n",
       "      <td>[ive, absolutely, horrible, experience, app, d...</td>\n",
       "      <td>ive absolutely horrible experience app driver ...</td>\n",
       "      <td>0.182</td>\n",
       "      <td>0.702</td>\n",
       "      <td>0.116</td>\n",
       "      <td>-0.6478</td>\n",
       "    </tr>\n",
       "    <tr>\n",
       "      <th>8</th>\n",
       "      <td>1</td>\n",
       "      <td>['give', 'zero', 'could', 'food', 'usually', '...</td>\n",
       "      <td>negative</td>\n",
       "      <td>[give, zero, could, food, usually, fine, resta...</td>\n",
       "      <td>give zero could food usually fine restaurant s...</td>\n",
       "      <td>0.259</td>\n",
       "      <td>0.608</td>\n",
       "      <td>0.133</td>\n",
       "      <td>-0.7650</td>\n",
       "    </tr>\n",
       "    <tr>\n",
       "      <th>9</th>\n",
       "      <td>1</td>\n",
       "      <td>['everything', 'run', 'smooth', 'part', 'cance...</td>\n",
       "      <td>negative</td>\n",
       "      <td>[everything, run, smooth, part, cancelled, som...</td>\n",
       "      <td>everything run smooth part cancelled something...</td>\n",
       "      <td>0.130</td>\n",
       "      <td>0.662</td>\n",
       "      <td>0.209</td>\n",
       "      <td>0.6249</td>\n",
       "    </tr>\n",
       "  </tbody>\n",
       "</table>\n",
       "</div>"
      ],
      "text/plain": [
       "   stars                                       cleaned_text sentiment  \\\n",
       "0      1  ['lately', 'common', 'wait', 'hour', 'food', '...  negative   \n",
       "1      5  ['love', 'great', 'offer', 'good', 'selection'...  positive   \n",
       "2      1  ['disappointed', 'app', 'used', 'long', 'time'...  negative   \n",
       "3      2  ['fairly', 'easy', 'use', 'trying', 'find', 'h...  negative   \n",
       "4      4  ['like', 'fact', 'u', 'ca', 'get', 'refund', '...  positive   \n",
       "5      4  ['usually', 'work', 'well', 'use', 'often', 'i...  positive   \n",
       "6      2  ['ignoring', 'astronomical', 'tax', 'fee', 'fo...  negative   \n",
       "7      1  ['ive', 'absolutely', 'horrible', 'experience'...  negative   \n",
       "8      1  ['give', 'zero', 'could', 'food', 'usually', '...  negative   \n",
       "9      1  ['everything', 'run', 'smooth', 'part', 'cance...  negative   \n",
       "\n",
       "                                   cleaned_text_list  \\\n",
       "0  [lately, common, wait, hour, food, passed, dri...   \n",
       "1  [love, great, offer, good, selection, food, sh...   \n",
       "2  [disappointed, app, used, long, time, service,...   \n",
       "3  [fairly, easy, use, trying, find, happening, c...   \n",
       "4  [like, fact, u, ca, get, refund, unless, u, ta...   \n",
       "5  [usually, work, well, use, often, issue, handl...   \n",
       "6  [ignoring, astronomical, tax, fee, forced, upd...   \n",
       "7  [ive, absolutely, horrible, experience, app, d...   \n",
       "8  [give, zero, could, food, usually, fine, resta...   \n",
       "9  [everything, run, smooth, part, cancelled, som...   \n",
       "\n",
       "                                    cleaned_text_str    neg    neu    pos  \\\n",
       "0  lately common wait hour food passed driver one...  0.231  0.660  0.108   \n",
       "1  love great offer good selection food shopping ...  0.095  0.536  0.370   \n",
       "2  disappointed app used long time service fee ke...  0.159  0.841  0.000   \n",
       "3  fairly easy use trying find happening contacti...  0.116  0.685  0.199   \n",
       "4  like fact u ca get refund unless u take pictur...  0.093  0.791  0.116   \n",
       "5  usually work well use often issue handled with...  0.050  0.717  0.233   \n",
       "6  ignoring astronomical tax fee forced update ap...  0.205  0.732  0.063   \n",
       "7  ive absolutely horrible experience app driver ...  0.182  0.702  0.116   \n",
       "8  give zero could food usually fine restaurant s...  0.259  0.608  0.133   \n",
       "9  everything run smooth part cancelled something...  0.130  0.662  0.209   \n",
       "\n",
       "   compound  \n",
       "0   -0.6369  \n",
       "1    0.9468  \n",
       "2   -0.6705  \n",
       "3    0.5574  \n",
       "4    0.3182  \n",
       "5    0.8402  \n",
       "6   -0.7923  \n",
       "7   -0.6478  \n",
       "8   -0.7650  \n",
       "9    0.6249  "
      ]
     },
     "execution_count": 36,
     "metadata": {},
     "output_type": "execute_result"
    }
   ],
   "source": [
    "# Split the sentiment scores into separate columns\n",
    "df = pd.concat([df.drop(['sentiment_scores'], axis=1), df['sentiment_scores'].apply(pd.Series)], axis=1)\n",
    "df.head(10)"
   ]
  },
  {
   "cell_type": "markdown",
   "metadata": {},
   "source": [
    "## Sequential Model"
   ]
  },
  {
   "cell_type": "code",
   "execution_count": 37,
   "metadata": {},
   "outputs": [],
   "source": [
    "# Tokenizing and adding padding\n",
    "max_words = 5000\n",
    "max_len = 200"
   ]
  },
  {
   "cell_type": "code",
   "execution_count": 38,
   "metadata": {},
   "outputs": [],
   "source": [
    "# Initialize the OrdinalEncoder\n",
    "oe = OrdinalEncoder()\n",
    "\n",
    "# Fit and transform the labels\n",
    "y_train_over = oe.fit_transform(y_train_over.values.reshape(-1, 1))\n",
    "y_test_over = oe.transform(y_test_over.values.reshape(-1, 1))\n",
    "\n",
    "# Convert integer labels to binary form\n",
    "y_train_over = to_categorical(y_train_over)\n",
    "y_test_over = to_categorical(y_test_over)"
   ]
  },
  {
   "cell_type": "code",
   "execution_count": 39,
   "metadata": {},
   "outputs": [
    {
     "name": "stdout",
     "output_type": "stream",
     "text": [
      "WARNING:tensorflow:From C:\\Users\\User\\AppData\\Local\\Packages\\PythonSoftwareFoundation.Python.3.11_qbz5n2kfra8p0\\LocalCache\\local-packages\\Python311\\site-packages\\keras\\src\\backend.py:873: The name tf.get_default_graph is deprecated. Please use tf.compat.v1.get_default_graph instead.\n",
      "\n",
      "WARNING:tensorflow:From C:\\Users\\User\\AppData\\Local\\Packages\\PythonSoftwareFoundation.Python.3.11_qbz5n2kfra8p0\\LocalCache\\local-packages\\Python311\\site-packages\\keras\\src\\optimizers\\__init__.py:309: The name tf.train.Optimizer is deprecated. Please use tf.compat.v1.train.Optimizer instead.\n",
      "\n",
      "Epoch 1/70\n",
      "WARNING:tensorflow:From C:\\Users\\User\\AppData\\Local\\Packages\\PythonSoftwareFoundation.Python.3.11_qbz5n2kfra8p0\\LocalCache\\local-packages\\Python311\\site-packages\\keras\\src\\utils\\tf_utils.py:492: The name tf.ragged.RaggedTensorValue is deprecated. Please use tf.compat.v1.ragged.RaggedTensorValue instead.\n",
      "\n",
      "WARNING:tensorflow:From C:\\Users\\User\\AppData\\Local\\Packages\\PythonSoftwareFoundation.Python.3.11_qbz5n2kfra8p0\\LocalCache\\local-packages\\Python311\\site-packages\\keras\\src\\engine\\base_layer_utils.py:384: The name tf.executing_eagerly_outside_functions is deprecated. Please use tf.compat.v1.executing_eagerly_outside_functions instead.\n",
      "\n",
      "455/455 [==============================] - 3s 3ms/step - loss: 0.4689 - accuracy: 0.8545 - f1_score: 0.7239 - val_loss: 0.1620 - val_accuracy: 0.9539 - val_f1_score: 0.9530\n",
      "Epoch 2/70\n",
      "455/455 [==============================] - 1s 2ms/step - loss: 0.0863 - accuracy: 0.9777 - f1_score: 0.9777 - val_loss: 0.1030 - val_accuracy: 0.9676 - val_f1_score: 0.9680\n",
      "Epoch 3/70\n",
      "455/455 [==============================] - 1s 2ms/step - loss: 0.0333 - accuracy: 0.9924 - f1_score: 0.9923 - val_loss: 0.1011 - val_accuracy: 0.9668 - val_f1_score: 0.9667\n",
      "Epoch 4/70\n",
      "455/455 [==============================] - 1s 2ms/step - loss: 0.0150 - accuracy: 0.9970 - f1_score: 0.9969 - val_loss: 0.0963 - val_accuracy: 0.9712 - val_f1_score: 0.9713\n",
      "Epoch 5/70\n",
      "455/455 [==============================] - 1s 2ms/step - loss: 0.0069 - accuracy: 0.9990 - f1_score: 0.9990 - val_loss: 0.1016 - val_accuracy: 0.9698 - val_f1_score: 0.9705\n",
      "Epoch 6/70\n",
      "455/455 [==============================] - 1s 2ms/step - loss: 0.0037 - accuracy: 0.9997 - f1_score: 0.9997 - val_loss: 0.1072 - val_accuracy: 0.9717 - val_f1_score: 0.9714\n",
      "Epoch 7/70\n",
      "455/455 [==============================] - 1s 2ms/step - loss: 0.0022 - accuracy: 0.9999 - f1_score: 0.9999 - val_loss: 0.1184 - val_accuracy: 0.9695 - val_f1_score: 0.9696\n",
      "Epoch 8/70\n",
      "455/455 [==============================] - 1s 2ms/step - loss: 0.0011 - accuracy: 0.9999 - f1_score: 0.9999 - val_loss: 0.1345 - val_accuracy: 0.9701 - val_f1_score: 0.9701\n",
      "Epoch 9/70\n",
      "455/455 [==============================] - 1s 2ms/step - loss: 0.0019 - accuracy: 0.9998 - f1_score: 0.9998 - val_loss: 0.1442 - val_accuracy: 0.9657 - val_f1_score: 0.9655\n",
      "Epoch 10/70\n",
      "455/455 [==============================] - 1s 2ms/step - loss: 8.9134e-04 - accuracy: 0.9998 - f1_score: 0.9998 - val_loss: 0.1381 - val_accuracy: 0.9695 - val_f1_score: 0.9692\n",
      "Epoch 11/70\n",
      "455/455 [==============================] - 1s 2ms/step - loss: 9.2618e-04 - accuracy: 0.9999 - f1_score: 0.9999 - val_loss: 0.1457 - val_accuracy: 0.9668 - val_f1_score: 0.9667\n",
      "Epoch 12/70\n",
      "455/455 [==============================] - 1s 2ms/step - loss: 0.0010 - accuracy: 0.9998 - f1_score: 0.9998 - val_loss: 0.1497 - val_accuracy: 0.9684 - val_f1_score: 0.9685\n",
      "Epoch 13/70\n",
      "455/455 [==============================] - 1s 2ms/step - loss: 7.3535e-04 - accuracy: 0.9999 - f1_score: 0.9999 - val_loss: 0.1550 - val_accuracy: 0.9684 - val_f1_score: 0.9685\n",
      "Epoch 14/70\n",
      "455/455 [==============================] - 1s 2ms/step - loss: 5.2510e-04 - accuracy: 0.9999 - f1_score: 0.9999 - val_loss: 0.1623 - val_accuracy: 0.9665 - val_f1_score: 0.9663\n",
      "Epoch 15/70\n",
      "455/455 [==============================] - 1s 2ms/step - loss: 6.2519e-04 - accuracy: 0.9999 - f1_score: 0.9999 - val_loss: 0.1787 - val_accuracy: 0.9640 - val_f1_score: 0.9637\n",
      "Epoch 16/70\n",
      "455/455 [==============================] - 1s 2ms/step - loss: 4.8849e-04 - accuracy: 0.9999 - f1_score: 0.9999 - val_loss: 0.2257 - val_accuracy: 0.9577 - val_f1_score: 0.9580\n",
      "Epoch 17/70\n",
      "455/455 [==============================] - 1s 2ms/step - loss: 2.3053e-04 - accuracy: 0.9999 - f1_score: 0.9999 - val_loss: 0.1583 - val_accuracy: 0.9717 - val_f1_score: 0.9718\n",
      "Epoch 18/70\n",
      "455/455 [==============================] - 1s 3ms/step - loss: 7.4741e-04 - accuracy: 0.9998 - f1_score: 0.9998 - val_loss: 0.2193 - val_accuracy: 0.9605 - val_f1_score: 0.9603\n",
      "Epoch 19/70\n",
      "455/455 [==============================] - 1s 2ms/step - loss: 1.0022e-04 - accuracy: 0.9999 - f1_score: 0.9999 - val_loss: 0.1692 - val_accuracy: 0.9712 - val_f1_score: 0.9711\n",
      "Epoch 20/70\n",
      "455/455 [==============================] - 1s 2ms/step - loss: 3.6297e-05 - accuracy: 1.0000 - f1_score: 1.0000 - val_loss: 0.1950 - val_accuracy: 0.9668 - val_f1_score: 0.9669\n",
      "Epoch 21/70\n",
      "455/455 [==============================] - 1s 2ms/step - loss: 1.7242e-05 - accuracy: 1.0000 - f1_score: 1.0000 - val_loss: 0.2009 - val_accuracy: 0.9659 - val_f1_score: 0.9659\n",
      "Epoch 22/70\n",
      "455/455 [==============================] - 1s 2ms/step - loss: 1.3345e-05 - accuracy: 1.0000 - f1_score: 1.0000 - val_loss: 0.2040 - val_accuracy: 0.9668 - val_f1_score: 0.9669\n",
      "Epoch 23/70\n",
      "455/455 [==============================] - 1s 2ms/step - loss: 1.0539e-05 - accuracy: 1.0000 - f1_score: 1.0000 - val_loss: 0.2093 - val_accuracy: 0.9657 - val_f1_score: 0.9657\n",
      "Epoch 24/70\n",
      "455/455 [==============================] - 1s 2ms/step - loss: 8.3374e-06 - accuracy: 1.0000 - f1_score: 1.0000 - val_loss: 0.2135 - val_accuracy: 0.9665 - val_f1_score: 0.9665\n",
      "Epoch 25/70\n",
      "455/455 [==============================] - 1s 2ms/step - loss: 6.6602e-06 - accuracy: 1.0000 - f1_score: 1.0000 - val_loss: 0.2173 - val_accuracy: 0.9665 - val_f1_score: 0.9665\n",
      "Epoch 26/70\n",
      "455/455 [==============================] - 1s 2ms/step - loss: 5.4162e-06 - accuracy: 1.0000 - f1_score: 1.0000 - val_loss: 0.2227 - val_accuracy: 0.9657 - val_f1_score: 0.9657\n",
      "Epoch 27/70\n",
      "455/455 [==============================] - 1s 2ms/step - loss: 4.2267e-06 - accuracy: 1.0000 - f1_score: 1.0000 - val_loss: 0.2266 - val_accuracy: 0.9654 - val_f1_score: 0.9654\n",
      "Epoch 28/70\n",
      "455/455 [==============================] - 1s 2ms/step - loss: 3.3967e-06 - accuracy: 1.0000 - f1_score: 1.0000 - val_loss: 0.2311 - val_accuracy: 0.9654 - val_f1_score: 0.9654\n",
      "Epoch 29/70\n",
      "455/455 [==============================] - 1s 2ms/step - loss: 2.7360e-06 - accuracy: 1.0000 - f1_score: 1.0000 - val_loss: 0.2357 - val_accuracy: 0.9657 - val_f1_score: 0.9657\n",
      "Epoch 30/70\n",
      "455/455 [==============================] - 1s 2ms/step - loss: 2.1711e-06 - accuracy: 1.0000 - f1_score: 1.0000 - val_loss: 0.2406 - val_accuracy: 0.9654 - val_f1_score: 0.9654\n",
      "Epoch 31/70\n",
      "455/455 [==============================] - 1s 2ms/step - loss: 1.7625e-06 - accuracy: 1.0000 - f1_score: 1.0000 - val_loss: 0.2439 - val_accuracy: 0.9654 - val_f1_score: 0.9654\n",
      "Epoch 32/70\n",
      "455/455 [==============================] - 1s 2ms/step - loss: 1.3927e-06 - accuracy: 1.0000 - f1_score: 1.0000 - val_loss: 0.2496 - val_accuracy: 0.9654 - val_f1_score: 0.9654\n",
      "Epoch 33/70\n",
      "455/455 [==============================] - 1s 2ms/step - loss: 1.1347e-06 - accuracy: 1.0000 - f1_score: 1.0000 - val_loss: 0.2540 - val_accuracy: 0.9651 - val_f1_score: 0.9651\n",
      "Epoch 34/70\n",
      "455/455 [==============================] - 1s 2ms/step - loss: 8.9127e-07 - accuracy: 1.0000 - f1_score: 1.0000 - val_loss: 0.2562 - val_accuracy: 0.9654 - val_f1_score: 0.9654\n",
      "Epoch 35/70\n",
      "455/455 [==============================] - 1s 2ms/step - loss: 7.2279e-07 - accuracy: 1.0000 - f1_score: 1.0000 - val_loss: 0.2618 - val_accuracy: 0.9651 - val_f1_score: 0.9651\n",
      "Epoch 36/70\n",
      "455/455 [==============================] - 1s 2ms/step - loss: 5.6908e-07 - accuracy: 1.0000 - f1_score: 1.0000 - val_loss: 0.2657 - val_accuracy: 0.9651 - val_f1_score: 0.9651\n",
      "Epoch 37/70\n",
      "455/455 [==============================] - 1s 2ms/step - loss: 4.5790e-07 - accuracy: 1.0000 - f1_score: 1.0000 - val_loss: 0.2688 - val_accuracy: 0.9651 - val_f1_score: 0.9651\n",
      "Epoch 38/70\n",
      "455/455 [==============================] - 1s 2ms/step - loss: 3.6957e-07 - accuracy: 1.0000 - f1_score: 1.0000 - val_loss: 0.2770 - val_accuracy: 0.9646 - val_f1_score: 0.9646\n",
      "Epoch 39/70\n",
      "455/455 [==============================] - 1s 2ms/step - loss: 2.8207e-07 - accuracy: 1.0000 - f1_score: 1.0000 - val_loss: 0.2814 - val_accuracy: 0.9646 - val_f1_score: 0.9646\n",
      "Epoch 40/70\n",
      "455/455 [==============================] - 1s 2ms/step - loss: 2.6132e-07 - accuracy: 1.0000 - f1_score: 1.0000 - val_loss: 0.2859 - val_accuracy: 0.9648 - val_f1_score: 0.9648\n",
      "Epoch 41/70\n",
      "455/455 [==============================] - 1s 2ms/step - loss: 1.8348e-07 - accuracy: 1.0000 - f1_score: 1.0000 - val_loss: 0.2897 - val_accuracy: 0.9648 - val_f1_score: 0.9650\n",
      "Epoch 42/70\n",
      "455/455 [==============================] - 1s 2ms/step - loss: 1.6212e-07 - accuracy: 1.0000 - f1_score: 1.0000 - val_loss: 0.2877 - val_accuracy: 0.9657 - val_f1_score: 0.9657\n",
      "Epoch 43/70\n",
      "455/455 [==============================] - 1s 2ms/step - loss: 1.4935e-06 - accuracy: 1.0000 - f1_score: 1.0000 - val_loss: 0.2935 - val_accuracy: 0.9654 - val_f1_score: 0.9655\n",
      "Epoch 44/70\n",
      "455/455 [==============================] - 1s 2ms/step - loss: 0.0013 - accuracy: 0.9999 - f1_score: 0.9999 - val_loss: 0.3024 - val_accuracy: 0.9659 - val_f1_score: 0.9658\n",
      "Epoch 45/70\n",
      "455/455 [==============================] - 1s 2ms/step - loss: 7.6393e-04 - accuracy: 0.9999 - f1_score: 0.9999 - val_loss: 0.2933 - val_accuracy: 0.9687 - val_f1_score: 0.9687\n",
      "Epoch 46/70\n",
      "455/455 [==============================] - 1s 2ms/step - loss: 9.3117e-04 - accuracy: 0.9996 - f1_score: 0.9996 - val_loss: 0.3295 - val_accuracy: 0.9643 - val_f1_score: 0.9643\n",
      "Epoch 47/70\n",
      "455/455 [==============================] - 1s 2ms/step - loss: 2.9473e-05 - accuracy: 1.0000 - f1_score: 1.0000 - val_loss: 0.3266 - val_accuracy: 0.9662 - val_f1_score: 0.9662\n",
      "Epoch 48/70\n",
      "455/455 [==============================] - 1s 2ms/step - loss: 3.9243e-06 - accuracy: 1.0000 - f1_score: 1.0000 - val_loss: 0.3303 - val_accuracy: 0.9665 - val_f1_score: 0.9666\n",
      "Epoch 49/70\n",
      "455/455 [==============================] - 1s 2ms/step - loss: 1.6146e-06 - accuracy: 1.0000 - f1_score: 1.0000 - val_loss: 0.3389 - val_accuracy: 0.9657 - val_f1_score: 0.9657\n",
      "Epoch 50/70\n",
      "455/455 [==============================] - 1s 2ms/step - loss: 9.1936e-07 - accuracy: 1.0000 - f1_score: 1.0000 - val_loss: 0.3431 - val_accuracy: 0.9654 - val_f1_score: 0.9654\n",
      "Epoch 51/70\n",
      "455/455 [==============================] - 1s 2ms/step - loss: 6.7926e-07 - accuracy: 1.0000 - f1_score: 1.0000 - val_loss: 0.3465 - val_accuracy: 0.9648 - val_f1_score: 0.9648\n",
      "Epoch 52/70\n",
      "455/455 [==============================] - 1s 2ms/step - loss: 5.1888e-07 - accuracy: 1.0000 - f1_score: 1.0000 - val_loss: 0.3490 - val_accuracy: 0.9648 - val_f1_score: 0.9648\n",
      "Epoch 53/70\n",
      "455/455 [==============================] - 1s 2ms/step - loss: 4.1147e-07 - accuracy: 1.0000 - f1_score: 1.0000 - val_loss: 0.3513 - val_accuracy: 0.9646 - val_f1_score: 0.9646\n",
      "Epoch 54/70\n",
      "455/455 [==============================] - 1s 3ms/step - loss: 3.3362e-07 - accuracy: 1.0000 - f1_score: 1.0000 - val_loss: 0.3532 - val_accuracy: 0.9646 - val_f1_score: 0.9646\n",
      "Epoch 55/70\n",
      "455/455 [==============================] - 1s 3ms/step - loss: 2.7257e-07 - accuracy: 1.0000 - f1_score: 1.0000 - val_loss: 0.3551 - val_accuracy: 0.9646 - val_f1_score: 0.9646\n",
      "Epoch 56/70\n",
      "455/455 [==============================] - 1s 3ms/step - loss: 2.2447e-07 - accuracy: 1.0000 - f1_score: 1.0000 - val_loss: 0.3569 - val_accuracy: 0.9646 - val_f1_score: 0.9646\n",
      "Epoch 57/70\n",
      "455/455 [==============================] - 1s 2ms/step - loss: 1.8600e-07 - accuracy: 1.0000 - f1_score: 1.0000 - val_loss: 0.3583 - val_accuracy: 0.9646 - val_f1_score: 0.9646\n",
      "Epoch 58/70\n",
      "455/455 [==============================] - 1s 2ms/step - loss: 1.5702e-07 - accuracy: 1.0000 - f1_score: 1.0000 - val_loss: 0.3598 - val_accuracy: 0.9646 - val_f1_score: 0.9646\n",
      "Epoch 59/70\n",
      "455/455 [==============================] - 1s 2ms/step - loss: 1.3376e-07 - accuracy: 1.0000 - f1_score: 1.0000 - val_loss: 0.3612 - val_accuracy: 0.9643 - val_f1_score: 0.9643\n",
      "Epoch 60/70\n",
      "455/455 [==============================] - 1s 2ms/step - loss: 1.1356e-07 - accuracy: 1.0000 - f1_score: 1.0000 - val_loss: 0.3624 - val_accuracy: 0.9643 - val_f1_score: 0.9643\n",
      "Epoch 61/70\n",
      "455/455 [==============================] - 1s 2ms/step - loss: 9.7888e-08 - accuracy: 1.0000 - f1_score: 1.0000 - val_loss: 0.3635 - val_accuracy: 0.9643 - val_f1_score: 0.9643\n",
      "Epoch 62/70\n",
      "455/455 [==============================] - 1s 2ms/step - loss: 8.4600e-08 - accuracy: 1.0000 - f1_score: 1.0000 - val_loss: 0.3646 - val_accuracy: 0.9643 - val_f1_score: 0.9643\n",
      "Epoch 63/70\n",
      "455/455 [==============================] - 1s 2ms/step - loss: 7.3899e-08 - accuracy: 1.0000 - f1_score: 1.0000 - val_loss: 0.3657 - val_accuracy: 0.9643 - val_f1_score: 0.9643\n",
      "Epoch 64/70\n",
      "455/455 [==============================] - 1s 2ms/step - loss: 6.4705e-08 - accuracy: 1.0000 - f1_score: 1.0000 - val_loss: 0.3668 - val_accuracy: 0.9643 - val_f1_score: 0.9643\n",
      "Epoch 65/70\n",
      "455/455 [==============================] - 1s 2ms/step - loss: 5.6665e-08 - accuracy: 1.0000 - f1_score: 1.0000 - val_loss: 0.3679 - val_accuracy: 0.9643 - val_f1_score: 0.9643\n",
      "Epoch 66/70\n",
      "455/455 [==============================] - 1s 2ms/step - loss: 4.9796e-08 - accuracy: 1.0000 - f1_score: 1.0000 - val_loss: 0.3688 - val_accuracy: 0.9643 - val_f1_score: 0.9643\n",
      "Epoch 67/70\n",
      "455/455 [==============================] - 1s 2ms/step - loss: 4.3500e-08 - accuracy: 1.0000 - f1_score: 1.0000 - val_loss: 0.3701 - val_accuracy: 0.9643 - val_f1_score: 0.9643\n",
      "Epoch 68/70\n",
      "455/455 [==============================] - 1s 2ms/step - loss: 3.8620e-08 - accuracy: 1.0000 - f1_score: 1.0000 - val_loss: 0.3710 - val_accuracy: 0.9643 - val_f1_score: 0.9643\n",
      "Epoch 69/70\n",
      "455/455 [==============================] - 1s 2ms/step - loss: 3.3650e-08 - accuracy: 1.0000 - f1_score: 1.0000 - val_loss: 0.3722 - val_accuracy: 0.9643 - val_f1_score: 0.9643\n",
      "Epoch 70/70\n",
      "455/455 [==============================] - 1s 2ms/step - loss: 2.9630e-08 - accuracy: 1.0000 - f1_score: 1.0000 - val_loss: 0.3732 - val_accuracy: 0.9643 - val_f1_score: 0.9643\n"
     ]
    }
   ],
   "source": [
    "# Define a custom F1 score metric\n",
    "def f1_score(y_true, y_pred):\n",
    "    true_positives = tf.keras.backend.sum(tf.keras.backend.round(tf.keras.backend.clip(y_true * y_pred, 0, 1)))\n",
    "    possible_positives = tf.keras.backend.sum(tf.keras.backend.round(tf.keras.backend.clip(y_true, 0, 1)))\n",
    "    predicted_positives = tf.keras.backend.sum(tf.keras.backend.round(tf.keras.backend.clip(y_pred, 0, 1)))\n",
    "    precision = true_positives / (predicted_positives + tf.keras.backend.epsilon())\n",
    "    recall = true_positives / (possible_positives + tf.keras.backend.epsilon())\n",
    "    f1_val = 2*(precision*recall)/(precision+recall+tf.keras.backend.epsilon())\n",
    "    return f1_val\n",
    "\n",
    "# Define the model\n",
    "model = Sequential()\n",
    "model.add(Dense(32, input_dim=X_train_over.shape[1], activation='relu'))  # Input layer\n",
    "model.add(Dense(16, activation='relu'))  # Hidden layer\n",
    "model.add(Dense(3, activation='softmax'))  # Output layer\n",
    "\n",
    "# Compile the model\n",
    "model.compile(loss='categorical_crossentropy', \n",
    "              optimizer='adam', \n",
    "              metrics=['accuracy', f1_score])\n",
    "\n",
    "# Fit the model to the oversampled data\n",
    "training_history = model.fit(X_train_over, y_train_over, epochs=70, batch_size=32, validation_data=(X_test_over, y_test_over))"
   ]
  },
  {
   "cell_type": "code",
   "execution_count": 40,
   "metadata": {},
   "outputs": [
    {
     "data": {
      "image/png": "[encoded data removed]",
      "text/plain": [
       "<Figure size 640x480 with 1 Axes>"
      ]
     },
     "metadata": {},
     "output_type": "display_data"
    }
   ],
   "source": [
    "# Plot the training and validation F1 score\n",
    "plt.plot(training_history.history['f1_score'], label='Training F1 Score')\n",
    "plt.plot(training_history.history['val_f1_score'], label='Validation F1 Score')\n",
    "plt.xlabel('Epochs')\n",
    "plt.ylabel('F1 Score')\n",
    "plt.legend()\n",
    "plt.show()"
   ]
  },
  {
   "cell_type": "markdown",
   "metadata": {},
   "source": [
    "The evaluation assesses the performance of different classification models based on metrics like Accuracy, Precision, Recall, and F1 Score. While Gaussian, Multinomial, and Bernoulli Naive Bayes, Decision Tree, and Random Forest show respectable results, they have inherent limitations. For example, Naive Bayes assumes feature independence, which may not hold in all cases, and Decision Trees can overfit complex datasets. Although Random Forest is robust, it may not be optimal for high-dimensional data. In contrast, Support Vector Machine (SVM) emerges as the preferred choice due to its exceptional accuracy, balanced performance across metrics, robustness to overfitting, and capacity to handle high-dimensional data effectively. SVM's ability to capture complex relationships and maximize margins further solidifies its superiority, making it the ideal model for this classification task."
   ]
  },
  {
   "cell_type": "markdown",
   "metadata": {},
   "source": [
    "# 6. Tuning <a id='tuning'></a>\n",
    "[Back to top](#table_of_contents)"
   ]
  },
  {
   "cell_type": "code",
   "execution_count": 41,
   "metadata": {},
   "outputs": [
    {
     "name": "stdout",
     "output_type": "stream",
     "text": [
      "Fitting 5 folds for each of 16 candidates, totalling 80 fits\n",
      "[CV] END .........................C=0.1, gamma=1, kernel=rbf; total time=  36.4s\n",
      "[CV] END .........................C=0.1, gamma=1, kernel=rbf; total time=  36.6s\n",
      "[CV] END .........................C=0.1, gamma=1, kernel=rbf; total time=  35.8s\n",
      "[CV] END .........................C=0.1, gamma=1, kernel=rbf; total time=  36.6s\n",
      "[CV] END .........................C=0.1, gamma=1, kernel=rbf; total time=  35.5s\n",
      "[CV] END .......................C=0.1, gamma=0.1, kernel=rbf; total time=  41.5s\n",
      "[CV] END .......................C=0.1, gamma=0.1, kernel=rbf; total time=  39.9s\n",
      "[CV] END .......................C=0.1, gamma=0.1, kernel=rbf; total time=  40.9s\n",
      "[CV] END .......................C=0.1, gamma=0.1, kernel=rbf; total time=  42.8s\n",
      "[CV] END .......................C=0.1, gamma=0.1, kernel=rbf; total time=  41.1s\n",
      "[CV] END ......................C=0.1, gamma=0.01, kernel=rbf; total time=  43.9s\n",
      "[CV] END ......................C=0.1, gamma=0.01, kernel=rbf; total time=  43.8s\n",
      "[CV] END ......................C=0.1, gamma=0.01, kernel=rbf; total time=  42.7s\n",
      "[CV] END ......................C=0.1, gamma=0.01, kernel=rbf; total time=  42.0s\n",
      "[CV] END ......................C=0.1, gamma=0.01, kernel=rbf; total time=  42.4s\n",
      "[CV] END .....................C=0.1, gamma=0.001, kernel=rbf; total time=  44.9s\n",
      "[CV] END .....................C=0.1, gamma=0.001, kernel=rbf; total time=  44.2s\n",
      "[CV] END .....................C=0.1, gamma=0.001, kernel=rbf; total time=  43.5s\n",
      "[CV] END .....................C=0.1, gamma=0.001, kernel=rbf; total time=  44.8s\n",
      "[CV] END .....................C=0.1, gamma=0.001, kernel=rbf; total time=  45.7s\n",
      "[CV] END ...........................C=1, gamma=1, kernel=rbf; total time=  19.4s\n",
      "[CV] END ...........................C=1, gamma=1, kernel=rbf; total time=  19.3s\n",
      "[CV] END ...........................C=1, gamma=1, kernel=rbf; total time=  19.4s\n",
      "[CV] END ...........................C=1, gamma=1, kernel=rbf; total time=  18.4s\n",
      "[CV] END ...........................C=1, gamma=1, kernel=rbf; total time=  16.6s\n",
      "[CV] END .........................C=1, gamma=0.1, kernel=rbf; total time=  22.4s\n",
      "[CV] END .........................C=1, gamma=0.1, kernel=rbf; total time=  22.3s\n",
      "[CV] END .........................C=1, gamma=0.1, kernel=rbf; total time=  25.1s\n",
      "[CV] END .........................C=1, gamma=0.1, kernel=rbf; total time=  23.5s\n",
      "[CV] END .........................C=1, gamma=0.1, kernel=rbf; total time=  22.9s\n",
      "[CV] END ........................C=1, gamma=0.01, kernel=rbf; total time=  37.4s\n",
      "[CV] END ........................C=1, gamma=0.01, kernel=rbf; total time=  33.4s\n",
      "[CV] END ........................C=1, gamma=0.01, kernel=rbf; total time=  31.3s\n",
      "[CV] END ........................C=1, gamma=0.01, kernel=rbf; total time=  30.5s\n",
      "[CV] END ........................C=1, gamma=0.01, kernel=rbf; total time=  30.0s\n",
      "[CV] END .......................C=1, gamma=0.001, kernel=rbf; total time=  33.0s\n",
      "[CV] END .......................C=1, gamma=0.001, kernel=rbf; total time=  32.9s\n",
      "[CV] END .......................C=1, gamma=0.001, kernel=rbf; total time=  32.9s\n",
      "[CV] END .......................C=1, gamma=0.001, kernel=rbf; total time=  33.2s\n",
      "[CV] END .......................C=1, gamma=0.001, kernel=rbf; total time=  33.1s\n",
      "[CV] END ..........................C=10, gamma=1, kernel=rbf; total time=  14.6s\n",
      "[CV] END ..........................C=10, gamma=1, kernel=rbf; total time=  14.3s\n",
      "[CV] END ..........................C=10, gamma=1, kernel=rbf; total time=  14.6s\n",
      "[CV] END ..........................C=10, gamma=1, kernel=rbf; total time=  14.4s\n",
      "[CV] END ..........................C=10, gamma=1, kernel=rbf; total time=  14.4s\n",
      "[CV] END ........................C=10, gamma=0.1, kernel=rbf; total time=  10.2s\n",
      "[CV] END ........................C=10, gamma=0.1, kernel=rbf; total time=  10.1s\n",
      "[CV] END ........................C=10, gamma=0.1, kernel=rbf; total time=  10.1s\n",
      "[CV] END ........................C=10, gamma=0.1, kernel=rbf; total time=  10.3s\n",
      "[CV] END ........................C=10, gamma=0.1, kernel=rbf; total time=  10.3s\n",
      "[CV] END .......................C=10, gamma=0.01, kernel=rbf; total time=  17.7s\n",
      "[CV] END .......................C=10, gamma=0.01, kernel=rbf; total time=  17.5s\n",
      "[CV] END .......................C=10, gamma=0.01, kernel=rbf; total time=  17.8s\n",
      "[CV] END .......................C=10, gamma=0.01, kernel=rbf; total time=  17.8s\n",
      "[CV] END .......................C=10, gamma=0.01, kernel=rbf; total time=  17.7s\n",
      "[CV] END ......................C=10, gamma=0.001, kernel=rbf; total time=  30.0s\n",
      "[CV] END ......................C=10, gamma=0.001, kernel=rbf; total time=  29.9s\n",
      "[CV] END ......................C=10, gamma=0.001, kernel=rbf; total time=  29.9s\n",
      "[CV] END ......................C=10, gamma=0.001, kernel=rbf; total time=  30.2s\n",
      "[CV] END ......................C=10, gamma=0.001, kernel=rbf; total time=  29.8s\n",
      "[CV] END .........................C=100, gamma=1, kernel=rbf; total time=  14.5s\n",
      "[CV] END .........................C=100, gamma=1, kernel=rbf; total time=  14.4s\n",
      "[CV] END .........................C=100, gamma=1, kernel=rbf; total time=  14.5s\n",
      "[CV] END .........................C=100, gamma=1, kernel=rbf; total time=  14.4s\n",
      "[CV] END .........................C=100, gamma=1, kernel=rbf; total time=  14.5s\n",
      "[CV] END .......................C=100, gamma=0.1, kernel=rbf; total time=   9.5s\n",
      "[CV] END .......................C=100, gamma=0.1, kernel=rbf; total time=   9.3s\n",
      "[CV] END .......................C=100, gamma=0.1, kernel=rbf; total time=   9.4s\n",
      "[CV] END .......................C=100, gamma=0.1, kernel=rbf; total time=   9.4s\n",
      "[CV] END .......................C=100, gamma=0.1, kernel=rbf; total time=   9.3s\n",
      "[CV] END ......................C=100, gamma=0.01, kernel=rbf; total time=  10.0s\n",
      "[CV] END ......................C=100, gamma=0.01, kernel=rbf; total time=   9.9s\n",
      "[CV] END ......................C=100, gamma=0.01, kernel=rbf; total time=   9.9s\n",
      "[CV] END ......................C=100, gamma=0.01, kernel=rbf; total time=   9.9s\n",
      "[CV] END ......................C=100, gamma=0.01, kernel=rbf; total time=   9.9s\n",
      "[CV] END .....................C=100, gamma=0.001, kernel=rbf; total time=  17.6s\n",
      "[CV] END .....................C=100, gamma=0.001, kernel=rbf; total time=  17.5s\n",
      "[CV] END .....................C=100, gamma=0.001, kernel=rbf; total time=  17.7s\n",
      "[CV] END .....................C=100, gamma=0.001, kernel=rbf; total time=  17.9s\n",
      "[CV] END .....................C=100, gamma=0.001, kernel=rbf; total time=  17.5s\n"
     ]
    }
   ],
   "source": [
    "from sklearn.model_selection import GridSearchCV\n",
    "from sklearn.svm import SVC\n",
    "\n",
    "# Define the parameter ranges\n",
    "param_grid = {'C': [0.1, 1, 10, 100], 'gamma': [1, 0.1, 0.01, 0.001], 'kernel': ['rbf']}\n",
    "\n",
    "# Initialize the SVC\n",
    "svm = SVC()\n",
    "\n",
    "# Initialize the GridSearchCV\n",
    "grid = GridSearchCV(svm, param_grid, refit=True, verbose=2)\n",
    "\n",
    "# Fit the GridSearchCV with original labels\n",
    "grid.fit(X_train_over, y_train_over.argmax(axis=1))\n",
    "\n",
    "# Get the best estimator\n",
    "svm_tuned = grid.best_estimator_"
   ]
  },
  {
   "cell_type": "code",
   "execution_count": 42,
   "metadata": {},
   "outputs": [
    {
     "data": {
      "text/html": [
       "<style>#sk-container-id-7 {color: black;}#sk-container-id-7 pre{padding: 0;}#sk-container-id-7 div.sk-toggleable {background-color: white;}#sk-container-id-7 label.sk-toggleable__label {cursor: pointer;display: block;width: 100%;margin-bottom: 0;padding: 0.3em;box-sizing: border-box;text-align: center;}#sk-container-id-7 label.sk-toggleable__label-arrow:before {content: \"▸\";float: left;margin-right: 0.25em;color: #696969;}#sk-container-id-7 label.sk-toggleable__label-arrow:hover:before {color: black;}#sk-container-id-7 div.sk-estimator:hover label.sk-toggleable__label-arrow:before {color: black;}#sk-container-id-7 div.sk-toggleable__content {max-height: 0;max-width: 0;overflow: hidden;text-align: left;background-color: #f0f8ff;}#sk-container-id-7 div.sk-toggleable__content pre {margin: 0.2em;color: black;border-radius: 0.25em;background-color: #f0f8ff;}#sk-container-id-7 input.sk-toggleable__control:checked~div.sk-toggleable__content {max-height: 200px;max-width: 100%;overflow: auto;}#sk-container-id-7 input.sk-toggleable__control:checked~label.sk-toggleable__label-arrow:before {content: \"▾\";}#sk-container-id-7 div.sk-estimator input.sk-toggleable__control:checked~label.sk-toggleable__label {background-color: #d4ebff;}#sk-container-id-7 div.sk-label input.sk-toggleable__control:checked~label.sk-toggleable__label {background-color: #d4ebff;}#sk-container-id-7 input.sk-hidden--visually {border: 0;clip: rect(1px 1px 1px 1px);clip: rect(1px, 1px, 1px, 1px);height: 1px;margin: -1px;overflow: hidden;padding: 0;position: absolute;width: 1px;}#sk-container-id-7 div.sk-estimator {font-family: monospace;background-color: #f0f8ff;border: 1px dotted black;border-radius: 0.25em;box-sizing: border-box;margin-bottom: 0.5em;}#sk-container-id-7 div.sk-estimator:hover {background-color: #d4ebff;}#sk-container-id-7 div.sk-parallel-item::after {content: \"\";width: 100%;border-bottom: 1px solid gray;flex-grow: 1;}#sk-container-id-7 div.sk-label:hover label.sk-toggleable__label {background-color: #d4ebff;}#sk-container-id-7 div.sk-serial::before {content: \"\";position: absolute;border-left: 1px solid gray;box-sizing: border-box;top: 0;bottom: 0;left: 50%;z-index: 0;}#sk-container-id-7 div.sk-serial {display: flex;flex-direction: column;align-items: center;background-color: white;padding-right: 0.2em;padding-left: 0.2em;position: relative;}#sk-container-id-7 div.sk-item {position: relative;z-index: 1;}#sk-container-id-7 div.sk-parallel {display: flex;align-items: stretch;justify-content: center;background-color: white;position: relative;}#sk-container-id-7 div.sk-item::before, #sk-container-id-7 div.sk-parallel-item::before {content: \"\";position: absolute;border-left: 1px solid gray;box-sizing: border-box;top: 0;bottom: 0;left: 50%;z-index: -1;}#sk-container-id-7 div.sk-parallel-item {display: flex;flex-direction: column;z-index: 1;position: relative;background-color: white;}#sk-container-id-7 div.sk-parallel-item:first-child::after {align-self: flex-end;width: 50%;}#sk-container-id-7 div.sk-parallel-item:last-child::after {align-self: flex-start;width: 50%;}#sk-container-id-7 div.sk-parallel-item:only-child::after {width: 0;}#sk-container-id-7 div.sk-dashed-wrapped {border: 1px dashed gray;margin: 0 0.4em 0.5em 0.4em;box-sizing: border-box;padding-bottom: 0.4em;background-color: white;}#sk-container-id-7 div.sk-label label {font-family: monospace;font-weight: bold;display: inline-block;line-height: 1.2em;}#sk-container-id-7 div.sk-label-container {text-align: center;}#sk-container-id-7 div.sk-container {/* jupyter's `normalize.less` sets `[hidden] { display: none; }` but bootstrap.min.css set `[hidden] { display: none !important; }` so we also need the `!important` here to be able to override the default hidden behavior on the sphinx rendered scikit-learn.org. See: https://github.com/scikit-learn/scikit-learn/issues/21755 */display: inline-block !important;position: relative;}#sk-container-id-7 div.sk-text-repr-fallback {display: none;}</style><div id=\"sk-container-id-7\" class=\"sk-top-container\"><div class=\"sk-text-repr-fallback\"><pre>SVC(C=10, gamma=1)</pre><b>In a Jupyter environment, please rerun this cell to show the HTML representation or trust the notebook. <br />On GitHub, the HTML representation is unable to render, please try loading this page with nbviewer.org.</b></div><div class=\"sk-container\" hidden><div class=\"sk-item\"><div class=\"sk-estimator sk-toggleable\"><input class=\"sk-toggleable__control sk-hidden--visually\" id=\"sk-estimator-id-7\" type=\"checkbox\" checked><label for=\"sk-estimator-id-7\" class=\"sk-toggleable__label sk-toggleable__label-arrow\">SVC</label><div class=\"sk-toggleable__content\"><pre>SVC(C=10, gamma=1)</pre></div></div></div></div></div>"
      ],
      "text/plain": [
       "SVC(C=10, gamma=1)"
      ]
     },
     "execution_count": 42,
     "metadata": {},
     "output_type": "execute_result"
    }
   ],
   "source": [
    "svm_tuned"
   ]
  },
  {
   "cell_type": "markdown",
   "metadata": {},
   "source": [
    "The SVM model was fine-tuned using Grid Search, which systematically explores different combinations of hyperparameters to find the optimal configuration. The specified parameters included 'C', controlling the regularization strength, and 'gamma', determining the influence of individual training samples. The 'kernel' parameter was set to 'rbf', indicating the radial basis function kernel.\n",
    "\n",
    "After evaluating all combinations, the grid search identified the best model configuration where 'C' was set to 10 and 'gamma' to 1. This configuration achieved the highest performance, indicating that a regularization strength of 10 and a higher influence of individual training samples (gamma = 1) resulted in the most accurate classification of the Uber Eats reviews."
   ]
  },
  {
   "cell_type": "markdown",
   "metadata": {},
   "source": [
    "# 7. Validation with test Dataset <a id='validation'></a>\n",
    "\n",
    "[Back to top](#table_of_contents)"
   ]
  },
  {
   "cell_type": "code",
   "execution_count": 43,
   "metadata": {},
   "outputs": [
    {
     "data": {
      "text/html": [
       "<div>\n",
       "<style scoped>\n",
       "    .dataframe tbody tr th:only-of-type {\n",
       "        vertical-align: middle;\n",
       "    }\n",
       "\n",
       "    .dataframe tbody tr th {\n",
       "        vertical-align: top;\n",
       "    }\n",
       "\n",
       "    .dataframe thead th {\n",
       "        text-align: right;\n",
       "    }\n",
       "</style>\n",
       "<table border=\"1\" class=\"dataframe\">\n",
       "  <thead>\n",
       "    <tr style=\"text-align: right;\">\n",
       "      <th></th>\n",
       "      <th>stars</th>\n",
       "      <th>cleaned_text</th>\n",
       "      <th>sentiment</th>\n",
       "    </tr>\n",
       "  </thead>\n",
       "  <tbody>\n",
       "    <tr>\n",
       "      <th>0</th>\n",
       "      <td>1</td>\n",
       "      <td>['lately', 'common', 'wait', 'hour', 'food', '...</td>\n",
       "      <td>negative</td>\n",
       "    </tr>\n",
       "    <tr>\n",
       "      <th>1</th>\n",
       "      <td>5</td>\n",
       "      <td>['love', 'great', 'offer', 'good', 'selection'...</td>\n",
       "      <td>positive</td>\n",
       "    </tr>\n",
       "    <tr>\n",
       "      <th>2</th>\n",
       "      <td>1</td>\n",
       "      <td>['disappointed', 'app', 'used', 'long', 'time'...</td>\n",
       "      <td>negative</td>\n",
       "    </tr>\n",
       "    <tr>\n",
       "      <th>3</th>\n",
       "      <td>2</td>\n",
       "      <td>['fairly', 'easy', 'use', 'trying', 'find', 'h...</td>\n",
       "      <td>negative</td>\n",
       "    </tr>\n",
       "    <tr>\n",
       "      <th>4</th>\n",
       "      <td>4</td>\n",
       "      <td>['like', 'fact', 'u', 'ca', 'get', 'refund', '...</td>\n",
       "      <td>positive</td>\n",
       "    </tr>\n",
       "    <tr>\n",
       "      <th>...</th>\n",
       "      <td>...</td>\n",
       "      <td>...</td>\n",
       "      <td>...</td>\n",
       "    </tr>\n",
       "    <tr>\n",
       "      <th>8892</th>\n",
       "      <td>5</td>\n",
       "      <td>['food', 'good', 'delivery', 'took', 'forever'...</td>\n",
       "      <td>positive</td>\n",
       "    </tr>\n",
       "    <tr>\n",
       "      <th>8893</th>\n",
       "      <td>1</td>\n",
       "      <td>['whenever', 'never', 'sent', 'correct', 'item...</td>\n",
       "      <td>negative</td>\n",
       "    </tr>\n",
       "    <tr>\n",
       "      <th>8894</th>\n",
       "      <td>1</td>\n",
       "      <td>['delivery', 'driver', 'turn', 'incorrect', 'l...</td>\n",
       "      <td>negative</td>\n",
       "    </tr>\n",
       "    <tr>\n",
       "      <th>8895</th>\n",
       "      <td>5</td>\n",
       "      <td>['great', 'deal', 'buddy', 'pizza', 'buy', 'on...</td>\n",
       "      <td>positive</td>\n",
       "    </tr>\n",
       "    <tr>\n",
       "      <th>8896</th>\n",
       "      <td>5</td>\n",
       "      <td>['prompt', 'service', 'excellent', 'communicat...</td>\n",
       "      <td>positive</td>\n",
       "    </tr>\n",
       "  </tbody>\n",
       "</table>\n",
       "<p>8897 rows × 3 columns</p>\n",
       "</div>"
      ],
      "text/plain": [
       "      stars                                       cleaned_text sentiment\n",
       "0         1  ['lately', 'common', 'wait', 'hour', 'food', '...  negative\n",
       "1         5  ['love', 'great', 'offer', 'good', 'selection'...  positive\n",
       "2         1  ['disappointed', 'app', 'used', 'long', 'time'...  negative\n",
       "3         2  ['fairly', 'easy', 'use', 'trying', 'find', 'h...  negative\n",
       "4         4  ['like', 'fact', 'u', 'ca', 'get', 'refund', '...  positive\n",
       "...     ...                                                ...       ...\n",
       "8892      5  ['food', 'good', 'delivery', 'took', 'forever'...  positive\n",
       "8893      1  ['whenever', 'never', 'sent', 'correct', 'item...  negative\n",
       "8894      1  ['delivery', 'driver', 'turn', 'incorrect', 'l...  negative\n",
       "8895      5  ['great', 'deal', 'buddy', 'pizza', 'buy', 'on...  positive\n",
       "8896      5  ['prompt', 'service', 'excellent', 'communicat...  positive\n",
       "\n",
       "[8897 rows x 3 columns]"
      ]
     },
     "execution_count": 43,
     "metadata": {},
     "output_type": "execute_result"
    }
   ],
   "source": [
    "df_test = pd.read_csv('cleaned_data.csv')\n",
    "df_test"
   ]
  },
  {
   "cell_type": "code",
   "execution_count": 44,
   "metadata": {},
   "outputs": [],
   "source": [
    "# convert string representations of lists in 'cleaned_text' back to actual lists\n",
    "df_test['cleaned_text_list'] = df['cleaned_text'].apply(ast.literal_eval)\n",
    "\n",
    "# convert lists in 'cleaned_text_list' to strings\n",
    "df_test['cleaned_text_str'] = df['cleaned_text_list'].apply(' '.join)"
   ]
  },
  {
   "cell_type": "code",
   "execution_count": 45,
   "metadata": {},
   "outputs": [],
   "source": [
    "# initialize TF-IDF vectorizer\n",
    "vectorizer = TfidfVectorizer()"
   ]
  },
  {
   "cell_type": "code",
   "execution_count": 46,
   "metadata": {},
   "outputs": [],
   "source": [
    "# convert 'cleaned_text_str' into TF-IDF vectors\n",
    "X_val = vectorizer.fit_transform(df_test['cleaned_text_str'])\n",
    "\n",
    "# use 'sentiment' as target\n",
    "y_val = df_test['sentiment']"
   ]
  },
  {
   "cell_type": "code",
   "execution_count": 47,
   "metadata": {},
   "outputs": [],
   "source": [
    "# Use the SVM model to make predictions\n",
    "df_test['predicted_sentiment'] = svm_tuned.predict(X_val)"
   ]
  },
  {
   "cell_type": "code",
   "execution_count": 48,
   "metadata": {},
   "outputs": [
    {
     "data": {
      "text/html": [
       "<div>\n",
       "<style scoped>\n",
       "    .dataframe tbody tr th:only-of-type {\n",
       "        vertical-align: middle;\n",
       "    }\n",
       "\n",
       "    .dataframe tbody tr th {\n",
       "        vertical-align: top;\n",
       "    }\n",
       "\n",
       "    .dataframe thead th {\n",
       "        text-align: right;\n",
       "    }\n",
       "</style>\n",
       "<table border=\"1\" class=\"dataframe\">\n",
       "  <thead>\n",
       "    <tr style=\"text-align: right;\">\n",
       "      <th></th>\n",
       "      <th>stars</th>\n",
       "      <th>cleaned_text</th>\n",
       "      <th>sentiment</th>\n",
       "      <th>cleaned_text_list</th>\n",
       "      <th>cleaned_text_str</th>\n",
       "      <th>predicted_sentiment</th>\n",
       "    </tr>\n",
       "  </thead>\n",
       "  <tbody>\n",
       "    <tr>\n",
       "      <th>0</th>\n",
       "      <td>1</td>\n",
       "      <td>['lately', 'common', 'wait', 'hour', 'food', '...</td>\n",
       "      <td>negative</td>\n",
       "      <td>[lately, common, wait, hour, food, passed, dri...</td>\n",
       "      <td>lately common wait hour food passed driver one...</td>\n",
       "      <td>0</td>\n",
       "    </tr>\n",
       "    <tr>\n",
       "      <th>1</th>\n",
       "      <td>5</td>\n",
       "      <td>['love', 'great', 'offer', 'good', 'selection'...</td>\n",
       "      <td>positive</td>\n",
       "      <td>[love, great, offer, good, selection, food, sh...</td>\n",
       "      <td>love great offer good selection food shopping ...</td>\n",
       "      <td>2</td>\n",
       "    </tr>\n",
       "    <tr>\n",
       "      <th>2</th>\n",
       "      <td>1</td>\n",
       "      <td>['disappointed', 'app', 'used', 'long', 'time'...</td>\n",
       "      <td>negative</td>\n",
       "      <td>[disappointed, app, used, long, time, service,...</td>\n",
       "      <td>disappointed app used long time service fee ke...</td>\n",
       "      <td>0</td>\n",
       "    </tr>\n",
       "    <tr>\n",
       "      <th>3</th>\n",
       "      <td>2</td>\n",
       "      <td>['fairly', 'easy', 'use', 'trying', 'find', 'h...</td>\n",
       "      <td>negative</td>\n",
       "      <td>[fairly, easy, use, trying, find, happening, c...</td>\n",
       "      <td>fairly easy use trying find happening contacti...</td>\n",
       "      <td>0</td>\n",
       "    </tr>\n",
       "    <tr>\n",
       "      <th>4</th>\n",
       "      <td>4</td>\n",
       "      <td>['like', 'fact', 'u', 'ca', 'get', 'refund', '...</td>\n",
       "      <td>positive</td>\n",
       "      <td>[like, fact, u, ca, get, refund, unless, u, ta...</td>\n",
       "      <td>like fact u ca get refund unless u take pictur...</td>\n",
       "      <td>2</td>\n",
       "    </tr>\n",
       "  </tbody>\n",
       "</table>\n",
       "</div>"
      ],
      "text/plain": [
       "   stars                                       cleaned_text sentiment  \\\n",
       "0      1  ['lately', 'common', 'wait', 'hour', 'food', '...  negative   \n",
       "1      5  ['love', 'great', 'offer', 'good', 'selection'...  positive   \n",
       "2      1  ['disappointed', 'app', 'used', 'long', 'time'...  negative   \n",
       "3      2  ['fairly', 'easy', 'use', 'trying', 'find', 'h...  negative   \n",
       "4      4  ['like', 'fact', 'u', 'ca', 'get', 'refund', '...  positive   \n",
       "\n",
       "                                   cleaned_text_list  \\\n",
       "0  [lately, common, wait, hour, food, passed, dri...   \n",
       "1  [love, great, offer, good, selection, food, sh...   \n",
       "2  [disappointed, app, used, long, time, service,...   \n",
       "3  [fairly, easy, use, trying, find, happening, c...   \n",
       "4  [like, fact, u, ca, get, refund, unless, u, ta...   \n",
       "\n",
       "                                    cleaned_text_str  predicted_sentiment  \n",
       "0  lately common wait hour food passed driver one...                    0  \n",
       "1  love great offer good selection food shopping ...                    2  \n",
       "2  disappointed app used long time service fee ke...                    0  \n",
       "3  fairly easy use trying find happening contacti...                    0  \n",
       "4  like fact u ca get refund unless u take pictur...                    2  "
      ]
     },
     "execution_count": 48,
     "metadata": {},
     "output_type": "execute_result"
    }
   ],
   "source": [
    "df_test.head()"
   ]
  },
  {
   "cell_type": "code",
   "execution_count": 49,
   "metadata": {},
   "outputs": [
    {
     "data": {
      "text/html": [
       "<div>\n",
       "<style scoped>\n",
       "    .dataframe tbody tr th:only-of-type {\n",
       "        vertical-align: middle;\n",
       "    }\n",
       "\n",
       "    .dataframe tbody tr th {\n",
       "        vertical-align: top;\n",
       "    }\n",
       "\n",
       "    .dataframe thead th {\n",
       "        text-align: right;\n",
       "    }\n",
       "</style>\n",
       "<table border=\"1\" class=\"dataframe\">\n",
       "  <thead>\n",
       "    <tr style=\"text-align: right;\">\n",
       "      <th></th>\n",
       "      <th>stars</th>\n",
       "      <th>cleaned_text</th>\n",
       "      <th>sentiment</th>\n",
       "      <th>cleaned_text_list</th>\n",
       "      <th>cleaned_text_str</th>\n",
       "      <th>predicted_sentiment</th>\n",
       "      <th>sentiment_encoded</th>\n",
       "    </tr>\n",
       "  </thead>\n",
       "  <tbody>\n",
       "    <tr>\n",
       "      <th>0</th>\n",
       "      <td>1</td>\n",
       "      <td>['lately', 'common', 'wait', 'hour', 'food', '...</td>\n",
       "      <td>negative</td>\n",
       "      <td>[lately, common, wait, hour, food, passed, dri...</td>\n",
       "      <td>lately common wait hour food passed driver one...</td>\n",
       "      <td>0</td>\n",
       "      <td>0</td>\n",
       "    </tr>\n",
       "    <tr>\n",
       "      <th>1</th>\n",
       "      <td>5</td>\n",
       "      <td>['love', 'great', 'offer', 'good', 'selection'...</td>\n",
       "      <td>positive</td>\n",
       "      <td>[love, great, offer, good, selection, food, sh...</td>\n",
       "      <td>love great offer good selection food shopping ...</td>\n",
       "      <td>2</td>\n",
       "      <td>2</td>\n",
       "    </tr>\n",
       "    <tr>\n",
       "      <th>2</th>\n",
       "      <td>1</td>\n",
       "      <td>['disappointed', 'app', 'used', 'long', 'time'...</td>\n",
       "      <td>negative</td>\n",
       "      <td>[disappointed, app, used, long, time, service,...</td>\n",
       "      <td>disappointed app used long time service fee ke...</td>\n",
       "      <td>0</td>\n",
       "      <td>0</td>\n",
       "    </tr>\n",
       "    <tr>\n",
       "      <th>3</th>\n",
       "      <td>2</td>\n",
       "      <td>['fairly', 'easy', 'use', 'trying', 'find', 'h...</td>\n",
       "      <td>negative</td>\n",
       "      <td>[fairly, easy, use, trying, find, happening, c...</td>\n",
       "      <td>fairly easy use trying find happening contacti...</td>\n",
       "      <td>0</td>\n",
       "      <td>0</td>\n",
       "    </tr>\n",
       "    <tr>\n",
       "      <th>4</th>\n",
       "      <td>4</td>\n",
       "      <td>['like', 'fact', 'u', 'ca', 'get', 'refund', '...</td>\n",
       "      <td>positive</td>\n",
       "      <td>[like, fact, u, ca, get, refund, unless, u, ta...</td>\n",
       "      <td>like fact u ca get refund unless u take pictur...</td>\n",
       "      <td>2</td>\n",
       "      <td>2</td>\n",
       "    </tr>\n",
       "  </tbody>\n",
       "</table>\n",
       "</div>"
      ],
      "text/plain": [
       "   stars                                       cleaned_text sentiment  \\\n",
       "0      1  ['lately', 'common', 'wait', 'hour', 'food', '...  negative   \n",
       "1      5  ['love', 'great', 'offer', 'good', 'selection'...  positive   \n",
       "2      1  ['disappointed', 'app', 'used', 'long', 'time'...  negative   \n",
       "3      2  ['fairly', 'easy', 'use', 'trying', 'find', 'h...  negative   \n",
       "4      4  ['like', 'fact', 'u', 'ca', 'get', 'refund', '...  positive   \n",
       "\n",
       "                                   cleaned_text_list  \\\n",
       "0  [lately, common, wait, hour, food, passed, dri...   \n",
       "1  [love, great, offer, good, selection, food, sh...   \n",
       "2  [disappointed, app, used, long, time, service,...   \n",
       "3  [fairly, easy, use, trying, find, happening, c...   \n",
       "4  [like, fact, u, ca, get, refund, unless, u, ta...   \n",
       "\n",
       "                                    cleaned_text_str  predicted_sentiment  \\\n",
       "0  lately common wait hour food passed driver one...                    0   \n",
       "1  love great offer good selection food shopping ...                    2   \n",
       "2  disappointed app used long time service fee ke...                    0   \n",
       "3  fairly easy use trying find happening contacti...                    0   \n",
       "4  like fact u ca get refund unless u take pictur...                    2   \n",
       "\n",
       "   sentiment_encoded  \n",
       "0                  0  \n",
       "1                  2  \n",
       "2                  0  \n",
       "3                  0  \n",
       "4                  2  "
      ]
     },
     "execution_count": 49,
     "metadata": {},
     "output_type": "execute_result"
    }
   ],
   "source": [
    "# Map the sentiments to the same encoding as predicted_sentiment\n",
    "sentiment_mapping = {'negative': 0, 'neutral': 1, 'positive': 2}\n",
    "df_test['sentiment_encoded'] = df_test['sentiment'].map(sentiment_mapping)\n",
    "df_test.head()"
   ]
  },
  {
   "cell_type": "code",
   "execution_count": 50,
   "metadata": {},
   "outputs": [
    {
     "name": "stdout",
     "output_type": "stream",
     "text": [
      "Accuracy: 0.9933685511970327\n"
     ]
    }
   ],
   "source": [
    "# Calculate the accuracy\n",
    "accuracy = accuracy_score(df_test['sentiment_encoded'], df_test['predicted_sentiment'])\n",
    "print(f'Accuracy: {accuracy}')"
   ]
  },
  {
   "cell_type": "code",
   "execution_count": 51,
   "metadata": {},
   "outputs": [
    {
     "ename": "TypeError",
     "evalue": "f1_score() got an unexpected keyword argument 'average'",
     "output_type": "error",
     "traceback": [
      "\u001b[1;31m---------------------------------------------------------------------------\u001b[0m",
      "\u001b[1;31mTypeError\u001b[0m                                 Traceback (most recent call last)",
      "Cell \u001b[1;32mIn[51], line 2\u001b[0m\n\u001b[0;32m      1\u001b[0m \u001b[38;5;66;03m# Calculate the F1 score\u001b[39;00m\n\u001b[1;32m----> 2\u001b[0m f1 \u001b[38;5;241m=\u001b[39m \u001b[43mf1_score\u001b[49m\u001b[43m(\u001b[49m\u001b[43mdf_test\u001b[49m\u001b[43m[\u001b[49m\u001b[38;5;124;43m'\u001b[39;49m\u001b[38;5;124;43msentiment_encoded\u001b[39;49m\u001b[38;5;124;43m'\u001b[39;49m\u001b[43m]\u001b[49m\u001b[43m,\u001b[49m\u001b[43m \u001b[49m\u001b[43mdf_test\u001b[49m\u001b[43m[\u001b[49m\u001b[38;5;124;43m'\u001b[39;49m\u001b[38;5;124;43mpredicted_sentiment\u001b[39;49m\u001b[38;5;124;43m'\u001b[39;49m\u001b[43m]\u001b[49m\u001b[43m,\u001b[49m\u001b[43m \u001b[49m\u001b[43maverage\u001b[49m\u001b[38;5;241;43m=\u001b[39;49m\u001b[38;5;124;43m'\u001b[39;49m\u001b[38;5;124;43mweighted\u001b[39;49m\u001b[38;5;124;43m'\u001b[39;49m\u001b[43m)\u001b[49m\n\u001b[0;32m      3\u001b[0m \u001b[38;5;28mprint\u001b[39m(\u001b[38;5;124m'\u001b[39m\u001b[38;5;124mF1 Score:\u001b[39m\u001b[38;5;124m'\u001b[39m, f1)\n",
      "\u001b[1;31mTypeError\u001b[0m: f1_score() got an unexpected keyword argument 'average'"
     ]
    }
   ],
   "source": [
    "# Calculate the F1 score\n",
    "f1 = f1_score(df_test['sentiment_encoded'], df_test['predicted_sentiment'], average='weighted')\n",
    "print('F1 Score:', f1)"
   ]
  },
  {
   "cell_type": "code",
   "execution_count": null,
   "metadata": {},
   "outputs": [
    {
     "name": "stdout",
     "output_type": "stream",
     "text": [
      "Recall: 0.9946049230077554\n"
     ]
    }
   ],
   "source": [
    "# Calculate the recall\n",
    "recall = recall_score(df_test['sentiment_encoded'], df_test['predicted_sentiment'], average='weighted')\n",
    "print('Recall:', recall)"
   ]
  },
  {
   "cell_type": "code",
   "execution_count": null,
   "metadata": {},
   "outputs": [
    {
     "name": "stdout",
     "output_type": "stream",
     "text": [
      "Precision: 0.9946250792727017\n"
     ]
    }
   ],
   "source": [
    "precision = precision_score(df_test['sentiment_encoded'], df_test['predicted_sentiment'], average='weighted')\n",
    "print('Precision:', precision)"
   ]
  },
  {
   "cell_type": "code",
   "execution_count": null,
   "metadata": {},
   "outputs": [
    {
     "data": {
      "image/png": "[encoded data removed]",
      "text/plain": [
       "<Figure size 1000x700 with 2 Axes>"
      ]
     },
     "metadata": {},
     "output_type": "display_data"
    }
   ],
   "source": [
    "confusion = confusion_matrix(df_test['sentiment_encoded'], df_test['predicted_sentiment'])\n",
    "\n",
    "plt.figure(figsize=(10,7))\n",
    "sns.heatmap(confusion, annot=True, fmt='d', cmap='Blues')\n",
    "plt.xlabel('Predicted')\n",
    "plt.ylabel('True')\n",
    "plt.title('Confusion Matrix')\n",
    "plt.show()"
   ]
  },
  {
   "cell_type": "code",
   "execution_count": null,
   "metadata": {},
   "outputs": [
    {
     "data": {
      "image/png": "[encoded data removed]",
      "text/plain": [
       "<Figure size 640x480 with 1 Axes>"
      ]
     },
     "metadata": {},
     "output_type": "display_data"
    }
   ],
   "source": [
    "import numpy as np\n",
    "from sklearn.metrics import roc_curve, auc\n",
    "from sklearn.preprocessing import label_binarize\n",
    "from sklearn.multiclass import OneVsRestClassifier\n",
    "import matplotlib.pyplot as plt\n",
    "\n",
    "# Binarize the output\n",
    "y = label_binarize(df_test['sentiment_encoded'], classes=[0, 1, 2])\n",
    "n_classes = y.shape[1]\n",
    "\n",
    "# Learn to predict each class against the other\n",
    "classifier = OneVsRestClassifier(svm_tuned)\n",
    "y_score = classifier.fit(X_train_over, y_train_over).decision_function(X_val)\n",
    "\n",
    "# Compute ROC curve and ROC area for each class\n",
    "fpr = dict()\n",
    "tpr = dict()\n",
    "roc_auc = dict()\n",
    "for i in range(n_classes):\n",
    "    fpr[i], tpr[i], _ = roc_curve(y[:, i], y_score[:, i])\n",
    "    roc_auc[i] = auc(fpr[i], tpr[i])\n",
    "\n",
    "# Define colors for the different classes\n",
    "colors = ['aqua', 'darkorange', 'cornflowerblue']\n",
    "\n",
    "# Plot all ROC curves\n",
    "plt.figure()\n",
    "for i, color in zip(range(n_classes), colors):\n",
    "    plt.plot(fpr[i], tpr[i], color=color, lw=2,\n",
    "             label='ROC curve of class {0} (area = {1:0.2f})'\n",
    "             ''.format(i, roc_auc[i]))\n",
    "\n",
    "plt.plot([0, 1], [0, 1], 'k--', lw=2)\n",
    "plt.xlim([0.0, 1.0])\n",
    "plt.ylim([0.0, 1.05])\n",
    "plt.xlabel('False Positive Rate')\n",
    "plt.ylabel('True Positive Rate')\n",
    "plt.title('Receiver operating characteristic for multi-class data')\n",
    "plt.legend(loc=\"lower right\")\n",
    "plt.show()"
   ]
  }
 ],
 "metadata": {
  "kernelspec": {
   "display_name": "Python 3",
   "language": "python",
   "name": "python3"
  },
  "language_info": {
   "codemirror_mode": {
    "name": "ipython",
    "version": 3
   },
   "file_extension": ".py",
   "mimetype": "text/x-python",
   "name": "python",
   "nbconvert_exporter": "python",
   "pygments_lexer": "ipython3",
   "version": "3.11.8"
  }
 },
 "nbformat": 4,
 "nbformat_minor": 2
}
