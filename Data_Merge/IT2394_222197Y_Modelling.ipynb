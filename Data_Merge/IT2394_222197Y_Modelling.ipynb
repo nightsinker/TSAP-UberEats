{
 "cells": [
  {
   "cell_type": "markdown",
   "metadata": {},
   "source": [
    "# Introduction\n",
    "The project aims to develop a text classification model for Uber Eats reviews, enhancing customer satisfaction by categorizing sentiments as positive, negative, or neutral. With a surge in low ratings threatening its reputation, Uber Eats seeks strategic improvements to address issues with app functionality, food quality, and service standards. By systematically analyzing Reviews, the proposed model offers vital insights into customer sentiments, enabling targeted enhancements to maintain competitiveness amidst fierce industry rivalry with Deliveroo and Grab.\n",
    "\n",
    "\n",
    "\n",
    "# Dataset\n",
    "The project leverages multiple datasets, including Google Playstore, Consumer Affairs, Trust Pilot, Product Review, and Sitejabber. These diverse sources provide a comprehensive range of customer feedback on Uber Eats, offering insights into various aspects of user experience and satisfaction. By aggregating data from these platforms, the text classification model gains a robust understanding of customer sentiments, facilitating targeted improvements to enhance service quality.\n"
   ]
  },
  {
   "cell_type": "markdown",
   "metadata": {},
   "source": [
    "<a id='table_of_contents'></a>\n",
    "\n",
    "1. [Import libraries](#imports)\n",
    "2. [Import data](#import_data)\n",
    "3. [Data exploration](#data_exploration)\n",
    "4. [Data cleaning and preparation](#data_cleaning)\n",
    "5. [Model training](#model_training)<br>\n",
    "6. [Tuning](#tuning)<br>\n",
    "7. [Validation](#validation)<br>"
   ]
  },
  {
   "cell_type": "markdown",
   "metadata": {},
   "source": [
    "# 1. Import libraries <a id='imports'></a>\n",
    "[Back to top](#table_of_contents)"
   ]
  },
  {
   "cell_type": "code",
   "execution_count": 31,
   "metadata": {},
   "outputs": [],
   "source": [
    "import pandas as pd\n",
    "import numpy as np\n",
    "import matplotlib.pyplot as plt\n",
    "import re\n",
    "import ast\n",
    "from dateutil import parser\n",
    "from collections import Counter\n",
    "\n",
    "from sklearn.feature_extraction.text import TfidfVectorizer\n",
    "from sklearn.naive_bayes import MultinomialNB, BernoulliNB, GaussianNB\n",
    "from sklearn.model_selection import train_test_split\n",
    "from sklearn.metrics import classification_report, precision_score, recall_score, f1_score, confusion_matrix, roc_auc_score, roc_curve, auc, accuracy_score\n",
    "from sklearn.linear_model import LogisticRegression\n",
    "from sklearn.preprocessing import OrdinalEncoder, label_binarize\n",
    "from sklearn.ensemble import RandomForestClassifier\n",
    "from sklearn.tree import DecisionTreeClassifier\n",
    "from sklearn.svm import SVC\n",
    "\n",
    "\n",
    "from imblearn.over_sampling import RandomOverSampler\n",
    "from imblearn.under_sampling import RandomUnderSampler\n",
    "\n",
    "from vaderSentiment.vaderSentiment import SentimentIntensityAnalyzer\n",
    "\n",
    "import tensorflow as tf\n",
    "from keras.preprocessing.text import Tokenizer\n",
    "from keras_preprocessing.sequence import pad_sequences\n",
    "from keras.models import Sequential\n",
    "from keras import layers\n",
    "from keras.layers import Dense\n",
    "from keras.utils import to_categorical\n",
    "from keras.utils import to_categorical\n",
    "\n",
    "\n",
    "import seaborn as sns\n",
    "\n",
    "import warnings\n",
    "warnings.filterwarnings('ignore')"
   ]
  },
  {
   "cell_type": "markdown",
   "metadata": {},
   "source": [
    "# 2. Import data <a id='import_data'></a>\n",
    "[Back to top](#table_of_contents)"
   ]
  },
  {
   "cell_type": "code",
   "execution_count": 32,
   "metadata": {},
   "outputs": [
    {
     "data": {
      "text/html": [
       "<div>\n",
       "<style scoped>\n",
       "    .dataframe tbody tr th:only-of-type {\n",
       "        vertical-align: middle;\n",
       "    }\n",
       "\n",
       "    .dataframe tbody tr th {\n",
       "        vertical-align: top;\n",
       "    }\n",
       "\n",
       "    .dataframe thead th {\n",
       "        text-align: right;\n",
       "    }\n",
       "</style>\n",
       "<table border=\"1\" class=\"dataframe\">\n",
       "  <thead>\n",
       "    <tr style=\"text-align: right;\">\n",
       "      <th></th>\n",
       "      <th>stars</th>\n",
       "      <th>cleaned_text</th>\n",
       "      <th>sentiment</th>\n",
       "    </tr>\n",
       "  </thead>\n",
       "  <tbody>\n",
       "    <tr>\n",
       "      <th>0</th>\n",
       "      <td>1</td>\n",
       "      <td>['lately', 'common', 'wait', 'hour', 'food', '...</td>\n",
       "      <td>negative</td>\n",
       "    </tr>\n",
       "    <tr>\n",
       "      <th>1</th>\n",
       "      <td>5</td>\n",
       "      <td>['love', 'great', 'offer', 'good', 'selection'...</td>\n",
       "      <td>positive</td>\n",
       "    </tr>\n",
       "    <tr>\n",
       "      <th>2</th>\n",
       "      <td>1</td>\n",
       "      <td>['disappointed', 'app', 'used', 'long', 'time'...</td>\n",
       "      <td>negative</td>\n",
       "    </tr>\n",
       "    <tr>\n",
       "      <th>3</th>\n",
       "      <td>2</td>\n",
       "      <td>['fairly', 'easy', 'use', 'trying', 'find', 'h...</td>\n",
       "      <td>negative</td>\n",
       "    </tr>\n",
       "    <tr>\n",
       "      <th>4</th>\n",
       "      <td>4</td>\n",
       "      <td>['like', 'fact', 'u', 'ca', 'get', 'refund', '...</td>\n",
       "      <td>positive</td>\n",
       "    </tr>\n",
       "    <tr>\n",
       "      <th>...</th>\n",
       "      <td>...</td>\n",
       "      <td>...</td>\n",
       "      <td>...</td>\n",
       "    </tr>\n",
       "    <tr>\n",
       "      <th>8892</th>\n",
       "      <td>5</td>\n",
       "      <td>['food', 'good', 'delivery', 'took', 'forever'...</td>\n",
       "      <td>positive</td>\n",
       "    </tr>\n",
       "    <tr>\n",
       "      <th>8893</th>\n",
       "      <td>1</td>\n",
       "      <td>['whenever', 'never', 'sent', 'correct', 'item...</td>\n",
       "      <td>negative</td>\n",
       "    </tr>\n",
       "    <tr>\n",
       "      <th>8894</th>\n",
       "      <td>1</td>\n",
       "      <td>['delivery', 'driver', 'turn', 'incorrect', 'l...</td>\n",
       "      <td>negative</td>\n",
       "    </tr>\n",
       "    <tr>\n",
       "      <th>8895</th>\n",
       "      <td>5</td>\n",
       "      <td>['great', 'deal', 'buddy', 'pizza', 'buy', 'on...</td>\n",
       "      <td>positive</td>\n",
       "    </tr>\n",
       "    <tr>\n",
       "      <th>8896</th>\n",
       "      <td>5</td>\n",
       "      <td>['prompt', 'service', 'excellent', 'communicat...</td>\n",
       "      <td>positive</td>\n",
       "    </tr>\n",
       "  </tbody>\n",
       "</table>\n",
       "<p>8897 rows × 3 columns</p>\n",
       "</div>"
      ],
      "text/plain": [
       "      stars                                       cleaned_text sentiment\n",
       "0         1  ['lately', 'common', 'wait', 'hour', 'food', '...  negative\n",
       "1         5  ['love', 'great', 'offer', 'good', 'selection'...  positive\n",
       "2         1  ['disappointed', 'app', 'used', 'long', 'time'...  negative\n",
       "3         2  ['fairly', 'easy', 'use', 'trying', 'find', 'h...  negative\n",
       "4         4  ['like', 'fact', 'u', 'ca', 'get', 'refund', '...  positive\n",
       "...     ...                                                ...       ...\n",
       "8892      5  ['food', 'good', 'delivery', 'took', 'forever'...  positive\n",
       "8893      1  ['whenever', 'never', 'sent', 'correct', 'item...  negative\n",
       "8894      1  ['delivery', 'driver', 'turn', 'incorrect', 'l...  negative\n",
       "8895      5  ['great', 'deal', 'buddy', 'pizza', 'buy', 'on...  positive\n",
       "8896      5  ['prompt', 'service', 'excellent', 'communicat...  positive\n",
       "\n",
       "[8897 rows x 3 columns]"
      ]
     },
     "execution_count": 32,
     "metadata": {},
     "output_type": "execute_result"
    }
   ],
   "source": [
    "df = pd.read_csv('cleaned_data.csv')\n",
    "df"
   ]
  },
  {
   "cell_type": "markdown",
   "metadata": {},
   "source": [
    "# 3. Data exploration <a id='data_exploration'></a>\n",
    "[Back to top](#table_of_contents)"
   ]
  },
  {
   "cell_type": "code",
   "execution_count": 33,
   "metadata": {},
   "outputs": [
    {
     "data": {
      "image/png": "[encoded data removed]",
      "text/plain": [
       "<Figure size 1000x700 with 1 Axes>"
      ]
     },
     "metadata": {},
     "output_type": "display_data"
    }
   ],
   "source": [
    "# Count the number of each sentiment\n",
    "sentiment_counts = df['sentiment'].value_counts()\n",
    "\n",
    "# Plot bar chart\n",
    "sentiment_counts.plot(kind='bar', figsize=(10,7))\n",
    "\n",
    "plt.title('Count of Sentiments')\n",
    "plt.xlabel('Sentiment')\n",
    "plt.ylabel('Count')\n",
    "plt.xticks(rotation=45)\n",
    "plt.show()"
   ]
  },
  {
   "cell_type": "markdown",
   "metadata": {},
   "source": [
    "# 4. Data cleaning and preparation <a id='data_cleaning'></a>\n",
    "[Back to top](#table_of_contents)"
   ]
  },
  {
   "cell_type": "code",
   "execution_count": 34,
   "metadata": {},
   "outputs": [],
   "source": [
    "#  convert string representations of lists in 'cleaned_text' back to actual lists\n",
    "df['cleaned_text_list'] = df['cleaned_text'].apply(ast.literal_eval)\n",
    "\n",
    "# convert lists in 'cleaned_text_list' to strings\n",
    "df['cleaned_text_str'] = df['cleaned_text_list'].apply(' '.join)"
   ]
  },
  {
   "cell_type": "code",
   "execution_count": 35,
   "metadata": {},
   "outputs": [],
   "source": [
    "# initialize TF-IDF vectorizer\n",
    "vectorizer = TfidfVectorizer()"
   ]
  },
  {
   "cell_type": "code",
   "execution_count": 36,
   "metadata": {},
   "outputs": [],
   "source": [
    "# convert 'cleaned_text_str' into TF-IDF vectors\n",
    "X = vectorizer.fit_transform(df['cleaned_text_str'])\n",
    "\n",
    "# use 'sentiment' as target\n",
    "y = df['sentiment']"
   ]
  },
  {
   "cell_type": "code",
   "execution_count": 37,
   "metadata": {},
   "outputs": [],
   "source": [
    "# Define oversampling strategy\n",
    "over = RandomOverSampler(sampling_strategy='auto')\n",
    "\n",
    "# Fit and apply the transform\n",
    "X_over, y_over = over.fit_resample(X, y)\n",
    "\n",
    "# Define undersampling strategy\n",
    "under = RandomUnderSampler(sampling_strategy='auto')\n",
    "\n",
    "# Fit and apply the transform\n",
    "X_under, y_under = under.fit_resample(X, y)"
   ]
  },
  {
   "cell_type": "markdown",
   "metadata": {},
   "source": [
    "# 5. Model training <a id='model_training'></a>\n",
    "[Back to top](#table_of_contents)"
   ]
  },
  {
   "cell_type": "code",
   "execution_count": 38,
   "metadata": {},
   "outputs": [],
   "source": [
    "# split the oversampled data into training and test sets\n",
    "X_train_over, X_test_over, y_train_over, y_test_over = train_test_split(X_over, y_over, test_size=0.2, random_state=42)"
   ]
  },
  {
   "cell_type": "code",
   "execution_count": 39,
   "metadata": {},
   "outputs": [],
   "source": [
    "# split the undersampled data into training and test sets\n",
    "X_train_under, X_test_under, y_train_under, y_test_under = train_test_split(X_under, y_under, test_size=0.2, random_state=42)"
   ]
  },
  {
   "cell_type": "markdown",
   "metadata": {},
   "source": [
    "## Logistic Regression"
   ]
  },
  {
   "cell_type": "code",
   "execution_count": 40,
   "metadata": {},
   "outputs": [
    {
     "name": "stdout",
     "output_type": "stream",
     "text": [
      "Logistic Regression Metrics for Oversampled Data:\n",
      "              precision    recall  f1-score   support\n",
      "\n",
      "    negative       0.95      0.90      0.92      1209\n",
      "     neutral       0.92      1.00      0.96      1238\n",
      "    positive       0.95      0.92      0.94      1194\n",
      "\n",
      "    accuracy                           0.94      3641\n",
      "   macro avg       0.94      0.94      0.94      3641\n",
      "weighted avg       0.94      0.94      0.94      3641\n",
      "\n",
      "\n",
      "Accuracy:  0.9393023894534469\n",
      "\n",
      "Precision:  0.9401773276185437\n",
      "\n",
      "Recall:  0.9393023894534469\n",
      "\n",
      "F1 Score:  0.9389018265690212\n"
     ]
    }
   ],
   "source": [
    "# initialize and train the Logistic Regression model on the oversampled data\n",
    "lr_model_over = LogisticRegression()\n",
    "lr_model_over.fit(X_train_over, y_train_over)\n",
    "\n",
    "# make predictions on the test set\n",
    "y_pred_over = lr_model_over.predict(X_test_over)\n",
    "\n",
    "# print classification report for the oversampled data\n",
    "print(\"Logistic Regression Metrics for Oversampled Data:\")\n",
    "print(classification_report(y_test_over, y_pred_over))\n",
    "\n",
    "# print accuracy\n",
    "print(\"\\nAccuracy: \", accuracy_score(y_test_over, y_pred_over))\n",
    "\n",
    "# print precision\n",
    "print(\"\\nPrecision: \", precision_score(y_test_over, y_pred_over, average='weighted'))\n",
    "\n",
    "# print recall\n",
    "print(\"\\nRecall: \", recall_score(y_test_over, y_pred_over, average='weighted'))\n",
    "\n",
    "# print F1 score\n",
    "print(\"\\nF1 Score: \", f1_score(y_test_over, y_pred_over, average='weighted'))"
   ]
  },
  {
   "cell_type": "code",
   "execution_count": 41,
   "metadata": {},
   "outputs": [
    {
     "data": {
      "image/png": "[encoded data removed]",
      "text/plain": [
       "<Figure size 1000x700 with 2 Axes>"
      ]
     },
     "metadata": {},
     "output_type": "display_data"
    }
   ],
   "source": [
    "# Calculate the confusion matrix\n",
    "cm = confusion_matrix(y_test_over, y_pred_over)\n",
    "\n",
    "# Plot the confusion matrix\n",
    "plt.figure(figsize=(10,7))\n",
    "sns.heatmap(cm, annot=True, fmt='d', cmap='Blues')\n",
    "plt.xlabel('Predicted')\n",
    "plt.ylabel('Truth')\n",
    "plt.show()"
   ]
  },
  {
   "cell_type": "code",
   "execution_count": 42,
   "metadata": {},
   "outputs": [
    {
     "name": "stdout",
     "output_type": "stream",
     "text": [
      "\n",
      "Logistic Regression Metrics for Undersampled Data:\n",
      "              precision    recall  f1-score   support\n",
      "\n",
      "    negative       0.79      0.79      0.79        84\n",
      "     neutral       0.64      0.62      0.63        77\n",
      "    positive       0.83      0.85      0.84        73\n",
      "\n",
      "    accuracy                           0.75       234\n",
      "   macro avg       0.75      0.75      0.75       234\n",
      "weighted avg       0.75      0.75      0.75       234\n",
      "\n"
     ]
    }
   ],
   "source": [
    "# initialize and train the Logistic Regression model on the undersampled data\n",
    "lr_model_under = LogisticRegression()\n",
    "lr_model_under.fit(X_train_under, y_train_under)\n",
    "\n",
    "# make predictions on the test set\n",
    "y_pred_under = lr_model_under.predict(X_test_under)\n",
    "\n",
    "# print classification report for the undersampled data\n",
    "print(\"\\nLogistic Regression Metrics for Undersampled Data:\")\n",
    "print(classification_report(y_test_under, y_pred_under))"
   ]
  },
  {
   "cell_type": "code",
   "execution_count": 43,
   "metadata": {},
   "outputs": [
    {
     "name": "stdout",
     "output_type": "stream",
     "text": [
      "\n",
      "Accuracy:  0.7521367521367521\n",
      "\n",
      "Precision:  0.7505413105413106\n",
      "\n",
      "Recall:  0.7521367521367521\n",
      "\n",
      "F1 Score:  0.7512553038868828\n"
     ]
    }
   ],
   "source": [
    "# make predictions on the test set for undersampled data\n",
    "y_pred_under = lr_model_under.predict(X_test_under)\n",
    "\n",
    "# print accuracy\n",
    "print(\"\\nAccuracy: \", accuracy_score(y_test_under, y_pred_under))\n",
    "\n",
    "# print precision\n",
    "print(\"\\nPrecision: \", precision_score(y_test_under, y_pred_under, average='weighted'))\n",
    "\n",
    "# print recall\n",
    "print(\"\\nRecall: \", recall_score(y_test_under, y_pred_under, average='weighted'))\n",
    "\n",
    "# print F1 score\n",
    "print(\"\\nF1 Score: \", f1_score(y_test_under, y_pred_under, average='weighted'))"
   ]
  },
  {
   "cell_type": "code",
   "execution_count": 44,
   "metadata": {},
   "outputs": [
    {
     "data": {
      "image/png": "[encoded data removed]",
      "text/plain": [
       "<Figure size 1000x700 with 2 Axes>"
      ]
     },
     "metadata": {},
     "output_type": "display_data"
    }
   ],
   "source": [
    "# Calculate the confusion matrix\n",
    "cm = confusion_matrix(y_test_over, y_pred_over)\n",
    "\n",
    "# Plot the confusion matrix\n",
    "plt.figure(figsize=(10,7))\n",
    "sns.heatmap(cm, annot=True, fmt='d', cmap='Blues')\n",
    "plt.xlabel('Predicted')\n",
    "plt.ylabel('Truth')\n",
    "plt.show()"
   ]
  },
  {
   "cell_type": "markdown",
   "metadata": {},
   "source": [
    "Here are some reasons why the above has happend\n",
    "\n",
    "Loss of Information: When you undersample, you're essentially discarding potentially useful information. The randomly removed instances from the majority class could contain important information that the model needs to correctly classify new instances.\n",
    "\n",
    "Overfitting: If the minority class is very small compared to the majority class, undersampling can lead to overfitting. The model trained on the undersampled dataset might not generalize well to new, unseen data.\n",
    "\n",
    "Representation: The undersampled dataset may not adequately represent the majority class, especially if the class is not homogeneous. This can lead to a model that performs poorly on the majority class."
   ]
  },
  {
   "cell_type": "markdown",
   "metadata": {},
   "source": [
    "# Naives Bayes Models\n",
    "### Gaussian Naive Bayes Model"
   ]
  },
  {
   "cell_type": "code",
   "execution_count": 45,
   "metadata": {},
   "outputs": [
    {
     "data": {
      "text/html": [
       "<style>#sk-container-id-7 {color: black;}#sk-container-id-7 pre{padding: 0;}#sk-container-id-7 div.sk-toggleable {background-color: white;}#sk-container-id-7 label.sk-toggleable__label {cursor: pointer;display: block;width: 100%;margin-bottom: 0;padding: 0.3em;box-sizing: border-box;text-align: center;}#sk-container-id-7 label.sk-toggleable__label-arrow:before {content: \"▸\";float: left;margin-right: 0.25em;color: #696969;}#sk-container-id-7 label.sk-toggleable__label-arrow:hover:before {color: black;}#sk-container-id-7 div.sk-estimator:hover label.sk-toggleable__label-arrow:before {color: black;}#sk-container-id-7 div.sk-toggleable__content {max-height: 0;max-width: 0;overflow: hidden;text-align: left;background-color: #f0f8ff;}#sk-container-id-7 div.sk-toggleable__content pre {margin: 0.2em;color: black;border-radius: 0.25em;background-color: #f0f8ff;}#sk-container-id-7 input.sk-toggleable__control:checked~div.sk-toggleable__content {max-height: 200px;max-width: 100%;overflow: auto;}#sk-container-id-7 input.sk-toggleable__control:checked~label.sk-toggleable__label-arrow:before {content: \"▾\";}#sk-container-id-7 div.sk-estimator input.sk-toggleable__control:checked~label.sk-toggleable__label {background-color: #d4ebff;}#sk-container-id-7 div.sk-label input.sk-toggleable__control:checked~label.sk-toggleable__label {background-color: #d4ebff;}#sk-container-id-7 input.sk-hidden--visually {border: 0;clip: rect(1px 1px 1px 1px);clip: rect(1px, 1px, 1px, 1px);height: 1px;margin: -1px;overflow: hidden;padding: 0;position: absolute;width: 1px;}#sk-container-id-7 div.sk-estimator {font-family: monospace;background-color: #f0f8ff;border: 1px dotted black;border-radius: 0.25em;box-sizing: border-box;margin-bottom: 0.5em;}#sk-container-id-7 div.sk-estimator:hover {background-color: #d4ebff;}#sk-container-id-7 div.sk-parallel-item::after {content: \"\";width: 100%;border-bottom: 1px solid gray;flex-grow: 1;}#sk-container-id-7 div.sk-label:hover label.sk-toggleable__label {background-color: #d4ebff;}#sk-container-id-7 div.sk-serial::before {content: \"\";position: absolute;border-left: 1px solid gray;box-sizing: border-box;top: 0;bottom: 0;left: 50%;z-index: 0;}#sk-container-id-7 div.sk-serial {display: flex;flex-direction: column;align-items: center;background-color: white;padding-right: 0.2em;padding-left: 0.2em;position: relative;}#sk-container-id-7 div.sk-item {position: relative;z-index: 1;}#sk-container-id-7 div.sk-parallel {display: flex;align-items: stretch;justify-content: center;background-color: white;position: relative;}#sk-container-id-7 div.sk-item::before, #sk-container-id-7 div.sk-parallel-item::before {content: \"\";position: absolute;border-left: 1px solid gray;box-sizing: border-box;top: 0;bottom: 0;left: 50%;z-index: -1;}#sk-container-id-7 div.sk-parallel-item {display: flex;flex-direction: column;z-index: 1;position: relative;background-color: white;}#sk-container-id-7 div.sk-parallel-item:first-child::after {align-self: flex-end;width: 50%;}#sk-container-id-7 div.sk-parallel-item:last-child::after {align-self: flex-start;width: 50%;}#sk-container-id-7 div.sk-parallel-item:only-child::after {width: 0;}#sk-container-id-7 div.sk-dashed-wrapped {border: 1px dashed gray;margin: 0 0.4em 0.5em 0.4em;box-sizing: border-box;padding-bottom: 0.4em;background-color: white;}#sk-container-id-7 div.sk-label label {font-family: monospace;font-weight: bold;display: inline-block;line-height: 1.2em;}#sk-container-id-7 div.sk-label-container {text-align: center;}#sk-container-id-7 div.sk-container {/* jupyter's `normalize.less` sets `[hidden] { display: none; }` but bootstrap.min.css set `[hidden] { display: none !important; }` so we also need the `!important` here to be able to override the default hidden behavior on the sphinx rendered scikit-learn.org. See: https://github.com/scikit-learn/scikit-learn/issues/21755 */display: inline-block !important;position: relative;}#sk-container-id-7 div.sk-text-repr-fallback {display: none;}</style><div id=\"sk-container-id-7\" class=\"sk-top-container\"><div class=\"sk-text-repr-fallback\"><pre>GaussianNB()</pre><b>In a Jupyter environment, please rerun this cell to show the HTML representation or trust the notebook. <br />On GitHub, the HTML representation is unable to render, please try loading this page with nbviewer.org.</b></div><div class=\"sk-container\" hidden><div class=\"sk-item\"><div class=\"sk-estimator sk-toggleable\"><input class=\"sk-toggleable__control sk-hidden--visually\" id=\"sk-estimator-id-7\" type=\"checkbox\" checked><label for=\"sk-estimator-id-7\" class=\"sk-toggleable__label sk-toggleable__label-arrow\">GaussianNB</label><div class=\"sk-toggleable__content\"><pre>GaussianNB()</pre></div></div></div></div></div>"
      ],
      "text/plain": [
       "GaussianNB()"
      ]
     },
     "execution_count": 45,
     "metadata": {},
     "output_type": "execute_result"
    }
   ],
   "source": [
    "# initialize and train the Gaussian Naive Bayes model on the oversampled data\n",
    "nb_model_over = GaussianNB()\n",
    "nb_model_over.fit(X_train_over.toarray(), y_train_over)"
   ]
  },
  {
   "cell_type": "code",
   "execution_count": 46,
   "metadata": {},
   "outputs": [
    {
     "name": "stdout",
     "output_type": "stream",
     "text": [
      "\n",
      "Accuracy:  0.78687173853337\n",
      "\n",
      "Precision:  0.8166727122444248\n",
      "\n",
      "Recall:  0.78687173853337\n",
      "\n",
      "F1 Score:  0.782476824797581\n",
      "Gaussian Naive Bayes Model Metrics for Oversampled Data:\n",
      "              precision    recall  f1-score   support\n",
      "\n",
      "    negative       0.95      0.75      0.84      1209\n",
      "     neutral       0.69      1.00      0.81      1238\n",
      "    positive       0.82      0.60      0.69      1194\n",
      "\n",
      "    accuracy                           0.79      3641\n",
      "   macro avg       0.82      0.78      0.78      3641\n",
      "weighted avg       0.82      0.79      0.78      3641\n",
      "\n"
     ]
    }
   ],
   "source": [
    "# make predictions on the test set\n",
    "y_pred_over = nb_model_over.predict(X_test_over.toarray())\n",
    "\n",
    "# print accuracy\n",
    "print(\"\\nAccuracy: \", accuracy_score(y_test_over, y_pred_over))\n",
    "\n",
    "# print precision\n",
    "print(\"\\nPrecision: \", precision_score(y_test_over, y_pred_over, average='weighted'))\n",
    "\n",
    "# print recall\n",
    "print(\"\\nRecall: \", recall_score(y_test_over, y_pred_over, average='weighted'))\n",
    "\n",
    "# print F1 score\n",
    "print(\"\\nF1 Score: \", f1_score(y_test_over, y_pred_over, average='weighted'))\n",
    "\n",
    "# print classification report for the oversampled data\n",
    "print(\"Gaussian Naive Bayes Model Metrics for Oversampled Data:\")\n",
    "print(classification_report(y_test_over, y_pred_over))"
   ]
  },
  {
   "cell_type": "code",
   "execution_count": 47,
   "metadata": {},
   "outputs": [
    {
     "data": {
      "image/png": "[encoded data removed]",
      "text/plain": [
       "<Figure size 1000x700 with 2 Axes>"
      ]
     },
     "metadata": {},
     "output_type": "display_data"
    }
   ],
   "source": [
    "# Calculate the confusion matrix\n",
    "cm = confusion_matrix(y_test_over, y_pred_over)\n",
    "\n",
    "# Plot the confusion matrix\n",
    "plt.figure(figsize=(10,7))\n",
    "sns.heatmap(cm, annot=True, fmt='d', cmap='Blues')\n",
    "plt.xlabel('Predicted')\n",
    "plt.ylabel('Truth')\n",
    "plt.show()"
   ]
  },
  {
   "cell_type": "markdown",
   "metadata": {},
   "source": [
    "### Multinomial Naive Bayes Model"
   ]
  },
  {
   "cell_type": "code",
   "execution_count": 48,
   "metadata": {},
   "outputs": [
    {
     "data": {
      "text/html": [
       "<style>#sk-container-id-8 {color: black;}#sk-container-id-8 pre{padding: 0;}#sk-container-id-8 div.sk-toggleable {background-color: white;}#sk-container-id-8 label.sk-toggleable__label {cursor: pointer;display: block;width: 100%;margin-bottom: 0;padding: 0.3em;box-sizing: border-box;text-align: center;}#sk-container-id-8 label.sk-toggleable__label-arrow:before {content: \"▸\";float: left;margin-right: 0.25em;color: #696969;}#sk-container-id-8 label.sk-toggleable__label-arrow:hover:before {color: black;}#sk-container-id-8 div.sk-estimator:hover label.sk-toggleable__label-arrow:before {color: black;}#sk-container-id-8 div.sk-toggleable__content {max-height: 0;max-width: 0;overflow: hidden;text-align: left;background-color: #f0f8ff;}#sk-container-id-8 div.sk-toggleable__content pre {margin: 0.2em;color: black;border-radius: 0.25em;background-color: #f0f8ff;}#sk-container-id-8 input.sk-toggleable__control:checked~div.sk-toggleable__content {max-height: 200px;max-width: 100%;overflow: auto;}#sk-container-id-8 input.sk-toggleable__control:checked~label.sk-toggleable__label-arrow:before {content: \"▾\";}#sk-container-id-8 div.sk-estimator input.sk-toggleable__control:checked~label.sk-toggleable__label {background-color: #d4ebff;}#sk-container-id-8 div.sk-label input.sk-toggleable__control:checked~label.sk-toggleable__label {background-color: #d4ebff;}#sk-container-id-8 input.sk-hidden--visually {border: 0;clip: rect(1px 1px 1px 1px);clip: rect(1px, 1px, 1px, 1px);height: 1px;margin: -1px;overflow: hidden;padding: 0;position: absolute;width: 1px;}#sk-container-id-8 div.sk-estimator {font-family: monospace;background-color: #f0f8ff;border: 1px dotted black;border-radius: 0.25em;box-sizing: border-box;margin-bottom: 0.5em;}#sk-container-id-8 div.sk-estimator:hover {background-color: #d4ebff;}#sk-container-id-8 div.sk-parallel-item::after {content: \"\";width: 100%;border-bottom: 1px solid gray;flex-grow: 1;}#sk-container-id-8 div.sk-label:hover label.sk-toggleable__label {background-color: #d4ebff;}#sk-container-id-8 div.sk-serial::before {content: \"\";position: absolute;border-left: 1px solid gray;box-sizing: border-box;top: 0;bottom: 0;left: 50%;z-index: 0;}#sk-container-id-8 div.sk-serial {display: flex;flex-direction: column;align-items: center;background-color: white;padding-right: 0.2em;padding-left: 0.2em;position: relative;}#sk-container-id-8 div.sk-item {position: relative;z-index: 1;}#sk-container-id-8 div.sk-parallel {display: flex;align-items: stretch;justify-content: center;background-color: white;position: relative;}#sk-container-id-8 div.sk-item::before, #sk-container-id-8 div.sk-parallel-item::before {content: \"\";position: absolute;border-left: 1px solid gray;box-sizing: border-box;top: 0;bottom: 0;left: 50%;z-index: -1;}#sk-container-id-8 div.sk-parallel-item {display: flex;flex-direction: column;z-index: 1;position: relative;background-color: white;}#sk-container-id-8 div.sk-parallel-item:first-child::after {align-self: flex-end;width: 50%;}#sk-container-id-8 div.sk-parallel-item:last-child::after {align-self: flex-start;width: 50%;}#sk-container-id-8 div.sk-parallel-item:only-child::after {width: 0;}#sk-container-id-8 div.sk-dashed-wrapped {border: 1px dashed gray;margin: 0 0.4em 0.5em 0.4em;box-sizing: border-box;padding-bottom: 0.4em;background-color: white;}#sk-container-id-8 div.sk-label label {font-family: monospace;font-weight: bold;display: inline-block;line-height: 1.2em;}#sk-container-id-8 div.sk-label-container {text-align: center;}#sk-container-id-8 div.sk-container {/* jupyter's `normalize.less` sets `[hidden] { display: none; }` but bootstrap.min.css set `[hidden] { display: none !important; }` so we also need the `!important` here to be able to override the default hidden behavior on the sphinx rendered scikit-learn.org. See: https://github.com/scikit-learn/scikit-learn/issues/21755 */display: inline-block !important;position: relative;}#sk-container-id-8 div.sk-text-repr-fallback {display: none;}</style><div id=\"sk-container-id-8\" class=\"sk-top-container\"><div class=\"sk-text-repr-fallback\"><pre>MultinomialNB()</pre><b>In a Jupyter environment, please rerun this cell to show the HTML representation or trust the notebook. <br />On GitHub, the HTML representation is unable to render, please try loading this page with nbviewer.org.</b></div><div class=\"sk-container\" hidden><div class=\"sk-item\"><div class=\"sk-estimator sk-toggleable\"><input class=\"sk-toggleable__control sk-hidden--visually\" id=\"sk-estimator-id-8\" type=\"checkbox\" checked><label for=\"sk-estimator-id-8\" class=\"sk-toggleable__label sk-toggleable__label-arrow\">MultinomialNB</label><div class=\"sk-toggleable__content\"><pre>MultinomialNB()</pre></div></div></div></div></div>"
      ],
      "text/plain": [
       "MultinomialNB()"
      ]
     },
     "execution_count": 48,
     "metadata": {},
     "output_type": "execute_result"
    }
   ],
   "source": [
    "# initialize and train the Multinomial Naive Bayes model on the oversampled data\n",
    "mnb_model_over = MultinomialNB()\n",
    "mnb_model_over.fit(X_train_over, y_train_over)"
   ]
  },
  {
   "cell_type": "code",
   "execution_count": 49,
   "metadata": {},
   "outputs": [
    {
     "name": "stdout",
     "output_type": "stream",
     "text": [
      "\n",
      "Accuracy:  0.889865421587476\n",
      "\n",
      "Precision:  0.8949913647242619\n",
      "\n",
      "Recall:  0.889865421587476\n",
      "\n",
      "F1 Score:  0.8900705093088228\n",
      "Multinomial Naive Bayes Model Metrics for Oversampled Data:\n",
      "              precision    recall  f1-score   support\n",
      "\n",
      "    negative       0.90      0.89      0.89      1209\n",
      "     neutral       0.83      0.94      0.89      1238\n",
      "    positive       0.96      0.84      0.89      1194\n",
      "\n",
      "    accuracy                           0.89      3641\n",
      "   macro avg       0.90      0.89      0.89      3641\n",
      "weighted avg       0.89      0.89      0.89      3641\n",
      "\n"
     ]
    }
   ],
   "source": [
    "# make predictions on the test set\n",
    "y_pred_over = mnb_model_over.predict(X_test_over)\n",
    "\n",
    "# print accuracy\n",
    "print(\"\\nAccuracy: \", accuracy_score(y_test_over, y_pred_over))\n",
    "\n",
    "# print precision\n",
    "print(\"\\nPrecision: \", precision_score(y_test_over, y_pred_over, average='weighted'))\n",
    "\n",
    "# print recall\n",
    "print(\"\\nRecall: \", recall_score(y_test_over, y_pred_over, average='weighted'))\n",
    "\n",
    "# print F1 score\n",
    "print(\"\\nF1 Score: \", f1_score(y_test_over, y_pred_over, average='weighted'))\n",
    "\n",
    "print(\"Multinomial Naive Bayes Model Metrics for Oversampled Data:\")\n",
    "print(classification_report(y_test_over, y_pred_over))"
   ]
  },
  {
   "cell_type": "code",
   "execution_count": 50,
   "metadata": {},
   "outputs": [
    {
     "data": {
      "image/png": "[encoded data removed]",
      "text/plain": [
       "<Figure size 1000x700 with 2 Axes>"
      ]
     },
     "metadata": {},
     "output_type": "display_data"
    }
   ],
   "source": [
    "# Calculate the confusion matrix\n",
    "cm = confusion_matrix(y_test_over, y_pred_over)\n",
    "\n",
    "# Plot the confusion matrix\n",
    "plt.figure(figsize=(10,7))\n",
    "sns.heatmap(cm, annot=True, fmt='d', cmap='Blues')\n",
    "plt.xlabel('Predicted')\n",
    "plt.ylabel('Truth')\n",
    "plt.show()"
   ]
  },
  {
   "cell_type": "markdown",
   "metadata": {},
   "source": [
    "### Bernoulli Naive Bayes Model"
   ]
  },
  {
   "cell_type": "code",
   "execution_count": 51,
   "metadata": {},
   "outputs": [
    {
     "data": {
      "text/html": [
       "<style>#sk-container-id-9 {color: black;}#sk-container-id-9 pre{padding: 0;}#sk-container-id-9 div.sk-toggleable {background-color: white;}#sk-container-id-9 label.sk-toggleable__label {cursor: pointer;display: block;width: 100%;margin-bottom: 0;padding: 0.3em;box-sizing: border-box;text-align: center;}#sk-container-id-9 label.sk-toggleable__label-arrow:before {content: \"▸\";float: left;margin-right: 0.25em;color: #696969;}#sk-container-id-9 label.sk-toggleable__label-arrow:hover:before {color: black;}#sk-container-id-9 div.sk-estimator:hover label.sk-toggleable__label-arrow:before {color: black;}#sk-container-id-9 div.sk-toggleable__content {max-height: 0;max-width: 0;overflow: hidden;text-align: left;background-color: #f0f8ff;}#sk-container-id-9 div.sk-toggleable__content pre {margin: 0.2em;color: black;border-radius: 0.25em;background-color: #f0f8ff;}#sk-container-id-9 input.sk-toggleable__control:checked~div.sk-toggleable__content {max-height: 200px;max-width: 100%;overflow: auto;}#sk-container-id-9 input.sk-toggleable__control:checked~label.sk-toggleable__label-arrow:before {content: \"▾\";}#sk-container-id-9 div.sk-estimator input.sk-toggleable__control:checked~label.sk-toggleable__label {background-color: #d4ebff;}#sk-container-id-9 div.sk-label input.sk-toggleable__control:checked~label.sk-toggleable__label {background-color: #d4ebff;}#sk-container-id-9 input.sk-hidden--visually {border: 0;clip: rect(1px 1px 1px 1px);clip: rect(1px, 1px, 1px, 1px);height: 1px;margin: -1px;overflow: hidden;padding: 0;position: absolute;width: 1px;}#sk-container-id-9 div.sk-estimator {font-family: monospace;background-color: #f0f8ff;border: 1px dotted black;border-radius: 0.25em;box-sizing: border-box;margin-bottom: 0.5em;}#sk-container-id-9 div.sk-estimator:hover {background-color: #d4ebff;}#sk-container-id-9 div.sk-parallel-item::after {content: \"\";width: 100%;border-bottom: 1px solid gray;flex-grow: 1;}#sk-container-id-9 div.sk-label:hover label.sk-toggleable__label {background-color: #d4ebff;}#sk-container-id-9 div.sk-serial::before {content: \"\";position: absolute;border-left: 1px solid gray;box-sizing: border-box;top: 0;bottom: 0;left: 50%;z-index: 0;}#sk-container-id-9 div.sk-serial {display: flex;flex-direction: column;align-items: center;background-color: white;padding-right: 0.2em;padding-left: 0.2em;position: relative;}#sk-container-id-9 div.sk-item {position: relative;z-index: 1;}#sk-container-id-9 div.sk-parallel {display: flex;align-items: stretch;justify-content: center;background-color: white;position: relative;}#sk-container-id-9 div.sk-item::before, #sk-container-id-9 div.sk-parallel-item::before {content: \"\";position: absolute;border-left: 1px solid gray;box-sizing: border-box;top: 0;bottom: 0;left: 50%;z-index: -1;}#sk-container-id-9 div.sk-parallel-item {display: flex;flex-direction: column;z-index: 1;position: relative;background-color: white;}#sk-container-id-9 div.sk-parallel-item:first-child::after {align-self: flex-end;width: 50%;}#sk-container-id-9 div.sk-parallel-item:last-child::after {align-self: flex-start;width: 50%;}#sk-container-id-9 div.sk-parallel-item:only-child::after {width: 0;}#sk-container-id-9 div.sk-dashed-wrapped {border: 1px dashed gray;margin: 0 0.4em 0.5em 0.4em;box-sizing: border-box;padding-bottom: 0.4em;background-color: white;}#sk-container-id-9 div.sk-label label {font-family: monospace;font-weight: bold;display: inline-block;line-height: 1.2em;}#sk-container-id-9 div.sk-label-container {text-align: center;}#sk-container-id-9 div.sk-container {/* jupyter's `normalize.less` sets `[hidden] { display: none; }` but bootstrap.min.css set `[hidden] { display: none !important; }` so we also need the `!important` here to be able to override the default hidden behavior on the sphinx rendered scikit-learn.org. See: https://github.com/scikit-learn/scikit-learn/issues/21755 */display: inline-block !important;position: relative;}#sk-container-id-9 div.sk-text-repr-fallback {display: none;}</style><div id=\"sk-container-id-9\" class=\"sk-top-container\"><div class=\"sk-text-repr-fallback\"><pre>BernoulliNB()</pre><b>In a Jupyter environment, please rerun this cell to show the HTML representation or trust the notebook. <br />On GitHub, the HTML representation is unable to render, please try loading this page with nbviewer.org.</b></div><div class=\"sk-container\" hidden><div class=\"sk-item\"><div class=\"sk-estimator sk-toggleable\"><input class=\"sk-toggleable__control sk-hidden--visually\" id=\"sk-estimator-id-9\" type=\"checkbox\" checked><label for=\"sk-estimator-id-9\" class=\"sk-toggleable__label sk-toggleable__label-arrow\">BernoulliNB</label><div class=\"sk-toggleable__content\"><pre>BernoulliNB()</pre></div></div></div></div></div>"
      ],
      "text/plain": [
       "BernoulliNB()"
      ]
     },
     "execution_count": 51,
     "metadata": {},
     "output_type": "execute_result"
    }
   ],
   "source": [
    "# initialize and train the Bernoulli Naive Bayes model on the oversampled data\n",
    "bnb_model_over = BernoulliNB()\n",
    "bnb_model_over.fit(X_train_over, y_train_over)"
   ]
  },
  {
   "cell_type": "code",
   "execution_count": 52,
   "metadata": {},
   "outputs": [
    {
     "name": "stdout",
     "output_type": "stream",
     "text": [
      "\n",
      "Accuracy:  0.8228508651469376\n",
      "\n",
      "Precision:  0.8316682498970446\n",
      "\n",
      "Recall:  0.8228508651469376\n",
      "\n",
      "F1 Score:  0.8232486848519638\n",
      "Bernoulli Naive Bayes Model Metrics for Oversampled Data:\n",
      "              precision    recall  f1-score   support\n",
      "\n",
      "    negative       0.90      0.77      0.83      1209\n",
      "     neutral       0.84      0.81      0.82      1238\n",
      "    positive       0.75      0.89      0.82      1194\n",
      "\n",
      "    accuracy                           0.82      3641\n",
      "   macro avg       0.83      0.82      0.82      3641\n",
      "weighted avg       0.83      0.82      0.82      3641\n",
      "\n"
     ]
    }
   ],
   "source": [
    "# make predictions on the test set\n",
    "y_pred_over = bnb_model_over.predict(X_test_over)\n",
    "\n",
    "# print accuracy\n",
    "print(\"\\nAccuracy: \", accuracy_score(y_test_over, y_pred_over))\n",
    "\n",
    "# print precision\n",
    "print(\"\\nPrecision: \", precision_score(y_test_over, y_pred_over, average='weighted'))\n",
    "\n",
    "# print recall\n",
    "print(\"\\nRecall: \", recall_score(y_test_over, y_pred_over, average='weighted'))\n",
    "\n",
    "# print F1 score\n",
    "print(\"\\nF1 Score: \", f1_score(y_test_over, y_pred_over, average='weighted'))\n",
    "\n",
    "print(\"Bernoulli Naive Bayes Model Metrics for Oversampled Data:\")\n",
    "print(classification_report(y_test_over, y_pred_over))"
   ]
  },
  {
   "cell_type": "code",
   "execution_count": 53,
   "metadata": {},
   "outputs": [
    {
     "data": {
      "image/png": "[encoded data removed]",
      "text/plain": [
       "<Figure size 1000x700 with 2 Axes>"
      ]
     },
     "metadata": {},
     "output_type": "display_data"
    }
   ],
   "source": [
    "# Calculate the confusion matrix\n",
    "cm = confusion_matrix(y_test_over, y_pred_over)\n",
    "\n",
    "# Plot the confusion matrix\n",
    "plt.figure(figsize=(10,7))\n",
    "sns.heatmap(cm, annot=True, fmt='d', cmap='Blues')\n",
    "plt.xlabel('Predicted')\n",
    "plt.ylabel('Truth')\n",
    "plt.show()"
   ]
  },
  {
   "cell_type": "markdown",
   "metadata": {},
   "source": [
    "## SVM Model"
   ]
  },
  {
   "cell_type": "code",
   "execution_count": 54,
   "metadata": {},
   "outputs": [
    {
     "data": {
      "text/html": [
       "<style>#sk-container-id-10 {color: black;}#sk-container-id-10 pre{padding: 0;}#sk-container-id-10 div.sk-toggleable {background-color: white;}#sk-container-id-10 label.sk-toggleable__label {cursor: pointer;display: block;width: 100%;margin-bottom: 0;padding: 0.3em;box-sizing: border-box;text-align: center;}#sk-container-id-10 label.sk-toggleable__label-arrow:before {content: \"▸\";float: left;margin-right: 0.25em;color: #696969;}#sk-container-id-10 label.sk-toggleable__label-arrow:hover:before {color: black;}#sk-container-id-10 div.sk-estimator:hover label.sk-toggleable__label-arrow:before {color: black;}#sk-container-id-10 div.sk-toggleable__content {max-height: 0;max-width: 0;overflow: hidden;text-align: left;background-color: #f0f8ff;}#sk-container-id-10 div.sk-toggleable__content pre {margin: 0.2em;color: black;border-radius: 0.25em;background-color: #f0f8ff;}#sk-container-id-10 input.sk-toggleable__control:checked~div.sk-toggleable__content {max-height: 200px;max-width: 100%;overflow: auto;}#sk-container-id-10 input.sk-toggleable__control:checked~label.sk-toggleable__label-arrow:before {content: \"▾\";}#sk-container-id-10 div.sk-estimator input.sk-toggleable__control:checked~label.sk-toggleable__label {background-color: #d4ebff;}#sk-container-id-10 div.sk-label input.sk-toggleable__control:checked~label.sk-toggleable__label {background-color: #d4ebff;}#sk-container-id-10 input.sk-hidden--visually {border: 0;clip: rect(1px 1px 1px 1px);clip: rect(1px, 1px, 1px, 1px);height: 1px;margin: -1px;overflow: hidden;padding: 0;position: absolute;width: 1px;}#sk-container-id-10 div.sk-estimator {font-family: monospace;background-color: #f0f8ff;border: 1px dotted black;border-radius: 0.25em;box-sizing: border-box;margin-bottom: 0.5em;}#sk-container-id-10 div.sk-estimator:hover {background-color: #d4ebff;}#sk-container-id-10 div.sk-parallel-item::after {content: \"\";width: 100%;border-bottom: 1px solid gray;flex-grow: 1;}#sk-container-id-10 div.sk-label:hover label.sk-toggleable__label {background-color: #d4ebff;}#sk-container-id-10 div.sk-serial::before {content: \"\";position: absolute;border-left: 1px solid gray;box-sizing: border-box;top: 0;bottom: 0;left: 50%;z-index: 0;}#sk-container-id-10 div.sk-serial {display: flex;flex-direction: column;align-items: center;background-color: white;padding-right: 0.2em;padding-left: 0.2em;position: relative;}#sk-container-id-10 div.sk-item {position: relative;z-index: 1;}#sk-container-id-10 div.sk-parallel {display: flex;align-items: stretch;justify-content: center;background-color: white;position: relative;}#sk-container-id-10 div.sk-item::before, #sk-container-id-10 div.sk-parallel-item::before {content: \"\";position: absolute;border-left: 1px solid gray;box-sizing: border-box;top: 0;bottom: 0;left: 50%;z-index: -1;}#sk-container-id-10 div.sk-parallel-item {display: flex;flex-direction: column;z-index: 1;position: relative;background-color: white;}#sk-container-id-10 div.sk-parallel-item:first-child::after {align-self: flex-end;width: 50%;}#sk-container-id-10 div.sk-parallel-item:last-child::after {align-self: flex-start;width: 50%;}#sk-container-id-10 div.sk-parallel-item:only-child::after {width: 0;}#sk-container-id-10 div.sk-dashed-wrapped {border: 1px dashed gray;margin: 0 0.4em 0.5em 0.4em;box-sizing: border-box;padding-bottom: 0.4em;background-color: white;}#sk-container-id-10 div.sk-label label {font-family: monospace;font-weight: bold;display: inline-block;line-height: 1.2em;}#sk-container-id-10 div.sk-label-container {text-align: center;}#sk-container-id-10 div.sk-container {/* jupyter's `normalize.less` sets `[hidden] { display: none; }` but bootstrap.min.css set `[hidden] { display: none !important; }` so we also need the `!important` here to be able to override the default hidden behavior on the sphinx rendered scikit-learn.org. See: https://github.com/scikit-learn/scikit-learn/issues/21755 */display: inline-block !important;position: relative;}#sk-container-id-10 div.sk-text-repr-fallback {display: none;}</style><div id=\"sk-container-id-10\" class=\"sk-top-container\"><div class=\"sk-text-repr-fallback\"><pre>SVC(probability=True)</pre><b>In a Jupyter environment, please rerun this cell to show the HTML representation or trust the notebook. <br />On GitHub, the HTML representation is unable to render, please try loading this page with nbviewer.org.</b></div><div class=\"sk-container\" hidden><div class=\"sk-item\"><div class=\"sk-estimator sk-toggleable\"><input class=\"sk-toggleable__control sk-hidden--visually\" id=\"sk-estimator-id-10\" type=\"checkbox\" checked><label for=\"sk-estimator-id-10\" class=\"sk-toggleable__label sk-toggleable__label-arrow\">SVC</label><div class=\"sk-toggleable__content\"><pre>SVC(probability=True)</pre></div></div></div></div></div>"
      ],
      "text/plain": [
       "SVC(probability=True)"
      ]
     },
     "execution_count": 54,
     "metadata": {},
     "output_type": "execute_result"
    }
   ],
   "source": [
    "# initialize and train the SVM model on the oversampled data\n",
    "svm_model_over = SVC(probability=True)\n",
    "svm_model_over.fit(X_train_over, y_train_over)"
   ]
  },
  {
   "cell_type": "code",
   "execution_count": 55,
   "metadata": {},
   "outputs": [
    {
     "name": "stdout",
     "output_type": "stream",
     "text": [
      "\n",
      "Accuracy:  0.9774787146388355\n",
      "\n",
      "Precision:  0.9775173922216789\n",
      "\n",
      "Recall:  0.9774787146388355\n",
      "\n",
      "F1 Score:  0.9774713907527018\n",
      "SVM Model Metrics for Oversampled Data:\n",
      "              precision    recall  f1-score   support\n",
      "\n",
      "    negative       0.96      0.97      0.97      1209\n",
      "     neutral       1.00      1.00      1.00      1238\n",
      "    positive       0.97      0.96      0.97      1194\n",
      "\n",
      "    accuracy                           0.98      3641\n",
      "   macro avg       0.98      0.98      0.98      3641\n",
      "weighted avg       0.98      0.98      0.98      3641\n",
      "\n"
     ]
    }
   ],
   "source": [
    "# make predictions on the test set\n",
    "y_pred_over = svm_model_over.predict(X_test_over)\n",
    "\n",
    "# print accuracy\n",
    "print(\"\\nAccuracy: \", accuracy_score(y_test_over, y_pred_over))\n",
    "\n",
    "# print precision\n",
    "print(\"\\nPrecision: \", precision_score(y_test_over, y_pred_over, average='weighted'))\n",
    "\n",
    "# print recall\n",
    "print(\"\\nRecall: \", recall_score(y_test_over, y_pred_over, average='weighted'))\n",
    "\n",
    "# print F1 score\n",
    "print(\"\\nF1 Score: \", f1_score(y_test_over, y_pred_over, average='weighted'))\n",
    "\n",
    "print(\"SVM Model Metrics for Oversampled Data:\")\n",
    "print(classification_report(y_test_over, y_pred_over))"
   ]
  },
  {
   "cell_type": "code",
   "execution_count": 56,
   "metadata": {},
   "outputs": [
    {
     "data": {
      "image/png": "[encoded data removed]",
      "text/plain": [
       "<Figure size 1000x700 with 2 Axes>"
      ]
     },
     "metadata": {},
     "output_type": "display_data"
    }
   ],
   "source": [
    "# Calculate the confusion matrix\n",
    "cm = confusion_matrix(y_test_over, y_pred_over)\n",
    "\n",
    "# Plot the confusion matrix\n",
    "plt.figure(figsize=(10,7))\n",
    "sns.heatmap(cm, annot=True, fmt='d', cmap='Blues')\n",
    "plt.xlabel('Predicted')\n",
    "plt.ylabel('Truth')\n",
    "plt.show()"
   ]
  },
  {
   "cell_type": "markdown",
   "metadata": {},
   "source": [
    "## Decision Tree Model"
   ]
  },
  {
   "cell_type": "code",
   "execution_count": 57,
   "metadata": {},
   "outputs": [
    {
     "data": {
      "text/html": [
       "<style>#sk-container-id-11 {color: black;}#sk-container-id-11 pre{padding: 0;}#sk-container-id-11 div.sk-toggleable {background-color: white;}#sk-container-id-11 label.sk-toggleable__label {cursor: pointer;display: block;width: 100%;margin-bottom: 0;padding: 0.3em;box-sizing: border-box;text-align: center;}#sk-container-id-11 label.sk-toggleable__label-arrow:before {content: \"▸\";float: left;margin-right: 0.25em;color: #696969;}#sk-container-id-11 label.sk-toggleable__label-arrow:hover:before {color: black;}#sk-container-id-11 div.sk-estimator:hover label.sk-toggleable__label-arrow:before {color: black;}#sk-container-id-11 div.sk-toggleable__content {max-height: 0;max-width: 0;overflow: hidden;text-align: left;background-color: #f0f8ff;}#sk-container-id-11 div.sk-toggleable__content pre {margin: 0.2em;color: black;border-radius: 0.25em;background-color: #f0f8ff;}#sk-container-id-11 input.sk-toggleable__control:checked~div.sk-toggleable__content {max-height: 200px;max-width: 100%;overflow: auto;}#sk-container-id-11 input.sk-toggleable__control:checked~label.sk-toggleable__label-arrow:before {content: \"▾\";}#sk-container-id-11 div.sk-estimator input.sk-toggleable__control:checked~label.sk-toggleable__label {background-color: #d4ebff;}#sk-container-id-11 div.sk-label input.sk-toggleable__control:checked~label.sk-toggleable__label {background-color: #d4ebff;}#sk-container-id-11 input.sk-hidden--visually {border: 0;clip: rect(1px 1px 1px 1px);clip: rect(1px, 1px, 1px, 1px);height: 1px;margin: -1px;overflow: hidden;padding: 0;position: absolute;width: 1px;}#sk-container-id-11 div.sk-estimator {font-family: monospace;background-color: #f0f8ff;border: 1px dotted black;border-radius: 0.25em;box-sizing: border-box;margin-bottom: 0.5em;}#sk-container-id-11 div.sk-estimator:hover {background-color: #d4ebff;}#sk-container-id-11 div.sk-parallel-item::after {content: \"\";width: 100%;border-bottom: 1px solid gray;flex-grow: 1;}#sk-container-id-11 div.sk-label:hover label.sk-toggleable__label {background-color: #d4ebff;}#sk-container-id-11 div.sk-serial::before {content: \"\";position: absolute;border-left: 1px solid gray;box-sizing: border-box;top: 0;bottom: 0;left: 50%;z-index: 0;}#sk-container-id-11 div.sk-serial {display: flex;flex-direction: column;align-items: center;background-color: white;padding-right: 0.2em;padding-left: 0.2em;position: relative;}#sk-container-id-11 div.sk-item {position: relative;z-index: 1;}#sk-container-id-11 div.sk-parallel {display: flex;align-items: stretch;justify-content: center;background-color: white;position: relative;}#sk-container-id-11 div.sk-item::before, #sk-container-id-11 div.sk-parallel-item::before {content: \"\";position: absolute;border-left: 1px solid gray;box-sizing: border-box;top: 0;bottom: 0;left: 50%;z-index: -1;}#sk-container-id-11 div.sk-parallel-item {display: flex;flex-direction: column;z-index: 1;position: relative;background-color: white;}#sk-container-id-11 div.sk-parallel-item:first-child::after {align-self: flex-end;width: 50%;}#sk-container-id-11 div.sk-parallel-item:last-child::after {align-self: flex-start;width: 50%;}#sk-container-id-11 div.sk-parallel-item:only-child::after {width: 0;}#sk-container-id-11 div.sk-dashed-wrapped {border: 1px dashed gray;margin: 0 0.4em 0.5em 0.4em;box-sizing: border-box;padding-bottom: 0.4em;background-color: white;}#sk-container-id-11 div.sk-label label {font-family: monospace;font-weight: bold;display: inline-block;line-height: 1.2em;}#sk-container-id-11 div.sk-label-container {text-align: center;}#sk-container-id-11 div.sk-container {/* jupyter's `normalize.less` sets `[hidden] { display: none; }` but bootstrap.min.css set `[hidden] { display: none !important; }` so we also need the `!important` here to be able to override the default hidden behavior on the sphinx rendered scikit-learn.org. See: https://github.com/scikit-learn/scikit-learn/issues/21755 */display: inline-block !important;position: relative;}#sk-container-id-11 div.sk-text-repr-fallback {display: none;}</style><div id=\"sk-container-id-11\" class=\"sk-top-container\"><div class=\"sk-text-repr-fallback\"><pre>DecisionTreeClassifier()</pre><b>In a Jupyter environment, please rerun this cell to show the HTML representation or trust the notebook. <br />On GitHub, the HTML representation is unable to render, please try loading this page with nbviewer.org.</b></div><div class=\"sk-container\" hidden><div class=\"sk-item\"><div class=\"sk-estimator sk-toggleable\"><input class=\"sk-toggleable__control sk-hidden--visually\" id=\"sk-estimator-id-11\" type=\"checkbox\" checked><label for=\"sk-estimator-id-11\" class=\"sk-toggleable__label sk-toggleable__label-arrow\">DecisionTreeClassifier</label><div class=\"sk-toggleable__content\"><pre>DecisionTreeClassifier()</pre></div></div></div></div></div>"
      ],
      "text/plain": [
       "DecisionTreeClassifier()"
      ]
     },
     "execution_count": 57,
     "metadata": {},
     "output_type": "execute_result"
    }
   ],
   "source": [
    "# initialize and train the Decision Tree model on the oversampled data\n",
    "dt_model_over = DecisionTreeClassifier()\n",
    "dt_model_over.fit(X_train_over, y_train_over)"
   ]
  },
  {
   "cell_type": "code",
   "execution_count": 58,
   "metadata": {},
   "outputs": [
    {
     "name": "stdout",
     "output_type": "stream",
     "text": [
      "\n",
      "Accuracy:  0.9244712990936556\n",
      "\n",
      "Precision:  0.9264765760957313\n",
      "\n",
      "Recall:  0.9244712990936556\n",
      "\n",
      "F1 Score:  0.9231850434586598\n",
      "Decision Tree Model Metrics for Oversampled Data:\n",
      "              precision    recall  f1-score   support\n",
      "\n",
      "    negative       0.96      0.83      0.89      1209\n",
      "     neutral       0.93      1.00      0.96      1238\n",
      "    positive       0.89      0.94      0.92      1194\n",
      "\n",
      "    accuracy                           0.92      3641\n",
      "   macro avg       0.93      0.92      0.92      3641\n",
      "weighted avg       0.93      0.92      0.92      3641\n",
      "\n"
     ]
    }
   ],
   "source": [
    "# make predictions on the test set\n",
    "y_pred_over = dt_model_over.predict(X_test_over)\n",
    "\n",
    "# print accuracy\n",
    "print(\"\\nAccuracy: \", accuracy_score(y_test_over, y_pred_over))\n",
    "\n",
    "# print precision\n",
    "print(\"\\nPrecision: \", precision_score(y_test_over, y_pred_over, average='weighted'))\n",
    "\n",
    "# print recall\n",
    "print(\"\\nRecall: \", recall_score(y_test_over, y_pred_over, average='weighted'))\n",
    "\n",
    "# print F1 score\n",
    "print(\"\\nF1 Score: \", f1_score(y_test_over, y_pred_over, average='weighted'))\n",
    "\n",
    "print(\"Decision Tree Model Metrics for Oversampled Data:\")\n",
    "print(classification_report(y_test_over, y_pred_over))"
   ]
  },
  {
   "cell_type": "code",
   "execution_count": 59,
   "metadata": {},
   "outputs": [
    {
     "data": {
      "image/png": "[encoded data removed]",
      "text/plain": [
       "<Figure size 1000x700 with 2 Axes>"
      ]
     },
     "metadata": {},
     "output_type": "display_data"
    }
   ],
   "source": [
    "# Calculate the confusion matrix\n",
    "cm = confusion_matrix(y_test_over, y_pred_over)\n",
    "\n",
    "# Plot the confusion matrix\n",
    "plt.figure(figsize=(10,7))\n",
    "sns.heatmap(cm, annot=True, fmt='d', cmap='Blues')\n",
    "plt.xlabel('Predicted')\n",
    "plt.ylabel('Truth')\n",
    "plt.show()"
   ]
  },
  {
   "cell_type": "markdown",
   "metadata": {},
   "source": [
    "## Random Forest Model"
   ]
  },
  {
   "cell_type": "code",
   "execution_count": 60,
   "metadata": {},
   "outputs": [
    {
     "data": {
      "text/html": [
       "<style>#sk-container-id-12 {color: black;}#sk-container-id-12 pre{padding: 0;}#sk-container-id-12 div.sk-toggleable {background-color: white;}#sk-container-id-12 label.sk-toggleable__label {cursor: pointer;display: block;width: 100%;margin-bottom: 0;padding: 0.3em;box-sizing: border-box;text-align: center;}#sk-container-id-12 label.sk-toggleable__label-arrow:before {content: \"▸\";float: left;margin-right: 0.25em;color: #696969;}#sk-container-id-12 label.sk-toggleable__label-arrow:hover:before {color: black;}#sk-container-id-12 div.sk-estimator:hover label.sk-toggleable__label-arrow:before {color: black;}#sk-container-id-12 div.sk-toggleable__content {max-height: 0;max-width: 0;overflow: hidden;text-align: left;background-color: #f0f8ff;}#sk-container-id-12 div.sk-toggleable__content pre {margin: 0.2em;color: black;border-radius: 0.25em;background-color: #f0f8ff;}#sk-container-id-12 input.sk-toggleable__control:checked~div.sk-toggleable__content {max-height: 200px;max-width: 100%;overflow: auto;}#sk-container-id-12 input.sk-toggleable__control:checked~label.sk-toggleable__label-arrow:before {content: \"▾\";}#sk-container-id-12 div.sk-estimator input.sk-toggleable__control:checked~label.sk-toggleable__label {background-color: #d4ebff;}#sk-container-id-12 div.sk-label input.sk-toggleable__control:checked~label.sk-toggleable__label {background-color: #d4ebff;}#sk-container-id-12 input.sk-hidden--visually {border: 0;clip: rect(1px 1px 1px 1px);clip: rect(1px, 1px, 1px, 1px);height: 1px;margin: -1px;overflow: hidden;padding: 0;position: absolute;width: 1px;}#sk-container-id-12 div.sk-estimator {font-family: monospace;background-color: #f0f8ff;border: 1px dotted black;border-radius: 0.25em;box-sizing: border-box;margin-bottom: 0.5em;}#sk-container-id-12 div.sk-estimator:hover {background-color: #d4ebff;}#sk-container-id-12 div.sk-parallel-item::after {content: \"\";width: 100%;border-bottom: 1px solid gray;flex-grow: 1;}#sk-container-id-12 div.sk-label:hover label.sk-toggleable__label {background-color: #d4ebff;}#sk-container-id-12 div.sk-serial::before {content: \"\";position: absolute;border-left: 1px solid gray;box-sizing: border-box;top: 0;bottom: 0;left: 50%;z-index: 0;}#sk-container-id-12 div.sk-serial {display: flex;flex-direction: column;align-items: center;background-color: white;padding-right: 0.2em;padding-left: 0.2em;position: relative;}#sk-container-id-12 div.sk-item {position: relative;z-index: 1;}#sk-container-id-12 div.sk-parallel {display: flex;align-items: stretch;justify-content: center;background-color: white;position: relative;}#sk-container-id-12 div.sk-item::before, #sk-container-id-12 div.sk-parallel-item::before {content: \"\";position: absolute;border-left: 1px solid gray;box-sizing: border-box;top: 0;bottom: 0;left: 50%;z-index: -1;}#sk-container-id-12 div.sk-parallel-item {display: flex;flex-direction: column;z-index: 1;position: relative;background-color: white;}#sk-container-id-12 div.sk-parallel-item:first-child::after {align-self: flex-end;width: 50%;}#sk-container-id-12 div.sk-parallel-item:last-child::after {align-self: flex-start;width: 50%;}#sk-container-id-12 div.sk-parallel-item:only-child::after {width: 0;}#sk-container-id-12 div.sk-dashed-wrapped {border: 1px dashed gray;margin: 0 0.4em 0.5em 0.4em;box-sizing: border-box;padding-bottom: 0.4em;background-color: white;}#sk-container-id-12 div.sk-label label {font-family: monospace;font-weight: bold;display: inline-block;line-height: 1.2em;}#sk-container-id-12 div.sk-label-container {text-align: center;}#sk-container-id-12 div.sk-container {/* jupyter's `normalize.less` sets `[hidden] { display: none; }` but bootstrap.min.css set `[hidden] { display: none !important; }` so we also need the `!important` here to be able to override the default hidden behavior on the sphinx rendered scikit-learn.org. See: https://github.com/scikit-learn/scikit-learn/issues/21755 */display: inline-block !important;position: relative;}#sk-container-id-12 div.sk-text-repr-fallback {display: none;}</style><div id=\"sk-container-id-12\" class=\"sk-top-container\"><div class=\"sk-text-repr-fallback\"><pre>RandomForestClassifier()</pre><b>In a Jupyter environment, please rerun this cell to show the HTML representation or trust the notebook. <br />On GitHub, the HTML representation is unable to render, please try loading this page with nbviewer.org.</b></div><div class=\"sk-container\" hidden><div class=\"sk-item\"><div class=\"sk-estimator sk-toggleable\"><input class=\"sk-toggleable__control sk-hidden--visually\" id=\"sk-estimator-id-12\" type=\"checkbox\" checked><label for=\"sk-estimator-id-12\" class=\"sk-toggleable__label sk-toggleable__label-arrow\">RandomForestClassifier</label><div class=\"sk-toggleable__content\"><pre>RandomForestClassifier()</pre></div></div></div></div></div>"
      ],
      "text/plain": [
       "RandomForestClassifier()"
      ]
     },
     "execution_count": 60,
     "metadata": {},
     "output_type": "execute_result"
    }
   ],
   "source": [
    "# initialize and train the Random Forest model on the oversampled data\n",
    "rf_model_over = RandomForestClassifier()\n",
    "rf_model_over.fit(X_train_over, y_train_over)"
   ]
  },
  {
   "cell_type": "code",
   "execution_count": 61,
   "metadata": {},
   "outputs": [
    {
     "name": "stdout",
     "output_type": "stream",
     "text": [
      "\n",
      "Accuracy:  0.9769294149958803\n",
      "\n",
      "Precision:  0.9769332961923128\n",
      "\n",
      "Recall:  0.9769294149958803\n",
      "\n",
      "F1 Score:  0.9769295907934401\n",
      "Random Forest Model Metrics for Oversampled Data:\n",
      "              precision    recall  f1-score   support\n",
      "\n",
      "    negative       0.97      0.96      0.97      1209\n",
      "     neutral       1.00      1.00      1.00      1238\n",
      "    positive       0.96      0.97      0.96      1194\n",
      "\n",
      "    accuracy                           0.98      3641\n",
      "   macro avg       0.98      0.98      0.98      3641\n",
      "weighted avg       0.98      0.98      0.98      3641\n",
      "\n"
     ]
    }
   ],
   "source": [
    "# make predictions on the test set\n",
    "y_pred_over = rf_model_over.predict(X_test_over)\n",
    "\n",
    "# print accuracy\n",
    "print(\"\\nAccuracy: \", accuracy_score(y_test_over, y_pred_over))\n",
    "\n",
    "# print precision\n",
    "print(\"\\nPrecision: \", precision_score(y_test_over, y_pred_over, average='weighted'))\n",
    "\n",
    "# print recall\n",
    "print(\"\\nRecall: \", recall_score(y_test_over, y_pred_over, average='weighted'))\n",
    "\n",
    "# print F1 score\n",
    "print(\"\\nF1 Score: \", f1_score(y_test_over, y_pred_over, average='weighted'))\n",
    "\n",
    "print(\"Random Forest Model Metrics for Oversampled Data:\")\n",
    "print(classification_report(y_test_over, y_pred_over))"
   ]
  },
  {
   "cell_type": "code",
   "execution_count": 62,
   "metadata": {},
   "outputs": [
    {
     "data": {
      "image/png": "[encoded data removed]",
      "text/plain": [
       "<Figure size 1000x700 with 2 Axes>"
      ]
     },
     "metadata": {},
     "output_type": "display_data"
    }
   ],
   "source": [
    "# Calculate the confusion matrix\n",
    "cm = confusion_matrix(y_test_over, y_pred_over)\n",
    "\n",
    "# Plot the confusion matrix\n",
    "plt.figure(figsize=(10,7))\n",
    "sns.heatmap(cm, annot=True, fmt='d', cmap='Blues')\n",
    "plt.xlabel('Predicted')\n",
    "plt.ylabel('Truth')\n",
    "plt.show()"
   ]
  },
  {
   "cell_type": "markdown",
   "metadata": {},
   "source": [
    "## Vader Sentiment Analysis"
   ]
  },
  {
   "cell_type": "code",
   "execution_count": 27,
   "metadata": {},
   "outputs": [],
   "source": [
    "# Initialize the sentiment intensity analyzer\n",
    "analyzer = SentimentIntensityAnalyzer()"
   ]
  },
  {
   "cell_type": "code",
   "execution_count": 28,
   "metadata": {},
   "outputs": [],
   "source": [
    "# Define a function to get the sentiment scores\n",
    "def get_sentiment_scores(text):\n",
    "    return analyzer.polarity_scores(text)"
   ]
  },
  {
   "cell_type": "code",
   "execution_count": 29,
   "metadata": {},
   "outputs": [],
   "source": [
    "# Apply the function to the 'review text' column\n",
    "df['sentiment_scores'] = df['cleaned_text_str'].apply(get_sentiment_scores)"
   ]
  },
  {
   "cell_type": "code",
   "execution_count": 30,
   "metadata": {},
   "outputs": [
    {
     "data": {
      "text/html": [
       "<div>\n",
       "<style scoped>\n",
       "    .dataframe tbody tr th:only-of-type {\n",
       "        vertical-align: middle;\n",
       "    }\n",
       "\n",
       "    .dataframe tbody tr th {\n",
       "        vertical-align: top;\n",
       "    }\n",
       "\n",
       "    .dataframe thead th {\n",
       "        text-align: right;\n",
       "    }\n",
       "</style>\n",
       "<table border=\"1\" class=\"dataframe\">\n",
       "  <thead>\n",
       "    <tr style=\"text-align: right;\">\n",
       "      <th></th>\n",
       "      <th>stars</th>\n",
       "      <th>cleaned_text</th>\n",
       "      <th>sentiment</th>\n",
       "      <th>cleaned_text_list</th>\n",
       "      <th>cleaned_text_str</th>\n",
       "      <th>neg</th>\n",
       "      <th>neu</th>\n",
       "      <th>pos</th>\n",
       "      <th>compound</th>\n",
       "    </tr>\n",
       "  </thead>\n",
       "  <tbody>\n",
       "    <tr>\n",
       "      <th>0</th>\n",
       "      <td>1</td>\n",
       "      <td>['lately', 'common', 'wait', 'hour', 'food', '...</td>\n",
       "      <td>negative</td>\n",
       "      <td>[lately, common, wait, hour, food, passed, dri...</td>\n",
       "      <td>lately common wait hour food passed driver one...</td>\n",
       "      <td>0.231</td>\n",
       "      <td>0.660</td>\n",
       "      <td>0.108</td>\n",
       "      <td>-0.6369</td>\n",
       "    </tr>\n",
       "    <tr>\n",
       "      <th>1</th>\n",
       "      <td>5</td>\n",
       "      <td>['love', 'great', 'offer', 'good', 'selection'...</td>\n",
       "      <td>positive</td>\n",
       "      <td>[love, great, offer, good, selection, food, sh...</td>\n",
       "      <td>love great offer good selection food shopping ...</td>\n",
       "      <td>0.095</td>\n",
       "      <td>0.536</td>\n",
       "      <td>0.370</td>\n",
       "      <td>0.9468</td>\n",
       "    </tr>\n",
       "    <tr>\n",
       "      <th>2</th>\n",
       "      <td>1</td>\n",
       "      <td>['disappointed', 'app', 'used', 'long', 'time'...</td>\n",
       "      <td>negative</td>\n",
       "      <td>[disappointed, app, used, long, time, service,...</td>\n",
       "      <td>disappointed app used long time service fee ke...</td>\n",
       "      <td>0.159</td>\n",
       "      <td>0.841</td>\n",
       "      <td>0.000</td>\n",
       "      <td>-0.6705</td>\n",
       "    </tr>\n",
       "    <tr>\n",
       "      <th>3</th>\n",
       "      <td>2</td>\n",
       "      <td>['fairly', 'easy', 'use', 'trying', 'find', 'h...</td>\n",
       "      <td>negative</td>\n",
       "      <td>[fairly, easy, use, trying, find, happening, c...</td>\n",
       "      <td>fairly easy use trying find happening contacti...</td>\n",
       "      <td>0.116</td>\n",
       "      <td>0.685</td>\n",
       "      <td>0.199</td>\n",
       "      <td>0.5574</td>\n",
       "    </tr>\n",
       "    <tr>\n",
       "      <th>4</th>\n",
       "      <td>4</td>\n",
       "      <td>['like', 'fact', 'u', 'ca', 'get', 'refund', '...</td>\n",
       "      <td>positive</td>\n",
       "      <td>[like, fact, u, ca, get, refund, unless, u, ta...</td>\n",
       "      <td>like fact u ca get refund unless u take pictur...</td>\n",
       "      <td>0.093</td>\n",
       "      <td>0.791</td>\n",
       "      <td>0.116</td>\n",
       "      <td>0.3182</td>\n",
       "    </tr>\n",
       "    <tr>\n",
       "      <th>5</th>\n",
       "      <td>4</td>\n",
       "      <td>['usually', 'work', 'well', 'use', 'often', 'i...</td>\n",
       "      <td>positive</td>\n",
       "      <td>[usually, work, well, use, often, issue, handl...</td>\n",
       "      <td>usually work well use often issue handled with...</td>\n",
       "      <td>0.050</td>\n",
       "      <td>0.717</td>\n",
       "      <td>0.233</td>\n",
       "      <td>0.8402</td>\n",
       "    </tr>\n",
       "    <tr>\n",
       "      <th>6</th>\n",
       "      <td>2</td>\n",
       "      <td>['ignoring', 'astronomical', 'tax', 'fee', 'fo...</td>\n",
       "      <td>negative</td>\n",
       "      <td>[ignoring, astronomical, tax, fee, forced, upd...</td>\n",
       "      <td>ignoring astronomical tax fee forced update ap...</td>\n",
       "      <td>0.205</td>\n",
       "      <td>0.732</td>\n",
       "      <td>0.063</td>\n",
       "      <td>-0.7923</td>\n",
       "    </tr>\n",
       "    <tr>\n",
       "      <th>7</th>\n",
       "      <td>1</td>\n",
       "      <td>['ive', 'absolutely', 'horrible', 'experience'...</td>\n",
       "      <td>negative</td>\n",
       "      <td>[ive, absolutely, horrible, experience, app, d...</td>\n",
       "      <td>ive absolutely horrible experience app driver ...</td>\n",
       "      <td>0.182</td>\n",
       "      <td>0.702</td>\n",
       "      <td>0.116</td>\n",
       "      <td>-0.6478</td>\n",
       "    </tr>\n",
       "    <tr>\n",
       "      <th>8</th>\n",
       "      <td>1</td>\n",
       "      <td>['give', 'zero', 'could', 'food', 'usually', '...</td>\n",
       "      <td>negative</td>\n",
       "      <td>[give, zero, could, food, usually, fine, resta...</td>\n",
       "      <td>give zero could food usually fine restaurant s...</td>\n",
       "      <td>0.259</td>\n",
       "      <td>0.608</td>\n",
       "      <td>0.133</td>\n",
       "      <td>-0.7650</td>\n",
       "    </tr>\n",
       "    <tr>\n",
       "      <th>9</th>\n",
       "      <td>1</td>\n",
       "      <td>['everything', 'run', 'smooth', 'part', 'cance...</td>\n",
       "      <td>negative</td>\n",
       "      <td>[everything, run, smooth, part, cancelled, som...</td>\n",
       "      <td>everything run smooth part cancelled something...</td>\n",
       "      <td>0.130</td>\n",
       "      <td>0.662</td>\n",
       "      <td>0.209</td>\n",
       "      <td>0.6249</td>\n",
       "    </tr>\n",
       "  </tbody>\n",
       "</table>\n",
       "</div>"
      ],
      "text/plain": [
       "   stars                                       cleaned_text sentiment  \\\n",
       "0      1  ['lately', 'common', 'wait', 'hour', 'food', '...  negative   \n",
       "1      5  ['love', 'great', 'offer', 'good', 'selection'...  positive   \n",
       "2      1  ['disappointed', 'app', 'used', 'long', 'time'...  negative   \n",
       "3      2  ['fairly', 'easy', 'use', 'trying', 'find', 'h...  negative   \n",
       "4      4  ['like', 'fact', 'u', 'ca', 'get', 'refund', '...  positive   \n",
       "5      4  ['usually', 'work', 'well', 'use', 'often', 'i...  positive   \n",
       "6      2  ['ignoring', 'astronomical', 'tax', 'fee', 'fo...  negative   \n",
       "7      1  ['ive', 'absolutely', 'horrible', 'experience'...  negative   \n",
       "8      1  ['give', 'zero', 'could', 'food', 'usually', '...  negative   \n",
       "9      1  ['everything', 'run', 'smooth', 'part', 'cance...  negative   \n",
       "\n",
       "                                   cleaned_text_list  \\\n",
       "0  [lately, common, wait, hour, food, passed, dri...   \n",
       "1  [love, great, offer, good, selection, food, sh...   \n",
       "2  [disappointed, app, used, long, time, service,...   \n",
       "3  [fairly, easy, use, trying, find, happening, c...   \n",
       "4  [like, fact, u, ca, get, refund, unless, u, ta...   \n",
       "5  [usually, work, well, use, often, issue, handl...   \n",
       "6  [ignoring, astronomical, tax, fee, forced, upd...   \n",
       "7  [ive, absolutely, horrible, experience, app, d...   \n",
       "8  [give, zero, could, food, usually, fine, resta...   \n",
       "9  [everything, run, smooth, part, cancelled, som...   \n",
       "\n",
       "                                    cleaned_text_str    neg    neu    pos  \\\n",
       "0  lately common wait hour food passed driver one...  0.231  0.660  0.108   \n",
       "1  love great offer good selection food shopping ...  0.095  0.536  0.370   \n",
       "2  disappointed app used long time service fee ke...  0.159  0.841  0.000   \n",
       "3  fairly easy use trying find happening contacti...  0.116  0.685  0.199   \n",
       "4  like fact u ca get refund unless u take pictur...  0.093  0.791  0.116   \n",
       "5  usually work well use often issue handled with...  0.050  0.717  0.233   \n",
       "6  ignoring astronomical tax fee forced update ap...  0.205  0.732  0.063   \n",
       "7  ive absolutely horrible experience app driver ...  0.182  0.702  0.116   \n",
       "8  give zero could food usually fine restaurant s...  0.259  0.608  0.133   \n",
       "9  everything run smooth part cancelled something...  0.130  0.662  0.209   \n",
       "\n",
       "   compound  \n",
       "0   -0.6369  \n",
       "1    0.9468  \n",
       "2   -0.6705  \n",
       "3    0.5574  \n",
       "4    0.3182  \n",
       "5    0.8402  \n",
       "6   -0.7923  \n",
       "7   -0.6478  \n",
       "8   -0.7650  \n",
       "9    0.6249  "
      ]
     },
     "execution_count": 30,
     "metadata": {},
     "output_type": "execute_result"
    }
   ],
   "source": [
    "# Split the sentiment scores into separate columns\n",
    "df = pd.concat([df.drop(['sentiment_scores'], axis=1), df['sentiment_scores'].apply(pd.Series)], axis=1)\n",
    "df.head(10)"
   ]
  },
  {
   "cell_type": "markdown",
   "metadata": {},
   "source": [
    "## Sequential Model"
   ]
  },
  {
   "cell_type": "code",
   "execution_count": 31,
   "metadata": {},
   "outputs": [],
   "source": [
    "# Tokenizing and adding padding\n",
    "max_words = 5000\n",
    "max_len = 200"
   ]
  },
  {
   "cell_type": "code",
   "execution_count": 33,
   "metadata": {},
   "outputs": [],
   "source": [
    "# Initialize the OrdinalEncoder\n",
    "oe = OrdinalEncoder()\n",
    "\n",
    "# Fit and transform the labels\n",
    "y_train_over = oe.fit_transform(y_train_over.values.reshape(-1, 1))\n",
    "y_test_over = oe.transform(y_test_over.values.reshape(-1, 1))\n",
    "\n",
    "# Convert integer labels to binary form\n",
    "y_train_over = to_categorical(y_train_over)\n",
    "y_test_over = to_categorical(y_test_over)"
   ]
  },
  {
   "cell_type": "code",
   "execution_count": 38,
   "metadata": {},
   "outputs": [
    {
     "name": "stdout",
     "output_type": "stream",
     "text": [
      "Epoch 1/10\n",
      "455/455 [==============================] - 2s 2ms/step - loss: 0.5247 - accuracy: 0.8409 - f1_score: 0.6923 - val_loss: 0.2015 - val_accuracy: 0.9508 - val_f1_score: 0.9488\n",
      "Epoch 2/10\n",
      "455/455 [==============================] - 1s 2ms/step - loss: 0.1055 - accuracy: 0.9733 - f1_score: 0.9737 - val_loss: 0.1113 - val_accuracy: 0.9681 - val_f1_score: 0.9679\n",
      "Epoch 3/10\n",
      "455/455 [==============================] - 1s 2ms/step - loss: 0.0400 - accuracy: 0.9910 - f1_score: 0.9907 - val_loss: 0.0895 - val_accuracy: 0.9734 - val_f1_score: 0.9742\n",
      "Epoch 4/10\n",
      "455/455 [==============================] - 1s 2ms/step - loss: 0.0179 - accuracy: 0.9962 - f1_score: 0.9963 - val_loss: 0.0952 - val_accuracy: 0.9714 - val_f1_score: 0.9720\n",
      "Epoch 5/10\n",
      "455/455 [==============================] - 1s 2ms/step - loss: 0.0083 - accuracy: 0.9986 - f1_score: 0.9987 - val_loss: 0.0926 - val_accuracy: 0.9736 - val_f1_score: 0.9741\n",
      "Epoch 6/10\n",
      "455/455 [==============================] - 1s 2ms/step - loss: 0.0042 - accuracy: 0.9995 - f1_score: 0.9996 - val_loss: 0.1007 - val_accuracy: 0.9734 - val_f1_score: 0.9737\n",
      "Epoch 7/10\n",
      "455/455 [==============================] - 1s 2ms/step - loss: 0.0024 - accuracy: 0.9998 - f1_score: 0.9998 - val_loss: 0.1139 - val_accuracy: 0.9725 - val_f1_score: 0.9726\n",
      "Epoch 8/10\n",
      "455/455 [==============================] - 1s 2ms/step - loss: 0.0016 - accuracy: 0.9999 - f1_score: 0.9999 - val_loss: 0.1133 - val_accuracy: 0.9739 - val_f1_score: 0.9741\n",
      "Epoch 9/10\n",
      "455/455 [==============================] - 1s 2ms/step - loss: 0.0013 - accuracy: 0.9999 - f1_score: 0.9999 - val_loss: 0.1176 - val_accuracy: 0.9739 - val_f1_score: 0.9743\n",
      "Epoch 10/10\n",
      "455/455 [==============================] - 1s 2ms/step - loss: 0.0011 - accuracy: 0.9999 - f1_score: 0.9999 - val_loss: 0.1226 - val_accuracy: 0.9739 - val_f1_score: 0.9743\n"
     ]
    }
   ],
   "source": [
    "# Define a custom F1 score metric\n",
    "def f1_score(y_true, y_pred):\n",
    "    true_positives = tf.keras.backend.sum(tf.keras.backend.round(tf.keras.backend.clip(y_true * y_pred, 0, 1)))\n",
    "    possible_positives = tf.keras.backend.sum(tf.keras.backend.round(tf.keras.backend.clip(y_true, 0, 1)))\n",
    "    predicted_positives = tf.keras.backend.sum(tf.keras.backend.round(tf.keras.backend.clip(y_pred, 0, 1)))\n",
    "    precision = true_positives / (predicted_positives + tf.keras.backend.epsilon())\n",
    "    recall = true_positives / (possible_positives + tf.keras.backend.epsilon())\n",
    "    f1_val = 2*(precision*recall)/(precision+recall+tf.keras.backend.epsilon())\n",
    "    return f1_val\n",
    "\n",
    "# Define the model\n",
    "model = Sequential()\n",
    "model.add(Dense(32, input_dim=X_train_over.shape[1], activation='relu'))  # Input layer\n",
    "model.add(Dense(16, activation='relu'))  # Hidden layer\n",
    "model.add(Dense(3, activation='softmax'))  # Output layer\n",
    "\n",
    "# Compile the model\n",
    "model.compile(loss='categorical_crossentropy', \n",
    "              optimizer='adam', \n",
    "              metrics=['accuracy', f1_score])\n",
    "\n",
    "# Fit the model to the oversampled data\n",
    "training_history = model.fit(X_train_over, y_train_over, epochs=10, batch_size=32, validation_data=(X_test_over, y_test_over))"
   ]
  },
  {
   "cell_type": "code",
   "execution_count": 39,
   "metadata": {},
   "outputs": [
    {
     "data": {
      "image/png": "[encoded data removed]",
      "text/plain": [
       "<Figure size 640x480 with 1 Axes>"
      ]
     },
     "metadata": {},
     "output_type": "display_data"
    }
   ],
   "source": [
    "# Plot the training and validation F1 score\n",
    "plt.plot(training_history.history['f1_score'], label='Training F1 Score')\n",
    "plt.plot(training_history.history['val_f1_score'], label='Validation F1 Score')\n",
    "plt.xlabel('Epochs')\n",
    "plt.ylabel('F1 Score')\n",
    "plt.legend()\n",
    "plt.show()"
   ]
  },
  {
   "cell_type": "markdown",
   "metadata": {},
   "source": [
    "The evaluation assesses the performance of different classification models based on metrics like Accuracy, Precision, Recall, and F1 Score. While Gaussian, Multinomial, and Bernoulli Naive Bayes, Decision Tree, and Random Forest show respectable results, they have inherent limitations. For example, Naive Bayes assumes feature independence, which may not hold in all cases, and Decision Trees can overfit complex datasets. Although Random Forest is robust, it may not be optimal for high-dimensional data. In contrast, Support Vector Machine (SVM) emerges as the preferred choice due to its exceptional accuracy, balanced performance across metrics, robustness to overfitting, and capacity to handle high-dimensional data effectively. SVM's ability to capture complex relationships and maximize margins further solidifies its superiority, making it the ideal model for this classification task."
   ]
  },
  {
   "cell_type": "markdown",
   "metadata": {},
   "source": [
    "# 6. Tuning <a id='tuning'></a>\n",
    "[Back to top](#table_of_contents)"
   ]
  },
  {
   "cell_type": "code",
   "execution_count": 45,
   "metadata": {},
   "outputs": [
    {
     "name": "stdout",
     "output_type": "stream",
     "text": [
      "Fitting 5 folds for each of 16 candidates, totalling 80 fits\n",
      "[CV] END .........................C=0.1, gamma=1, kernel=rbf; total time=  27.1s\n",
      "[CV] END .........................C=0.1, gamma=1, kernel=rbf; total time=  26.7s\n",
      "[CV] END .........................C=0.1, gamma=1, kernel=rbf; total time=  26.8s\n",
      "[CV] END .........................C=0.1, gamma=1, kernel=rbf; total time=  27.1s\n",
      "[CV] END .........................C=0.1, gamma=1, kernel=rbf; total time=  27.1s\n",
      "[CV] END .......................C=0.1, gamma=0.1, kernel=rbf; total time=  31.1s\n",
      "[CV] END .......................C=0.1, gamma=0.1, kernel=rbf; total time=  30.6s\n",
      "[CV] END .......................C=0.1, gamma=0.1, kernel=rbf; total time=  30.6s\n",
      "[CV] END .......................C=0.1, gamma=0.1, kernel=rbf; total time=  30.5s\n",
      "[CV] END .......................C=0.1, gamma=0.1, kernel=rbf; total time=  30.5s\n",
      "[CV] END ......................C=0.1, gamma=0.01, kernel=rbf; total time=  32.8s\n",
      "[CV] END ......................C=0.1, gamma=0.01, kernel=rbf; total time=  32.8s\n",
      "[CV] END ......................C=0.1, gamma=0.01, kernel=rbf; total time=  33.1s\n",
      "[CV] END ......................C=0.1, gamma=0.01, kernel=rbf; total time=  32.8s\n",
      "[CV] END ......................C=0.1, gamma=0.01, kernel=rbf; total time=  32.8s\n",
      "[CV] END .....................C=0.1, gamma=0.001, kernel=rbf; total time=  32.7s\n",
      "[CV] END .....................C=0.1, gamma=0.001, kernel=rbf; total time=  32.8s\n",
      "[CV] END .....................C=0.1, gamma=0.001, kernel=rbf; total time=  32.7s\n",
      "[CV] END .....................C=0.1, gamma=0.001, kernel=rbf; total time=  32.6s\n",
      "[CV] END .....................C=0.1, gamma=0.001, kernel=rbf; total time=  32.5s\n",
      "[CV] END ...........................C=1, gamma=1, kernel=rbf; total time=  13.9s\n",
      "[CV] END ...........................C=1, gamma=1, kernel=rbf; total time=  13.9s\n",
      "[CV] END ...........................C=1, gamma=1, kernel=rbf; total time=  14.0s\n",
      "[CV] END ...........................C=1, gamma=1, kernel=rbf; total time=  13.9s\n",
      "[CV] END ...........................C=1, gamma=1, kernel=rbf; total time=  13.9s\n",
      "[CV] END .........................C=1, gamma=0.1, kernel=rbf; total time=  18.3s\n",
      "[CV] END .........................C=1, gamma=0.1, kernel=rbf; total time=  18.2s\n",
      "[CV] END .........................C=1, gamma=0.1, kernel=rbf; total time=  18.0s\n",
      "[CV] END .........................C=1, gamma=0.1, kernel=rbf; total time=  18.2s\n",
      "[CV] END .........................C=1, gamma=0.1, kernel=rbf; total time=  18.0s\n",
      "[CV] END ........................C=1, gamma=0.01, kernel=rbf; total time=  29.7s\n",
      "[CV] END ........................C=1, gamma=0.01, kernel=rbf; total time=  29.9s\n",
      "[CV] END ........................C=1, gamma=0.01, kernel=rbf; total time=  29.9s\n",
      "[CV] END ........................C=1, gamma=0.01, kernel=rbf; total time=  29.8s\n",
      "[CV] END ........................C=1, gamma=0.01, kernel=rbf; total time=  29.8s\n",
      "[CV] END .......................C=1, gamma=0.001, kernel=rbf; total time=  32.8s\n",
      "[CV] END .......................C=1, gamma=0.001, kernel=rbf; total time=  32.8s\n",
      "[CV] END .......................C=1, gamma=0.001, kernel=rbf; total time=  32.8s\n",
      "[CV] END .......................C=1, gamma=0.001, kernel=rbf; total time=  32.8s\n",
      "[CV] END .......................C=1, gamma=0.001, kernel=rbf; total time=  32.7s\n",
      "[CV] END ..........................C=10, gamma=1, kernel=rbf; total time=  14.4s\n",
      "[CV] END ..........................C=10, gamma=1, kernel=rbf; total time=  14.3s\n",
      "[CV] END ..........................C=10, gamma=1, kernel=rbf; total time=  14.4s\n",
      "[CV] END ..........................C=10, gamma=1, kernel=rbf; total time=  14.4s\n",
      "[CV] END ..........................C=10, gamma=1, kernel=rbf; total time=  14.3s\n",
      "[CV] END ........................C=10, gamma=0.1, kernel=rbf; total time=  10.2s\n",
      "[CV] END ........................C=10, gamma=0.1, kernel=rbf; total time=  10.2s\n",
      "[CV] END ........................C=10, gamma=0.1, kernel=rbf; total time=  10.2s\n",
      "[CV] END ........................C=10, gamma=0.1, kernel=rbf; total time=  10.3s\n",
      "[CV] END ........................C=10, gamma=0.1, kernel=rbf; total time=  10.1s\n",
      "[CV] END .......................C=10, gamma=0.01, kernel=rbf; total time=  17.5s\n",
      "[CV] END .......................C=10, gamma=0.01, kernel=rbf; total time=  17.6s\n",
      "[CV] END .......................C=10, gamma=0.01, kernel=rbf; total time=  17.6s\n",
      "[CV] END .......................C=10, gamma=0.01, kernel=rbf; total time=  17.6s\n",
      "[CV] END .......................C=10, gamma=0.01, kernel=rbf; total time=  17.3s\n",
      "[CV] END ......................C=10, gamma=0.001, kernel=rbf; total time=  29.8s\n",
      "[CV] END ......................C=10, gamma=0.001, kernel=rbf; total time=  29.8s\n",
      "[CV] END ......................C=10, gamma=0.001, kernel=rbf; total time=  29.8s\n",
      "[CV] END ......................C=10, gamma=0.001, kernel=rbf; total time=  29.8s\n",
      "[CV] END ......................C=10, gamma=0.001, kernel=rbf; total time=  29.8s\n",
      "[CV] END .........................C=100, gamma=1, kernel=rbf; total time=  14.4s\n",
      "[CV] END .........................C=100, gamma=1, kernel=rbf; total time=  15.1s\n",
      "[CV] END .........................C=100, gamma=1, kernel=rbf; total time=  16.5s\n",
      "[CV] END .........................C=100, gamma=1, kernel=rbf; total time=  15.6s\n",
      "[CV] END .........................C=100, gamma=1, kernel=rbf; total time=  15.2s\n",
      "[CV] END .......................C=100, gamma=0.1, kernel=rbf; total time=   9.9s\n",
      "[CV] END .......................C=100, gamma=0.1, kernel=rbf; total time=   9.8s\n",
      "[CV] END .......................C=100, gamma=0.1, kernel=rbf; total time=   9.4s\n",
      "[CV] END .......................C=100, gamma=0.1, kernel=rbf; total time=   9.3s\n",
      "[CV] END .......................C=100, gamma=0.1, kernel=rbf; total time=   9.2s\n",
      "[CV] END ......................C=100, gamma=0.01, kernel=rbf; total time=   9.9s\n",
      "[CV] END ......................C=100, gamma=0.01, kernel=rbf; total time=   9.9s\n",
      "[CV] END ......................C=100, gamma=0.01, kernel=rbf; total time=   9.9s\n",
      "[CV] END ......................C=100, gamma=0.01, kernel=rbf; total time=   9.9s\n",
      "[CV] END ......................C=100, gamma=0.01, kernel=rbf; total time=   9.9s\n",
      "[CV] END .....................C=100, gamma=0.001, kernel=rbf; total time=  17.6s\n",
      "[CV] END .....................C=100, gamma=0.001, kernel=rbf; total time=  17.5s\n",
      "[CV] END .....................C=100, gamma=0.001, kernel=rbf; total time=  17.5s\n",
      "[CV] END .....................C=100, gamma=0.001, kernel=rbf; total time=  17.5s\n",
      "[CV] END .....................C=100, gamma=0.001, kernel=rbf; total time=  17.5s\n"
     ]
    }
   ],
   "source": [
    "from sklearn.model_selection import GridSearchCV\n",
    "from sklearn.svm import SVC\n",
    "\n",
    "# Define the parameter ranges\n",
    "param_grid = {'C': [0.1, 1, 10, 100], 'gamma': [1, 0.1, 0.01, 0.001], 'kernel': ['rbf']}\n",
    "\n",
    "# Initialize the SVC\n",
    "svm = SVC()\n",
    "\n",
    "# Initialize the GridSearchCV\n",
    "grid = GridSearchCV(svm, param_grid, refit=True, verbose=2)\n",
    "\n",
    "# Fit the GridSearchCV with original labels\n",
    "grid.fit(X_train_over, y_train_over.argmax(axis=1))\n",
    "\n",
    "# Get the best estimator\n",
    "svm_tuned = grid.best_estimator_"
   ]
  },
  {
   "cell_type": "code",
   "execution_count": 46,
   "metadata": {},
   "outputs": [
    {
     "data": {
      "text/html": [
       "<style>#sk-container-id-7 {color: black;}#sk-container-id-7 pre{padding: 0;}#sk-container-id-7 div.sk-toggleable {background-color: white;}#sk-container-id-7 label.sk-toggleable__label {cursor: pointer;display: block;width: 100%;margin-bottom: 0;padding: 0.3em;box-sizing: border-box;text-align: center;}#sk-container-id-7 label.sk-toggleable__label-arrow:before {content: \"▸\";float: left;margin-right: 0.25em;color: #696969;}#sk-container-id-7 label.sk-toggleable__label-arrow:hover:before {color: black;}#sk-container-id-7 div.sk-estimator:hover label.sk-toggleable__label-arrow:before {color: black;}#sk-container-id-7 div.sk-toggleable__content {max-height: 0;max-width: 0;overflow: hidden;text-align: left;background-color: #f0f8ff;}#sk-container-id-7 div.sk-toggleable__content pre {margin: 0.2em;color: black;border-radius: 0.25em;background-color: #f0f8ff;}#sk-container-id-7 input.sk-toggleable__control:checked~div.sk-toggleable__content {max-height: 200px;max-width: 100%;overflow: auto;}#sk-container-id-7 input.sk-toggleable__control:checked~label.sk-toggleable__label-arrow:before {content: \"▾\";}#sk-container-id-7 div.sk-estimator input.sk-toggleable__control:checked~label.sk-toggleable__label {background-color: #d4ebff;}#sk-container-id-7 div.sk-label input.sk-toggleable__control:checked~label.sk-toggleable__label {background-color: #d4ebff;}#sk-container-id-7 input.sk-hidden--visually {border: 0;clip: rect(1px 1px 1px 1px);clip: rect(1px, 1px, 1px, 1px);height: 1px;margin: -1px;overflow: hidden;padding: 0;position: absolute;width: 1px;}#sk-container-id-7 div.sk-estimator {font-family: monospace;background-color: #f0f8ff;border: 1px dotted black;border-radius: 0.25em;box-sizing: border-box;margin-bottom: 0.5em;}#sk-container-id-7 div.sk-estimator:hover {background-color: #d4ebff;}#sk-container-id-7 div.sk-parallel-item::after {content: \"\";width: 100%;border-bottom: 1px solid gray;flex-grow: 1;}#sk-container-id-7 div.sk-label:hover label.sk-toggleable__label {background-color: #d4ebff;}#sk-container-id-7 div.sk-serial::before {content: \"\";position: absolute;border-left: 1px solid gray;box-sizing: border-box;top: 0;bottom: 0;left: 50%;z-index: 0;}#sk-container-id-7 div.sk-serial {display: flex;flex-direction: column;align-items: center;background-color: white;padding-right: 0.2em;padding-left: 0.2em;position: relative;}#sk-container-id-7 div.sk-item {position: relative;z-index: 1;}#sk-container-id-7 div.sk-parallel {display: flex;align-items: stretch;justify-content: center;background-color: white;position: relative;}#sk-container-id-7 div.sk-item::before, #sk-container-id-7 div.sk-parallel-item::before {content: \"\";position: absolute;border-left: 1px solid gray;box-sizing: border-box;top: 0;bottom: 0;left: 50%;z-index: -1;}#sk-container-id-7 div.sk-parallel-item {display: flex;flex-direction: column;z-index: 1;position: relative;background-color: white;}#sk-container-id-7 div.sk-parallel-item:first-child::after {align-self: flex-end;width: 50%;}#sk-container-id-7 div.sk-parallel-item:last-child::after {align-self: flex-start;width: 50%;}#sk-container-id-7 div.sk-parallel-item:only-child::after {width: 0;}#sk-container-id-7 div.sk-dashed-wrapped {border: 1px dashed gray;margin: 0 0.4em 0.5em 0.4em;box-sizing: border-box;padding-bottom: 0.4em;background-color: white;}#sk-container-id-7 div.sk-label label {font-family: monospace;font-weight: bold;display: inline-block;line-height: 1.2em;}#sk-container-id-7 div.sk-label-container {text-align: center;}#sk-container-id-7 div.sk-container {/* jupyter's `normalize.less` sets `[hidden] { display: none; }` but bootstrap.min.css set `[hidden] { display: none !important; }` so we also need the `!important` here to be able to override the default hidden behavior on the sphinx rendered scikit-learn.org. See: https://github.com/scikit-learn/scikit-learn/issues/21755 */display: inline-block !important;position: relative;}#sk-container-id-7 div.sk-text-repr-fallback {display: none;}</style><div id=\"sk-container-id-7\" class=\"sk-top-container\"><div class=\"sk-text-repr-fallback\"><pre>SVC(C=10, gamma=1)</pre><b>In a Jupyter environment, please rerun this cell to show the HTML representation or trust the notebook. <br />On GitHub, the HTML representation is unable to render, please try loading this page with nbviewer.org.</b></div><div class=\"sk-container\" hidden><div class=\"sk-item\"><div class=\"sk-estimator sk-toggleable\"><input class=\"sk-toggleable__control sk-hidden--visually\" id=\"sk-estimator-id-7\" type=\"checkbox\" checked><label for=\"sk-estimator-id-7\" class=\"sk-toggleable__label sk-toggleable__label-arrow\">SVC</label><div class=\"sk-toggleable__content\"><pre>SVC(C=10, gamma=1)</pre></div></div></div></div></div>"
      ],
      "text/plain": [
       "SVC(C=10, gamma=1)"
      ]
     },
     "execution_count": 46,
     "metadata": {},
     "output_type": "execute_result"
    }
   ],
   "source": [
    "svm_tuned"
   ]
  },
  {
   "cell_type": "markdown",
   "metadata": {},
   "source": [
    "The SVM model was fine-tuned using Grid Search, which systematically explores different combinations of hyperparameters to find the optimal configuration. The specified parameters included 'C', controlling the regularization strength, and 'gamma', determining the influence of individual training samples. The 'kernel' parameter was set to 'rbf', indicating the radial basis function kernel.\n",
    "\n",
    "After evaluating all combinations, the grid search identified the best model configuration where 'C' was set to 10 and 'gamma' to 1. This configuration achieved the highest performance, indicating that a regularization strength of 10 and a higher influence of individual training samples (gamma = 1) resulted in the most accurate classification of the Uber Eats reviews."
   ]
  },
  {
   "cell_type": "markdown",
   "metadata": {},
   "source": [
    "# 7. Validation with test Dataset <a id='validation'></a>\n",
    "\n",
    "[Back to top](#table_of_contents)"
   ]
  },
  {
   "cell_type": "code",
   "execution_count": 47,
   "metadata": {},
   "outputs": [
    {
     "data": {
      "text/html": [
       "<div>\n",
       "<style scoped>\n",
       "    .dataframe tbody tr th:only-of-type {\n",
       "        vertical-align: middle;\n",
       "    }\n",
       "\n",
       "    .dataframe tbody tr th {\n",
       "        vertical-align: top;\n",
       "    }\n",
       "\n",
       "    .dataframe thead th {\n",
       "        text-align: right;\n",
       "    }\n",
       "</style>\n",
       "<table border=\"1\" class=\"dataframe\">\n",
       "  <thead>\n",
       "    <tr style=\"text-align: right;\">\n",
       "      <th></th>\n",
       "      <th>stars</th>\n",
       "      <th>cleaned_text</th>\n",
       "      <th>sentiment</th>\n",
       "    </tr>\n",
       "  </thead>\n",
       "  <tbody>\n",
       "    <tr>\n",
       "      <th>0</th>\n",
       "      <td>1</td>\n",
       "      <td>['lately', 'common', 'wait', 'hour', 'food', '...</td>\n",
       "      <td>negative</td>\n",
       "    </tr>\n",
       "    <tr>\n",
       "      <th>1</th>\n",
       "      <td>5</td>\n",
       "      <td>['love', 'great', 'offer', 'good', 'selection'...</td>\n",
       "      <td>positive</td>\n",
       "    </tr>\n",
       "    <tr>\n",
       "      <th>2</th>\n",
       "      <td>1</td>\n",
       "      <td>['disappointed', 'app', 'used', 'long', 'time'...</td>\n",
       "      <td>negative</td>\n",
       "    </tr>\n",
       "    <tr>\n",
       "      <th>3</th>\n",
       "      <td>2</td>\n",
       "      <td>['fairly', 'easy', 'use', 'trying', 'find', 'h...</td>\n",
       "      <td>negative</td>\n",
       "    </tr>\n",
       "    <tr>\n",
       "      <th>4</th>\n",
       "      <td>4</td>\n",
       "      <td>['like', 'fact', 'u', 'ca', 'get', 'refund', '...</td>\n",
       "      <td>positive</td>\n",
       "    </tr>\n",
       "    <tr>\n",
       "      <th>...</th>\n",
       "      <td>...</td>\n",
       "      <td>...</td>\n",
       "      <td>...</td>\n",
       "    </tr>\n",
       "    <tr>\n",
       "      <th>8892</th>\n",
       "      <td>5</td>\n",
       "      <td>['food', 'good', 'delivery', 'took', 'forever'...</td>\n",
       "      <td>positive</td>\n",
       "    </tr>\n",
       "    <tr>\n",
       "      <th>8893</th>\n",
       "      <td>1</td>\n",
       "      <td>['whenever', 'never', 'sent', 'correct', 'item...</td>\n",
       "      <td>negative</td>\n",
       "    </tr>\n",
       "    <tr>\n",
       "      <th>8894</th>\n",
       "      <td>1</td>\n",
       "      <td>['delivery', 'driver', 'turn', 'incorrect', 'l...</td>\n",
       "      <td>negative</td>\n",
       "    </tr>\n",
       "    <tr>\n",
       "      <th>8895</th>\n",
       "      <td>5</td>\n",
       "      <td>['great', 'deal', 'buddy', 'pizza', 'buy', 'on...</td>\n",
       "      <td>positive</td>\n",
       "    </tr>\n",
       "    <tr>\n",
       "      <th>8896</th>\n",
       "      <td>5</td>\n",
       "      <td>['prompt', 'service', 'excellent', 'communicat...</td>\n",
       "      <td>positive</td>\n",
       "    </tr>\n",
       "  </tbody>\n",
       "</table>\n",
       "<p>8897 rows × 3 columns</p>\n",
       "</div>"
      ],
      "text/plain": [
       "      stars                                       cleaned_text sentiment\n",
       "0         1  ['lately', 'common', 'wait', 'hour', 'food', '...  negative\n",
       "1         5  ['love', 'great', 'offer', 'good', 'selection'...  positive\n",
       "2         1  ['disappointed', 'app', 'used', 'long', 'time'...  negative\n",
       "3         2  ['fairly', 'easy', 'use', 'trying', 'find', 'h...  negative\n",
       "4         4  ['like', 'fact', 'u', 'ca', 'get', 'refund', '...  positive\n",
       "...     ...                                                ...       ...\n",
       "8892      5  ['food', 'good', 'delivery', 'took', 'forever'...  positive\n",
       "8893      1  ['whenever', 'never', 'sent', 'correct', 'item...  negative\n",
       "8894      1  ['delivery', 'driver', 'turn', 'incorrect', 'l...  negative\n",
       "8895      5  ['great', 'deal', 'buddy', 'pizza', 'buy', 'on...  positive\n",
       "8896      5  ['prompt', 'service', 'excellent', 'communicat...  positive\n",
       "\n",
       "[8897 rows x 3 columns]"
      ]
     },
     "execution_count": 47,
     "metadata": {},
     "output_type": "execute_result"
    }
   ],
   "source": [
    "df_test = pd.read_csv('cleaned_data.csv')\n",
    "df_test"
   ]
  },
  {
   "cell_type": "code",
   "execution_count": 48,
   "metadata": {},
   "outputs": [],
   "source": [
    "# convert string representations of lists in 'cleaned_text' back to actual lists\n",
    "df_test['cleaned_text_list'] = df['cleaned_text'].apply(ast.literal_eval)\n",
    "\n",
    "# convert lists in 'cleaned_text_list' to strings\n",
    "df_test['cleaned_text_str'] = df['cleaned_text_list'].apply(' '.join)"
   ]
  },
  {
   "cell_type": "code",
   "execution_count": 49,
   "metadata": {},
   "outputs": [],
   "source": [
    "# initialize TF-IDF vectorizer\n",
    "vectorizer = TfidfVectorizer()"
   ]
  },
  {
   "cell_type": "code",
   "execution_count": 50,
   "metadata": {},
   "outputs": [],
   "source": [
    "# convert 'cleaned_text_str' into TF-IDF vectors\n",
    "X_val = vectorizer.fit_transform(df_test['cleaned_text_str'])\n",
    "\n",
    "# use 'sentiment' as target\n",
    "y_val = df_test['sentiment']"
   ]
  },
  {
   "cell_type": "code",
   "execution_count": 51,
   "metadata": {},
   "outputs": [],
   "source": [
    "# Use the SVM model to make predictions\n",
    "df_test['predicted_sentiment'] = svm_tuned.predict(X_val)"
   ]
  },
  {
   "cell_type": "code",
   "execution_count": 58,
   "metadata": {},
   "outputs": [
    {
     "data": {
      "text/html": [
       "<div>\n",
       "<style scoped>\n",
       "    .dataframe tbody tr th:only-of-type {\n",
       "        vertical-align: middle;\n",
       "    }\n",
       "\n",
       "    .dataframe tbody tr th {\n",
       "        vertical-align: top;\n",
       "    }\n",
       "\n",
       "    .dataframe thead th {\n",
       "        text-align: right;\n",
       "    }\n",
       "</style>\n",
       "<table border=\"1\" class=\"dataframe\">\n",
       "  <thead>\n",
       "    <tr style=\"text-align: right;\">\n",
       "      <th></th>\n",
       "      <th>stars</th>\n",
       "      <th>cleaned_text</th>\n",
       "      <th>sentiment</th>\n",
       "      <th>cleaned_text_list</th>\n",
       "      <th>cleaned_text_str</th>\n",
       "      <th>predicted_sentiment</th>\n",
       "    </tr>\n",
       "  </thead>\n",
       "  <tbody>\n",
       "    <tr>\n",
       "      <th>0</th>\n",
       "      <td>1</td>\n",
       "      <td>['lately', 'common', 'wait', 'hour', 'food', '...</td>\n",
       "      <td>negative</td>\n",
       "      <td>[lately, common, wait, hour, food, passed, dri...</td>\n",
       "      <td>lately common wait hour food passed driver one...</td>\n",
       "      <td>0</td>\n",
       "    </tr>\n",
       "    <tr>\n",
       "      <th>1</th>\n",
       "      <td>5</td>\n",
       "      <td>['love', 'great', 'offer', 'good', 'selection'...</td>\n",
       "      <td>positive</td>\n",
       "      <td>[love, great, offer, good, selection, food, sh...</td>\n",
       "      <td>love great offer good selection food shopping ...</td>\n",
       "      <td>2</td>\n",
       "    </tr>\n",
       "    <tr>\n",
       "      <th>2</th>\n",
       "      <td>1</td>\n",
       "      <td>['disappointed', 'app', 'used', 'long', 'time'...</td>\n",
       "      <td>negative</td>\n",
       "      <td>[disappointed, app, used, long, time, service,...</td>\n",
       "      <td>disappointed app used long time service fee ke...</td>\n",
       "      <td>0</td>\n",
       "    </tr>\n",
       "    <tr>\n",
       "      <th>3</th>\n",
       "      <td>2</td>\n",
       "      <td>['fairly', 'easy', 'use', 'trying', 'find', 'h...</td>\n",
       "      <td>negative</td>\n",
       "      <td>[fairly, easy, use, trying, find, happening, c...</td>\n",
       "      <td>fairly easy use trying find happening contacti...</td>\n",
       "      <td>0</td>\n",
       "    </tr>\n",
       "    <tr>\n",
       "      <th>4</th>\n",
       "      <td>4</td>\n",
       "      <td>['like', 'fact', 'u', 'ca', 'get', 'refund', '...</td>\n",
       "      <td>positive</td>\n",
       "      <td>[like, fact, u, ca, get, refund, unless, u, ta...</td>\n",
       "      <td>like fact u ca get refund unless u take pictur...</td>\n",
       "      <td>2</td>\n",
       "    </tr>\n",
       "  </tbody>\n",
       "</table>\n",
       "</div>"
      ],
      "text/plain": [
       "   stars                                       cleaned_text sentiment  \\\n",
       "0      1  ['lately', 'common', 'wait', 'hour', 'food', '...  negative   \n",
       "1      5  ['love', 'great', 'offer', 'good', 'selection'...  positive   \n",
       "2      1  ['disappointed', 'app', 'used', 'long', 'time'...  negative   \n",
       "3      2  ['fairly', 'easy', 'use', 'trying', 'find', 'h...  negative   \n",
       "4      4  ['like', 'fact', 'u', 'ca', 'get', 'refund', '...  positive   \n",
       "\n",
       "                                   cleaned_text_list  \\\n",
       "0  [lately, common, wait, hour, food, passed, dri...   \n",
       "1  [love, great, offer, good, selection, food, sh...   \n",
       "2  [disappointed, app, used, long, time, service,...   \n",
       "3  [fairly, easy, use, trying, find, happening, c...   \n",
       "4  [like, fact, u, ca, get, refund, unless, u, ta...   \n",
       "\n",
       "                                    cleaned_text_str  predicted_sentiment  \n",
       "0  lately common wait hour food passed driver one...                    0  \n",
       "1  love great offer good selection food shopping ...                    2  \n",
       "2  disappointed app used long time service fee ke...                    0  \n",
       "3  fairly easy use trying find happening contacti...                    0  \n",
       "4  like fact u ca get refund unless u take pictur...                    2  "
      ]
     },
     "execution_count": 58,
     "metadata": {},
     "output_type": "execute_result"
    }
   ],
   "source": [
    "df_test.head()"
   ]
  },
  {
   "cell_type": "code",
   "execution_count": 59,
   "metadata": {},
   "outputs": [
    {
     "data": {
      "text/html": [
       "<div>\n",
       "<style scoped>\n",
       "    .dataframe tbody tr th:only-of-type {\n",
       "        vertical-align: middle;\n",
       "    }\n",
       "\n",
       "    .dataframe tbody tr th {\n",
       "        vertical-align: top;\n",
       "    }\n",
       "\n",
       "    .dataframe thead th {\n",
       "        text-align: right;\n",
       "    }\n",
       "</style>\n",
       "<table border=\"1\" class=\"dataframe\">\n",
       "  <thead>\n",
       "    <tr style=\"text-align: right;\">\n",
       "      <th></th>\n",
       "      <th>stars</th>\n",
       "      <th>cleaned_text</th>\n",
       "      <th>sentiment</th>\n",
       "      <th>cleaned_text_list</th>\n",
       "      <th>cleaned_text_str</th>\n",
       "      <th>predicted_sentiment</th>\n",
       "      <th>sentiment_encoded</th>\n",
       "    </tr>\n",
       "  </thead>\n",
       "  <tbody>\n",
       "    <tr>\n",
       "      <th>0</th>\n",
       "      <td>1</td>\n",
       "      <td>['lately', 'common', 'wait', 'hour', 'food', '...</td>\n",
       "      <td>negative</td>\n",
       "      <td>[lately, common, wait, hour, food, passed, dri...</td>\n",
       "      <td>lately common wait hour food passed driver one...</td>\n",
       "      <td>0</td>\n",
       "      <td>0</td>\n",
       "    </tr>\n",
       "    <tr>\n",
       "      <th>1</th>\n",
       "      <td>5</td>\n",
       "      <td>['love', 'great', 'offer', 'good', 'selection'...</td>\n",
       "      <td>positive</td>\n",
       "      <td>[love, great, offer, good, selection, food, sh...</td>\n",
       "      <td>love great offer good selection food shopping ...</td>\n",
       "      <td>2</td>\n",
       "      <td>2</td>\n",
       "    </tr>\n",
       "    <tr>\n",
       "      <th>2</th>\n",
       "      <td>1</td>\n",
       "      <td>['disappointed', 'app', 'used', 'long', 'time'...</td>\n",
       "      <td>negative</td>\n",
       "      <td>[disappointed, app, used, long, time, service,...</td>\n",
       "      <td>disappointed app used long time service fee ke...</td>\n",
       "      <td>0</td>\n",
       "      <td>0</td>\n",
       "    </tr>\n",
       "    <tr>\n",
       "      <th>3</th>\n",
       "      <td>2</td>\n",
       "      <td>['fairly', 'easy', 'use', 'trying', 'find', 'h...</td>\n",
       "      <td>negative</td>\n",
       "      <td>[fairly, easy, use, trying, find, happening, c...</td>\n",
       "      <td>fairly easy use trying find happening contacti...</td>\n",
       "      <td>0</td>\n",
       "      <td>0</td>\n",
       "    </tr>\n",
       "    <tr>\n",
       "      <th>4</th>\n",
       "      <td>4</td>\n",
       "      <td>['like', 'fact', 'u', 'ca', 'get', 'refund', '...</td>\n",
       "      <td>positive</td>\n",
       "      <td>[like, fact, u, ca, get, refund, unless, u, ta...</td>\n",
       "      <td>like fact u ca get refund unless u take pictur...</td>\n",
       "      <td>2</td>\n",
       "      <td>2</td>\n",
       "    </tr>\n",
       "  </tbody>\n",
       "</table>\n",
       "</div>"
      ],
      "text/plain": [
       "   stars                                       cleaned_text sentiment  \\\n",
       "0      1  ['lately', 'common', 'wait', 'hour', 'food', '...  negative   \n",
       "1      5  ['love', 'great', 'offer', 'good', 'selection'...  positive   \n",
       "2      1  ['disappointed', 'app', 'used', 'long', 'time'...  negative   \n",
       "3      2  ['fairly', 'easy', 'use', 'trying', 'find', 'h...  negative   \n",
       "4      4  ['like', 'fact', 'u', 'ca', 'get', 'refund', '...  positive   \n",
       "\n",
       "                                   cleaned_text_list  \\\n",
       "0  [lately, common, wait, hour, food, passed, dri...   \n",
       "1  [love, great, offer, good, selection, food, sh...   \n",
       "2  [disappointed, app, used, long, time, service,...   \n",
       "3  [fairly, easy, use, trying, find, happening, c...   \n",
       "4  [like, fact, u, ca, get, refund, unless, u, ta...   \n",
       "\n",
       "                                    cleaned_text_str  predicted_sentiment  \\\n",
       "0  lately common wait hour food passed driver one...                    0   \n",
       "1  love great offer good selection food shopping ...                    2   \n",
       "2  disappointed app used long time service fee ke...                    0   \n",
       "3  fairly easy use trying find happening contacti...                    0   \n",
       "4  like fact u ca get refund unless u take pictur...                    2   \n",
       "\n",
       "   sentiment_encoded  \n",
       "0                  0  \n",
       "1                  2  \n",
       "2                  0  \n",
       "3                  0  \n",
       "4                  2  "
      ]
     },
     "execution_count": 59,
     "metadata": {},
     "output_type": "execute_result"
    }
   ],
   "source": [
    "# Map the sentiments to the same encoding as predicted_sentiment\n",
    "sentiment_mapping = {'negative': 0, 'neutral': 1, 'positive': 2}\n",
    "df_test['sentiment_encoded'] = df_test['sentiment'].map(sentiment_mapping)\n",
    "df_test.head()"
   ]
  },
  {
   "cell_type": "code",
   "execution_count": 61,
   "metadata": {},
   "outputs": [
    {
     "name": "stdout",
     "output_type": "stream",
     "text": [
      "Accuracy: 0.9946049230077554\n"
     ]
    }
   ],
   "source": [
    "# Calculate the accuracy\n",
    "accuracy = accuracy_score(df_test['sentiment_encoded'], df_test['predicted_sentiment'])\n",
    "print(f'Accuracy: {accuracy}')"
   ]
  },
  {
   "cell_type": "code",
   "execution_count": 65,
   "metadata": {},
   "outputs": [
    {
     "name": "stdout",
     "output_type": "stream",
     "text": [
      "F1 Score: 0.9946101568430482\n"
     ]
    }
   ],
   "source": [
    "# Calculate the F1 score\n",
    "f1 = f1_score(df_test['sentiment_encoded'], df_test['predicted_sentiment'], average='weighted')\n",
    "print('F1 Score:', f1)"
   ]
  },
  {
   "cell_type": "code",
   "execution_count": 66,
   "metadata": {},
   "outputs": [
    {
     "name": "stdout",
     "output_type": "stream",
     "text": [
      "Recall: 0.9946049230077554\n"
     ]
    }
   ],
   "source": [
    "# Calculate the recall\n",
    "recall = recall_score(df_test['sentiment_encoded'], df_test['predicted_sentiment'], average='weighted')\n",
    "print('Recall:', recall)"
   ]
  },
  {
   "cell_type": "code",
   "execution_count": 68,
   "metadata": {},
   "outputs": [
    {
     "name": "stdout",
     "output_type": "stream",
     "text": [
      "Precision: 0.9946250792727017\n"
     ]
    }
   ],
   "source": [
    "precision = precision_score(df_test['sentiment_encoded'], df_test['predicted_sentiment'], average='weighted')\n",
    "print('Precision:', precision)"
   ]
  },
  {
   "cell_type": "code",
   "execution_count": 69,
   "metadata": {},
   "outputs": [
    {
     "data": {
      "image/png": "[encoded data removed]",
      "text/plain": [
       "<Figure size 1000x700 with 2 Axes>"
      ]
     },
     "metadata": {},
     "output_type": "display_data"
    }
   ],
   "source": [
    "confusion = confusion_matrix(df_test['sentiment_encoded'], df_test['predicted_sentiment'])\n",
    "\n",
    "plt.figure(figsize=(10,7))\n",
    "sns.heatmap(confusion, annot=True, fmt='d', cmap='Blues')\n",
    "plt.xlabel('Predicted')\n",
    "plt.ylabel('True')\n",
    "plt.title('Confusion Matrix')\n",
    "plt.show()"
   ]
  },
  {
   "cell_type": "code",
   "execution_count": 72,
   "metadata": {},
   "outputs": [
    {
     "data": {
      "image/png": "[encoded data removed]",
      "text/plain": [
       "<Figure size 640x480 with 1 Axes>"
      ]
     },
     "metadata": {},
     "output_type": "display_data"
    }
   ],
   "source": [
    "import numpy as np\n",
    "from sklearn.metrics import roc_curve, auc\n",
    "from sklearn.preprocessing import label_binarize\n",
    "from sklearn.multiclass import OneVsRestClassifier\n",
    "import matplotlib.pyplot as plt\n",
    "\n",
    "# Binarize the output\n",
    "y = label_binarize(df_test['sentiment_encoded'], classes=[0, 1, 2])\n",
    "n_classes = y.shape[1]\n",
    "\n",
    "# Learn to predict each class against the other\n",
    "classifier = OneVsRestClassifier(svm_tuned)\n",
    "y_score = classifier.fit(X_train_over, y_train_over).decision_function(X_val)\n",
    "\n",
    "# Compute ROC curve and ROC area for each class\n",
    "fpr = dict()\n",
    "tpr = dict()\n",
    "roc_auc = dict()\n",
    "for i in range(n_classes):\n",
    "    fpr[i], tpr[i], _ = roc_curve(y[:, i], y_score[:, i])\n",
    "    roc_auc[i] = auc(fpr[i], tpr[i])\n",
    "\n",
    "# Define colors for the different classes\n",
    "colors = ['aqua', 'darkorange', 'cornflowerblue']\n",
    "\n",
    "# Plot all ROC curves\n",
    "plt.figure()\n",
    "for i, color in zip(range(n_classes), colors):\n",
    "    plt.plot(fpr[i], tpr[i], color=color, lw=2,\n",
    "             label='ROC curve of class {0} (area = {1:0.2f})'\n",
    "             ''.format(i, roc_auc[i]))\n",
    "\n",
    "plt.plot([0, 1], [0, 1], 'k--', lw=2)\n",
    "plt.xlim([0.0, 1.0])\n",
    "plt.ylim([0.0, 1.05])\n",
    "plt.xlabel('False Positive Rate')\n",
    "plt.ylabel('True Positive Rate')\n",
    "plt.title('Receiver operating characteristic for multi-class data')\n",
    "plt.legend(loc=\"lower right\")\n",
    "plt.show()"
   ]
  }
 ],
 "metadata": {
  "kernelspec": {
   "display_name": "Python 3",
   "language": "python",
   "name": "python3"
  },
  "language_info": {
   "codemirror_mode": {
    "name": "ipython",
    "version": 3
   },
   "file_extension": ".py",
   "mimetype": "text/x-python",
   "name": "python",
   "nbconvert_exporter": "python",
   "pygments_lexer": "ipython3",
   "version": "3.11.8"
  }
 },
 "nbformat": 4,
 "nbformat_minor": 2
}
