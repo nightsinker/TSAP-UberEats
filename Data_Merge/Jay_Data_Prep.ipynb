{
 "cells": [
  {
   "cell_type": "markdown",
   "metadata": {},
   "source": [
    "## Import Libraries"
   ]
  },
  {
   "cell_type": "code",
   "execution_count": 23,
   "metadata": {},
   "outputs": [],
   "source": [
    "import pandas as pd\n",
    "import numpy as np\n",
    "import matplotlib\n",
    "import re"
   ]
  },
  {
   "cell_type": "markdown",
   "metadata": {},
   "source": [
    "## Import Datasets"
   ]
  },
  {
   "cell_type": "code",
   "execution_count": 24,
   "metadata": {},
   "outputs": [
    {
     "data": {
      "text/html": [
       "<div>\n",
       "<style scoped>\n",
       "    .dataframe tbody tr th:only-of-type {\n",
       "        vertical-align: middle;\n",
       "    }\n",
       "\n",
       "    .dataframe tbody tr th {\n",
       "        vertical-align: top;\n",
       "    }\n",
       "\n",
       "    .dataframe thead th {\n",
       "        text-align: right;\n",
       "    }\n",
       "</style>\n",
       "<table border=\"1\" class=\"dataframe\">\n",
       "  <thead>\n",
       "    <tr style=\"text-align: right;\">\n",
       "      <th></th>\n",
       "      <th>review</th>\n",
       "      <th>date</th>\n",
       "      <th>stars</th>\n",
       "      <th>name</th>\n",
       "      <th>source</th>\n",
       "      <th>state</th>\n",
       "      <th>title</th>\n",
       "    </tr>\n",
       "  </thead>\n",
       "  <tbody>\n",
       "    <tr>\n",
       "      <th>0</th>\n",
       "      <td>Edit: they brought the feature back! Used to b...</td>\n",
       "      <td>January 18, 2024</td>\n",
       "      <td>Rated 5 stars out of five stars</td>\n",
       "      <td>Rufus Wright</td>\n",
       "      <td>Google Play Store</td>\n",
       "      <td>NaN</td>\n",
       "      <td>NaN</td>\n",
       "    </tr>\n",
       "    <tr>\n",
       "      <th>1</th>\n",
       "      <td>Lately it's very common to wait over 2 hours f...</td>\n",
       "      <td>January 20, 2024</td>\n",
       "      <td>Rated 1 stars out of five stars</td>\n",
       "      <td>Bastian H</td>\n",
       "      <td>Google Play Store</td>\n",
       "      <td>NaN</td>\n",
       "      <td>NaN</td>\n",
       "    </tr>\n",
       "    <tr>\n",
       "      <th>2</th>\n",
       "      <td>Love it. Great offers. Good selections. Food a...</td>\n",
       "      <td>January 20, 2024</td>\n",
       "      <td>Rated 5 stars out of five stars</td>\n",
       "      <td>Andrew Higgs</td>\n",
       "      <td>Google Play Store</td>\n",
       "      <td>NaN</td>\n",
       "      <td>NaN</td>\n",
       "    </tr>\n",
       "    <tr>\n",
       "      <th>3</th>\n",
       "      <td>Very disappointed in this app. I've used it fo...</td>\n",
       "      <td>January 19, 2024</td>\n",
       "      <td>Rated 1 stars out of five stars</td>\n",
       "      <td>Kristi B</td>\n",
       "      <td>Google Play Store</td>\n",
       "      <td>NaN</td>\n",
       "      <td>NaN</td>\n",
       "    </tr>\n",
       "    <tr>\n",
       "      <th>4</th>\n",
       "      <td>Fairly easy to use but trying to find out what...</td>\n",
       "      <td>January 20, 2024</td>\n",
       "      <td>Rated 2 stars out of five stars</td>\n",
       "      <td>broomee c</td>\n",
       "      <td>Google Play Store</td>\n",
       "      <td>NaN</td>\n",
       "      <td>NaN</td>\n",
       "    </tr>\n",
       "  </tbody>\n",
       "</table>\n",
       "</div>"
      ],
      "text/plain": [
       "                                              review              date  \\\n",
       "0  Edit: they brought the feature back! Used to b...  January 18, 2024   \n",
       "1  Lately it's very common to wait over 2 hours f...  January 20, 2024   \n",
       "2  Love it. Great offers. Good selections. Food a...  January 20, 2024   \n",
       "3  Very disappointed in this app. I've used it fo...  January 19, 2024   \n",
       "4  Fairly easy to use but trying to find out what...  January 20, 2024   \n",
       "\n",
       "                             stars          name             source state  \\\n",
       "0  Rated 5 stars out of five stars  Rufus Wright  Google Play Store   NaN   \n",
       "1  Rated 1 stars out of five stars     Bastian H  Google Play Store   NaN   \n",
       "2  Rated 5 stars out of five stars  Andrew Higgs  Google Play Store   NaN   \n",
       "3  Rated 1 stars out of five stars      Kristi B  Google Play Store   NaN   \n",
       "4  Rated 2 stars out of five stars     broomee c  Google Play Store   NaN   \n",
       "\n",
       "  title  \n",
       "0   NaN  \n",
       "1   NaN  \n",
       "2   NaN  \n",
       "3   NaN  \n",
       "4   NaN  "
      ]
     },
     "execution_count": 24,
     "metadata": {},
     "output_type": "execute_result"
    }
   ],
   "source": [
    "df = pd.read_csv('UberEatsReviews.csv')\n",
    "df.head()"
   ]
  },
  {
   "cell_type": "markdown",
   "metadata": {},
   "source": [
    "## EDA and Data Cleaning"
   ]
  },
  {
   "cell_type": "code",
   "execution_count": 25,
   "metadata": {},
   "outputs": [
    {
     "data": {
      "text/plain": [
       "(11770, 7)"
      ]
     },
     "execution_count": 25,
     "metadata": {},
     "output_type": "execute_result"
    }
   ],
   "source": [
    "df.shape    "
   ]
  },
  {
   "cell_type": "code",
   "execution_count": 26,
   "metadata": {},
   "outputs": [
    {
     "name": "stdout",
     "output_type": "stream",
     "text": [
      "<class 'pandas.core.frame.DataFrame'>\n",
      "RangeIndex: 11770 entries, 0 to 11769\n",
      "Data columns (total 7 columns):\n",
      " #   Column  Non-Null Count  Dtype \n",
      "---  ------  --------------  ----- \n",
      " 0   review  11770 non-null  object\n",
      " 1   date    11770 non-null  object\n",
      " 2   stars   11770 non-null  object\n",
      " 3   name    11755 non-null  object\n",
      " 4   source  11770 non-null  object\n",
      " 5   state   228 non-null    object\n",
      " 6   title   335 non-null    object\n",
      "dtypes: object(7)\n",
      "memory usage: 643.8+ KB\n"
     ]
    }
   ],
   "source": [
    "df.info()"
   ]
  },
  {
   "cell_type": "code",
   "execution_count": 27,
   "metadata": {},
   "outputs": [],
   "source": [
    "df = df.drop(['state', 'title', 'name'], axis=1)"
   ]
  },
  {
   "cell_type": "code",
   "execution_count": 28,
   "metadata": {},
   "outputs": [
    {
     "data": {
      "text/plain": [
       "review    11621\n",
       "date       1430\n",
       "stars        15\n",
       "source        5\n",
       "dtype: int64"
      ]
     },
     "execution_count": 28,
     "metadata": {},
     "output_type": "execute_result"
    }
   ],
   "source": [
    "df.nunique()"
   ]
  },
  {
   "cell_type": "code",
   "execution_count": null,
   "metadata": {},
   "outputs": [],
   "source": []
  },
  {
   "cell_type": "markdown",
   "metadata": {},
   "source": [
    "### Cleaning Stars"
   ]
  },
  {
   "cell_type": "code",
   "execution_count": 29,
   "metadata": {},
   "outputs": [
    {
     "data": {
      "text/plain": [
       "array(['Rated 5 stars out of five stars',\n",
       "       'Rated 1 stars out of five stars',\n",
       "       'Rated 2 stars out of five stars',\n",
       "       'Rated 4 stars out of five stars',\n",
       "       'Rated 3 stars out of five stars', '1', '5', '4', '3', '2',\n",
       "       'Rated 3 out of 5 stars', 'Rated 5 out of 5 stars',\n",
       "       'Rated 2 out of 5 stars', 'Rated 1 out of 5 stars',\n",
       "       'Rated 4 out of 5 stars'], dtype=object)"
      ]
     },
     "execution_count": 29,
     "metadata": {},
     "output_type": "execute_result"
    }
   ],
   "source": [
    "df['stars'].unique()"
   ]
  },
  {
   "cell_type": "code",
   "execution_count": 30,
   "metadata": {},
   "outputs": [],
   "source": [
    "def clean_rating(rating):\n",
    "    match = re.search(r'\\d+', rating)\n",
    "    if match:\n",
    "        return match.group()\n",
    "    return rating"
   ]
  },
  {
   "cell_type": "code",
   "execution_count": 31,
   "metadata": {},
   "outputs": [],
   "source": [
    "df['stars'] = df['stars'].apply(clean_rating)"
   ]
  },
  {
   "cell_type": "code",
   "execution_count": 32,
   "metadata": {},
   "outputs": [
    {
     "data": {
      "text/html": [
       "<div>\n",
       "<style scoped>\n",
       "    .dataframe tbody tr th:only-of-type {\n",
       "        vertical-align: middle;\n",
       "    }\n",
       "\n",
       "    .dataframe tbody tr th {\n",
       "        vertical-align: top;\n",
       "    }\n",
       "\n",
       "    .dataframe thead th {\n",
       "        text-align: right;\n",
       "    }\n",
       "</style>\n",
       "<table border=\"1\" class=\"dataframe\">\n",
       "  <thead>\n",
       "    <tr style=\"text-align: right;\">\n",
       "      <th></th>\n",
       "      <th>review</th>\n",
       "      <th>date</th>\n",
       "      <th>stars</th>\n",
       "      <th>source</th>\n",
       "    </tr>\n",
       "  </thead>\n",
       "  <tbody>\n",
       "    <tr>\n",
       "      <th>0</th>\n",
       "      <td>Edit: they brought the feature back! Used to b...</td>\n",
       "      <td>January 18, 2024</td>\n",
       "      <td>5</td>\n",
       "      <td>Google Play Store</td>\n",
       "    </tr>\n",
       "    <tr>\n",
       "      <th>1</th>\n",
       "      <td>Lately it's very common to wait over 2 hours f...</td>\n",
       "      <td>January 20, 2024</td>\n",
       "      <td>1</td>\n",
       "      <td>Google Play Store</td>\n",
       "    </tr>\n",
       "    <tr>\n",
       "      <th>2</th>\n",
       "      <td>Love it. Great offers. Good selections. Food a...</td>\n",
       "      <td>January 20, 2024</td>\n",
       "      <td>5</td>\n",
       "      <td>Google Play Store</td>\n",
       "    </tr>\n",
       "    <tr>\n",
       "      <th>3</th>\n",
       "      <td>Very disappointed in this app. I've used it fo...</td>\n",
       "      <td>January 19, 2024</td>\n",
       "      <td>1</td>\n",
       "      <td>Google Play Store</td>\n",
       "    </tr>\n",
       "    <tr>\n",
       "      <th>4</th>\n",
       "      <td>Fairly easy to use but trying to find out what...</td>\n",
       "      <td>January 20, 2024</td>\n",
       "      <td>2</td>\n",
       "      <td>Google Play Store</td>\n",
       "    </tr>\n",
       "  </tbody>\n",
       "</table>\n",
       "</div>"
      ],
      "text/plain": [
       "                                              review              date stars  \\\n",
       "0  Edit: they brought the feature back! Used to b...  January 18, 2024     5   \n",
       "1  Lately it's very common to wait over 2 hours f...  January 20, 2024     1   \n",
       "2  Love it. Great offers. Good selections. Food a...  January 20, 2024     5   \n",
       "3  Very disappointed in this app. I've used it fo...  January 19, 2024     1   \n",
       "4  Fairly easy to use but trying to find out what...  January 20, 2024     2   \n",
       "\n",
       "              source  \n",
       "0  Google Play Store  \n",
       "1  Google Play Store  \n",
       "2  Google Play Store  \n",
       "3  Google Play Store  \n",
       "4  Google Play Store  "
      ]
     },
     "execution_count": 32,
     "metadata": {},
     "output_type": "execute_result"
    }
   ],
   "source": [
    "df.head()"
   ]
  },
  {
   "cell_type": "markdown",
   "metadata": {},
   "source": [
    "### Cleaning Dates Values"
   ]
  },
  {
   "cell_type": "code",
   "execution_count": 34,
   "metadata": {},
   "outputs": [
    {
     "data": {
      "text/plain": [
       "array(['January 18, 2024', 'January 20, 2024', 'January 19, 2024', ...,\n",
       "       'Date of experience: July 28, 2023',\n",
       "       'Date of experience: July 26, 2023',\n",
       "       'Date of experience: July 27, 2023'], dtype=object)"
      ]
     },
     "execution_count": 34,
     "metadata": {},
     "output_type": "execute_result"
    }
   ],
   "source": [
    "df['date'].unique()"
   ]
  },
  {
   "cell_type": "markdown",
   "metadata": {},
   "source": []
  },
  {
   "cell_type": "code",
   "execution_count": null,
   "metadata": {},
   "outputs": [],
   "source": []
  }
 ],
 "metadata": {
  "kernelspec": {
   "display_name": "Python 3",
   "language": "python",
   "name": "python3"
  },
  "language_info": {
   "codemirror_mode": {
    "name": "ipython",
    "version": 3
   },
   "file_extension": ".py",
   "mimetype": "text/x-python",
   "name": "python",
   "nbconvert_exporter": "python",
   "pygments_lexer": "ipython3",
   "version": "3.11.7"
  }
 },
 "nbformat": 4,
 "nbformat_minor": 2
}
