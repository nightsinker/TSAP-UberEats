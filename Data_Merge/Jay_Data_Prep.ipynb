{
 "cells": [
  {
   "cell_type": "markdown",
   "metadata": {},
   "source": [
    "## Import Libraries"
   ]
  },
  {
   "cell_type": "code",
   "execution_count": 1,
   "metadata": {},
   "outputs": [],
   "source": [
    "import pandas as pd\n",
    "import numpy as np\n",
    "import matplotlib\n",
    "import re\n",
    "from dateutil import parser"
   ]
  },
  {
   "cell_type": "markdown",
   "metadata": {},
   "source": [
    "## Import Datasets"
   ]
  },
  {
   "cell_type": "code",
   "execution_count": 2,
   "metadata": {},
   "outputs": [
    {
     "data": {
      "text/html": [
       "<div>\n",
       "<style scoped>\n",
       "    .dataframe tbody tr th:only-of-type {\n",
       "        vertical-align: middle;\n",
       "    }\n",
       "\n",
       "    .dataframe tbody tr th {\n",
       "        vertical-align: top;\n",
       "    }\n",
       "\n",
       "    .dataframe thead th {\n",
       "        text-align: right;\n",
       "    }\n",
       "</style>\n",
       "<table border=\"1\" class=\"dataframe\">\n",
       "  <thead>\n",
       "    <tr style=\"text-align: right;\">\n",
       "      <th></th>\n",
       "      <th>review</th>\n",
       "      <th>date</th>\n",
       "      <th>stars</th>\n",
       "      <th>name</th>\n",
       "      <th>source</th>\n",
       "      <th>state</th>\n",
       "      <th>title</th>\n",
       "    </tr>\n",
       "  </thead>\n",
       "  <tbody>\n",
       "    <tr>\n",
       "      <th>0</th>\n",
       "      <td>Edit: they brought the feature back! Used to b...</td>\n",
       "      <td>January 18, 2024</td>\n",
       "      <td>Rated 5 stars out of five stars</td>\n",
       "      <td>Rufus Wright</td>\n",
       "      <td>Google Play Store</td>\n",
       "      <td>NaN</td>\n",
       "      <td>NaN</td>\n",
       "    </tr>\n",
       "    <tr>\n",
       "      <th>1</th>\n",
       "      <td>Lately it's very common to wait over 2 hours f...</td>\n",
       "      <td>January 20, 2024</td>\n",
       "      <td>Rated 1 stars out of five stars</td>\n",
       "      <td>Bastian H</td>\n",
       "      <td>Google Play Store</td>\n",
       "      <td>NaN</td>\n",
       "      <td>NaN</td>\n",
       "    </tr>\n",
       "    <tr>\n",
       "      <th>2</th>\n",
       "      <td>Love it. Great offers. Good selections. Food a...</td>\n",
       "      <td>January 20, 2024</td>\n",
       "      <td>Rated 5 stars out of five stars</td>\n",
       "      <td>Andrew Higgs</td>\n",
       "      <td>Google Play Store</td>\n",
       "      <td>NaN</td>\n",
       "      <td>NaN</td>\n",
       "    </tr>\n",
       "    <tr>\n",
       "      <th>3</th>\n",
       "      <td>Very disappointed in this app. I've used it fo...</td>\n",
       "      <td>January 19, 2024</td>\n",
       "      <td>Rated 1 stars out of five stars</td>\n",
       "      <td>Kristi B</td>\n",
       "      <td>Google Play Store</td>\n",
       "      <td>NaN</td>\n",
       "      <td>NaN</td>\n",
       "    </tr>\n",
       "    <tr>\n",
       "      <th>4</th>\n",
       "      <td>Fairly easy to use but trying to find out what...</td>\n",
       "      <td>January 20, 2024</td>\n",
       "      <td>Rated 2 stars out of five stars</td>\n",
       "      <td>broomee c</td>\n",
       "      <td>Google Play Store</td>\n",
       "      <td>NaN</td>\n",
       "      <td>NaN</td>\n",
       "    </tr>\n",
       "  </tbody>\n",
       "</table>\n",
       "</div>"
      ],
      "text/plain": [
       "                                              review              date  \\\n",
       "0  Edit: they brought the feature back! Used to b...  January 18, 2024   \n",
       "1  Lately it's very common to wait over 2 hours f...  January 20, 2024   \n",
       "2  Love it. Great offers. Good selections. Food a...  January 20, 2024   \n",
       "3  Very disappointed in this app. I've used it fo...  January 19, 2024   \n",
       "4  Fairly easy to use but trying to find out what...  January 20, 2024   \n",
       "\n",
       "                             stars          name             source state  \\\n",
       "0  Rated 5 stars out of five stars  Rufus Wright  Google Play Store   NaN   \n",
       "1  Rated 1 stars out of five stars     Bastian H  Google Play Store   NaN   \n",
       "2  Rated 5 stars out of five stars  Andrew Higgs  Google Play Store   NaN   \n",
       "3  Rated 1 stars out of five stars      Kristi B  Google Play Store   NaN   \n",
       "4  Rated 2 stars out of five stars     broomee c  Google Play Store   NaN   \n",
       "\n",
       "  title  \n",
       "0   NaN  \n",
       "1   NaN  \n",
       "2   NaN  \n",
       "3   NaN  \n",
       "4   NaN  "
      ]
     },
     "execution_count": 2,
     "metadata": {},
     "output_type": "execute_result"
    }
   ],
   "source": [
    "df = pd.read_csv('UberEatsReviews.csv')\n",
    "df.head()"
   ]
  },
  {
   "cell_type": "markdown",
   "metadata": {},
   "source": [
    "## EDA and Data Cleaning"
   ]
  },
  {
   "cell_type": "code",
   "execution_count": 3,
   "metadata": {},
   "outputs": [
    {
     "data": {
      "text/plain": [
       "(11770, 7)"
      ]
     },
     "execution_count": 3,
     "metadata": {},
     "output_type": "execute_result"
    }
   ],
   "source": [
    "df.shape    "
   ]
  },
  {
   "cell_type": "code",
   "execution_count": 4,
   "metadata": {},
   "outputs": [
    {
     "name": "stdout",
     "output_type": "stream",
     "text": [
      "<class 'pandas.core.frame.DataFrame'>\n",
      "RangeIndex: 11770 entries, 0 to 11769\n",
      "Data columns (total 7 columns):\n",
      " #   Column  Non-Null Count  Dtype \n",
      "---  ------  --------------  ----- \n",
      " 0   review  11770 non-null  object\n",
      " 1   date    11770 non-null  object\n",
      " 2   stars   11770 non-null  object\n",
      " 3   name    11755 non-null  object\n",
      " 4   source  11770 non-null  object\n",
      " 5   state   228 non-null    object\n",
      " 6   title   335 non-null    object\n",
      "dtypes: object(7)\n",
      "memory usage: 643.8+ KB\n"
     ]
    }
   ],
   "source": [
    "df.info()"
   ]
  },
  {
   "cell_type": "code",
   "execution_count": 5,
   "metadata": {},
   "outputs": [],
   "source": [
    "df = df.drop(['state', 'title', 'name'], axis=1)"
   ]
  },
  {
   "cell_type": "code",
   "execution_count": 6,
   "metadata": {},
   "outputs": [
    {
     "data": {
      "text/plain": [
       "review    11621\n",
       "date       1430\n",
       "stars        15\n",
       "source        5\n",
       "dtype: int64"
      ]
     },
     "execution_count": 6,
     "metadata": {},
     "output_type": "execute_result"
    }
   ],
   "source": [
    "df.nunique()"
   ]
  },
  {
   "cell_type": "markdown",
   "metadata": {},
   "source": [
    "### Cleaning Stars"
   ]
  },
  {
   "cell_type": "code",
   "execution_count": 7,
   "metadata": {},
   "outputs": [
    {
     "data": {
      "text/plain": [
       "array(['Rated 5 stars out of five stars',\n",
       "       'Rated 1 stars out of five stars',\n",
       "       'Rated 2 stars out of five stars',\n",
       "       'Rated 4 stars out of five stars',\n",
       "       'Rated 3 stars out of five stars', '1', '5', '4', '3', '2',\n",
       "       'Rated 3 out of 5 stars', 'Rated 5 out of 5 stars',\n",
       "       'Rated 2 out of 5 stars', 'Rated 1 out of 5 stars',\n",
       "       'Rated 4 out of 5 stars'], dtype=object)"
      ]
     },
     "execution_count": 7,
     "metadata": {},
     "output_type": "execute_result"
    }
   ],
   "source": [
    "df['stars'].unique()"
   ]
  },
  {
   "cell_type": "code",
   "execution_count": 8,
   "metadata": {},
   "outputs": [],
   "source": [
    "def clean_rating(rating):\n",
    "    match = re.search(r'\\d+', rating)\n",
    "    if match:\n",
    "        return match.group()\n",
    "    return rating   "
   ]
  },
  {
   "cell_type": "code",
   "execution_count": 9,
   "metadata": {},
   "outputs": [],
   "source": [
    "df['stars'] = df['stars'].apply(clean_rating)"
   ]
  },
  {
   "cell_type": "code",
   "execution_count": 10,
   "metadata": {},
   "outputs": [
    {
     "data": {
      "text/html": [
       "<div>\n",
       "<style scoped>\n",
       "    .dataframe tbody tr th:only-of-type {\n",
       "        vertical-align: middle;\n",
       "    }\n",
       "\n",
       "    .dataframe tbody tr th {\n",
       "        vertical-align: top;\n",
       "    }\n",
       "\n",
       "    .dataframe thead th {\n",
       "        text-align: right;\n",
       "    }\n",
       "</style>\n",
       "<table border=\"1\" class=\"dataframe\">\n",
       "  <thead>\n",
       "    <tr style=\"text-align: right;\">\n",
       "      <th></th>\n",
       "      <th>review</th>\n",
       "      <th>date</th>\n",
       "      <th>stars</th>\n",
       "      <th>source</th>\n",
       "    </tr>\n",
       "  </thead>\n",
       "  <tbody>\n",
       "    <tr>\n",
       "      <th>0</th>\n",
       "      <td>Edit: they brought the feature back! Used to b...</td>\n",
       "      <td>January 18, 2024</td>\n",
       "      <td>5</td>\n",
       "      <td>Google Play Store</td>\n",
       "    </tr>\n",
       "    <tr>\n",
       "      <th>1</th>\n",
       "      <td>Lately it's very common to wait over 2 hours f...</td>\n",
       "      <td>January 20, 2024</td>\n",
       "      <td>1</td>\n",
       "      <td>Google Play Store</td>\n",
       "    </tr>\n",
       "    <tr>\n",
       "      <th>2</th>\n",
       "      <td>Love it. Great offers. Good selections. Food a...</td>\n",
       "      <td>January 20, 2024</td>\n",
       "      <td>5</td>\n",
       "      <td>Google Play Store</td>\n",
       "    </tr>\n",
       "    <tr>\n",
       "      <th>3</th>\n",
       "      <td>Very disappointed in this app. I've used it fo...</td>\n",
       "      <td>January 19, 2024</td>\n",
       "      <td>1</td>\n",
       "      <td>Google Play Store</td>\n",
       "    </tr>\n",
       "    <tr>\n",
       "      <th>4</th>\n",
       "      <td>Fairly easy to use but trying to find out what...</td>\n",
       "      <td>January 20, 2024</td>\n",
       "      <td>2</td>\n",
       "      <td>Google Play Store</td>\n",
       "    </tr>\n",
       "  </tbody>\n",
       "</table>\n",
       "</div>"
      ],
      "text/plain": [
       "                                              review              date stars  \\\n",
       "0  Edit: they brought the feature back! Used to b...  January 18, 2024     5   \n",
       "1  Lately it's very common to wait over 2 hours f...  January 20, 2024     1   \n",
       "2  Love it. Great offers. Good selections. Food a...  January 20, 2024     5   \n",
       "3  Very disappointed in this app. I've used it fo...  January 19, 2024     1   \n",
       "4  Fairly easy to use but trying to find out what...  January 20, 2024     2   \n",
       "\n",
       "              source  \n",
       "0  Google Play Store  \n",
       "1  Google Play Store  \n",
       "2  Google Play Store  \n",
       "3  Google Play Store  \n",
       "4  Google Play Store  "
      ]
     },
     "execution_count": 10,
     "metadata": {},
     "output_type": "execute_result"
    }
   ],
   "source": [
    "df.head()"
   ]
  },
  {
   "cell_type": "markdown",
   "metadata": {},
   "source": [
    "### Cleaning Dates Values"
   ]
  },
  {
   "cell_type": "code",
   "execution_count": 11,
   "metadata": {},
   "outputs": [
    {
     "data": {
      "text/plain": [
       "array(['January 18, 2024', 'January 20, 2024', 'January 19, 2024', ...,\n",
       "       'Date of experience: July 28, 2023',\n",
       "       'Date of experience: July 26, 2023',\n",
       "       'Date of experience: July 27, 2023'], dtype=object)"
      ]
     },
     "execution_count": 11,
     "metadata": {},
     "output_type": "execute_result"
    }
   ],
   "source": [
    "df['date'].unique()"
   ]
  },
  {
   "cell_type": "code",
   "execution_count": 12,
   "metadata": {},
   "outputs": [],
   "source": [
    "def parse_and_format_date(date_str):\n",
    "    try:\n",
    "        # Remove any prefixes like \"Date of experience:\"\n",
    "        date_str = date_str.replace(\"Date of experience: \", \"\")\n",
    "        # Parse the date using dateutil.parser\n",
    "        parsed_date = parser.parse(date_str)\n",
    "        # Format the date as YYYY-MM-DD\n",
    "        formatted_date = parsed_date.strftime('%Y-%m-%d')\n",
    "        return formatted_date\n",
    "    except Exception as e:\n",
    "        print(f\"Error parsing date: {date_str}, Error: {e}\")\n",
    "        return None\n"
   ]
  },
  {
   "cell_type": "code",
   "execution_count": 13,
   "metadata": {},
   "outputs": [],
   "source": [
    "# Assuming your DataFrame is named 'df'\n",
    "df['date_formatted'] = df['date'].apply(parse_and_format_date)"
   ]
  },
  {
   "cell_type": "code",
   "execution_count": 14,
   "metadata": {},
   "outputs": [
    {
     "data": {
      "text/plain": [
       "array(['2024-01-18', '2024-01-20', '2024-01-19', '2024-01-17',\n",
       "       '2024-01-12', '2024-01-09', '2024-01-14', '2024-01-15',\n",
       "       '2024-01-11', '2024-01-13', '2023-12-26', '2024-01-02',\n",
       "       '2024-01-21', '2023-12-28', '2023-12-09', '2023-11-17',\n",
       "       '2023-12-12', '2023-11-30', '2023-12-18', '2023-12-07',\n",
       "       '2023-11-29', '2023-11-20', '2023-12-10', '2023-11-07',\n",
       "       '2023-11-09', '2023-12-13', '2023-11-18', '2023-11-26',\n",
       "       '2023-11-28', '2024-01-08', '2023-11-19', '2023-12-16',\n",
       "       '2023-12-08', '2024-01-01', '2023-12-27', '2023-11-21',\n",
       "       '2024-01-06', '2023-11-22', '2024-01-03', '2023-11-16',\n",
       "       '2024-01-16', '2023-12-11', '2024-01-07', '2023-11-27',\n",
       "       '2023-12-23', '2023-12-14', '2023-11-24', '2023-12-03',\n",
       "       '2023-12-31', '2023-12-22', '2023-12-24', '2023-12-02',\n",
       "       '2024-01-05', '2023-12-21', '2023-11-14', '2023-11-04',\n",
       "       '2023-11-11', '2024-01-04', '2023-11-23', '2023-12-01',\n",
       "       '2023-11-05', '2023-12-30', '2023-12-17', '2023-12-05',\n",
       "       '2023-11-13', '2023-12-29', '2024-01-10', '2023-11-03',\n",
       "       '2023-12-25', '2023-11-15', '2023-11-25', '2023-12-15',\n",
       "       '2023-12-19', '2023-11-10', '2023-11-12', '2023-11-08',\n",
       "       '2023-11-01', '2023-12-04', '2023-12-06', '2023-12-20',\n",
       "       '2023-10-31', '2023-10-30', '2023-10-28', '2023-10-25',\n",
       "       '2023-10-29', '2023-11-06', '2023-11-02', '2023-10-27',\n",
       "       '2023-09-29', '2023-09-26', '2023-08-24', '2023-08-12',\n",
       "       '2023-08-21', '2023-09-02', '2023-08-13', '2023-08-31',\n",
       "       '2023-08-11', '2023-10-18', '2023-09-20', '2023-08-10',\n",
       "       '2023-10-08', '2023-10-07', '2023-09-05', '2023-09-23',\n",
       "       '2023-09-04', '2023-10-12', '2023-08-23', '2023-09-08',\n",
       "       '2023-10-24', '2023-08-19', '2023-10-06', '2023-10-11',\n",
       "       '2023-08-27', '2023-10-04', '2023-09-03', '2023-10-26',\n",
       "       '2023-09-10', '2023-10-21', '2023-08-29', '2023-09-15',\n",
       "       '2023-10-17', '2023-09-18', '2023-09-11', '2023-08-25',\n",
       "       '2023-09-16', '2023-10-19', '2023-10-23', '2023-09-28',\n",
       "       '2023-08-28', '2023-09-25', '2023-09-13', '2023-09-21',\n",
       "       '2023-08-15', '2023-08-26', '2023-10-22', '2023-09-09',\n",
       "       '2023-09-12', '2023-09-22', '2023-08-14', '2023-08-30',\n",
       "       '2023-09-17', '2023-09-30', '2023-09-24', '2023-10-14',\n",
       "       '2023-10-01', '2023-10-02', '2023-10-09', '2023-09-07',\n",
       "       '2023-09-01', '2023-10-15', '2023-09-06', '2023-08-17',\n",
       "       '2023-10-05', '2023-08-16', '2023-09-14', '2023-10-13',\n",
       "       '2023-10-10', '2023-10-16', '2023-10-20', '2023-08-22',\n",
       "       '2023-08-18', '2023-09-19', '2023-08-20', '2023-08-09',\n",
       "       '2023-10-03', '2023-09-27', '2024-01-22', '2023-08-08',\n",
       "       '2023-07-28', '2023-07-30', '2023-07-31', '2023-08-03',\n",
       "       '2023-08-04', '2023-07-26', '2023-08-02', '2023-07-27',\n",
       "       '2023-08-06', '2023-08-05', '2022-03-24', '2019-03-19',\n",
       "       '2023-08-01', '2023-02-28', '2023-02-25', '2023-02-21',\n",
       "       '2023-02-20', '2023-02-12', '2023-02-11', '2023-02-04',\n",
       "       '2023-02-02', '2023-01-23', '2023-01-22', '2023-01-18',\n",
       "       '2023-01-13', '2023-01-12', '2023-01-05', '2023-01-04',\n",
       "       '2023-01-01', '2022-12-31', '2022-12-25', '2022-12-22',\n",
       "       '2022-12-17', '2022-12-16', '2022-12-10', '2022-12-07',\n",
       "       '2022-12-05', '2022-12-03', '2022-12-01', '2022-11-30',\n",
       "       '2022-11-29', '2022-11-28', '2022-11-26', '2022-11-18',\n",
       "       '2022-11-15', '2022-11-11', '2022-11-04', '2022-11-03',\n",
       "       '2022-10-31', '2022-10-24', '2022-10-16', '2022-10-10',\n",
       "       '2022-10-07', '2022-10-06', '2022-10-04', '2022-08-30',\n",
       "       '2022-08-29', '2022-08-20', '2022-08-06', '2022-08-05',\n",
       "       '2022-02-28', '2022-02-15', '2022-02-07', '2022-01-17',\n",
       "       '2022-01-08', '2022-01-07', '2022-01-04', '2022-01-01',\n",
       "       '2021-12-18', '2021-12-17', '2021-12-15', '2021-12-14',\n",
       "       '2021-12-12', '2021-12-06', '2021-12-04', '2021-12-03',\n",
       "       '2021-11-30', '2021-11-29', '2021-11-27', '2021-11-24',\n",
       "       '2021-11-23', '2021-11-19', '2021-11-16', '2021-11-12',\n",
       "       '2021-11-08', '2021-11-02', '2021-10-24', '2021-10-23',\n",
       "       '2021-10-20', '2021-10-17', '2021-10-12', '2021-10-10',\n",
       "       '2021-10-05', '2021-10-02', '2021-08-15', '2021-08-13',\n",
       "       '2021-08-10', '2021-08-05', '2021-02-05', '2021-01-29',\n",
       "       '2021-01-04', '2020-12-27', '2020-12-26', '2020-12-16',\n",
       "       '2020-12-12', '2020-12-07', '2020-11-29', '2020-11-21',\n",
       "       '2020-11-03', '2020-11-01', '2020-10-27', '2020-10-21',\n",
       "       '2022-08-08', '2022-08-04', '2022-04-27', '2022-03-04',\n",
       "       '2022-02-21', '2021-10-30', '2019-04-05', '2019-03-16',\n",
       "       '2019-02-26', '2019-01-27', '2019-01-15', '2018-12-06',\n",
       "       '2018-11-05', '2018-10-03', '2018-08-10', '2018-08-02',\n",
       "       '2018-07-16', '2018-07-11', '2018-06-30', '2018-06-27',\n",
       "       '2018-06-26', '2018-06-23', '2018-06-19', '2018-06-17',\n",
       "       '2018-05-10', '2018-05-01', '2018-04-15', '2018-02-14',\n",
       "       '2018-02-05', '2018-02-04', '2018-02-01', '2017-12-04',\n",
       "       '2017-11-30', '2017-11-21', '2017-11-03', '2017-10-05',\n",
       "       '2017-09-05', '2017-09-02', '2017-07-25', '2017-07-15',\n",
       "       '2017-05-23', '2017-02-21', '2016-11-23', '2016-11-06',\n",
       "       '2022-04-07', '2021-03-10', '2021-01-27', '2021-01-19',\n",
       "       '2020-12-15', '2020-11-24', '2020-11-23', '2020-11-17',\n",
       "       '2020-11-09', '2020-10-08', '2020-08-17', '2020-08-03',\n",
       "       '2020-07-27', '2020-06-09', '2020-04-27', '2020-04-17',\n",
       "       '2019-07-01', '2019-03-22', '2019-01-30', '2019-01-12',\n",
       "       '2019-01-11', '2019-01-10', '2019-01-08', '2018-07-30',\n",
       "       '2018-05-05', '2018-03-21', '2017-12-20', '2017-10-30',\n",
       "       '2017-10-09', '2017-10-03', '2017-08-07', '2017-08-06',\n",
       "       '2017-01-23', '2017-01-03', '2016-10-31', '2016-10-26',\n",
       "       '2023-06-19', '2022-12-04', '2022-10-28', '2022-07-07',\n",
       "       '2022-04-09', '2022-03-03', '2021-12-11', '2021-10-22',\n",
       "       '2021-10-19', '2021-07-28', '2021-06-29', '2021-06-17',\n",
       "       '2021-04-30', '2021-03-29', '2021-01-26', '2020-11-30',\n",
       "       '2020-11-14', '2020-10-19', '2020-10-12', '2020-09-26',\n",
       "       '2020-09-14', '2020-08-04', '2020-07-18', '2020-07-01',\n",
       "       '2020-06-14', '2020-05-27', '2020-05-15', '2019-11-04',\n",
       "       '2019-06-16', '2019-06-05', '2019-05-28', '2019-01-25',\n",
       "       '2019-01-22', '2018-11-07', '2018-10-10', '2018-10-05',\n",
       "       '2018-04-29', '2018-04-23', '2017-12-07', '2017-12-02',\n",
       "       '2017-07-21', '2017-06-07', '2017-03-10', '2017-01-17',\n",
       "       '2016-12-11', '2016-11-08', '2023-07-23', '2023-07-01',\n",
       "       '2023-06-30', '2023-06-25', '2023-06-22', '2023-06-11',\n",
       "       '2023-06-01', '2023-05-24', '2023-05-02', '2023-04-24',\n",
       "       '2023-04-23', '2023-04-22', '2023-04-21', '2023-04-17',\n",
       "       '2023-04-08', '2023-03-12', '2023-02-24', '2023-01-08',\n",
       "       '2022-11-14', '2022-10-26', '2022-08-21', '2022-08-01',\n",
       "       '2022-07-28', '2022-07-18', '2022-06-19', '2022-06-15',\n",
       "       '2022-06-14', '2022-04-15', '2022-03-29', '2022-03-18',\n",
       "       '2022-03-14', '2022-01-28', '2022-01-19', '2022-01-13',\n",
       "       '2021-11-28', '2021-09-20', '2021-09-05', '2021-08-11',\n",
       "       '2021-08-06', '2021-07-22', '2021-07-17', '2021-06-30',\n",
       "       '2021-06-28', '2021-06-12', '2021-06-07', '2021-05-19',\n",
       "       '2021-03-16', '2021-01-16', '2020-12-14', '2020-12-11',\n",
       "       '2020-11-20', '2020-11-07', '2020-10-14', '2020-10-06',\n",
       "       '2020-09-07', '2020-09-03', '2020-08-31', '2020-08-29',\n",
       "       '2020-07-14', '2020-07-06', '2020-06-17', '2020-05-11',\n",
       "       '2020-04-26', '2020-04-19', '2020-04-04', '2020-03-28',\n",
       "       '2020-03-24', '2020-03-02', '2020-02-14', '2020-01-25',\n",
       "       '2019-12-23', '2019-12-05', '2019-12-02', '2019-08-01',\n",
       "       '2019-06-29', '2019-05-08', '2019-05-04', '2019-03-30',\n",
       "       '2019-03-24', '2019-03-15', '2019-03-04', '2019-02-22',\n",
       "       '2019-02-13', '2019-01-29', '2018-12-28', '2018-12-19',\n",
       "       '2018-12-16', '2018-12-13', '2018-11-14', '2018-10-30',\n",
       "       '2018-10-12', '2018-10-08', '2018-09-21', '2018-09-11',\n",
       "       '2018-09-08', '2018-09-04', '2018-08-29', '2018-08-07',\n",
       "       '2018-07-23', '2018-07-03', '2018-05-24', '2018-05-16',\n",
       "       '2018-05-15', '2018-05-12', '2018-05-04', '2018-04-12',\n",
       "       '2018-01-26', '2018-01-18', '2017-12-30', '2017-12-15',\n",
       "       '2017-12-01', '2017-11-11', '2017-11-10', '2017-10-22',\n",
       "       '2017-10-10', '2017-08-25', '2017-07-20', '2017-06-19',\n",
       "       '2017-06-16', '2017-05-21', '2017-04-28', '2017-04-25',\n",
       "       '2017-03-27', '2017-03-17', '2017-03-01', '2017-02-26',\n",
       "       '2017-02-23', '2017-02-18', '2016-12-27', '2016-12-12',\n",
       "       '2016-10-30', '2024-01-23', '2021-01-28', '2023-06-14',\n",
       "       '2021-02-13', '2021-08-12', '2020-11-04', '2021-07-21',\n",
       "       '2021-09-16', '2021-03-23', '2020-04-10', '2022-09-04',\n",
       "       '2023-06-20', '2022-07-24', '2021-05-21', '2020-11-11',\n",
       "       '2021-02-18', '2023-07-08', '2022-09-03', '2022-09-01',\n",
       "       '2023-07-12', '2022-08-10', '2021-04-03', '2021-07-07',\n",
       "       '2022-08-16', '2020-11-13', '2023-03-13', '2022-09-23',\n",
       "       '2023-05-31', '2023-05-28', '2020-03-13', '2022-09-28',\n",
       "       '2022-08-19', '2023-05-13', '2022-07-14', '2022-09-02',\n",
       "       '2023-05-22', '2022-06-07', '2023-05-26', '2023-05-29',\n",
       "       '2021-06-25', '2022-08-13', '2022-09-14', '2022-05-16',\n",
       "       '2022-06-21', '2023-07-13', '2022-08-24', '2023-04-12',\n",
       "       '2022-05-13', '2022-09-21', '2022-10-27', '2023-05-01',\n",
       "       '2022-12-02', '2022-10-25', '2023-05-17', '2022-10-03',\n",
       "       '2022-12-29', '2022-09-25', '2023-07-14', '2022-12-21',\n",
       "       '2022-07-09', '2022-11-23', '2022-07-04', '2023-03-08',\n",
       "       '2022-08-23', '2023-03-16', '2020-05-26', '2022-11-22',\n",
       "       '2022-08-12', '2022-11-07', '2021-03-15', '2022-08-28',\n",
       "       '2022-11-06', '2023-05-20', '2022-10-22', '2023-06-26',\n",
       "       '2022-12-13', '2021-01-03', '2021-06-08', '2022-12-28',\n",
       "       '2023-06-05', '2021-05-25', '2023-04-27', '2022-12-19',\n",
       "       '2022-06-28', '2022-02-01', '2021-10-08', '2023-05-18',\n",
       "       '2022-03-09', '2022-10-02', '2021-01-15', '2022-05-24',\n",
       "       '2022-11-21', '2022-08-07', '2023-07-16', '2023-04-09',\n",
       "       '2021-02-16', '2023-05-30', '2022-06-30', '2022-06-12',\n",
       "       '2022-12-09', '2022-03-06', '2022-02-26', '2023-06-06',\n",
       "       '2020-09-21', '2022-07-31', '2022-07-29', '2023-06-23',\n",
       "       '2022-10-15', '2021-01-30', '2022-08-02', '2023-07-25',\n",
       "       '2022-07-13', '2023-06-27', '2020-06-23', '2023-02-17',\n",
       "       '2022-03-27', '2023-06-13', '2022-09-07', '2022-01-05',\n",
       "       '2022-05-23', '2022-05-15', '2022-09-17', '2022-07-03',\n",
       "       '2023-07-02', '2022-07-11', '2022-07-25', '2022-09-06',\n",
       "       '2022-06-05', '2022-09-11', '2022-05-03', '2022-04-26',\n",
       "       '2020-08-23', '2021-09-15', '2022-07-22', '2023-06-24',\n",
       "       '2020-12-17', '2022-03-19', '2021-06-22', '2022-07-08',\n",
       "       '2021-10-18', '2023-02-13', '2021-09-24', '2023-02-16',\n",
       "       '2023-04-03', '2022-10-11', '2022-07-26', '2022-01-16',\n",
       "       '2022-06-04', '2022-03-26', '2023-06-15', '2023-06-04',\n",
       "       '2023-06-10', '2023-01-10', '2022-06-03', '2023-04-01',\n",
       "       '2023-05-05', '2022-10-14', '2023-05-23', '2020-08-19',\n",
       "       '2022-06-11', '2021-09-28', '2020-12-06', '2022-08-09',\n",
       "       '2022-11-27', '2022-02-05', '2022-12-14', '2022-05-25',\n",
       "       '2021-09-01', '2022-07-19', '2022-06-22', '2022-01-29',\n",
       "       '2022-06-20', '2021-08-24', '2022-04-16', '2022-12-20',\n",
       "       '2021-03-12', '2022-08-25', '2022-07-01', '2020-06-25',\n",
       "       '2023-02-03', '2020-12-10', '2017-03-09', '2023-07-24',\n",
       "       '2023-04-06', '2023-06-12', '2020-07-09', '2019-06-10',\n",
       "       '2022-12-08', '2023-07-05', '2022-11-10', '2022-06-09',\n",
       "       '2022-06-23', '2022-01-25', '2023-03-21', '2022-05-27',\n",
       "       '2023-05-08', '2022-06-02', '2022-12-06', '2023-01-16',\n",
       "       '2023-05-10', '2018-02-26', '2023-07-15', '2023-01-07',\n",
       "       '2022-06-10', '2023-07-10', '2023-07-11', '2023-05-11',\n",
       "       '2023-07-18', '2023-01-17', '2023-04-18', '2022-02-16',\n",
       "       '2022-03-30', '2022-03-05', '2023-04-10', '2022-05-19',\n",
       "       '2021-09-26', '2020-05-08', '2022-07-06', '2022-06-24',\n",
       "       '2023-06-29', '2022-06-17', '2021-12-31', '2021-01-17',\n",
       "       '2021-11-05', '2022-04-24', '2022-07-20', '2021-12-09',\n",
       "       '2022-05-21', '2022-04-11', '2023-05-19', '2022-04-03',\n",
       "       '2022-07-10', '2021-03-28', '2022-01-27', '2021-12-19',\n",
       "       '2022-06-01', '2023-02-10', '2022-05-26', '2022-08-22',\n",
       "       '2022-04-04', '2022-03-28', '2022-03-15', '2022-03-07',\n",
       "       '2021-05-20', '2022-02-27', '2021-04-15', '2022-02-14',\n",
       "       '2022-02-11', '2023-03-26', '2022-06-18', '2022-05-30',\n",
       "       '2022-05-07', '2022-05-01', '2021-07-05', '2021-06-26',\n",
       "       '2022-07-21', '2022-07-16', '2022-02-25', '2021-02-24',\n",
       "       '2022-06-08', '2022-06-06', '2021-12-23', '2021-01-13',\n",
       "       '2020-06-03', '2022-03-31', '2021-07-25', '2022-03-20',\n",
       "       '2022-03-22', '2023-03-01', '2023-03-03', '2023-03-29',\n",
       "       '2023-07-06', '2023-03-04', '2023-02-14', '2023-05-09',\n",
       "       '2023-08-07', '2023-01-30', '2023-07-29', '2023-03-27',\n",
       "       '2023-02-01', '2022-01-26', '2019-12-13', '2023-05-21',\n",
       "       '2022-05-06', '2022-05-17', '2022-04-19', '2021-10-03',\n",
       "       '2023-01-29', '2021-04-07', '2022-05-08', '2022-02-03',\n",
       "       '2023-04-07', '2022-02-02', '2023-03-31', '2023-07-09',\n",
       "       '2021-10-04', '2021-06-05', '2023-06-18', '2020-05-25',\n",
       "       '2023-07-03', '2020-10-16', '2020-08-28', '2023-03-30',\n",
       "       '2019-09-24', '2019-10-12', '2017-05-28', '2023-03-20',\n",
       "       '2019-11-01', '2023-05-25', '2018-04-27', '2018-11-12',\n",
       "       '2023-06-09', '2019-05-05', '2023-01-02', '2019-03-11',\n",
       "       '2023-03-11', '2018-05-22', '2023-01-21', '2023-03-02',\n",
       "       '2023-03-06', '2023-01-06', '2020-04-12', '2023-04-15',\n",
       "       '2023-01-27', '2023-07-22', '2023-07-07', '2023-06-16',\n",
       "       '2023-01-20', '2023-01-28', '2023-02-23', '2022-04-29',\n",
       "       '2023-05-07', '2023-03-25', '2022-12-26', '2022-12-18',\n",
       "       '2023-04-16', '2023-04-04', '2023-02-19', '2023-04-19',\n",
       "       '2022-09-29', '2022-12-12', '2022-06-29', '2022-10-13',\n",
       "       '2023-01-19', '2023-01-03', '2023-01-25', '2022-10-01',\n",
       "       '2023-02-05', '2023-01-09', '2022-12-23', '2022-12-15',\n",
       "       '2022-12-11', '2022-07-02', '2022-11-25', '2023-06-28',\n",
       "       '2023-06-17', '2022-10-30', '2023-07-19', '2022-10-19',\n",
       "       '2023-06-02', '2022-06-13', '2022-10-05', '2022-09-26',\n",
       "       '2022-09-24', '2023-05-14', '2022-09-18', '2022-09-15',\n",
       "       '2023-05-06', '2023-05-04', '2022-09-13', '2022-09-12',\n",
       "       '2023-04-26', '2023-04-25', '2022-09-10', '2022-09-09',\n",
       "       '2022-09-08', '2023-04-14', '2023-04-13', '2023-04-11',\n",
       "       '2022-09-05', '2022-08-31', '2022-08-27', '2023-03-28',\n",
       "       '2022-08-26', '2023-03-24', '2023-03-18', '2023-03-17',\n",
       "       '2023-03-10', '2022-08-18', '2022-08-17', '2023-02-22',\n",
       "       '2022-08-11', '2023-02-15', '2023-02-08', '2023-02-07',\n",
       "       '2023-02-06', '2023-01-15', '2023-01-14', '2023-01-11',\n",
       "       '2022-07-27', '2023-07-20', '2022-11-01', '2023-07-21',\n",
       "       '2023-07-17', '2023-05-03'], dtype=object)"
      ]
     },
     "execution_count": 14,
     "metadata": {},
     "output_type": "execute_result"
    }
   ],
   "source": [
    "df['date_formatted'].unique()"
   ]
  },
  {
   "cell_type": "code",
   "execution_count": 15,
   "metadata": {},
   "outputs": [
    {
     "data": {
      "image/png": "[encoded data removed]",
      "text/plain": [
       "<Figure size 1000x700 with 1 Axes>"
      ]
     },
     "metadata": {},
     "output_type": "display_data"
    }
   ],
   "source": [
    "import matplotlib.pyplot as plt\n",
    "\n",
    "# Ensure 'stars' is integer type\n",
    "df['stars'] = df['stars'].astype(int)\n",
    "\n",
    "# Extract year from 'date_formatted' if it's not already a column\n",
    "df['year'] = pd.DatetimeIndex(df['date_formatted']).year\n",
    "\n",
    "# Get count of each star rating for each year\n",
    "star_counts = df.groupby(['year', 'stars']).size().unstack()\n",
    "\n",
    "# Plot stacked bar chart\n",
    "star_counts.plot(kind='bar', stacked=True, figsize=(10,7))\n",
    "\n",
    "plt.title('Count of Star Ratings per Year')\n",
    "plt.xlabel('Year')\n",
    "plt.ylabel('Count of Star Ratings')\n",
    "plt.show()"
   ]
  },
  {
   "cell_type": "code",
   "execution_count": 20,
   "metadata": {},
   "outputs": [
    {
     "data": {
      "image/png": "[encoded data removed]",
      "text/plain": [
       "<Figure size 1000x700 with 1 Axes>"
      ]
     },
     "metadata": {},
     "output_type": "display_data"
    }
   ],
   "source": [
    "# Filter out 2023 and 2024\n",
    "temp_df = df[~df['year'].isin([2022,2023, 2024])]\n",
    "\n",
    "# Get count of each star rating for each year\n",
    "star_counts = temp_df.groupby(['year', 'stars']).size().unstack()\n",
    "\n",
    "# Plot stacked bar chart\n",
    "star_counts.plot(kind='bar', stacked=True, figsize=(10,7))\n",
    "plt.title('Count of Star Ratings per Year')\n",
    "plt.xlabel('Year')\n",
    "plt.ylabel('Count of Star Ratings')\n",
    "plt.show()"
   ]
  },
  {
   "cell_type": "code",
   "execution_count": null,
   "metadata": {},
   "outputs": [],
   "source": []
  }
 ],
 "metadata": {
  "kernelspec": {
   "display_name": "Python 3",
   "language": "python",
   "name": "python3"
  },
  "language_info": {
   "codemirror_mode": {
    "name": "ipython",
    "version": 3
   },
   "file_extension": ".py",
   "mimetype": "text/x-python",
   "name": "python",
   "nbconvert_exporter": "python",
   "pygments_lexer": "ipython3",
   "version": "3.11.7"
  }
 },
 "nbformat": 4,
 "nbformat_minor": 2
}
